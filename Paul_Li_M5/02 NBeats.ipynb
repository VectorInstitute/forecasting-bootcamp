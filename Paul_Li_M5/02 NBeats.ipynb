{
 "cells": [
  {
   "cell_type": "code",
   "execution_count": 2,
   "id": "loaded-invite",
   "metadata": {},
   "outputs": [],
   "source": [
    "import pandas as pd\n",
    "import matplotlib.pyplot as plt\n",
    "import numpy as np\n",
    "import seaborn as sns\n",
    "\n",
    "import torch\n",
    "import pytorch_lightning as pl\n",
    "from pytorch_lightning.callbacks import EarlyStopping, LearningRateMonitor\n",
    "from pytorch_forecasting import TimeSeriesDataSet, NBeats, Baseline, DeepAR, GroupNormalizer, MultiNormalizer, EncoderNormalizer\n",
    "from pytorch_forecasting.data import NaNLabelEncoder,TorchNormalizer\n",
    "#from pytorch_forecasting.data.encoders import TorchNormalizer\n",
    "from pytorch_forecasting.metrics import MAPE, MAE, MASE\n",
    "from pytorch_forecasting.metrics import NormalDistributionLoss"
   ]
  },
  {
   "cell_type": "markdown",
   "id": "backed-harmony",
   "metadata": {},
   "source": [
    "## Data Loading"
   ]
  },
  {
   "cell_type": "code",
   "execution_count": 3,
   "id": "deluxe-produce",
   "metadata": {},
   "outputs": [],
   "source": [
    "m5_input_path = \"/ssd003/projects/forecasting_bootcamp/bootcamp_datasets/m5-forecasting-accuracy\"\n",
    "sell_price = pd.read_csv(f'{m5_input_path}/sell_prices.csv')\n",
    "calendar = pd.read_csv(f'{m5_input_path}/calendar.csv')\n",
    "#train = pd.read_csv(f'{m5_input_path}/sales_train_evaluation.csv').set_index('id')\n",
    "sample_sub = pd.read_csv(f'{m5_input_path}/sample_submission.csv')"
   ]
  },
  {
   "cell_type": "code",
   "execution_count": 4,
   "id": "reported-click",
   "metadata": {},
   "outputs": [],
   "source": [
    "main_df = pd.read_csv('M5_main_df.csv', parse_dates=['date'])"
   ]
  },
  {
   "cell_type": "code",
   "execution_count": 5,
   "id": "sufficient-camcorder",
   "metadata": {},
   "outputs": [
    {
     "data": {
      "text/html": [
       "<div>\n",
       "<style scoped>\n",
       "    .dataframe tbody tr th:only-of-type {\n",
       "        vertical-align: middle;\n",
       "    }\n",
       "\n",
       "    .dataframe tbody tr th {\n",
       "        vertical-align: top;\n",
       "    }\n",
       "\n",
       "    .dataframe thead th {\n",
       "        text-align: right;\n",
       "    }\n",
       "</style>\n",
       "<table border=\"1\" class=\"dataframe\">\n",
       "  <thead>\n",
       "    <tr style=\"text-align: right;\">\n",
       "      <th></th>\n",
       "      <th>date</th>\n",
       "      <th>all</th>\n",
       "      <th>CA</th>\n",
       "      <th>TX</th>\n",
       "      <th>WI</th>\n",
       "      <th>CA_1</th>\n",
       "      <th>CA_2</th>\n",
       "      <th>CA_3</th>\n",
       "      <th>CA_4</th>\n",
       "      <th>TX_1</th>\n",
       "      <th>...</th>\n",
       "      <th>FOODS</th>\n",
       "      <th>HOBBIES</th>\n",
       "      <th>HOUSEHOLD</th>\n",
       "      <th>FOODS_1</th>\n",
       "      <th>FOODS_2</th>\n",
       "      <th>FOODS_3</th>\n",
       "      <th>HOBBIES_1</th>\n",
       "      <th>HOBBIES_2</th>\n",
       "      <th>HOUSEHOLD_1</th>\n",
       "      <th>HOUSEHOLD_2</th>\n",
       "    </tr>\n",
       "  </thead>\n",
       "  <tbody>\n",
       "    <tr>\n",
       "      <th>0</th>\n",
       "      <td>2011-01-29</td>\n",
       "      <td>32631</td>\n",
       "      <td>14195</td>\n",
       "      <td>9438</td>\n",
       "      <td>8998</td>\n",
       "      <td>4337</td>\n",
       "      <td>3494</td>\n",
       "      <td>4739</td>\n",
       "      <td>1625</td>\n",
       "      <td>2556</td>\n",
       "      <td>...</td>\n",
       "      <td>23178</td>\n",
       "      <td>3764</td>\n",
       "      <td>5689</td>\n",
       "      <td>2343</td>\n",
       "      <td>4094</td>\n",
       "      <td>16741</td>\n",
       "      <td>3610</td>\n",
       "      <td>154</td>\n",
       "      <td>4105</td>\n",
       "      <td>1584</td>\n",
       "    </tr>\n",
       "    <tr>\n",
       "      <th>1</th>\n",
       "      <td>2011-01-30</td>\n",
       "      <td>31749</td>\n",
       "      <td>13805</td>\n",
       "      <td>9630</td>\n",
       "      <td>8314</td>\n",
       "      <td>4155</td>\n",
       "      <td>3046</td>\n",
       "      <td>4827</td>\n",
       "      <td>1777</td>\n",
       "      <td>2687</td>\n",
       "      <td>...</td>\n",
       "      <td>22758</td>\n",
       "      <td>3357</td>\n",
       "      <td>5634</td>\n",
       "      <td>2216</td>\n",
       "      <td>4209</td>\n",
       "      <td>16333</td>\n",
       "      <td>3172</td>\n",
       "      <td>185</td>\n",
       "      <td>3858</td>\n",
       "      <td>1776</td>\n",
       "    </tr>\n",
       "    <tr>\n",
       "      <th>2</th>\n",
       "      <td>2011-01-31</td>\n",
       "      <td>23783</td>\n",
       "      <td>10108</td>\n",
       "      <td>6778</td>\n",
       "      <td>6897</td>\n",
       "      <td>2816</td>\n",
       "      <td>2121</td>\n",
       "      <td>3785</td>\n",
       "      <td>1386</td>\n",
       "      <td>1822</td>\n",
       "      <td>...</td>\n",
       "      <td>17174</td>\n",
       "      <td>2682</td>\n",
       "      <td>3927</td>\n",
       "      <td>1657</td>\n",
       "      <td>3174</td>\n",
       "      <td>12343</td>\n",
       "      <td>2497</td>\n",
       "      <td>185</td>\n",
       "      <td>2827</td>\n",
       "      <td>1100</td>\n",
       "    </tr>\n",
       "    <tr>\n",
       "      <th>3</th>\n",
       "      <td>2011-02-01</td>\n",
       "      <td>25412</td>\n",
       "      <td>11047</td>\n",
       "      <td>7381</td>\n",
       "      <td>6984</td>\n",
       "      <td>3051</td>\n",
       "      <td>2324</td>\n",
       "      <td>4232</td>\n",
       "      <td>1440</td>\n",
       "      <td>2258</td>\n",
       "      <td>...</td>\n",
       "      <td>18878</td>\n",
       "      <td>2669</td>\n",
       "      <td>3865</td>\n",
       "      <td>1508</td>\n",
       "      <td>3606</td>\n",
       "      <td>13764</td>\n",
       "      <td>2531</td>\n",
       "      <td>138</td>\n",
       "      <td>2732</td>\n",
       "      <td>1133</td>\n",
       "    </tr>\n",
       "    <tr>\n",
       "      <th>4</th>\n",
       "      <td>2011-02-02</td>\n",
       "      <td>19146</td>\n",
       "      <td>9925</td>\n",
       "      <td>5912</td>\n",
       "      <td>3309</td>\n",
       "      <td>2630</td>\n",
       "      <td>1942</td>\n",
       "      <td>3817</td>\n",
       "      <td>1536</td>\n",
       "      <td>1694</td>\n",
       "      <td>...</td>\n",
       "      <td>14603</td>\n",
       "      <td>1814</td>\n",
       "      <td>2729</td>\n",
       "      <td>1209</td>\n",
       "      <td>2869</td>\n",
       "      <td>10525</td>\n",
       "      <td>1714</td>\n",
       "      <td>100</td>\n",
       "      <td>1802</td>\n",
       "      <td>927</td>\n",
       "    </tr>\n",
       "  </tbody>\n",
       "</table>\n",
       "<p>5 rows × 25 columns</p>\n",
       "</div>"
      ],
      "text/plain": [
       "        date    all     CA    TX    WI  CA_1  CA_2  CA_3  CA_4  TX_1  ...  \\\n",
       "0 2011-01-29  32631  14195  9438  8998  4337  3494  4739  1625  2556  ...   \n",
       "1 2011-01-30  31749  13805  9630  8314  4155  3046  4827  1777  2687  ...   \n",
       "2 2011-01-31  23783  10108  6778  6897  2816  2121  3785  1386  1822  ...   \n",
       "3 2011-02-01  25412  11047  7381  6984  3051  2324  4232  1440  2258  ...   \n",
       "4 2011-02-02  19146   9925  5912  3309  2630  1942  3817  1536  1694  ...   \n",
       "\n",
       "   FOODS  HOBBIES  HOUSEHOLD  FOODS_1  FOODS_2  FOODS_3  HOBBIES_1  HOBBIES_2  \\\n",
       "0  23178     3764       5689     2343     4094    16741       3610        154   \n",
       "1  22758     3357       5634     2216     4209    16333       3172        185   \n",
       "2  17174     2682       3927     1657     3174    12343       2497        185   \n",
       "3  18878     2669       3865     1508     3606    13764       2531        138   \n",
       "4  14603     1814       2729     1209     2869    10525       1714        100   \n",
       "\n",
       "   HOUSEHOLD_1  HOUSEHOLD_2  \n",
       "0         4105         1584  \n",
       "1         3858         1776  \n",
       "2         2827         1100  \n",
       "3         2732         1133  \n",
       "4         1802          927  \n",
       "\n",
       "[5 rows x 25 columns]"
      ]
     },
     "execution_count": 5,
     "metadata": {},
     "output_type": "execute_result"
    }
   ],
   "source": [
    "main_df.head()"
   ]
  },
  {
   "cell_type": "code",
   "execution_count": 6,
   "id": "nearby-johnston",
   "metadata": {},
   "outputs": [],
   "source": [
    "for col in main_df.columns[1:]:\n",
    "    main_df.loc[:, col] = main_df.loc[:, col].astype(float)"
   ]
  },
  {
   "cell_type": "markdown",
   "id": "senior-raleigh",
   "metadata": {},
   "source": [
    "## Data Splitting"
   ]
  },
  {
   "cell_type": "code",
   "execution_count": 8,
   "id": "instant-backing",
   "metadata": {},
   "outputs": [],
   "source": [
    "train_size = 0.8\n",
    "\n",
    "train_df = main_df.iloc[:int(len(main_df)*train_size)]\n",
    "test_df = main_df.iloc[int(len(main_df)*train_size):]"
   ]
  },
  {
   "cell_type": "markdown",
   "id": "upper-aurora",
   "metadata": {},
   "source": [
    "## Time Series Data Formatting\n",
    "PyTorch Forecasting models can accomodate datasets consisting of multiple, coincident time series in several ways. As per the documentation, a combination of group_id and time_idx identify a sample in the data, and that if we have only one time series, to set group_id to a constant.\n",
    "\n",
    "time_idx is an integer column denoting the time index. This, as opposed to the date column, is used to determine the temporal sequence of samples."
   ]
  },
  {
   "cell_type": "code",
   "execution_count": 9,
   "id": "fourth-south",
   "metadata": {},
   "outputs": [],
   "source": [
    "lag_time = 30\n",
    "lead_time = 30\n",
    "\n",
    "train_df = train_df.reset_index().rename({'index':'time_idx'}, axis=1)\n",
    "test_df = test_df.reset_index().rename({'index':'time_idx'}, axis=1)\n",
    "#why we need two reset_index()\n",
    "\n",
    "train_df['group_ids'] = 0\n",
    "test_df['group_ids'] = 0"
   ]
  },
  {
   "cell_type": "code",
   "execution_count": 10,
   "id": "fixed-disposal",
   "metadata": {},
   "outputs": [
    {
     "data": {
      "text/html": [
       "<div>\n",
       "<style scoped>\n",
       "    .dataframe tbody tr th:only-of-type {\n",
       "        vertical-align: middle;\n",
       "    }\n",
       "\n",
       "    .dataframe tbody tr th {\n",
       "        vertical-align: top;\n",
       "    }\n",
       "\n",
       "    .dataframe thead th {\n",
       "        text-align: right;\n",
       "    }\n",
       "</style>\n",
       "<table border=\"1\" class=\"dataframe\">\n",
       "  <thead>\n",
       "    <tr style=\"text-align: right;\">\n",
       "      <th></th>\n",
       "      <th>time_idx</th>\n",
       "      <th>date</th>\n",
       "      <th>all</th>\n",
       "      <th>CA</th>\n",
       "      <th>TX</th>\n",
       "      <th>WI</th>\n",
       "      <th>CA_1</th>\n",
       "      <th>CA_2</th>\n",
       "      <th>CA_3</th>\n",
       "      <th>CA_4</th>\n",
       "      <th>...</th>\n",
       "      <th>HOBBIES</th>\n",
       "      <th>HOUSEHOLD</th>\n",
       "      <th>FOODS_1</th>\n",
       "      <th>FOODS_2</th>\n",
       "      <th>FOODS_3</th>\n",
       "      <th>HOBBIES_1</th>\n",
       "      <th>HOBBIES_2</th>\n",
       "      <th>HOUSEHOLD_1</th>\n",
       "      <th>HOUSEHOLD_2</th>\n",
       "      <th>group_ids</th>\n",
       "    </tr>\n",
       "  </thead>\n",
       "  <tbody>\n",
       "    <tr>\n",
       "      <th>0</th>\n",
       "      <td>1552</td>\n",
       "      <td>2015-04-30</td>\n",
       "      <td>30553.0</td>\n",
       "      <td>12985.0</td>\n",
       "      <td>8967.0</td>\n",
       "      <td>8601.0</td>\n",
       "      <td>3466.0</td>\n",
       "      <td>2045.0</td>\n",
       "      <td>5114.0</td>\n",
       "      <td>2360.0</td>\n",
       "      <td>...</td>\n",
       "      <td>3318.0</td>\n",
       "      <td>7181.0</td>\n",
       "      <td>2577.0</td>\n",
       "      <td>3406.0</td>\n",
       "      <td>14071.0</td>\n",
       "      <td>2998.0</td>\n",
       "      <td>320.0</td>\n",
       "      <td>5555.0</td>\n",
       "      <td>1626.0</td>\n",
       "      <td>0</td>\n",
       "    </tr>\n",
       "    <tr>\n",
       "      <th>1</th>\n",
       "      <td>1553</td>\n",
       "      <td>2015-05-01</td>\n",
       "      <td>40976.0</td>\n",
       "      <td>17168.0</td>\n",
       "      <td>12238.0</td>\n",
       "      <td>11570.0</td>\n",
       "      <td>5121.0</td>\n",
       "      <td>2773.0</td>\n",
       "      <td>6637.0</td>\n",
       "      <td>2637.0</td>\n",
       "      <td>...</td>\n",
       "      <td>4314.0</td>\n",
       "      <td>10470.0</td>\n",
       "      <td>3468.0</td>\n",
       "      <td>4380.0</td>\n",
       "      <td>18344.0</td>\n",
       "      <td>3921.0</td>\n",
       "      <td>393.0</td>\n",
       "      <td>8414.0</td>\n",
       "      <td>2056.0</td>\n",
       "      <td>0</td>\n",
       "    </tr>\n",
       "    <tr>\n",
       "      <th>2</th>\n",
       "      <td>1554</td>\n",
       "      <td>2015-05-02</td>\n",
       "      <td>47052.0</td>\n",
       "      <td>19497.0</td>\n",
       "      <td>13252.0</td>\n",
       "      <td>14303.0</td>\n",
       "      <td>5801.0</td>\n",
       "      <td>3068.0</td>\n",
       "      <td>7586.0</td>\n",
       "      <td>3042.0</td>\n",
       "      <td>...</td>\n",
       "      <td>4312.0</td>\n",
       "      <td>11325.0</td>\n",
       "      <td>3425.0</td>\n",
       "      <td>5353.0</td>\n",
       "      <td>22637.0</td>\n",
       "      <td>3919.0</td>\n",
       "      <td>393.0</td>\n",
       "      <td>9097.0</td>\n",
       "      <td>2228.0</td>\n",
       "      <td>0</td>\n",
       "    </tr>\n",
       "    <tr>\n",
       "      <th>3</th>\n",
       "      <td>1555</td>\n",
       "      <td>2015-05-03</td>\n",
       "      <td>49102.0</td>\n",
       "      <td>20394.0</td>\n",
       "      <td>13859.0</td>\n",
       "      <td>14849.0</td>\n",
       "      <td>6524.0</td>\n",
       "      <td>3347.0</td>\n",
       "      <td>7757.0</td>\n",
       "      <td>2766.0</td>\n",
       "      <td>...</td>\n",
       "      <td>4315.0</td>\n",
       "      <td>11777.0</td>\n",
       "      <td>3437.0</td>\n",
       "      <td>6377.0</td>\n",
       "      <td>23196.0</td>\n",
       "      <td>3926.0</td>\n",
       "      <td>389.0</td>\n",
       "      <td>9424.0</td>\n",
       "      <td>2353.0</td>\n",
       "      <td>0</td>\n",
       "    </tr>\n",
       "    <tr>\n",
       "      <th>4</th>\n",
       "      <td>1556</td>\n",
       "      <td>2015-05-04</td>\n",
       "      <td>38169.0</td>\n",
       "      <td>17031.0</td>\n",
       "      <td>10376.0</td>\n",
       "      <td>10762.0</td>\n",
       "      <td>4794.0</td>\n",
       "      <td>2094.0</td>\n",
       "      <td>7345.0</td>\n",
       "      <td>2798.0</td>\n",
       "      <td>...</td>\n",
       "      <td>3927.0</td>\n",
       "      <td>9471.0</td>\n",
       "      <td>2692.0</td>\n",
       "      <td>5108.0</td>\n",
       "      <td>16971.0</td>\n",
       "      <td>3527.0</td>\n",
       "      <td>400.0</td>\n",
       "      <td>7569.0</td>\n",
       "      <td>1902.0</td>\n",
       "      <td>0</td>\n",
       "    </tr>\n",
       "    <tr>\n",
       "      <th>...</th>\n",
       "      <td>...</td>\n",
       "      <td>...</td>\n",
       "      <td>...</td>\n",
       "      <td>...</td>\n",
       "      <td>...</td>\n",
       "      <td>...</td>\n",
       "      <td>...</td>\n",
       "      <td>...</td>\n",
       "      <td>...</td>\n",
       "      <td>...</td>\n",
       "      <td>...</td>\n",
       "      <td>...</td>\n",
       "      <td>...</td>\n",
       "      <td>...</td>\n",
       "      <td>...</td>\n",
       "      <td>...</td>\n",
       "      <td>...</td>\n",
       "      <td>...</td>\n",
       "      <td>...</td>\n",
       "      <td>...</td>\n",
       "      <td>...</td>\n",
       "    </tr>\n",
       "    <tr>\n",
       "      <th>384</th>\n",
       "      <td>1936</td>\n",
       "      <td>2016-05-18</td>\n",
       "      <td>37096.0</td>\n",
       "      <td>15678.0</td>\n",
       "      <td>10375.0</td>\n",
       "      <td>11043.0</td>\n",
       "      <td>3995.0</td>\n",
       "      <td>3789.0</td>\n",
       "      <td>5375.0</td>\n",
       "      <td>2519.0</td>\n",
       "      <td>...</td>\n",
       "      <td>3740.0</td>\n",
       "      <td>8566.0</td>\n",
       "      <td>3073.0</td>\n",
       "      <td>4648.0</td>\n",
       "      <td>17069.0</td>\n",
       "      <td>3291.0</td>\n",
       "      <td>449.0</td>\n",
       "      <td>6641.0</td>\n",
       "      <td>1925.0</td>\n",
       "      <td>0</td>\n",
       "    </tr>\n",
       "    <tr>\n",
       "      <th>385</th>\n",
       "      <td>1937</td>\n",
       "      <td>2016-05-19</td>\n",
       "      <td>36963.0</td>\n",
       "      <td>16297.0</td>\n",
       "      <td>9162.0</td>\n",
       "      <td>11504.0</td>\n",
       "      <td>4136.0</td>\n",
       "      <td>4037.0</td>\n",
       "      <td>5580.0</td>\n",
       "      <td>2544.0</td>\n",
       "      <td>...</td>\n",
       "      <td>3475.0</td>\n",
       "      <td>8751.0</td>\n",
       "      <td>3251.0</td>\n",
       "      <td>4551.0</td>\n",
       "      <td>16935.0</td>\n",
       "      <td>3027.0</td>\n",
       "      <td>448.0</td>\n",
       "      <td>6759.0</td>\n",
       "      <td>1992.0</td>\n",
       "      <td>0</td>\n",
       "    </tr>\n",
       "    <tr>\n",
       "      <th>386</th>\n",
       "      <td>1938</td>\n",
       "      <td>2016-05-20</td>\n",
       "      <td>42552.0</td>\n",
       "      <td>17430.0</td>\n",
       "      <td>12303.0</td>\n",
       "      <td>12819.0</td>\n",
       "      <td>4433.0</td>\n",
       "      <td>4751.0</td>\n",
       "      <td>5542.0</td>\n",
       "      <td>2704.0</td>\n",
       "      <td>...</td>\n",
       "      <td>4143.0</td>\n",
       "      <td>10273.0</td>\n",
       "      <td>3735.0</td>\n",
       "      <td>4815.0</td>\n",
       "      <td>19586.0</td>\n",
       "      <td>3761.0</td>\n",
       "      <td>382.0</td>\n",
       "      <td>7974.0</td>\n",
       "      <td>2299.0</td>\n",
       "      <td>0</td>\n",
       "    </tr>\n",
       "    <tr>\n",
       "      <th>387</th>\n",
       "      <td>1939</td>\n",
       "      <td>2016-05-21</td>\n",
       "      <td>51518.0</td>\n",
       "      <td>23103.0</td>\n",
       "      <td>13681.0</td>\n",
       "      <td>14734.0</td>\n",
       "      <td>5764.0</td>\n",
       "      <td>7120.0</td>\n",
       "      <td>7073.0</td>\n",
       "      <td>3146.0</td>\n",
       "      <td>...</td>\n",
       "      <td>5333.0</td>\n",
       "      <td>12586.0</td>\n",
       "      <td>4195.0</td>\n",
       "      <td>5940.0</td>\n",
       "      <td>23464.0</td>\n",
       "      <td>4832.0</td>\n",
       "      <td>501.0</td>\n",
       "      <td>9668.0</td>\n",
       "      <td>2918.0</td>\n",
       "      <td>0</td>\n",
       "    </tr>\n",
       "    <tr>\n",
       "      <th>388</th>\n",
       "      <td>1940</td>\n",
       "      <td>2016-05-22</td>\n",
       "      <td>54338.0</td>\n",
       "      <td>24644.0</td>\n",
       "      <td>14815.0</td>\n",
       "      <td>14879.0</td>\n",
       "      <td>6289.0</td>\n",
       "      <td>6614.0</td>\n",
       "      <td>8144.0</td>\n",
       "      <td>3597.0</td>\n",
       "      <td>...</td>\n",
       "      <td>5280.0</td>\n",
       "      <td>13091.0</td>\n",
       "      <td>4031.0</td>\n",
       "      <td>6535.0</td>\n",
       "      <td>25401.0</td>\n",
       "      <td>4720.0</td>\n",
       "      <td>560.0</td>\n",
       "      <td>10165.0</td>\n",
       "      <td>2926.0</td>\n",
       "      <td>0</td>\n",
       "    </tr>\n",
       "  </tbody>\n",
       "</table>\n",
       "<p>389 rows × 27 columns</p>\n",
       "</div>"
      ],
      "text/plain": [
       "     time_idx       date      all       CA       TX       WI    CA_1    CA_2  \\\n",
       "0        1552 2015-04-30  30553.0  12985.0   8967.0   8601.0  3466.0  2045.0   \n",
       "1        1553 2015-05-01  40976.0  17168.0  12238.0  11570.0  5121.0  2773.0   \n",
       "2        1554 2015-05-02  47052.0  19497.0  13252.0  14303.0  5801.0  3068.0   \n",
       "3        1555 2015-05-03  49102.0  20394.0  13859.0  14849.0  6524.0  3347.0   \n",
       "4        1556 2015-05-04  38169.0  17031.0  10376.0  10762.0  4794.0  2094.0   \n",
       "..        ...        ...      ...      ...      ...      ...     ...     ...   \n",
       "384      1936 2016-05-18  37096.0  15678.0  10375.0  11043.0  3995.0  3789.0   \n",
       "385      1937 2016-05-19  36963.0  16297.0   9162.0  11504.0  4136.0  4037.0   \n",
       "386      1938 2016-05-20  42552.0  17430.0  12303.0  12819.0  4433.0  4751.0   \n",
       "387      1939 2016-05-21  51518.0  23103.0  13681.0  14734.0  5764.0  7120.0   \n",
       "388      1940 2016-05-22  54338.0  24644.0  14815.0  14879.0  6289.0  6614.0   \n",
       "\n",
       "       CA_3    CA_4  ...  HOBBIES  HOUSEHOLD  FOODS_1  FOODS_2  FOODS_3  \\\n",
       "0    5114.0  2360.0  ...   3318.0     7181.0   2577.0   3406.0  14071.0   \n",
       "1    6637.0  2637.0  ...   4314.0    10470.0   3468.0   4380.0  18344.0   \n",
       "2    7586.0  3042.0  ...   4312.0    11325.0   3425.0   5353.0  22637.0   \n",
       "3    7757.0  2766.0  ...   4315.0    11777.0   3437.0   6377.0  23196.0   \n",
       "4    7345.0  2798.0  ...   3927.0     9471.0   2692.0   5108.0  16971.0   \n",
       "..      ...     ...  ...      ...        ...      ...      ...      ...   \n",
       "384  5375.0  2519.0  ...   3740.0     8566.0   3073.0   4648.0  17069.0   \n",
       "385  5580.0  2544.0  ...   3475.0     8751.0   3251.0   4551.0  16935.0   \n",
       "386  5542.0  2704.0  ...   4143.0    10273.0   3735.0   4815.0  19586.0   \n",
       "387  7073.0  3146.0  ...   5333.0    12586.0   4195.0   5940.0  23464.0   \n",
       "388  8144.0  3597.0  ...   5280.0    13091.0   4031.0   6535.0  25401.0   \n",
       "\n",
       "     HOBBIES_1  HOBBIES_2  HOUSEHOLD_1  HOUSEHOLD_2  group_ids  \n",
       "0       2998.0      320.0       5555.0       1626.0          0  \n",
       "1       3921.0      393.0       8414.0       2056.0          0  \n",
       "2       3919.0      393.0       9097.0       2228.0          0  \n",
       "3       3926.0      389.0       9424.0       2353.0          0  \n",
       "4       3527.0      400.0       7569.0       1902.0          0  \n",
       "..         ...        ...          ...          ...        ...  \n",
       "384     3291.0      449.0       6641.0       1925.0          0  \n",
       "385     3027.0      448.0       6759.0       1992.0          0  \n",
       "386     3761.0      382.0       7974.0       2299.0          0  \n",
       "387     4832.0      501.0       9668.0       2918.0          0  \n",
       "388     4720.0      560.0      10165.0       2926.0          0  \n",
       "\n",
       "[389 rows x 27 columns]"
      ]
     },
     "execution_count": 10,
     "metadata": {},
     "output_type": "execute_result"
    }
   ],
   "source": [
    "test_df"
   ]
  },
  {
   "cell_type": "code",
   "execution_count": 11,
   "id": "sustained-mumbai",
   "metadata": {},
   "outputs": [
    {
     "data": {
      "text/html": [
       "<div>\n",
       "<style scoped>\n",
       "    .dataframe tbody tr th:only-of-type {\n",
       "        vertical-align: middle;\n",
       "    }\n",
       "\n",
       "    .dataframe tbody tr th {\n",
       "        vertical-align: top;\n",
       "    }\n",
       "\n",
       "    .dataframe thead th {\n",
       "        text-align: right;\n",
       "    }\n",
       "</style>\n",
       "<table border=\"1\" class=\"dataframe\">\n",
       "  <thead>\n",
       "    <tr style=\"text-align: right;\">\n",
       "      <th></th>\n",
       "      <th>time_idx</th>\n",
       "      <th>date</th>\n",
       "      <th>all</th>\n",
       "      <th>CA</th>\n",
       "      <th>TX</th>\n",
       "      <th>WI</th>\n",
       "      <th>CA_1</th>\n",
       "      <th>CA_2</th>\n",
       "      <th>CA_3</th>\n",
       "      <th>CA_4</th>\n",
       "      <th>...</th>\n",
       "      <th>HOBBIES</th>\n",
       "      <th>HOUSEHOLD</th>\n",
       "      <th>FOODS_1</th>\n",
       "      <th>FOODS_2</th>\n",
       "      <th>FOODS_3</th>\n",
       "      <th>HOBBIES_1</th>\n",
       "      <th>HOBBIES_2</th>\n",
       "      <th>HOUSEHOLD_1</th>\n",
       "      <th>HOUSEHOLD_2</th>\n",
       "      <th>group_ids</th>\n",
       "    </tr>\n",
       "  </thead>\n",
       "  <tbody>\n",
       "    <tr>\n",
       "      <th>0</th>\n",
       "      <td>0</td>\n",
       "      <td>2011-01-29</td>\n",
       "      <td>32631.0</td>\n",
       "      <td>14195.0</td>\n",
       "      <td>9438.0</td>\n",
       "      <td>8998.0</td>\n",
       "      <td>4337.0</td>\n",
       "      <td>3494.0</td>\n",
       "      <td>4739.0</td>\n",
       "      <td>1625.0</td>\n",
       "      <td>...</td>\n",
       "      <td>3764.0</td>\n",
       "      <td>5689.0</td>\n",
       "      <td>2343.0</td>\n",
       "      <td>4094.0</td>\n",
       "      <td>16741.0</td>\n",
       "      <td>3610.0</td>\n",
       "      <td>154.0</td>\n",
       "      <td>4105.0</td>\n",
       "      <td>1584.0</td>\n",
       "      <td>0</td>\n",
       "    </tr>\n",
       "    <tr>\n",
       "      <th>1</th>\n",
       "      <td>1</td>\n",
       "      <td>2011-01-30</td>\n",
       "      <td>31749.0</td>\n",
       "      <td>13805.0</td>\n",
       "      <td>9630.0</td>\n",
       "      <td>8314.0</td>\n",
       "      <td>4155.0</td>\n",
       "      <td>3046.0</td>\n",
       "      <td>4827.0</td>\n",
       "      <td>1777.0</td>\n",
       "      <td>...</td>\n",
       "      <td>3357.0</td>\n",
       "      <td>5634.0</td>\n",
       "      <td>2216.0</td>\n",
       "      <td>4209.0</td>\n",
       "      <td>16333.0</td>\n",
       "      <td>3172.0</td>\n",
       "      <td>185.0</td>\n",
       "      <td>3858.0</td>\n",
       "      <td>1776.0</td>\n",
       "      <td>0</td>\n",
       "    </tr>\n",
       "    <tr>\n",
       "      <th>2</th>\n",
       "      <td>2</td>\n",
       "      <td>2011-01-31</td>\n",
       "      <td>23783.0</td>\n",
       "      <td>10108.0</td>\n",
       "      <td>6778.0</td>\n",
       "      <td>6897.0</td>\n",
       "      <td>2816.0</td>\n",
       "      <td>2121.0</td>\n",
       "      <td>3785.0</td>\n",
       "      <td>1386.0</td>\n",
       "      <td>...</td>\n",
       "      <td>2682.0</td>\n",
       "      <td>3927.0</td>\n",
       "      <td>1657.0</td>\n",
       "      <td>3174.0</td>\n",
       "      <td>12343.0</td>\n",
       "      <td>2497.0</td>\n",
       "      <td>185.0</td>\n",
       "      <td>2827.0</td>\n",
       "      <td>1100.0</td>\n",
       "      <td>0</td>\n",
       "    </tr>\n",
       "    <tr>\n",
       "      <th>3</th>\n",
       "      <td>3</td>\n",
       "      <td>2011-02-01</td>\n",
       "      <td>25412.0</td>\n",
       "      <td>11047.0</td>\n",
       "      <td>7381.0</td>\n",
       "      <td>6984.0</td>\n",
       "      <td>3051.0</td>\n",
       "      <td>2324.0</td>\n",
       "      <td>4232.0</td>\n",
       "      <td>1440.0</td>\n",
       "      <td>...</td>\n",
       "      <td>2669.0</td>\n",
       "      <td>3865.0</td>\n",
       "      <td>1508.0</td>\n",
       "      <td>3606.0</td>\n",
       "      <td>13764.0</td>\n",
       "      <td>2531.0</td>\n",
       "      <td>138.0</td>\n",
       "      <td>2732.0</td>\n",
       "      <td>1133.0</td>\n",
       "      <td>0</td>\n",
       "    </tr>\n",
       "    <tr>\n",
       "      <th>4</th>\n",
       "      <td>4</td>\n",
       "      <td>2011-02-02</td>\n",
       "      <td>19146.0</td>\n",
       "      <td>9925.0</td>\n",
       "      <td>5912.0</td>\n",
       "      <td>3309.0</td>\n",
       "      <td>2630.0</td>\n",
       "      <td>1942.0</td>\n",
       "      <td>3817.0</td>\n",
       "      <td>1536.0</td>\n",
       "      <td>...</td>\n",
       "      <td>1814.0</td>\n",
       "      <td>2729.0</td>\n",
       "      <td>1209.0</td>\n",
       "      <td>2869.0</td>\n",
       "      <td>10525.0</td>\n",
       "      <td>1714.0</td>\n",
       "      <td>100.0</td>\n",
       "      <td>1802.0</td>\n",
       "      <td>927.0</td>\n",
       "      <td>0</td>\n",
       "    </tr>\n",
       "    <tr>\n",
       "      <th>...</th>\n",
       "      <td>...</td>\n",
       "      <td>...</td>\n",
       "      <td>...</td>\n",
       "      <td>...</td>\n",
       "      <td>...</td>\n",
       "      <td>...</td>\n",
       "      <td>...</td>\n",
       "      <td>...</td>\n",
       "      <td>...</td>\n",
       "      <td>...</td>\n",
       "      <td>...</td>\n",
       "      <td>...</td>\n",
       "      <td>...</td>\n",
       "      <td>...</td>\n",
       "      <td>...</td>\n",
       "      <td>...</td>\n",
       "      <td>...</td>\n",
       "      <td>...</td>\n",
       "      <td>...</td>\n",
       "      <td>...</td>\n",
       "      <td>...</td>\n",
       "    </tr>\n",
       "    <tr>\n",
       "      <th>1547</th>\n",
       "      <td>1547</td>\n",
       "      <td>2015-04-25</td>\n",
       "      <td>43598.0</td>\n",
       "      <td>19071.0</td>\n",
       "      <td>12049.0</td>\n",
       "      <td>12478.0</td>\n",
       "      <td>6019.0</td>\n",
       "      <td>3230.0</td>\n",
       "      <td>7251.0</td>\n",
       "      <td>2571.0</td>\n",
       "      <td>...</td>\n",
       "      <td>4519.0</td>\n",
       "      <td>11531.0</td>\n",
       "      <td>3272.0</td>\n",
       "      <td>4967.0</td>\n",
       "      <td>19309.0</td>\n",
       "      <td>3991.0</td>\n",
       "      <td>528.0</td>\n",
       "      <td>9152.0</td>\n",
       "      <td>2379.0</td>\n",
       "      <td>0</td>\n",
       "    </tr>\n",
       "    <tr>\n",
       "      <th>1548</th>\n",
       "      <td>1548</td>\n",
       "      <td>2015-04-26</td>\n",
       "      <td>43406.0</td>\n",
       "      <td>19426.0</td>\n",
       "      <td>12387.0</td>\n",
       "      <td>11593.0</td>\n",
       "      <td>5815.0</td>\n",
       "      <td>2947.0</td>\n",
       "      <td>7890.0</td>\n",
       "      <td>2774.0</td>\n",
       "      <td>...</td>\n",
       "      <td>4463.0</td>\n",
       "      <td>10800.0</td>\n",
       "      <td>3220.0</td>\n",
       "      <td>4987.0</td>\n",
       "      <td>19936.0</td>\n",
       "      <td>3980.0</td>\n",
       "      <td>483.0</td>\n",
       "      <td>8480.0</td>\n",
       "      <td>2320.0</td>\n",
       "      <td>0</td>\n",
       "    </tr>\n",
       "    <tr>\n",
       "      <th>1549</th>\n",
       "      <td>1549</td>\n",
       "      <td>2015-04-27</td>\n",
       "      <td>33444.0</td>\n",
       "      <td>14773.0</td>\n",
       "      <td>9873.0</td>\n",
       "      <td>8798.0</td>\n",
       "      <td>3995.0</td>\n",
       "      <td>2257.0</td>\n",
       "      <td>5909.0</td>\n",
       "      <td>2612.0</td>\n",
       "      <td>...</td>\n",
       "      <td>3412.0</td>\n",
       "      <td>7923.0</td>\n",
       "      <td>2683.0</td>\n",
       "      <td>4303.0</td>\n",
       "      <td>15123.0</td>\n",
       "      <td>3045.0</td>\n",
       "      <td>367.0</td>\n",
       "      <td>6253.0</td>\n",
       "      <td>1670.0</td>\n",
       "      <td>0</td>\n",
       "    </tr>\n",
       "    <tr>\n",
       "      <th>1550</th>\n",
       "      <td>1550</td>\n",
       "      <td>2015-04-28</td>\n",
       "      <td>29750.0</td>\n",
       "      <td>13044.0</td>\n",
       "      <td>8805.0</td>\n",
       "      <td>7901.0</td>\n",
       "      <td>3526.0</td>\n",
       "      <td>1930.0</td>\n",
       "      <td>5420.0</td>\n",
       "      <td>2168.0</td>\n",
       "      <td>...</td>\n",
       "      <td>3098.0</td>\n",
       "      <td>7276.0</td>\n",
       "      <td>2474.0</td>\n",
       "      <td>3608.0</td>\n",
       "      <td>13294.0</td>\n",
       "      <td>2792.0</td>\n",
       "      <td>306.0</td>\n",
       "      <td>5678.0</td>\n",
       "      <td>1598.0</td>\n",
       "      <td>0</td>\n",
       "    </tr>\n",
       "    <tr>\n",
       "      <th>1551</th>\n",
       "      <td>1551</td>\n",
       "      <td>2015-04-29</td>\n",
       "      <td>28667.0</td>\n",
       "      <td>12509.0</td>\n",
       "      <td>8579.0</td>\n",
       "      <td>7579.0</td>\n",
       "      <td>3560.0</td>\n",
       "      <td>2037.0</td>\n",
       "      <td>4849.0</td>\n",
       "      <td>2063.0</td>\n",
       "      <td>...</td>\n",
       "      <td>3366.0</td>\n",
       "      <td>6861.0</td>\n",
       "      <td>2296.0</td>\n",
       "      <td>3134.0</td>\n",
       "      <td>13010.0</td>\n",
       "      <td>2923.0</td>\n",
       "      <td>443.0</td>\n",
       "      <td>5305.0</td>\n",
       "      <td>1556.0</td>\n",
       "      <td>0</td>\n",
       "    </tr>\n",
       "  </tbody>\n",
       "</table>\n",
       "<p>1552 rows × 27 columns</p>\n",
       "</div>"
      ],
      "text/plain": [
       "      time_idx       date      all       CA       TX       WI    CA_1    CA_2  \\\n",
       "0            0 2011-01-29  32631.0  14195.0   9438.0   8998.0  4337.0  3494.0   \n",
       "1            1 2011-01-30  31749.0  13805.0   9630.0   8314.0  4155.0  3046.0   \n",
       "2            2 2011-01-31  23783.0  10108.0   6778.0   6897.0  2816.0  2121.0   \n",
       "3            3 2011-02-01  25412.0  11047.0   7381.0   6984.0  3051.0  2324.0   \n",
       "4            4 2011-02-02  19146.0   9925.0   5912.0   3309.0  2630.0  1942.0   \n",
       "...        ...        ...      ...      ...      ...      ...     ...     ...   \n",
       "1547      1547 2015-04-25  43598.0  19071.0  12049.0  12478.0  6019.0  3230.0   \n",
       "1548      1548 2015-04-26  43406.0  19426.0  12387.0  11593.0  5815.0  2947.0   \n",
       "1549      1549 2015-04-27  33444.0  14773.0   9873.0   8798.0  3995.0  2257.0   \n",
       "1550      1550 2015-04-28  29750.0  13044.0   8805.0   7901.0  3526.0  1930.0   \n",
       "1551      1551 2015-04-29  28667.0  12509.0   8579.0   7579.0  3560.0  2037.0   \n",
       "\n",
       "        CA_3    CA_4  ...  HOBBIES  HOUSEHOLD  FOODS_1  FOODS_2  FOODS_3  \\\n",
       "0     4739.0  1625.0  ...   3764.0     5689.0   2343.0   4094.0  16741.0   \n",
       "1     4827.0  1777.0  ...   3357.0     5634.0   2216.0   4209.0  16333.0   \n",
       "2     3785.0  1386.0  ...   2682.0     3927.0   1657.0   3174.0  12343.0   \n",
       "3     4232.0  1440.0  ...   2669.0     3865.0   1508.0   3606.0  13764.0   \n",
       "4     3817.0  1536.0  ...   1814.0     2729.0   1209.0   2869.0  10525.0   \n",
       "...      ...     ...  ...      ...        ...      ...      ...      ...   \n",
       "1547  7251.0  2571.0  ...   4519.0    11531.0   3272.0   4967.0  19309.0   \n",
       "1548  7890.0  2774.0  ...   4463.0    10800.0   3220.0   4987.0  19936.0   \n",
       "1549  5909.0  2612.0  ...   3412.0     7923.0   2683.0   4303.0  15123.0   \n",
       "1550  5420.0  2168.0  ...   3098.0     7276.0   2474.0   3608.0  13294.0   \n",
       "1551  4849.0  2063.0  ...   3366.0     6861.0   2296.0   3134.0  13010.0   \n",
       "\n",
       "      HOBBIES_1  HOBBIES_2  HOUSEHOLD_1  HOUSEHOLD_2  group_ids  \n",
       "0        3610.0      154.0       4105.0       1584.0          0  \n",
       "1        3172.0      185.0       3858.0       1776.0          0  \n",
       "2        2497.0      185.0       2827.0       1100.0          0  \n",
       "3        2531.0      138.0       2732.0       1133.0          0  \n",
       "4        1714.0      100.0       1802.0        927.0          0  \n",
       "...         ...        ...          ...          ...        ...  \n",
       "1547     3991.0      528.0       9152.0       2379.0          0  \n",
       "1548     3980.0      483.0       8480.0       2320.0          0  \n",
       "1549     3045.0      367.0       6253.0       1670.0          0  \n",
       "1550     2792.0      306.0       5678.0       1598.0          0  \n",
       "1551     2923.0      443.0       5305.0       1556.0          0  \n",
       "\n",
       "[1552 rows x 27 columns]"
      ]
     },
     "execution_count": 11,
     "metadata": {},
     "output_type": "execute_result"
    }
   ],
   "source": [
    "train_df"
   ]
  },
  {
   "cell_type": "markdown",
   "id": "conventional-sweet",
   "metadata": {},
   "source": [
    "## Preparing a TimeSeriesDataSet for N-BEATS\n",
    "N-BEATS is a univariate forecasting method. As such, it can only process one variable at a time."
   ]
  },
  {
   "cell_type": "code",
   "execution_count": 12,
   "id": "qualified-italian",
   "metadata": {},
   "outputs": [
    {
     "data": {
      "text/html": [
       "<div>\n",
       "<style scoped>\n",
       "    .dataframe tbody tr th:only-of-type {\n",
       "        vertical-align: middle;\n",
       "    }\n",
       "\n",
       "    .dataframe tbody tr th {\n",
       "        vertical-align: top;\n",
       "    }\n",
       "\n",
       "    .dataframe thead th {\n",
       "        text-align: right;\n",
       "    }\n",
       "</style>\n",
       "<table border=\"1\" class=\"dataframe\">\n",
       "  <thead>\n",
       "    <tr style=\"text-align: right;\">\n",
       "      <th></th>\n",
       "      <th>time_idx</th>\n",
       "      <th>date</th>\n",
       "      <th>group_ids</th>\n",
       "      <th>value</th>\n",
       "    </tr>\n",
       "  </thead>\n",
       "  <tbody>\n",
       "    <tr>\n",
       "      <th>0</th>\n",
       "      <td>0</td>\n",
       "      <td>2011-01-29</td>\n",
       "      <td>all</td>\n",
       "      <td>32631.0</td>\n",
       "    </tr>\n",
       "    <tr>\n",
       "      <th>1</th>\n",
       "      <td>1</td>\n",
       "      <td>2011-01-30</td>\n",
       "      <td>all</td>\n",
       "      <td>31749.0</td>\n",
       "    </tr>\n",
       "    <tr>\n",
       "      <th>2</th>\n",
       "      <td>2</td>\n",
       "      <td>2011-01-31</td>\n",
       "      <td>all</td>\n",
       "      <td>23783.0</td>\n",
       "    </tr>\n",
       "    <tr>\n",
       "      <th>3</th>\n",
       "      <td>3</td>\n",
       "      <td>2011-02-01</td>\n",
       "      <td>all</td>\n",
       "      <td>25412.0</td>\n",
       "    </tr>\n",
       "    <tr>\n",
       "      <th>4</th>\n",
       "      <td>4</td>\n",
       "      <td>2011-02-02</td>\n",
       "      <td>all</td>\n",
       "      <td>19146.0</td>\n",
       "    </tr>\n",
       "  </tbody>\n",
       "</table>\n",
       "</div>"
      ],
      "text/plain": [
       "   time_idx       date group_ids    value\n",
       "0         0 2011-01-29       all  32631.0\n",
       "1         1 2011-01-30       all  31749.0\n",
       "2         2 2011-01-31       all  23783.0\n",
       "3         3 2011-02-01       all  25412.0\n",
       "4         4 2011-02-02       all  19146.0"
      ]
     },
     "execution_count": 12,
     "metadata": {},
     "output_type": "execute_result"
    }
   ],
   "source": [
    "train_df_nbeats = train_df.melt(id_vars=['time_idx', 'date'], value_vars=main_df.columns, var_name='group_ids')\n",
    "train_df_nbeats.head()"
   ]
  },
  {
   "cell_type": "code",
   "execution_count": 13,
   "id": "existing-mortality",
   "metadata": {},
   "outputs": [
    {
     "data": {
      "text/html": [
       "<div>\n",
       "<style scoped>\n",
       "    .dataframe tbody tr th:only-of-type {\n",
       "        vertical-align: middle;\n",
       "    }\n",
       "\n",
       "    .dataframe tbody tr th {\n",
       "        vertical-align: top;\n",
       "    }\n",
       "\n",
       "    .dataframe thead th {\n",
       "        text-align: right;\n",
       "    }\n",
       "</style>\n",
       "<table border=\"1\" class=\"dataframe\">\n",
       "  <thead>\n",
       "    <tr style=\"text-align: right;\">\n",
       "      <th></th>\n",
       "      <th>time_idx</th>\n",
       "      <th>date</th>\n",
       "      <th>group_ids</th>\n",
       "      <th>value</th>\n",
       "    </tr>\n",
       "  </thead>\n",
       "  <tbody>\n",
       "    <tr>\n",
       "      <th>37243</th>\n",
       "      <td>1547</td>\n",
       "      <td>2015-04-25</td>\n",
       "      <td>HOUSEHOLD_2</td>\n",
       "      <td>2379.0</td>\n",
       "    </tr>\n",
       "    <tr>\n",
       "      <th>37244</th>\n",
       "      <td>1548</td>\n",
       "      <td>2015-04-26</td>\n",
       "      <td>HOUSEHOLD_2</td>\n",
       "      <td>2320.0</td>\n",
       "    </tr>\n",
       "    <tr>\n",
       "      <th>37245</th>\n",
       "      <td>1549</td>\n",
       "      <td>2015-04-27</td>\n",
       "      <td>HOUSEHOLD_2</td>\n",
       "      <td>1670.0</td>\n",
       "    </tr>\n",
       "    <tr>\n",
       "      <th>37246</th>\n",
       "      <td>1550</td>\n",
       "      <td>2015-04-28</td>\n",
       "      <td>HOUSEHOLD_2</td>\n",
       "      <td>1598.0</td>\n",
       "    </tr>\n",
       "    <tr>\n",
       "      <th>37247</th>\n",
       "      <td>1551</td>\n",
       "      <td>2015-04-29</td>\n",
       "      <td>HOUSEHOLD_2</td>\n",
       "      <td>1556.0</td>\n",
       "    </tr>\n",
       "  </tbody>\n",
       "</table>\n",
       "</div>"
      ],
      "text/plain": [
       "       time_idx       date    group_ids   value\n",
       "37243      1547 2015-04-25  HOUSEHOLD_2  2379.0\n",
       "37244      1548 2015-04-26  HOUSEHOLD_2  2320.0\n",
       "37245      1549 2015-04-27  HOUSEHOLD_2  1670.0\n",
       "37246      1550 2015-04-28  HOUSEHOLD_2  1598.0\n",
       "37247      1551 2015-04-29  HOUSEHOLD_2  1556.0"
      ]
     },
     "execution_count": 13,
     "metadata": {},
     "output_type": "execute_result"
    }
   ],
   "source": [
    "train_df_nbeats.tail()"
   ]
  },
  {
   "cell_type": "code",
   "execution_count": 14,
   "id": "friendly-crazy",
   "metadata": {},
   "outputs": [
    {
     "data": {
      "text/plain": [
       "time_idx              int64\n",
       "date         datetime64[ns]\n",
       "group_ids            object\n",
       "value               float64\n",
       "dtype: object"
      ]
     },
     "execution_count": 14,
     "metadata": {},
     "output_type": "execute_result"
    }
   ],
   "source": [
    "train_df_nbeats.dtypes"
   ]
  },
  {
   "cell_type": "code",
   "execution_count": 15,
   "id": "capital-yacht",
   "metadata": {},
   "outputs": [
    {
     "data": {
      "text/plain": [
       "array(['all', 'CA', 'TX', 'WI', 'CA_1', 'CA_2', 'CA_3', 'CA_4', 'TX_1',\n",
       "       'TX_2', 'TX_3', 'WI_1', 'WI_2', 'WI_3', 'FOODS', 'HOBBIES',\n",
       "       'HOUSEHOLD', 'FOODS_1', 'FOODS_2', 'FOODS_3', 'HOBBIES_1',\n",
       "       'HOBBIES_2', 'HOUSEHOLD_1', 'HOUSEHOLD_2'], dtype=object)"
      ]
     },
     "execution_count": 15,
     "metadata": {},
     "output_type": "execute_result"
    }
   ],
   "source": [
    "train_df_nbeats.group_ids.unique()"
   ]
  },
  {
   "cell_type": "code",
   "execution_count": 16,
   "id": "pressed-madonna",
   "metadata": {},
   "outputs": [],
   "source": [
    "# define dataset\n",
    "valid_size = 0.25  \n",
    "max_encoder_length = lag_time\n",
    "max_prediction_length = lead_time\n",
    "training_cutoff = train_df_nbeats[\"time_idx\"][:int((1 - valid_size)*train_df_nbeats[\"time_idx\"].max())].values[-1]\n",
    "context_length = max_encoder_length\n",
    "prediction_length = max_prediction_length"
   ]
  },
  {
   "cell_type": "code",
   "execution_count": 17,
   "id": "parliamentary-routine",
   "metadata": {},
   "outputs": [],
   "source": [
    "training = TimeSeriesDataSet(\n",
    "    train_df_nbeats.loc[train_df_nbeats.time_idx <= training_cutoff],  # Applying the training cutoff\n",
    "    time_idx=\"time_idx\",\n",
    "    target=\"value\",\n",
    "    categorical_encoders={\"group_ids\": NaNLabelEncoder().fit(train_df_nbeats.group_ids)},\n",
    "    group_ids=['group_ids'],\n",
    "    max_encoder_length=context_length,\n",
    "    max_prediction_length=max_prediction_length,\n",
    "    time_varying_unknown_reals=[\"value\"],\n",
    ")"
   ]
  },
  {
   "cell_type": "code",
   "execution_count": 18,
   "id": "fifth-plate",
   "metadata": {},
   "outputs": [],
   "source": [
    "validation = TimeSeriesDataSet.from_dataset(training, train_df_nbeats, min_prediction_idx=training_cutoff + 1)\n",
    "# !!!!! dont use int as target EVER !!!!"
   ]
  },
  {
   "cell_type": "code",
   "execution_count": 19,
   "id": "toxic-portfolio",
   "metadata": {},
   "outputs": [],
   "source": [
    "batch_size = 128\n",
    "train_dataloader = training.to_dataloader(train=True, batch_size=batch_size, num_workers=1)\n",
    "val_dataloader = validation.to_dataloader(train=False, batch_size=batch_size, num_workers=1)\n",
    "#increase num_workers here"
   ]
  },
  {
   "cell_type": "code",
   "execution_count": 21,
   "id": "figured-monitor",
   "metadata": {},
   "outputs": [
    {
     "name": "stderr",
     "output_type": "stream",
     "text": [
      "Global seed set to 42\n",
      "GPU available: True, used: True\n",
      "TPU available: False, using: 0 TPU cores\n",
      "IPU available: False, using: 0 IPUs\n"
     ]
    }
   ],
   "source": [
    "pl.seed_everything(42)\n",
    "early_stop_callback = EarlyStopping(monitor=\"val_loss\", min_delta=1e-4, patience=10, verbose=True, mode=\"min\")\n",
    "#Try verbose=True\n",
    "\n",
    "trainer = pl.Trainer(\n",
    "    max_epochs=10,\n",
    "    gpus=1,\n",
    "    weights_summary=\"top\",\n",
    "    gradient_clip_val=0.01,\n",
    "    callbacks=[early_stop_callback],\n",
    "    #some other functions?\n",
    "    limit_train_batches=1.0,\n",
    "    default_root_dir='/ssd003/home/pli/forecasting-bootcamp/Paul_Li_M5/NBEATS_MODEL'\n",
    ")"
   ]
  },
  {
   "cell_type": "code",
   "execution_count": 22,
   "id": "extraordinary-nickname",
   "metadata": {},
   "outputs": [
    {
     "name": "stderr",
     "output_type": "stream",
     "text": [
      "/ssd003/projects/aieng/public/forecasting_unified/lib/python3.8/site-packages/pytorch_forecasting/models/nbeats/sub_modules.py:154: UserWarning: Creating a tensor from a list of numpy.ndarrays is extremely slow. Please consider converting the list to a single numpy.ndarray with numpy.array() before converting to a tensor. (Triggered internally at  ../torch/csrc/utils/tensor_new.cpp:201.)\n",
      "  coefficients = torch.tensor([backcast_linspace ** i for i in range(thetas_dim)], dtype=torch.float32)\n"
     ]
    }
   ],
   "source": [
    "net = NBeats.from_dataset(\n",
    "    training,\n",
    "    learning_rate=1e-4,\n",
    "    log_interval=10,\n",
    "    log_val_interval=1,\n",
    "    weight_decay=1e-2,\n",
    "    # widths=[16, 16],\n",
    "    # backcast_loss_ratio=1.0,\n",
    ")"
   ]
  },
  {
   "cell_type": "code",
   "execution_count": 23,
   "id": "fitting-player",
   "metadata": {},
   "outputs": [
    {
     "name": "stderr",
     "output_type": "stream",
     "text": [
      "/ssd003/projects/aieng/public/forecasting_unified/lib/python3.8/site-packages/pytorch_lightning/trainer/trainer.py:735: LightningDeprecationWarning: `trainer.fit(train_dataloader)` is deprecated in v1.4 and will be removed in v1.6. Use `trainer.fit(train_dataloaders)` instead. HINT: added 's'\n",
      "  rank_zero_deprecation(\n",
      "LOCAL_RANK: 0 - CUDA_VISIBLE_DEVICES: [0]\n",
      "Set SLURM handle signals.\n",
      "\n",
      "  | Name            | Type       | Params\n",
      "-----------------------------------------------\n",
      "0 | loss            | MASE       | 0     \n",
      "1 | logging_metrics | ModuleList | 0     \n",
      "2 | net_blocks      | ModuleList | 1.7 M \n",
      "-----------------------------------------------\n",
      "1.7 M     Trainable params\n",
      "0         Non-trainable params\n",
      "1.7 M     Total params\n",
      "6.717     Total estimated model params size (MB)\n"
     ]
    },
    {
     "data": {
      "application/vnd.jupyter.widget-view+json": {
       "model_id": "6a4abf149dc340a180afbc346243db31",
       "version_major": 2,
       "version_minor": 0
      },
      "text/plain": [
       "Validation sanity check: 0it [00:00, ?it/s]"
      ]
     },
     "metadata": {},
     "output_type": "display_data"
    },
    {
     "name": "stderr",
     "output_type": "stream",
     "text": [
      "/ssd003/projects/aieng/public/forecasting_unified/lib/python3.8/site-packages/pytorch_lightning/trainer/data_loading.py:132: UserWarning: The dataloader, val_dataloader 0, does not have many workers which may be a bottleneck. Consider increasing the value of the `num_workers` argument` (try 32 which is the number of cpus on this machine) in the `DataLoader` init to improve performance.\n",
      "  rank_zero_warn(\n",
      "/ssd003/projects/aieng/public/forecasting_unified/lib/python3.8/site-packages/pytorch_lightning/utilities/data.py:59: UserWarning: Trying to infer the `batch_size` from an ambiguous collection. The batch size we found is 128. To avoid any miscalculations, use `self.log(..., batch_size=batch_size)`.\n",
      "  warning_cache.warn(\n",
      "Global seed set to 42\n",
      "/ssd003/projects/aieng/public/forecasting_unified/lib/python3.8/site-packages/pytorch_lightning/trainer/data_loading.py:132: UserWarning: The dataloader, train_dataloader, does not have many workers which may be a bottleneck. Consider increasing the value of the `num_workers` argument` (try 32 which is the number of cpus on this machine) in the `DataLoader` init to improve performance.\n",
      "  rank_zero_warn(\n"
     ]
    },
    {
     "data": {
      "application/vnd.jupyter.widget-view+json": {
       "model_id": "16a999995e3a407fb09866bfd21610bd",
       "version_major": 2,
       "version_minor": 0
      },
      "text/plain": [
       "Training: 0it [00:00, ?it/s]"
      ]
     },
     "metadata": {},
     "output_type": "display_data"
    },
    {
     "data": {
      "application/vnd.jupyter.widget-view+json": {
       "model_id": "939a86ca393246928abc1791471c3246",
       "version_major": 2,
       "version_minor": 0
      },
      "text/plain": [
       "Validating: 0it [00:00, ?it/s]"
      ]
     },
     "metadata": {},
     "output_type": "display_data"
    },
    {
     "name": "stderr",
     "output_type": "stream",
     "text": [
      "/ssd003/projects/aieng/public/forecasting_unified/lib/python3.8/site-packages/pytorch_lightning/utilities/data.py:59: UserWarning: Trying to infer the `batch_size` from an ambiguous collection. The batch size we found is 64. To avoid any miscalculations, use `self.log(..., batch_size=batch_size)`.\n",
      "  warning_cache.warn(\n",
      "Metric val_loss improved. New best score: 0.844\n"
     ]
    },
    {
     "data": {
      "application/vnd.jupyter.widget-view+json": {
       "model_id": "ed5723fd4e924aca85fa5f436676e0eb",
       "version_major": 2,
       "version_minor": 0
      },
      "text/plain": [
       "Validating: 0it [00:00, ?it/s]"
      ]
     },
     "metadata": {},
     "output_type": "display_data"
    },
    {
     "name": "stderr",
     "output_type": "stream",
     "text": [
      "Metric val_loss improved by 0.114 >= min_delta = 0.0001. New best score: 0.730\n"
     ]
    },
    {
     "data": {
      "application/vnd.jupyter.widget-view+json": {
       "model_id": "5074ccf247d34c378f1f9ce73526dfac",
       "version_major": 2,
       "version_minor": 0
      },
      "text/plain": [
       "Validating: 0it [00:00, ?it/s]"
      ]
     },
     "metadata": {},
     "output_type": "display_data"
    },
    {
     "name": "stderr",
     "output_type": "stream",
     "text": [
      "Metric val_loss improved by 0.016 >= min_delta = 0.0001. New best score: 0.714\n"
     ]
    },
    {
     "data": {
      "application/vnd.jupyter.widget-view+json": {
       "model_id": "59b890d6ea0d47608512b0829c24ab66",
       "version_major": 2,
       "version_minor": 0
      },
      "text/plain": [
       "Validating: 0it [00:00, ?it/s]"
      ]
     },
     "metadata": {},
     "output_type": "display_data"
    },
    {
     "name": "stderr",
     "output_type": "stream",
     "text": [
      "Metric val_loss improved by 0.008 >= min_delta = 0.0001. New best score: 0.706\n"
     ]
    },
    {
     "data": {
      "application/vnd.jupyter.widget-view+json": {
       "model_id": "ad02bcdb472c41c9855b56d2b9f7a2f7",
       "version_major": 2,
       "version_minor": 0
      },
      "text/plain": [
       "Validating: 0it [00:00, ?it/s]"
      ]
     },
     "metadata": {},
     "output_type": "display_data"
    },
    {
     "name": "stderr",
     "output_type": "stream",
     "text": [
      "Metric val_loss improved by 0.004 >= min_delta = 0.0001. New best score: 0.702\n"
     ]
    },
    {
     "data": {
      "application/vnd.jupyter.widget-view+json": {
       "model_id": "a4fa2fae4efa4412a78c3718aeea0fb6",
       "version_major": 2,
       "version_minor": 0
      },
      "text/plain": [
       "Validating: 0it [00:00, ?it/s]"
      ]
     },
     "metadata": {},
     "output_type": "display_data"
    },
    {
     "name": "stderr",
     "output_type": "stream",
     "text": [
      "Metric val_loss improved by 0.003 >= min_delta = 0.0001. New best score: 0.699\n"
     ]
    },
    {
     "data": {
      "application/vnd.jupyter.widget-view+json": {
       "model_id": "f151ae71771648f18f2e1f450ecc2fcc",
       "version_major": 2,
       "version_minor": 0
      },
      "text/plain": [
       "Validating: 0it [00:00, ?it/s]"
      ]
     },
     "metadata": {},
     "output_type": "display_data"
    },
    {
     "name": "stderr",
     "output_type": "stream",
     "text": [
      "Metric val_loss improved by 0.003 >= min_delta = 0.0001. New best score: 0.695\n"
     ]
    },
    {
     "data": {
      "application/vnd.jupyter.widget-view+json": {
       "model_id": "26a96909ad31487b9a4ecb6bfee13d58",
       "version_major": 2,
       "version_minor": 0
      },
      "text/plain": [
       "Validating: 0it [00:00, ?it/s]"
      ]
     },
     "metadata": {},
     "output_type": "display_data"
    },
    {
     "name": "stderr",
     "output_type": "stream",
     "text": [
      "Metric val_loss improved by 0.001 >= min_delta = 0.0001. New best score: 0.694\n"
     ]
    },
    {
     "data": {
      "application/vnd.jupyter.widget-view+json": {
       "model_id": "b2d22c5591d94fa6abd25b89c747f92e",
       "version_major": 2,
       "version_minor": 0
      },
      "text/plain": [
       "Validating: 0it [00:00, ?it/s]"
      ]
     },
     "metadata": {},
     "output_type": "display_data"
    },
    {
     "name": "stderr",
     "output_type": "stream",
     "text": [
      "Metric val_loss improved by 0.002 >= min_delta = 0.0001. New best score: 0.693\n"
     ]
    },
    {
     "data": {
      "application/vnd.jupyter.widget-view+json": {
       "model_id": "bb7951bbd4844c4383be31a64b760133",
       "version_major": 2,
       "version_minor": 0
      },
      "text/plain": [
       "Validating: 0it [00:00, ?it/s]"
      ]
     },
     "metadata": {},
     "output_type": "display_data"
    },
    {
     "name": "stderr",
     "output_type": "stream",
     "text": [
      "Metric val_loss improved by 0.002 >= min_delta = 0.0001. New best score: 0.691\n"
     ]
    },
    {
     "name": "stdout",
     "output_type": "stream",
     "text": [
      "CPU times: user 10min 47s, sys: 5min 16s, total: 16min 3s\n",
      "Wall time: 10min 9s\n"
     ]
    }
   ],
   "source": [
    "%%time\n",
    "trainer.fit(\n",
    "    net,\n",
    "    train_dataloader=train_dataloader,\n",
    "    val_dataloaders=val_dataloader,\n",
    ")"
   ]
  },
  {
   "cell_type": "code",
   "execution_count": 34,
   "id": "muslim-retail",
   "metadata": {},
   "outputs": [
    {
     "name": "stdout",
     "output_type": "stream",
     "text": [
      "/ssd003/home/pli/forecasting-bootcamp/Paul_Li_M5/NBEATS_MODEL/lightning_logs/version_6379813/checkpoints/epoch=9-step=2069.ckpt\n"
     ]
    }
   ],
   "source": [
    "print(trainer.checkpoint_callback.best_model_path)"
   ]
  },
  {
   "cell_type": "code",
   "execution_count": 35,
   "id": "micro-antenna",
   "metadata": {},
   "outputs": [
    {
     "name": "stdout",
     "output_type": "stream",
     "text": [
      "'epoch=9-step=2069.ckpt'\r\n"
     ]
    }
   ],
   "source": [
    "!ls /ssd003/home/pli/forecasting-bootcamp/Paul_Li_M5/NBEATS_MODEL/lightning_logs/version_6379813/checkpoints"
   ]
  },
  {
   "cell_type": "code",
   "execution_count": 36,
   "id": "hollywood-intelligence",
   "metadata": {},
   "outputs": [],
   "source": [
    "#prophet"
   ]
  },
  {
   "cell_type": "code",
   "execution_count": 24,
   "id": "supreme-department",
   "metadata": {},
   "outputs": [],
   "source": [
    "test_dataset = TimeSeriesDataSet(\n",
    "    test_df,\n",
    "    time_idx=\"time_idx\",\n",
    "    target=\"all\",\n",
    "    group_ids=['group_ids'],\n",
    "    max_encoder_length=context_length,\n",
    "    max_prediction_length=max_prediction_length,\n",
    "    time_varying_unknown_reals=[\"all\"],\n",
    ")\n",
    "\n",
    "test_dataloader = test_dataset.to_dataloader(train=False, batch_size=1, num_workers=0)"
   ]
  },
  {
   "cell_type": "code",
   "execution_count": 25,
   "id": "another-acceptance",
   "metadata": {},
   "outputs": [],
   "source": [
    "#best_model_path = trainer.checkpoint_callback.best_model_path\n",
    "#best_model = NBeats.load_from_checkpoint(best_model_path)\n",
    "\n",
    "actuals = torch.cat([y[0] for x, y in iter(test_dataloader)])\n",
    "predictions = net.predict(test_dataloader)"
   ]
  },
  {
   "cell_type": "code",
   "execution_count": 26,
   "id": "confident-nirvana",
   "metadata": {},
   "outputs": [
    {
     "data": {
      "image/png": "[encoded data removed]",
      "text/plain": [
       "<Figure size 1080x288 with 2 Axes>"
      ]
     },
     "metadata": {},
     "output_type": "display_data"
    }
   ],
   "source": [
    "actuals_np = actuals.detach().numpy()\n",
    "predictions_np = predictions.detach().numpy()\n",
    "\n",
    "indexes = []\n",
    "preds = []\n",
    "trues = []\n",
    "\n",
    "for time_idx in range(actuals_np.shape[0]):\n",
    "    indexes.append(time_idx)\n",
    "    preds.append(predictions_np[time_idx][-1])\n",
    "    trues.append(actuals_np[time_idx][-1])\n",
    "\n",
    "sns.set_style('darkgrid')\n",
    "fig, (ax1, ax2) = plt.subplots(1, 2,figsize=(15,4), gridspec_kw={'width_ratios': [3, 2]})\n",
    "ax1.plot(indexes, preds, color='red', label='forecast')\n",
    "ax1.plot(indexes, trues, color='blue', label='ground truth')\n",
    "ax1.set_title(f\"Forecasts at max lead time ({lead_time} samples) - N-BEATS\")\n",
    "ax1.legend()\n",
    "\n",
    "start = 10\n",
    "ax2.plot(list(range(start,start+30)), actuals_np[start], color='blue', label='input')\n",
    "ax2.plot(list(range(start+30, start+60)), predictions_np[start], color='red', label='forecast')\n",
    "ax2.plot(list(range(start+30, start+60)), actuals_np[start+30], color='cornflowerblue', label='ground truth')\n",
    "ax2.set_title(f\"Individual example forecast - N-BEATS\")\n",
    "ax2.legend(loc='upper left')\n",
    "\n",
    "plt.show()"
   ]
  },
  {
   "cell_type": "code",
   "execution_count": 30,
   "id": "foreign-startup",
   "metadata": {},
   "outputs": [],
   "source": [
    "test_dataset = TimeSeriesDataSet(\n",
    "    test_df,\n",
    "    time_idx=\"time_idx\",\n",
    "    target=\"HOUSEHOLD_2\",\n",
    "    group_ids=['group_ids'],\n",
    "    max_encoder_length=context_length,\n",
    "    max_prediction_length=max_prediction_length,\n",
    "    time_varying_unknown_reals=[\"HOUSEHOLD_2\"],\n",
    ")\n",
    "\n",
    "test_dataloader = test_dataset.to_dataloader(train=False, batch_size=1, num_workers=0)"
   ]
  },
  {
   "cell_type": "code",
   "execution_count": 31,
   "id": "cross-municipality",
   "metadata": {},
   "outputs": [],
   "source": [
    "#best_model_path = trainer.checkpoint_callback.best_model_path\n",
    "#best_model = NBeats.load_from_checkpoint(best_model_path)\n",
    "\n",
    "actuals = torch.cat([y[0] for x, y in iter(test_dataloader)])\n",
    "predictions = net.predict(test_dataloader)"
   ]
  },
  {
   "cell_type": "code",
   "execution_count": 32,
   "id": "brutal-antarctica",
   "metadata": {},
   "outputs": [
    {
     "data": {
      "image/png": "[encoded data removed]",
      "text/plain": [
       "<Figure size 1080x288 with 2 Axes>"
      ]
     },
     "metadata": {},
     "output_type": "display_data"
    }
   ],
   "source": [
    "actuals_np = actuals.detach().numpy()\n",
    "predictions_np = predictions.detach().numpy()\n",
    "\n",
    "indexes = []\n",
    "preds = []\n",
    "trues = []\n",
    "\n",
    "for time_idx in range(actuals_np.shape[0]):\n",
    "    indexes.append(time_idx)\n",
    "    preds.append(predictions_np[time_idx][-1])\n",
    "    trues.append(actuals_np[time_idx][-1])\n",
    "\n",
    "sns.set_style('darkgrid')\n",
    "fig, (ax1, ax2) = plt.subplots(1, 2,figsize=(15,4), gridspec_kw={'width_ratios': [3, 2]})\n",
    "ax1.plot(indexes, preds, color='red', label='forecast')\n",
    "ax1.plot(indexes, trues, color='blue', label='ground truth')\n",
    "ax1.set_title(f\"Forecasts at max lead time ({lead_time} samples) - N-BEATS\")\n",
    "ax1.legend()\n",
    "\n",
    "start = 10\n",
    "ax2.plot(list(range(start,start+30)), actuals_np[start], color='blue', label='input')\n",
    "ax2.plot(list(range(start+30, start+60)), predictions_np[start], color='red', label='forecast')\n",
    "ax2.plot(list(range(start+30, start+60)), actuals_np[start+30], color='cornflowerblue', label='ground truth')\n",
    "ax2.set_title(f\"Individual example forecast - N-BEATS\")\n",
    "ax2.legend(loc='upper left')\n",
    "\n",
    "plt.show()"
   ]
  },
  {
   "cell_type": "code",
   "execution_count": null,
   "id": "exact-permission",
   "metadata": {},
   "outputs": [],
   "source": []
  },
  {
   "cell_type": "code",
   "execution_count": 201,
   "id": "tough-position",
   "metadata": {},
   "outputs": [],
   "source": [
    "net2 = NBeats.from_dataset(\n",
    "    training,\n",
    "    learning_rate=5e-4,\n",
    "    log_interval=10,\n",
    "    log_val_interval=1,\n",
    "    weight_decay=1e-2,\n",
    "    # widths=[16, 16],\n",
    "    # backcast_loss_ratio=1.0,\n",
    ")"
   ]
  },
  {
   "cell_type": "code",
   "execution_count": 202,
   "id": "artistic-alexander",
   "metadata": {},
   "outputs": [
    {
     "name": "stderr",
     "output_type": "stream",
     "text": [
      "/ssd003/projects/aieng/public/forecasting_unified/lib/python3.8/site-packages/pytorch_lightning/trainer/trainer.py:735: LightningDeprecationWarning: `trainer.fit(train_dataloader)` is deprecated in v1.4 and will be removed in v1.6. Use `trainer.fit(train_dataloaders)` instead. HINT: added 's'\n",
      "  rank_zero_deprecation(\n",
      "LOCAL_RANK: 0 - CUDA_VISIBLE_DEVICES: [0]\n",
      "Set SLURM handle signals.\n",
      "\n",
      "  | Name            | Type       | Params\n",
      "-----------------------------------------------\n",
      "0 | loss            | MASE       | 0     \n",
      "1 | logging_metrics | ModuleList | 0     \n",
      "2 | net_blocks      | ModuleList | 1.7 M \n",
      "-----------------------------------------------\n",
      "1.7 M     Trainable params\n",
      "0         Non-trainable params\n",
      "1.7 M     Total params\n",
      "6.717     Total estimated model params size (MB)\n",
      "/ssd003/projects/aieng/public/forecasting_unified/lib/python3.8/site-packages/pytorch_lightning/callbacks/model_checkpoint.py:631: UserWarning: Checkpoint directory /ssd003/home/pli/forecasting-bootcamp/Paul_Li_M5/lightning_logs/version_6369294/checkpoints exists and is not empty.\n",
      "  rank_zero_warn(f\"Checkpoint directory {dirpath} exists and is not empty.\")\n"
     ]
    },
    {
     "data": {
      "application/vnd.jupyter.widget-view+json": {
       "model_id": "ccaa7dfd27da4de3aecea208bd37bb6e",
       "version_major": 2,
       "version_minor": 0
      },
      "text/plain": [
       "Validation sanity check: 0it [00:00, ?it/s]"
      ]
     },
     "metadata": {},
     "output_type": "display_data"
    },
    {
     "name": "stderr",
     "output_type": "stream",
     "text": [
      "/ssd003/projects/aieng/public/forecasting_unified/lib/python3.8/site-packages/pytorch_lightning/trainer/data_loading.py:132: UserWarning: The dataloader, val_dataloader 0, does not have many workers which may be a bottleneck. Consider increasing the value of the `num_workers` argument` (try 32 which is the number of cpus on this machine) in the `DataLoader` init to improve performance.\n",
      "  rank_zero_warn(\n",
      "Global seed set to 42\n",
      "/ssd003/projects/aieng/public/forecasting_unified/lib/python3.8/site-packages/pytorch_lightning/trainer/data_loading.py:132: UserWarning: The dataloader, train_dataloader, does not have many workers which may be a bottleneck. Consider increasing the value of the `num_workers` argument` (try 32 which is the number of cpus on this machine) in the `DataLoader` init to improve performance.\n",
      "  rank_zero_warn(\n"
     ]
    },
    {
     "data": {
      "application/vnd.jupyter.widget-view+json": {
       "model_id": "9e513b6c75b54863931c51159677ee3b",
       "version_major": 2,
       "version_minor": 0
      },
      "text/plain": [
       "Training: 0it [00:00, ?it/s]"
      ]
     },
     "metadata": {},
     "output_type": "display_data"
    },
    {
     "data": {
      "application/vnd.jupyter.widget-view+json": {
       "model_id": "43221c6f9de4475b8b0ec952482e8043",
       "version_major": 2,
       "version_minor": 0
      },
      "text/plain": [
       "Validating: 0it [00:00, ?it/s]"
      ]
     },
     "metadata": {},
     "output_type": "display_data"
    }
   ],
   "source": [
    "trainer.fit(\n",
    "    net2,\n",
    "    train_dataloader=train_dataloader,\n",
    "    val_dataloaders=val_dataloader,\n",
    ")"
   ]
  },
  {
   "cell_type": "code",
   "execution_count": 203,
   "id": "liquid-wildlife",
   "metadata": {},
   "outputs": [],
   "source": [
    "predictions2 = net2.predict(test_dataloader)"
   ]
  },
  {
   "cell_type": "code",
   "execution_count": 204,
   "id": "cubic-eugene",
   "metadata": {},
   "outputs": [
    {
     "data": {
      "image/png": "[encoded data removed]",
      "text/plain": [
       "<Figure size 1080x288 with 2 Axes>"
      ]
     },
     "metadata": {},
     "output_type": "display_data"
    }
   ],
   "source": [
    "actuals_np = actuals.detach().numpy()\n",
    "predictions_np = predictions2.detach().numpy()\n",
    "\n",
    "indexes = []\n",
    "preds = []\n",
    "trues = []\n",
    "\n",
    "for time_idx in range(actuals_np.shape[0]):\n",
    "    indexes.append(time_idx)\n",
    "    preds.append(predictions_np[time_idx][-1])\n",
    "    trues.append(actuals_np[time_idx][-1])\n",
    "\n",
    "sns.set_style('darkgrid')\n",
    "fig, (ax1, ax2) = plt.subplots(1, 2,figsize=(15,4), gridspec_kw={'width_ratios': [3, 2]})\n",
    "ax1.plot(indexes, preds, color='red', label='forecast')\n",
    "ax1.plot(indexes, trues, color='blue', label='ground truth')\n",
    "ax1.set_title(f\"Forecasts at max lead time ({lead_time} samples) - N-BEATS\")\n",
    "ax1.legend()\n",
    "\n",
    "start = 10\n",
    "ax2.plot(list(range(start,start+30)), actuals_np[start], color='blue', label='input')\n",
    "ax2.plot(list(range(start+30, start+60)), predictions_np[start], color='red', label='forecast')\n",
    "ax2.plot(list(range(start+30, start+60)), actuals_np[start+30], color='cornflowerblue', label='ground truth')\n",
    "ax2.set_title(f\"Individual example forecast - N-BEATS\")\n",
    "ax2.legend(loc='upper left')\n",
    "\n",
    "plt.show()"
   ]
  },
  {
   "cell_type": "code",
   "execution_count": null,
   "id": "understood-jason",
   "metadata": {},
   "outputs": [],
   "source": []
  }
 ],
 "metadata": {
  "kernelspec": {
   "display_name": "forecasting",
   "language": "python",
   "name": "forecasting"
  },
  "language_info": {
   "codemirror_mode": {
    "name": "ipython",
    "version": 3
   },
   "file_extension": ".py",
   "mimetype": "text/x-python",
   "name": "python",
   "nbconvert_exporter": "python",
   "pygments_lexer": "ipython3",
   "version": "3.8.0"
  }
 },
 "nbformat": 4,
 "nbformat_minor": 5
}
