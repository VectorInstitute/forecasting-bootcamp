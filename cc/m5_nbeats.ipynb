{
 "cells": [
  {
   "cell_type": "markdown",
   "id": "atlantic-tractor",
   "metadata": {},
   "source": [
    "# M5 Top Level Forecast with NBEATS\n",
    "\n",
    "This notebooks combines the work of loading M5 dataset and using NBEATS to forecast the top level sales.\n",
    "\n",
    "This notebook helps with loading and transforming the M5 dataset into higher-level, aggregate time series. M5, by default, is provided as a set of 30,490 individual time series. These correspond to individual product sales figures at individual Walmart stores. These time series can be naturally aggregated according to a hierarchy: \n",
    "\n",
    "<img src=\"https://www.artefact.com//wp-content/uploads/2021/03/Image-1-.png\"/>\n",
    "\n",
    "As we can see, the 30,490 time series correspond to sales figures for 3049 individual products across 10 stores. The products each belong to one of three product categories (Hobbies, Foods, and Household), which can be further broken down into a total of 7 product subcategories. The 10 stores each belong to one of three states (California, Texas, and Wisconsin). \n",
    "\n",
    "Other information are also provided as part of the M5 dataset, including product sell prices and a calendar of important events (e.g. holidays, relevant dates for [nutrition assistance programs](https://www.kaggle.com/c/m5-forecasting-accuracy/discussion/133614)).\n",
    "\n",
    "The following code has been adapted from this [repository](https://github.com/matthiasanderer/m5-accuracy-competition) for the official 2nd place M5 solution."
   ]
  },
  {
   "cell_type": "markdown",
   "id": "ordinary-chair",
   "metadata": {},
   "source": [
    "## Load data"
   ]
  },
  {
   "cell_type": "code",
   "execution_count": 1,
   "id": "industrial-parallel",
   "metadata": {},
   "outputs": [],
   "source": [
    "import pandas as pd"
   ]
  },
  {
   "cell_type": "code",
   "execution_count": 2,
   "id": "graduate-bibliography",
   "metadata": {},
   "outputs": [],
   "source": [
    "m5_input_path = \"/ssd003/projects/forecasting_bootcamp/bootcamp_datasets/m5-forecasting-accuracy\"\n",
    "sell_price = pd.read_csv(f'{m5_input_path}/sell_prices.csv')\n",
    "calendar = pd.read_csv(f'{m5_input_path}/calendar.csv')\n",
    "train = pd.read_csv(f'{m5_input_path}/sales_train_evaluation.csv').set_index('id')\n",
    "sample_sub = pd.read_csv(f'{m5_input_path}/sample_submission.csv')"
   ]
  },
  {
   "cell_type": "code",
   "execution_count": 3,
   "id": "arctic-sullivan",
   "metadata": {},
   "outputs": [
    {
     "data": {
      "text/html": [
       "<div>\n",
       "<style scoped>\n",
       "    .dataframe tbody tr th:only-of-type {\n",
       "        vertical-align: middle;\n",
       "    }\n",
       "\n",
       "    .dataframe tbody tr th {\n",
       "        vertical-align: top;\n",
       "    }\n",
       "\n",
       "    .dataframe thead th {\n",
       "        text-align: right;\n",
       "    }\n",
       "</style>\n",
       "<table border=\"1\" class=\"dataframe\">\n",
       "  <thead>\n",
       "    <tr style=\"text-align: right;\">\n",
       "      <th></th>\n",
       "      <th>store_id</th>\n",
       "      <th>item_id</th>\n",
       "      <th>wm_yr_wk</th>\n",
       "      <th>sell_price</th>\n",
       "    </tr>\n",
       "  </thead>\n",
       "  <tbody>\n",
       "    <tr>\n",
       "      <th>0</th>\n",
       "      <td>CA_1</td>\n",
       "      <td>HOBBIES_1_001</td>\n",
       "      <td>11325</td>\n",
       "      <td>9.58</td>\n",
       "    </tr>\n",
       "    <tr>\n",
       "      <th>1</th>\n",
       "      <td>CA_1</td>\n",
       "      <td>HOBBIES_1_001</td>\n",
       "      <td>11326</td>\n",
       "      <td>9.58</td>\n",
       "    </tr>\n",
       "    <tr>\n",
       "      <th>2</th>\n",
       "      <td>CA_1</td>\n",
       "      <td>HOBBIES_1_001</td>\n",
       "      <td>11327</td>\n",
       "      <td>8.26</td>\n",
       "    </tr>\n",
       "    <tr>\n",
       "      <th>3</th>\n",
       "      <td>CA_1</td>\n",
       "      <td>HOBBIES_1_001</td>\n",
       "      <td>11328</td>\n",
       "      <td>8.26</td>\n",
       "    </tr>\n",
       "    <tr>\n",
       "      <th>4</th>\n",
       "      <td>CA_1</td>\n",
       "      <td>HOBBIES_1_001</td>\n",
       "      <td>11329</td>\n",
       "      <td>8.26</td>\n",
       "    </tr>\n",
       "  </tbody>\n",
       "</table>\n",
       "</div>"
      ],
      "text/plain": [
       "  store_id        item_id  wm_yr_wk  sell_price\n",
       "0     CA_1  HOBBIES_1_001     11325        9.58\n",
       "1     CA_1  HOBBIES_1_001     11326        9.58\n",
       "2     CA_1  HOBBIES_1_001     11327        8.26\n",
       "3     CA_1  HOBBIES_1_001     11328        8.26\n",
       "4     CA_1  HOBBIES_1_001     11329        8.26"
      ]
     },
     "execution_count": 3,
     "metadata": {},
     "output_type": "execute_result"
    }
   ],
   "source": [
    "sell_price.head()"
   ]
  },
  {
   "cell_type": "code",
   "execution_count": 4,
   "id": "unnecessary-conditions",
   "metadata": {},
   "outputs": [
    {
     "data": {
      "text/html": [
       "<div>\n",
       "<style scoped>\n",
       "    .dataframe tbody tr th:only-of-type {\n",
       "        vertical-align: middle;\n",
       "    }\n",
       "\n",
       "    .dataframe tbody tr th {\n",
       "        vertical-align: top;\n",
       "    }\n",
       "\n",
       "    .dataframe thead th {\n",
       "        text-align: right;\n",
       "    }\n",
       "</style>\n",
       "<table border=\"1\" class=\"dataframe\">\n",
       "  <thead>\n",
       "    <tr style=\"text-align: right;\">\n",
       "      <th></th>\n",
       "      <th>date</th>\n",
       "      <th>wm_yr_wk</th>\n",
       "      <th>weekday</th>\n",
       "      <th>wday</th>\n",
       "      <th>month</th>\n",
       "      <th>year</th>\n",
       "      <th>d</th>\n",
       "      <th>event_name_1</th>\n",
       "      <th>event_type_1</th>\n",
       "      <th>event_name_2</th>\n",
       "      <th>event_type_2</th>\n",
       "      <th>snap_CA</th>\n",
       "      <th>snap_TX</th>\n",
       "      <th>snap_WI</th>\n",
       "    </tr>\n",
       "  </thead>\n",
       "  <tbody>\n",
       "    <tr>\n",
       "      <th>0</th>\n",
       "      <td>2011-01-29</td>\n",
       "      <td>11101</td>\n",
       "      <td>Saturday</td>\n",
       "      <td>1</td>\n",
       "      <td>1</td>\n",
       "      <td>2011</td>\n",
       "      <td>d_1</td>\n",
       "      <td>NaN</td>\n",
       "      <td>NaN</td>\n",
       "      <td>NaN</td>\n",
       "      <td>NaN</td>\n",
       "      <td>0</td>\n",
       "      <td>0</td>\n",
       "      <td>0</td>\n",
       "    </tr>\n",
       "    <tr>\n",
       "      <th>1</th>\n",
       "      <td>2011-01-30</td>\n",
       "      <td>11101</td>\n",
       "      <td>Sunday</td>\n",
       "      <td>2</td>\n",
       "      <td>1</td>\n",
       "      <td>2011</td>\n",
       "      <td>d_2</td>\n",
       "      <td>NaN</td>\n",
       "      <td>NaN</td>\n",
       "      <td>NaN</td>\n",
       "      <td>NaN</td>\n",
       "      <td>0</td>\n",
       "      <td>0</td>\n",
       "      <td>0</td>\n",
       "    </tr>\n",
       "    <tr>\n",
       "      <th>2</th>\n",
       "      <td>2011-01-31</td>\n",
       "      <td>11101</td>\n",
       "      <td>Monday</td>\n",
       "      <td>3</td>\n",
       "      <td>1</td>\n",
       "      <td>2011</td>\n",
       "      <td>d_3</td>\n",
       "      <td>NaN</td>\n",
       "      <td>NaN</td>\n",
       "      <td>NaN</td>\n",
       "      <td>NaN</td>\n",
       "      <td>0</td>\n",
       "      <td>0</td>\n",
       "      <td>0</td>\n",
       "    </tr>\n",
       "    <tr>\n",
       "      <th>3</th>\n",
       "      <td>2011-02-01</td>\n",
       "      <td>11101</td>\n",
       "      <td>Tuesday</td>\n",
       "      <td>4</td>\n",
       "      <td>2</td>\n",
       "      <td>2011</td>\n",
       "      <td>d_4</td>\n",
       "      <td>NaN</td>\n",
       "      <td>NaN</td>\n",
       "      <td>NaN</td>\n",
       "      <td>NaN</td>\n",
       "      <td>1</td>\n",
       "      <td>1</td>\n",
       "      <td>0</td>\n",
       "    </tr>\n",
       "    <tr>\n",
       "      <th>4</th>\n",
       "      <td>2011-02-02</td>\n",
       "      <td>11101</td>\n",
       "      <td>Wednesday</td>\n",
       "      <td>5</td>\n",
       "      <td>2</td>\n",
       "      <td>2011</td>\n",
       "      <td>d_5</td>\n",
       "      <td>NaN</td>\n",
       "      <td>NaN</td>\n",
       "      <td>NaN</td>\n",
       "      <td>NaN</td>\n",
       "      <td>1</td>\n",
       "      <td>0</td>\n",
       "      <td>1</td>\n",
       "    </tr>\n",
       "  </tbody>\n",
       "</table>\n",
       "</div>"
      ],
      "text/plain": [
       "         date  wm_yr_wk    weekday  wday  month  year    d event_name_1  \\\n",
       "0  2011-01-29     11101   Saturday     1      1  2011  d_1          NaN   \n",
       "1  2011-01-30     11101     Sunday     2      1  2011  d_2          NaN   \n",
       "2  2011-01-31     11101     Monday     3      1  2011  d_3          NaN   \n",
       "3  2011-02-01     11101    Tuesday     4      2  2011  d_4          NaN   \n",
       "4  2011-02-02     11101  Wednesday     5      2  2011  d_5          NaN   \n",
       "\n",
       "  event_type_1 event_name_2 event_type_2  snap_CA  snap_TX  snap_WI  \n",
       "0          NaN          NaN          NaN        0        0        0  \n",
       "1          NaN          NaN          NaN        0        0        0  \n",
       "2          NaN          NaN          NaN        0        0        0  \n",
       "3          NaN          NaN          NaN        1        1        0  \n",
       "4          NaN          NaN          NaN        1        0        1  "
      ]
     },
     "execution_count": 4,
     "metadata": {},
     "output_type": "execute_result"
    }
   ],
   "source": [
    "calendar.head()"
   ]
  },
  {
   "cell_type": "code",
   "execution_count": 5,
   "id": "silver-anthropology",
   "metadata": {},
   "outputs": [
    {
     "data": {
      "text/html": [
       "<div>\n",
       "<style scoped>\n",
       "    .dataframe tbody tr th:only-of-type {\n",
       "        vertical-align: middle;\n",
       "    }\n",
       "\n",
       "    .dataframe tbody tr th {\n",
       "        vertical-align: top;\n",
       "    }\n",
       "\n",
       "    .dataframe thead th {\n",
       "        text-align: right;\n",
       "    }\n",
       "</style>\n",
       "<table border=\"1\" class=\"dataframe\">\n",
       "  <thead>\n",
       "    <tr style=\"text-align: right;\">\n",
       "      <th></th>\n",
       "      <th>item_id</th>\n",
       "      <th>dept_id</th>\n",
       "      <th>cat_id</th>\n",
       "      <th>store_id</th>\n",
       "      <th>state_id</th>\n",
       "      <th>d_1</th>\n",
       "      <th>d_2</th>\n",
       "      <th>d_3</th>\n",
       "      <th>d_4</th>\n",
       "      <th>d_5</th>\n",
       "      <th>...</th>\n",
       "      <th>d_1932</th>\n",
       "      <th>d_1933</th>\n",
       "      <th>d_1934</th>\n",
       "      <th>d_1935</th>\n",
       "      <th>d_1936</th>\n",
       "      <th>d_1937</th>\n",
       "      <th>d_1938</th>\n",
       "      <th>d_1939</th>\n",
       "      <th>d_1940</th>\n",
       "      <th>d_1941</th>\n",
       "    </tr>\n",
       "    <tr>\n",
       "      <th>id</th>\n",
       "      <th></th>\n",
       "      <th></th>\n",
       "      <th></th>\n",
       "      <th></th>\n",
       "      <th></th>\n",
       "      <th></th>\n",
       "      <th></th>\n",
       "      <th></th>\n",
       "      <th></th>\n",
       "      <th></th>\n",
       "      <th></th>\n",
       "      <th></th>\n",
       "      <th></th>\n",
       "      <th></th>\n",
       "      <th></th>\n",
       "      <th></th>\n",
       "      <th></th>\n",
       "      <th></th>\n",
       "      <th></th>\n",
       "      <th></th>\n",
       "      <th></th>\n",
       "    </tr>\n",
       "  </thead>\n",
       "  <tbody>\n",
       "    <tr>\n",
       "      <th>HOBBIES_1_001_CA_1_evaluation</th>\n",
       "      <td>HOBBIES_1_001</td>\n",
       "      <td>HOBBIES_1</td>\n",
       "      <td>HOBBIES</td>\n",
       "      <td>CA_1</td>\n",
       "      <td>CA</td>\n",
       "      <td>0</td>\n",
       "      <td>0</td>\n",
       "      <td>0</td>\n",
       "      <td>0</td>\n",
       "      <td>0</td>\n",
       "      <td>...</td>\n",
       "      <td>2</td>\n",
       "      <td>4</td>\n",
       "      <td>0</td>\n",
       "      <td>0</td>\n",
       "      <td>0</td>\n",
       "      <td>0</td>\n",
       "      <td>3</td>\n",
       "      <td>3</td>\n",
       "      <td>0</td>\n",
       "      <td>1</td>\n",
       "    </tr>\n",
       "    <tr>\n",
       "      <th>HOBBIES_1_002_CA_1_evaluation</th>\n",
       "      <td>HOBBIES_1_002</td>\n",
       "      <td>HOBBIES_1</td>\n",
       "      <td>HOBBIES</td>\n",
       "      <td>CA_1</td>\n",
       "      <td>CA</td>\n",
       "      <td>0</td>\n",
       "      <td>0</td>\n",
       "      <td>0</td>\n",
       "      <td>0</td>\n",
       "      <td>0</td>\n",
       "      <td>...</td>\n",
       "      <td>0</td>\n",
       "      <td>1</td>\n",
       "      <td>2</td>\n",
       "      <td>1</td>\n",
       "      <td>1</td>\n",
       "      <td>0</td>\n",
       "      <td>0</td>\n",
       "      <td>0</td>\n",
       "      <td>0</td>\n",
       "      <td>0</td>\n",
       "    </tr>\n",
       "    <tr>\n",
       "      <th>HOBBIES_1_003_CA_1_evaluation</th>\n",
       "      <td>HOBBIES_1_003</td>\n",
       "      <td>HOBBIES_1</td>\n",
       "      <td>HOBBIES</td>\n",
       "      <td>CA_1</td>\n",
       "      <td>CA</td>\n",
       "      <td>0</td>\n",
       "      <td>0</td>\n",
       "      <td>0</td>\n",
       "      <td>0</td>\n",
       "      <td>0</td>\n",
       "      <td>...</td>\n",
       "      <td>1</td>\n",
       "      <td>0</td>\n",
       "      <td>2</td>\n",
       "      <td>0</td>\n",
       "      <td>0</td>\n",
       "      <td>0</td>\n",
       "      <td>2</td>\n",
       "      <td>3</td>\n",
       "      <td>0</td>\n",
       "      <td>1</td>\n",
       "    </tr>\n",
       "    <tr>\n",
       "      <th>HOBBIES_1_004_CA_1_evaluation</th>\n",
       "      <td>HOBBIES_1_004</td>\n",
       "      <td>HOBBIES_1</td>\n",
       "      <td>HOBBIES</td>\n",
       "      <td>CA_1</td>\n",
       "      <td>CA</td>\n",
       "      <td>0</td>\n",
       "      <td>0</td>\n",
       "      <td>0</td>\n",
       "      <td>0</td>\n",
       "      <td>0</td>\n",
       "      <td>...</td>\n",
       "      <td>1</td>\n",
       "      <td>1</td>\n",
       "      <td>0</td>\n",
       "      <td>4</td>\n",
       "      <td>0</td>\n",
       "      <td>1</td>\n",
       "      <td>3</td>\n",
       "      <td>0</td>\n",
       "      <td>2</td>\n",
       "      <td>6</td>\n",
       "    </tr>\n",
       "    <tr>\n",
       "      <th>HOBBIES_1_005_CA_1_evaluation</th>\n",
       "      <td>HOBBIES_1_005</td>\n",
       "      <td>HOBBIES_1</td>\n",
       "      <td>HOBBIES</td>\n",
       "      <td>CA_1</td>\n",
       "      <td>CA</td>\n",
       "      <td>0</td>\n",
       "      <td>0</td>\n",
       "      <td>0</td>\n",
       "      <td>0</td>\n",
       "      <td>0</td>\n",
       "      <td>...</td>\n",
       "      <td>0</td>\n",
       "      <td>0</td>\n",
       "      <td>0</td>\n",
       "      <td>2</td>\n",
       "      <td>1</td>\n",
       "      <td>0</td>\n",
       "      <td>0</td>\n",
       "      <td>2</td>\n",
       "      <td>1</td>\n",
       "      <td>0</td>\n",
       "    </tr>\n",
       "  </tbody>\n",
       "</table>\n",
       "<p>5 rows × 1946 columns</p>\n",
       "</div>"
      ],
      "text/plain": [
       "                                     item_id    dept_id   cat_id store_id  \\\n",
       "id                                                                          \n",
       "HOBBIES_1_001_CA_1_evaluation  HOBBIES_1_001  HOBBIES_1  HOBBIES     CA_1   \n",
       "HOBBIES_1_002_CA_1_evaluation  HOBBIES_1_002  HOBBIES_1  HOBBIES     CA_1   \n",
       "HOBBIES_1_003_CA_1_evaluation  HOBBIES_1_003  HOBBIES_1  HOBBIES     CA_1   \n",
       "HOBBIES_1_004_CA_1_evaluation  HOBBIES_1_004  HOBBIES_1  HOBBIES     CA_1   \n",
       "HOBBIES_1_005_CA_1_evaluation  HOBBIES_1_005  HOBBIES_1  HOBBIES     CA_1   \n",
       "\n",
       "                              state_id  d_1  d_2  d_3  d_4  d_5  ...  d_1932  \\\n",
       "id                                                               ...           \n",
       "HOBBIES_1_001_CA_1_evaluation       CA    0    0    0    0    0  ...       2   \n",
       "HOBBIES_1_002_CA_1_evaluation       CA    0    0    0    0    0  ...       0   \n",
       "HOBBIES_1_003_CA_1_evaluation       CA    0    0    0    0    0  ...       1   \n",
       "HOBBIES_1_004_CA_1_evaluation       CA    0    0    0    0    0  ...       1   \n",
       "HOBBIES_1_005_CA_1_evaluation       CA    0    0    0    0    0  ...       0   \n",
       "\n",
       "                               d_1933  d_1934  d_1935  d_1936  d_1937  d_1938  \\\n",
       "id                                                                              \n",
       "HOBBIES_1_001_CA_1_evaluation       4       0       0       0       0       3   \n",
       "HOBBIES_1_002_CA_1_evaluation       1       2       1       1       0       0   \n",
       "HOBBIES_1_003_CA_1_evaluation       0       2       0       0       0       2   \n",
       "HOBBIES_1_004_CA_1_evaluation       1       0       4       0       1       3   \n",
       "HOBBIES_1_005_CA_1_evaluation       0       0       2       1       0       0   \n",
       "\n",
       "                               d_1939  d_1940  d_1941  \n",
       "id                                                     \n",
       "HOBBIES_1_001_CA_1_evaluation       3       0       1  \n",
       "HOBBIES_1_002_CA_1_evaluation       0       0       0  \n",
       "HOBBIES_1_003_CA_1_evaluation       3       0       1  \n",
       "HOBBIES_1_004_CA_1_evaluation       0       2       6  \n",
       "HOBBIES_1_005_CA_1_evaluation       2       1       0  \n",
       "\n",
       "[5 rows x 1946 columns]"
      ]
     },
     "execution_count": 5,
     "metadata": {},
     "output_type": "execute_result"
    }
   ],
   "source": [
    "train.head()"
   ]
  },
  {
   "cell_type": "code",
   "execution_count": 6,
   "id": "graduate-franchise",
   "metadata": {},
   "outputs": [
    {
     "data": {
      "text/plain": [
       "(30490, 1946)"
      ]
     },
     "execution_count": 6,
     "metadata": {},
     "output_type": "execute_result"
    }
   ],
   "source": [
    "train.shape"
   ]
  },
  {
   "cell_type": "code",
   "execution_count": 7,
   "id": "painted-house",
   "metadata": {},
   "outputs": [
    {
     "data": {
      "text/html": [
       "<div>\n",
       "<style scoped>\n",
       "    .dataframe tbody tr th:only-of-type {\n",
       "        vertical-align: middle;\n",
       "    }\n",
       "\n",
       "    .dataframe tbody tr th {\n",
       "        vertical-align: top;\n",
       "    }\n",
       "\n",
       "    .dataframe thead th {\n",
       "        text-align: right;\n",
       "    }\n",
       "</style>\n",
       "<table border=\"1\" class=\"dataframe\">\n",
       "  <thead>\n",
       "    <tr style=\"text-align: right;\">\n",
       "      <th></th>\n",
       "      <th>id</th>\n",
       "      <th>F1</th>\n",
       "      <th>F2</th>\n",
       "      <th>F3</th>\n",
       "      <th>F4</th>\n",
       "      <th>F5</th>\n",
       "      <th>F6</th>\n",
       "      <th>F7</th>\n",
       "      <th>F8</th>\n",
       "      <th>F9</th>\n",
       "      <th>...</th>\n",
       "      <th>F19</th>\n",
       "      <th>F20</th>\n",
       "      <th>F21</th>\n",
       "      <th>F22</th>\n",
       "      <th>F23</th>\n",
       "      <th>F24</th>\n",
       "      <th>F25</th>\n",
       "      <th>F26</th>\n",
       "      <th>F27</th>\n",
       "      <th>F28</th>\n",
       "    </tr>\n",
       "  </thead>\n",
       "  <tbody>\n",
       "    <tr>\n",
       "      <th>0</th>\n",
       "      <td>HOBBIES_1_001_CA_1_validation</td>\n",
       "      <td>0</td>\n",
       "      <td>0</td>\n",
       "      <td>0</td>\n",
       "      <td>0</td>\n",
       "      <td>0</td>\n",
       "      <td>0</td>\n",
       "      <td>0</td>\n",
       "      <td>0</td>\n",
       "      <td>0</td>\n",
       "      <td>...</td>\n",
       "      <td>0</td>\n",
       "      <td>0</td>\n",
       "      <td>0</td>\n",
       "      <td>0</td>\n",
       "      <td>0</td>\n",
       "      <td>0</td>\n",
       "      <td>0</td>\n",
       "      <td>0</td>\n",
       "      <td>0</td>\n",
       "      <td>0</td>\n",
       "    </tr>\n",
       "    <tr>\n",
       "      <th>1</th>\n",
       "      <td>HOBBIES_1_002_CA_1_validation</td>\n",
       "      <td>0</td>\n",
       "      <td>0</td>\n",
       "      <td>0</td>\n",
       "      <td>0</td>\n",
       "      <td>0</td>\n",
       "      <td>0</td>\n",
       "      <td>0</td>\n",
       "      <td>0</td>\n",
       "      <td>0</td>\n",
       "      <td>...</td>\n",
       "      <td>0</td>\n",
       "      <td>0</td>\n",
       "      <td>0</td>\n",
       "      <td>0</td>\n",
       "      <td>0</td>\n",
       "      <td>0</td>\n",
       "      <td>0</td>\n",
       "      <td>0</td>\n",
       "      <td>0</td>\n",
       "      <td>0</td>\n",
       "    </tr>\n",
       "    <tr>\n",
       "      <th>2</th>\n",
       "      <td>HOBBIES_1_003_CA_1_validation</td>\n",
       "      <td>0</td>\n",
       "      <td>0</td>\n",
       "      <td>0</td>\n",
       "      <td>0</td>\n",
       "      <td>0</td>\n",
       "      <td>0</td>\n",
       "      <td>0</td>\n",
       "      <td>0</td>\n",
       "      <td>0</td>\n",
       "      <td>...</td>\n",
       "      <td>0</td>\n",
       "      <td>0</td>\n",
       "      <td>0</td>\n",
       "      <td>0</td>\n",
       "      <td>0</td>\n",
       "      <td>0</td>\n",
       "      <td>0</td>\n",
       "      <td>0</td>\n",
       "      <td>0</td>\n",
       "      <td>0</td>\n",
       "    </tr>\n",
       "    <tr>\n",
       "      <th>3</th>\n",
       "      <td>HOBBIES_1_004_CA_1_validation</td>\n",
       "      <td>0</td>\n",
       "      <td>0</td>\n",
       "      <td>0</td>\n",
       "      <td>0</td>\n",
       "      <td>0</td>\n",
       "      <td>0</td>\n",
       "      <td>0</td>\n",
       "      <td>0</td>\n",
       "      <td>0</td>\n",
       "      <td>...</td>\n",
       "      <td>0</td>\n",
       "      <td>0</td>\n",
       "      <td>0</td>\n",
       "      <td>0</td>\n",
       "      <td>0</td>\n",
       "      <td>0</td>\n",
       "      <td>0</td>\n",
       "      <td>0</td>\n",
       "      <td>0</td>\n",
       "      <td>0</td>\n",
       "    </tr>\n",
       "    <tr>\n",
       "      <th>4</th>\n",
       "      <td>HOBBIES_1_005_CA_1_validation</td>\n",
       "      <td>0</td>\n",
       "      <td>0</td>\n",
       "      <td>0</td>\n",
       "      <td>0</td>\n",
       "      <td>0</td>\n",
       "      <td>0</td>\n",
       "      <td>0</td>\n",
       "      <td>0</td>\n",
       "      <td>0</td>\n",
       "      <td>...</td>\n",
       "      <td>0</td>\n",
       "      <td>0</td>\n",
       "      <td>0</td>\n",
       "      <td>0</td>\n",
       "      <td>0</td>\n",
       "      <td>0</td>\n",
       "      <td>0</td>\n",
       "      <td>0</td>\n",
       "      <td>0</td>\n",
       "      <td>0</td>\n",
       "    </tr>\n",
       "  </tbody>\n",
       "</table>\n",
       "<p>5 rows × 29 columns</p>\n",
       "</div>"
      ],
      "text/plain": [
       "                              id  F1  F2  F3  F4  F5  F6  F7  F8  F9  ...  \\\n",
       "0  HOBBIES_1_001_CA_1_validation   0   0   0   0   0   0   0   0   0  ...   \n",
       "1  HOBBIES_1_002_CA_1_validation   0   0   0   0   0   0   0   0   0  ...   \n",
       "2  HOBBIES_1_003_CA_1_validation   0   0   0   0   0   0   0   0   0  ...   \n",
       "3  HOBBIES_1_004_CA_1_validation   0   0   0   0   0   0   0   0   0  ...   \n",
       "4  HOBBIES_1_005_CA_1_validation   0   0   0   0   0   0   0   0   0  ...   \n",
       "\n",
       "   F19  F20  F21  F22  F23  F24  F25  F26  F27  F28  \n",
       "0    0    0    0    0    0    0    0    0    0    0  \n",
       "1    0    0    0    0    0    0    0    0    0    0  \n",
       "2    0    0    0    0    0    0    0    0    0    0  \n",
       "3    0    0    0    0    0    0    0    0    0    0  \n",
       "4    0    0    0    0    0    0    0    0    0    0  \n",
       "\n",
       "[5 rows x 29 columns]"
      ]
     },
     "execution_count": 7,
     "metadata": {},
     "output_type": "execute_result"
    }
   ],
   "source": [
    "sample_sub.head()"
   ]
  },
  {
   "cell_type": "code",
   "execution_count": null,
   "id": "listed-ecology",
   "metadata": {},
   "outputs": [],
   "source": []
  },
  {
   "cell_type": "markdown",
   "id": "sharing-target",
   "metadata": {},
   "source": [
    "## Build aggregate dataset"
   ]
  },
  {
   "cell_type": "code",
   "execution_count": 8,
   "id": "natural-fundamental",
   "metadata": {},
   "outputs": [
    {
     "name": "stdout",
     "output_type": "stream",
     "text": [
      "  unique forecasts: 30490\n",
      "   N_unique item_id: 3049\n",
      "   N_unique dept_id: 7\n",
      "   N_unique cat_id: 3\n",
      "   N_unique store_id: 10\n",
      "   N_unique state_id: 3\n"
     ]
    }
   ],
   "source": [
    "# Get column groups\n",
    "cat_cols = ['item_id', 'dept_id', 'cat_id', 'store_id', 'state_id']\n",
    "ts_cols = [col for col in train.columns if col not in cat_cols]\n",
    "ts_dict = {t: int(t[2:]) for t in ts_cols}\n",
    "\n",
    "# Describe data\n",
    "print('  unique forecasts: %i' % train.shape[0])\n",
    "for col in cat_cols:\n",
    "    print('   N_unique %s: %i' % (col, train[col].nunique()))"
   ]
  },
  {
   "cell_type": "code",
   "execution_count": 9,
   "id": "useful-entrance",
   "metadata": {},
   "outputs": [
    {
     "name": "stdout",
     "output_type": "stream",
     "text": [
      "CPU times: user 125 ms, sys: 139 ms, total: 264 ms\n",
      "Wall time: 259 ms\n"
     ]
    },
    {
     "data": {
      "text/html": [
       "<div>\n",
       "<style scoped>\n",
       "    .dataframe tbody tr th:only-of-type {\n",
       "        vertical-align: middle;\n",
       "    }\n",
       "\n",
       "    .dataframe tbody tr th {\n",
       "        vertical-align: top;\n",
       "    }\n",
       "\n",
       "    .dataframe thead th {\n",
       "        text-align: right;\n",
       "    }\n",
       "</style>\n",
       "<table border=\"1\" class=\"dataframe\">\n",
       "  <thead>\n",
       "    <tr style=\"text-align: right;\">\n",
       "      <th></th>\n",
       "      <th>id_str</th>\n",
       "      <th>d_1</th>\n",
       "      <th>d_2</th>\n",
       "      <th>d_3</th>\n",
       "      <th>d_4</th>\n",
       "      <th>d_5</th>\n",
       "      <th>d_6</th>\n",
       "      <th>d_7</th>\n",
       "      <th>d_8</th>\n",
       "      <th>d_9</th>\n",
       "      <th>...</th>\n",
       "      <th>d_1932</th>\n",
       "      <th>d_1933</th>\n",
       "      <th>d_1934</th>\n",
       "      <th>d_1935</th>\n",
       "      <th>d_1936</th>\n",
       "      <th>d_1937</th>\n",
       "      <th>d_1938</th>\n",
       "      <th>d_1939</th>\n",
       "      <th>d_1940</th>\n",
       "      <th>d_1941</th>\n",
       "    </tr>\n",
       "  </thead>\n",
       "  <tbody>\n",
       "    <tr>\n",
       "      <th>0</th>\n",
       "      <td>all</td>\n",
       "      <td>32631</td>\n",
       "      <td>31749</td>\n",
       "      <td>23783</td>\n",
       "      <td>25412</td>\n",
       "      <td>19146</td>\n",
       "      <td>29211</td>\n",
       "      <td>28010</td>\n",
       "      <td>37932</td>\n",
       "      <td>32736</td>\n",
       "      <td>...</td>\n",
       "      <td>44073</td>\n",
       "      <td>54308</td>\n",
       "      <td>59921</td>\n",
       "      <td>42362</td>\n",
       "      <td>38777</td>\n",
       "      <td>37096</td>\n",
       "      <td>36963</td>\n",
       "      <td>42552</td>\n",
       "      <td>51518</td>\n",
       "      <td>54338</td>\n",
       "    </tr>\n",
       "  </tbody>\n",
       "</table>\n",
       "<p>1 rows × 1942 columns</p>\n",
       "</div>"
      ],
      "text/plain": [
       "  id_str    d_1    d_2    d_3    d_4    d_5    d_6    d_7    d_8    d_9  ...  \\\n",
       "0    all  32631  31749  23783  25412  19146  29211  28010  37932  32736  ...   \n",
       "\n",
       "   d_1932  d_1933  d_1934  d_1935  d_1936  d_1937  d_1938  d_1939  d_1940  \\\n",
       "0   44073   54308   59921   42362   38777   37096   36963   42552   51518   \n",
       "\n",
       "   d_1941  \n",
       "0   54338  \n",
       "\n",
       "[1 rows x 1942 columns]"
      ]
     },
     "execution_count": 9,
     "metadata": {},
     "output_type": "execute_result"
    }
   ],
   "source": [
    "%%time\n",
    "# 1. All products, all stores, all states (1 series)\n",
    "all_sales = pd.DataFrame(train[ts_cols].sum()).transpose()\n",
    "all_sales['id_str'] = 'all'\n",
    "all_sales = all_sales[ ['id_str'] +  [c for c in all_sales if c not in ['id_str']] ]\n",
    "all_sales"
   ]
  },
  {
   "cell_type": "code",
   "execution_count": 10,
   "id": "weird-today",
   "metadata": {},
   "outputs": [
    {
     "name": "stdout",
     "output_type": "stream",
     "text": [
      "CPU times: user 668 ms, sys: 544 ms, total: 1.21 s\n",
      "Wall time: 1.21 s\n"
     ]
    },
    {
     "data": {
      "text/html": [
       "<div>\n",
       "<style scoped>\n",
       "    .dataframe tbody tr th:only-of-type {\n",
       "        vertical-align: middle;\n",
       "    }\n",
       "\n",
       "    .dataframe tbody tr th {\n",
       "        vertical-align: top;\n",
       "    }\n",
       "\n",
       "    .dataframe thead th {\n",
       "        text-align: right;\n",
       "    }\n",
       "</style>\n",
       "<table border=\"1\" class=\"dataframe\">\n",
       "  <thead>\n",
       "    <tr style=\"text-align: right;\">\n",
       "      <th></th>\n",
       "      <th>id_str</th>\n",
       "      <th>d_1</th>\n",
       "      <th>d_2</th>\n",
       "      <th>d_3</th>\n",
       "      <th>d_4</th>\n",
       "      <th>d_5</th>\n",
       "      <th>d_6</th>\n",
       "      <th>d_7</th>\n",
       "      <th>d_8</th>\n",
       "      <th>d_9</th>\n",
       "      <th>...</th>\n",
       "      <th>d_1932</th>\n",
       "      <th>d_1933</th>\n",
       "      <th>d_1934</th>\n",
       "      <th>d_1935</th>\n",
       "      <th>d_1936</th>\n",
       "      <th>d_1937</th>\n",
       "      <th>d_1938</th>\n",
       "      <th>d_1939</th>\n",
       "      <th>d_1940</th>\n",
       "      <th>d_1941</th>\n",
       "    </tr>\n",
       "  </thead>\n",
       "  <tbody>\n",
       "    <tr>\n",
       "      <th>0</th>\n",
       "      <td>CA</td>\n",
       "      <td>14195</td>\n",
       "      <td>13805</td>\n",
       "      <td>10108</td>\n",
       "      <td>11047</td>\n",
       "      <td>9925</td>\n",
       "      <td>11322</td>\n",
       "      <td>12251</td>\n",
       "      <td>16610</td>\n",
       "      <td>14696</td>\n",
       "      <td>...</td>\n",
       "      <td>18471</td>\n",
       "      <td>23037</td>\n",
       "      <td>24704</td>\n",
       "      <td>17721</td>\n",
       "      <td>16150</td>\n",
       "      <td>15678</td>\n",
       "      <td>16297</td>\n",
       "      <td>17430</td>\n",
       "      <td>23103</td>\n",
       "      <td>24644</td>\n",
       "    </tr>\n",
       "    <tr>\n",
       "      <th>1</th>\n",
       "      <td>TX</td>\n",
       "      <td>9438</td>\n",
       "      <td>9630</td>\n",
       "      <td>6778</td>\n",
       "      <td>7381</td>\n",
       "      <td>5912</td>\n",
       "      <td>9006</td>\n",
       "      <td>6226</td>\n",
       "      <td>9440</td>\n",
       "      <td>9376</td>\n",
       "      <td>...</td>\n",
       "      <td>12320</td>\n",
       "      <td>12366</td>\n",
       "      <td>16249</td>\n",
       "      <td>12228</td>\n",
       "      <td>11370</td>\n",
       "      <td>10375</td>\n",
       "      <td>9162</td>\n",
       "      <td>12303</td>\n",
       "      <td>13681</td>\n",
       "      <td>14815</td>\n",
       "    </tr>\n",
       "    <tr>\n",
       "      <th>2</th>\n",
       "      <td>WI</td>\n",
       "      <td>8998</td>\n",
       "      <td>8314</td>\n",
       "      <td>6897</td>\n",
       "      <td>6984</td>\n",
       "      <td>3309</td>\n",
       "      <td>8883</td>\n",
       "      <td>9533</td>\n",
       "      <td>11882</td>\n",
       "      <td>8664</td>\n",
       "      <td>...</td>\n",
       "      <td>13282</td>\n",
       "      <td>18905</td>\n",
       "      <td>18968</td>\n",
       "      <td>12413</td>\n",
       "      <td>11257</td>\n",
       "      <td>11043</td>\n",
       "      <td>11504</td>\n",
       "      <td>12819</td>\n",
       "      <td>14734</td>\n",
       "      <td>14879</td>\n",
       "    </tr>\n",
       "  </tbody>\n",
       "</table>\n",
       "<p>3 rows × 1942 columns</p>\n",
       "</div>"
      ],
      "text/plain": [
       "  id_str    d_1    d_2    d_3    d_4   d_5    d_6    d_7    d_8    d_9  ...  \\\n",
       "0     CA  14195  13805  10108  11047  9925  11322  12251  16610  14696  ...   \n",
       "1     TX   9438   9630   6778   7381  5912   9006   6226   9440   9376  ...   \n",
       "2     WI   8998   8314   6897   6984  3309   8883   9533  11882   8664  ...   \n",
       "\n",
       "   d_1932  d_1933  d_1934  d_1935  d_1936  d_1937  d_1938  d_1939  d_1940  \\\n",
       "0   18471   23037   24704   17721   16150   15678   16297   17430   23103   \n",
       "1   12320   12366   16249   12228   11370   10375    9162   12303   13681   \n",
       "2   13282   18905   18968   12413   11257   11043   11504   12819   14734   \n",
       "\n",
       "   d_1941  \n",
       "0   24644  \n",
       "1   14815  \n",
       "2   14879  \n",
       "\n",
       "[3 rows x 1942 columns]"
      ]
     },
     "execution_count": 10,
     "metadata": {},
     "output_type": "execute_result"
    }
   ],
   "source": [
    "%%time\n",
    "# 2. All products by state (3 series)\n",
    "state_sales = train.groupby('state_id',as_index=False)[ts_cols].sum()\n",
    "state_sales['id_str'] = state_sales['state_id'] \n",
    "state_sales = state_sales[ ['id_str'] +  [c for c in state_sales if c not in ['id_str']] ]\n",
    "state_sales = state_sales.drop(['state_id'],axis=1)\n",
    "state_sales"
   ]
  },
  {
   "cell_type": "code",
   "execution_count": 11,
   "id": "blind-england",
   "metadata": {},
   "outputs": [
    {
     "name": "stdout",
     "output_type": "stream",
     "text": [
      "CPU times: user 662 ms, sys: 274 ms, total: 936 ms\n",
      "Wall time: 930 ms\n"
     ]
    },
    {
     "data": {
      "text/html": [
       "<div>\n",
       "<style scoped>\n",
       "    .dataframe tbody tr th:only-of-type {\n",
       "        vertical-align: middle;\n",
       "    }\n",
       "\n",
       "    .dataframe tbody tr th {\n",
       "        vertical-align: top;\n",
       "    }\n",
       "\n",
       "    .dataframe thead th {\n",
       "        text-align: right;\n",
       "    }\n",
       "</style>\n",
       "<table border=\"1\" class=\"dataframe\">\n",
       "  <thead>\n",
       "    <tr style=\"text-align: right;\">\n",
       "      <th></th>\n",
       "      <th>id_str</th>\n",
       "      <th>d_1</th>\n",
       "      <th>d_2</th>\n",
       "      <th>d_3</th>\n",
       "      <th>d_4</th>\n",
       "      <th>d_5</th>\n",
       "      <th>d_6</th>\n",
       "      <th>d_7</th>\n",
       "      <th>d_8</th>\n",
       "      <th>d_9</th>\n",
       "      <th>...</th>\n",
       "      <th>d_1932</th>\n",
       "      <th>d_1933</th>\n",
       "      <th>d_1934</th>\n",
       "      <th>d_1935</th>\n",
       "      <th>d_1936</th>\n",
       "      <th>d_1937</th>\n",
       "      <th>d_1938</th>\n",
       "      <th>d_1939</th>\n",
       "      <th>d_1940</th>\n",
       "      <th>d_1941</th>\n",
       "    </tr>\n",
       "  </thead>\n",
       "  <tbody>\n",
       "    <tr>\n",
       "      <th>0</th>\n",
       "      <td>CA_1</td>\n",
       "      <td>4337</td>\n",
       "      <td>4155</td>\n",
       "      <td>2816</td>\n",
       "      <td>3051</td>\n",
       "      <td>2630</td>\n",
       "      <td>3276</td>\n",
       "      <td>3450</td>\n",
       "      <td>5437</td>\n",
       "      <td>4340</td>\n",
       "      <td>...</td>\n",
       "      <td>4951</td>\n",
       "      <td>6245</td>\n",
       "      <td>6707</td>\n",
       "      <td>4568</td>\n",
       "      <td>3949</td>\n",
       "      <td>3995</td>\n",
       "      <td>4136</td>\n",
       "      <td>4433</td>\n",
       "      <td>5764</td>\n",
       "      <td>6289</td>\n",
       "    </tr>\n",
       "    <tr>\n",
       "      <th>1</th>\n",
       "      <td>CA_2</td>\n",
       "      <td>3494</td>\n",
       "      <td>3046</td>\n",
       "      <td>2121</td>\n",
       "      <td>2324</td>\n",
       "      <td>1942</td>\n",
       "      <td>2288</td>\n",
       "      <td>2629</td>\n",
       "      <td>3729</td>\n",
       "      <td>2957</td>\n",
       "      <td>...</td>\n",
       "      <td>4839</td>\n",
       "      <td>6507</td>\n",
       "      <td>6710</td>\n",
       "      <td>4238</td>\n",
       "      <td>3963</td>\n",
       "      <td>3789</td>\n",
       "      <td>4037</td>\n",
       "      <td>4751</td>\n",
       "      <td>7120</td>\n",
       "      <td>6614</td>\n",
       "    </tr>\n",
       "    <tr>\n",
       "      <th>2</th>\n",
       "      <td>CA_3</td>\n",
       "      <td>4739</td>\n",
       "      <td>4827</td>\n",
       "      <td>3785</td>\n",
       "      <td>4232</td>\n",
       "      <td>3817</td>\n",
       "      <td>4369</td>\n",
       "      <td>4703</td>\n",
       "      <td>5456</td>\n",
       "      <td>5581</td>\n",
       "      <td>...</td>\n",
       "      <td>6046</td>\n",
       "      <td>7029</td>\n",
       "      <td>7969</td>\n",
       "      <td>5891</td>\n",
       "      <td>5523</td>\n",
       "      <td>5375</td>\n",
       "      <td>5580</td>\n",
       "      <td>5542</td>\n",
       "      <td>7073</td>\n",
       "      <td>8144</td>\n",
       "    </tr>\n",
       "    <tr>\n",
       "      <th>3</th>\n",
       "      <td>CA_4</td>\n",
       "      <td>1625</td>\n",
       "      <td>1777</td>\n",
       "      <td>1386</td>\n",
       "      <td>1440</td>\n",
       "      <td>1536</td>\n",
       "      <td>1389</td>\n",
       "      <td>1469</td>\n",
       "      <td>1988</td>\n",
       "      <td>1818</td>\n",
       "      <td>...</td>\n",
       "      <td>2635</td>\n",
       "      <td>3256</td>\n",
       "      <td>3318</td>\n",
       "      <td>3024</td>\n",
       "      <td>2715</td>\n",
       "      <td>2519</td>\n",
       "      <td>2544</td>\n",
       "      <td>2704</td>\n",
       "      <td>3146</td>\n",
       "      <td>3597</td>\n",
       "    </tr>\n",
       "    <tr>\n",
       "      <th>4</th>\n",
       "      <td>TX_1</td>\n",
       "      <td>2556</td>\n",
       "      <td>2687</td>\n",
       "      <td>1822</td>\n",
       "      <td>2258</td>\n",
       "      <td>1694</td>\n",
       "      <td>2734</td>\n",
       "      <td>1691</td>\n",
       "      <td>2820</td>\n",
       "      <td>2887</td>\n",
       "      <td>...</td>\n",
       "      <td>3610</td>\n",
       "      <td>3787</td>\n",
       "      <td>5000</td>\n",
       "      <td>3708</td>\n",
       "      <td>3310</td>\n",
       "      <td>3147</td>\n",
       "      <td>2748</td>\n",
       "      <td>3664</td>\n",
       "      <td>4167</td>\n",
       "      <td>4624</td>\n",
       "    </tr>\n",
       "    <tr>\n",
       "      <th>5</th>\n",
       "      <td>TX_2</td>\n",
       "      <td>3852</td>\n",
       "      <td>3937</td>\n",
       "      <td>2731</td>\n",
       "      <td>2954</td>\n",
       "      <td>2492</td>\n",
       "      <td>3439</td>\n",
       "      <td>2588</td>\n",
       "      <td>3772</td>\n",
       "      <td>3657</td>\n",
       "      <td>...</td>\n",
       "      <td>4415</td>\n",
       "      <td>4424</td>\n",
       "      <td>5866</td>\n",
       "      <td>4179</td>\n",
       "      <td>4008</td>\n",
       "      <td>3518</td>\n",
       "      <td>3126</td>\n",
       "      <td>4249</td>\n",
       "      <td>4802</td>\n",
       "      <td>5217</td>\n",
       "    </tr>\n",
       "    <tr>\n",
       "      <th>6</th>\n",
       "      <td>TX_3</td>\n",
       "      <td>3030</td>\n",
       "      <td>3006</td>\n",
       "      <td>2225</td>\n",
       "      <td>2169</td>\n",
       "      <td>1726</td>\n",
       "      <td>2833</td>\n",
       "      <td>1947</td>\n",
       "      <td>2848</td>\n",
       "      <td>2832</td>\n",
       "      <td>...</td>\n",
       "      <td>4295</td>\n",
       "      <td>4155</td>\n",
       "      <td>5383</td>\n",
       "      <td>4341</td>\n",
       "      <td>4052</td>\n",
       "      <td>3710</td>\n",
       "      <td>3288</td>\n",
       "      <td>4390</td>\n",
       "      <td>4712</td>\n",
       "      <td>4974</td>\n",
       "    </tr>\n",
       "    <tr>\n",
       "      <th>7</th>\n",
       "      <td>WI_1</td>\n",
       "      <td>2704</td>\n",
       "      <td>2194</td>\n",
       "      <td>1562</td>\n",
       "      <td>1251</td>\n",
       "      <td>2</td>\n",
       "      <td>2049</td>\n",
       "      <td>2815</td>\n",
       "      <td>3248</td>\n",
       "      <td>1674</td>\n",
       "      <td>...</td>\n",
       "      <td>3978</td>\n",
       "      <td>5527</td>\n",
       "      <td>5488</td>\n",
       "      <td>3505</td>\n",
       "      <td>3323</td>\n",
       "      <td>3242</td>\n",
       "      <td>3478</td>\n",
       "      <td>3813</td>\n",
       "      <td>5002</td>\n",
       "      <td>5054</td>\n",
       "    </tr>\n",
       "    <tr>\n",
       "      <th>8</th>\n",
       "      <td>WI_2</td>\n",
       "      <td>2256</td>\n",
       "      <td>1922</td>\n",
       "      <td>2018</td>\n",
       "      <td>2522</td>\n",
       "      <td>1175</td>\n",
       "      <td>2244</td>\n",
       "      <td>2232</td>\n",
       "      <td>2643</td>\n",
       "      <td>2140</td>\n",
       "      <td>...</td>\n",
       "      <td>5317</td>\n",
       "      <td>7704</td>\n",
       "      <td>7586</td>\n",
       "      <td>5011</td>\n",
       "      <td>4628</td>\n",
       "      <td>4533</td>\n",
       "      <td>4628</td>\n",
       "      <td>4880</td>\n",
       "      <td>5213</td>\n",
       "      <td>5068</td>\n",
       "    </tr>\n",
       "    <tr>\n",
       "      <th>9</th>\n",
       "      <td>WI_3</td>\n",
       "      <td>4038</td>\n",
       "      <td>4198</td>\n",
       "      <td>3317</td>\n",
       "      <td>3211</td>\n",
       "      <td>2132</td>\n",
       "      <td>4590</td>\n",
       "      <td>4486</td>\n",
       "      <td>5991</td>\n",
       "      <td>4850</td>\n",
       "      <td>...</td>\n",
       "      <td>3987</td>\n",
       "      <td>5674</td>\n",
       "      <td>5894</td>\n",
       "      <td>3897</td>\n",
       "      <td>3306</td>\n",
       "      <td>3268</td>\n",
       "      <td>3398</td>\n",
       "      <td>4126</td>\n",
       "      <td>4519</td>\n",
       "      <td>4757</td>\n",
       "    </tr>\n",
       "  </tbody>\n",
       "</table>\n",
       "<p>10 rows × 1942 columns</p>\n",
       "</div>"
      ],
      "text/plain": [
       "  id_str   d_1   d_2   d_3   d_4   d_5   d_6   d_7   d_8   d_9  ...  d_1932  \\\n",
       "0   CA_1  4337  4155  2816  3051  2630  3276  3450  5437  4340  ...    4951   \n",
       "1   CA_2  3494  3046  2121  2324  1942  2288  2629  3729  2957  ...    4839   \n",
       "2   CA_3  4739  4827  3785  4232  3817  4369  4703  5456  5581  ...    6046   \n",
       "3   CA_4  1625  1777  1386  1440  1536  1389  1469  1988  1818  ...    2635   \n",
       "4   TX_1  2556  2687  1822  2258  1694  2734  1691  2820  2887  ...    3610   \n",
       "5   TX_2  3852  3937  2731  2954  2492  3439  2588  3772  3657  ...    4415   \n",
       "6   TX_3  3030  3006  2225  2169  1726  2833  1947  2848  2832  ...    4295   \n",
       "7   WI_1  2704  2194  1562  1251     2  2049  2815  3248  1674  ...    3978   \n",
       "8   WI_2  2256  1922  2018  2522  1175  2244  2232  2643  2140  ...    5317   \n",
       "9   WI_3  4038  4198  3317  3211  2132  4590  4486  5991  4850  ...    3987   \n",
       "\n",
       "   d_1933  d_1934  d_1935  d_1936  d_1937  d_1938  d_1939  d_1940  d_1941  \n",
       "0    6245    6707    4568    3949    3995    4136    4433    5764    6289  \n",
       "1    6507    6710    4238    3963    3789    4037    4751    7120    6614  \n",
       "2    7029    7969    5891    5523    5375    5580    5542    7073    8144  \n",
       "3    3256    3318    3024    2715    2519    2544    2704    3146    3597  \n",
       "4    3787    5000    3708    3310    3147    2748    3664    4167    4624  \n",
       "5    4424    5866    4179    4008    3518    3126    4249    4802    5217  \n",
       "6    4155    5383    4341    4052    3710    3288    4390    4712    4974  \n",
       "7    5527    5488    3505    3323    3242    3478    3813    5002    5054  \n",
       "8    7704    7586    5011    4628    4533    4628    4880    5213    5068  \n",
       "9    5674    5894    3897    3306    3268    3398    4126    4519    4757  \n",
       "\n",
       "[10 rows x 1942 columns]"
      ]
     },
     "execution_count": 11,
     "metadata": {},
     "output_type": "execute_result"
    }
   ],
   "source": [
    "%%time\n",
    "# 3. All products by store (10 series)\n",
    "store_sales = train.groupby('store_id',as_index=False)[ts_cols].sum()\n",
    "store_sales['id_str'] = store_sales['store_id'] \n",
    "store_sales = store_sales[ ['id_str'] +  [c for c in store_sales if c not in ['id_str']] ]\n",
    "store_sales = store_sales.drop(['store_id'],axis=1)\n",
    "store_sales"
   ]
  },
  {
   "cell_type": "code",
   "execution_count": 12,
   "id": "ready-insertion",
   "metadata": {},
   "outputs": [
    {
     "name": "stdout",
     "output_type": "stream",
     "text": [
      "CPU times: user 666 ms, sys: 263 ms, total: 930 ms\n",
      "Wall time: 925 ms\n"
     ]
    },
    {
     "data": {
      "text/html": [
       "<div>\n",
       "<style scoped>\n",
       "    .dataframe tbody tr th:only-of-type {\n",
       "        vertical-align: middle;\n",
       "    }\n",
       "\n",
       "    .dataframe tbody tr th {\n",
       "        vertical-align: top;\n",
       "    }\n",
       "\n",
       "    .dataframe thead th {\n",
       "        text-align: right;\n",
       "    }\n",
       "</style>\n",
       "<table border=\"1\" class=\"dataframe\">\n",
       "  <thead>\n",
       "    <tr style=\"text-align: right;\">\n",
       "      <th></th>\n",
       "      <th>id_str</th>\n",
       "      <th>d_1</th>\n",
       "      <th>d_2</th>\n",
       "      <th>d_3</th>\n",
       "      <th>d_4</th>\n",
       "      <th>d_5</th>\n",
       "      <th>d_6</th>\n",
       "      <th>d_7</th>\n",
       "      <th>d_8</th>\n",
       "      <th>d_9</th>\n",
       "      <th>...</th>\n",
       "      <th>d_1932</th>\n",
       "      <th>d_1933</th>\n",
       "      <th>d_1934</th>\n",
       "      <th>d_1935</th>\n",
       "      <th>d_1936</th>\n",
       "      <th>d_1937</th>\n",
       "      <th>d_1938</th>\n",
       "      <th>d_1939</th>\n",
       "      <th>d_1940</th>\n",
       "      <th>d_1941</th>\n",
       "    </tr>\n",
       "  </thead>\n",
       "  <tbody>\n",
       "    <tr>\n",
       "      <th>0</th>\n",
       "      <td>FOODS</td>\n",
       "      <td>23178</td>\n",
       "      <td>22758</td>\n",
       "      <td>17174</td>\n",
       "      <td>18878</td>\n",
       "      <td>14603</td>\n",
       "      <td>22093</td>\n",
       "      <td>20490</td>\n",
       "      <td>27751</td>\n",
       "      <td>24862</td>\n",
       "      <td>...</td>\n",
       "      <td>30107</td>\n",
       "      <td>36576</td>\n",
       "      <td>41447</td>\n",
       "      <td>29158</td>\n",
       "      <td>26148</td>\n",
       "      <td>24790</td>\n",
       "      <td>24737</td>\n",
       "      <td>28136</td>\n",
       "      <td>33599</td>\n",
       "      <td>35967</td>\n",
       "    </tr>\n",
       "    <tr>\n",
       "      <th>1</th>\n",
       "      <td>HOBBIES</td>\n",
       "      <td>3764</td>\n",
       "      <td>3357</td>\n",
       "      <td>2682</td>\n",
       "      <td>2669</td>\n",
       "      <td>1814</td>\n",
       "      <td>3220</td>\n",
       "      <td>2944</td>\n",
       "      <td>3986</td>\n",
       "      <td>2899</td>\n",
       "      <td>...</td>\n",
       "      <td>3871</td>\n",
       "      <td>4893</td>\n",
       "      <td>5016</td>\n",
       "      <td>3528</td>\n",
       "      <td>3629</td>\n",
       "      <td>3740</td>\n",
       "      <td>3475</td>\n",
       "      <td>4143</td>\n",
       "      <td>5333</td>\n",
       "      <td>5280</td>\n",
       "    </tr>\n",
       "    <tr>\n",
       "      <th>2</th>\n",
       "      <td>HOUSEHOLD</td>\n",
       "      <td>5689</td>\n",
       "      <td>5634</td>\n",
       "      <td>3927</td>\n",
       "      <td>3865</td>\n",
       "      <td>2729</td>\n",
       "      <td>3898</td>\n",
       "      <td>4576</td>\n",
       "      <td>6195</td>\n",
       "      <td>4975</td>\n",
       "      <td>...</td>\n",
       "      <td>10095</td>\n",
       "      <td>12839</td>\n",
       "      <td>13458</td>\n",
       "      <td>9676</td>\n",
       "      <td>9000</td>\n",
       "      <td>8566</td>\n",
       "      <td>8751</td>\n",
       "      <td>10273</td>\n",
       "      <td>12586</td>\n",
       "      <td>13091</td>\n",
       "    </tr>\n",
       "  </tbody>\n",
       "</table>\n",
       "<p>3 rows × 1942 columns</p>\n",
       "</div>"
      ],
      "text/plain": [
       "      id_str    d_1    d_2    d_3    d_4    d_5    d_6    d_7    d_8    d_9  \\\n",
       "0      FOODS  23178  22758  17174  18878  14603  22093  20490  27751  24862   \n",
       "1    HOBBIES   3764   3357   2682   2669   1814   3220   2944   3986   2899   \n",
       "2  HOUSEHOLD   5689   5634   3927   3865   2729   3898   4576   6195   4975   \n",
       "\n",
       "   ...  d_1932  d_1933  d_1934  d_1935  d_1936  d_1937  d_1938  d_1939  \\\n",
       "0  ...   30107   36576   41447   29158   26148   24790   24737   28136   \n",
       "1  ...    3871    4893    5016    3528    3629    3740    3475    4143   \n",
       "2  ...   10095   12839   13458    9676    9000    8566    8751   10273   \n",
       "\n",
       "   d_1940  d_1941  \n",
       "0   33599   35967  \n",
       "1    5333    5280  \n",
       "2   12586   13091  \n",
       "\n",
       "[3 rows x 1942 columns]"
      ]
     },
     "execution_count": 12,
     "metadata": {},
     "output_type": "execute_result"
    }
   ],
   "source": [
    "%%time\n",
    "# 4. All products by category (3 series)\n",
    "cat_sales = train.groupby('cat_id',as_index=False)[ts_cols].sum()\n",
    "cat_sales['id_str'] = cat_sales['cat_id'] \n",
    "cat_sales = cat_sales[ ['id_str'] +  [c for c in cat_sales if c not in ['id_str']] ]\n",
    "cat_sales = cat_sales.drop(['cat_id'],axis=1)\n",
    "cat_sales"
   ]
  },
  {
   "cell_type": "code",
   "execution_count": 13,
   "id": "statutory-clerk",
   "metadata": {},
   "outputs": [
    {
     "name": "stdout",
     "output_type": "stream",
     "text": [
      "CPU times: user 660 ms, sys: 264 ms, total: 923 ms\n",
      "Wall time: 921 ms\n"
     ]
    },
    {
     "data": {
      "text/html": [
       "<div>\n",
       "<style scoped>\n",
       "    .dataframe tbody tr th:only-of-type {\n",
       "        vertical-align: middle;\n",
       "    }\n",
       "\n",
       "    .dataframe tbody tr th {\n",
       "        vertical-align: top;\n",
       "    }\n",
       "\n",
       "    .dataframe thead th {\n",
       "        text-align: right;\n",
       "    }\n",
       "</style>\n",
       "<table border=\"1\" class=\"dataframe\">\n",
       "  <thead>\n",
       "    <tr style=\"text-align: right;\">\n",
       "      <th></th>\n",
       "      <th>id_str</th>\n",
       "      <th>d_1</th>\n",
       "      <th>d_2</th>\n",
       "      <th>d_3</th>\n",
       "      <th>d_4</th>\n",
       "      <th>d_5</th>\n",
       "      <th>d_6</th>\n",
       "      <th>d_7</th>\n",
       "      <th>d_8</th>\n",
       "      <th>d_9</th>\n",
       "      <th>...</th>\n",
       "      <th>d_1932</th>\n",
       "      <th>d_1933</th>\n",
       "      <th>d_1934</th>\n",
       "      <th>d_1935</th>\n",
       "      <th>d_1936</th>\n",
       "      <th>d_1937</th>\n",
       "      <th>d_1938</th>\n",
       "      <th>d_1939</th>\n",
       "      <th>d_1940</th>\n",
       "      <th>d_1941</th>\n",
       "    </tr>\n",
       "  </thead>\n",
       "  <tbody>\n",
       "    <tr>\n",
       "      <th>0</th>\n",
       "      <td>FOODS_1</td>\n",
       "      <td>2343</td>\n",
       "      <td>2216</td>\n",
       "      <td>1657</td>\n",
       "      <td>1508</td>\n",
       "      <td>1209</td>\n",
       "      <td>1897</td>\n",
       "      <td>1903</td>\n",
       "      <td>2235</td>\n",
       "      <td>1925</td>\n",
       "      <td>...</td>\n",
       "      <td>4130</td>\n",
       "      <td>4257</td>\n",
       "      <td>4225</td>\n",
       "      <td>3264</td>\n",
       "      <td>3119</td>\n",
       "      <td>3073</td>\n",
       "      <td>3251</td>\n",
       "      <td>3735</td>\n",
       "      <td>4195</td>\n",
       "      <td>4031</td>\n",
       "    </tr>\n",
       "    <tr>\n",
       "      <th>1</th>\n",
       "      <td>FOODS_2</td>\n",
       "      <td>4094</td>\n",
       "      <td>4209</td>\n",
       "      <td>3174</td>\n",
       "      <td>3606</td>\n",
       "      <td>2869</td>\n",
       "      <td>4375</td>\n",
       "      <td>3349</td>\n",
       "      <td>4384</td>\n",
       "      <td>4273</td>\n",
       "      <td>...</td>\n",
       "      <td>5842</td>\n",
       "      <td>7563</td>\n",
       "      <td>9069</td>\n",
       "      <td>6226</td>\n",
       "      <td>5311</td>\n",
       "      <td>4648</td>\n",
       "      <td>4551</td>\n",
       "      <td>4815</td>\n",
       "      <td>5940</td>\n",
       "      <td>6535</td>\n",
       "    </tr>\n",
       "    <tr>\n",
       "      <th>2</th>\n",
       "      <td>FOODS_3</td>\n",
       "      <td>16741</td>\n",
       "      <td>16333</td>\n",
       "      <td>12343</td>\n",
       "      <td>13764</td>\n",
       "      <td>10525</td>\n",
       "      <td>15821</td>\n",
       "      <td>15238</td>\n",
       "      <td>21132</td>\n",
       "      <td>18664</td>\n",
       "      <td>...</td>\n",
       "      <td>20135</td>\n",
       "      <td>24756</td>\n",
       "      <td>28153</td>\n",
       "      <td>19668</td>\n",
       "      <td>17718</td>\n",
       "      <td>17069</td>\n",
       "      <td>16935</td>\n",
       "      <td>19586</td>\n",
       "      <td>23464</td>\n",
       "      <td>25401</td>\n",
       "    </tr>\n",
       "    <tr>\n",
       "      <th>3</th>\n",
       "      <td>HOBBIES_1</td>\n",
       "      <td>3610</td>\n",
       "      <td>3172</td>\n",
       "      <td>2497</td>\n",
       "      <td>2531</td>\n",
       "      <td>1714</td>\n",
       "      <td>3133</td>\n",
       "      <td>2855</td>\n",
       "      <td>3831</td>\n",
       "      <td>2741</td>\n",
       "      <td>...</td>\n",
       "      <td>3422</td>\n",
       "      <td>4414</td>\n",
       "      <td>4464</td>\n",
       "      <td>3109</td>\n",
       "      <td>3142</td>\n",
       "      <td>3291</td>\n",
       "      <td>3027</td>\n",
       "      <td>3761</td>\n",
       "      <td>4832</td>\n",
       "      <td>4720</td>\n",
       "    </tr>\n",
       "    <tr>\n",
       "      <th>4</th>\n",
       "      <td>HOBBIES_2</td>\n",
       "      <td>154</td>\n",
       "      <td>185</td>\n",
       "      <td>185</td>\n",
       "      <td>138</td>\n",
       "      <td>100</td>\n",
       "      <td>87</td>\n",
       "      <td>89</td>\n",
       "      <td>155</td>\n",
       "      <td>158</td>\n",
       "      <td>...</td>\n",
       "      <td>449</td>\n",
       "      <td>479</td>\n",
       "      <td>552</td>\n",
       "      <td>419</td>\n",
       "      <td>487</td>\n",
       "      <td>449</td>\n",
       "      <td>448</td>\n",
       "      <td>382</td>\n",
       "      <td>501</td>\n",
       "      <td>560</td>\n",
       "    </tr>\n",
       "    <tr>\n",
       "      <th>5</th>\n",
       "      <td>HOUSEHOLD_1</td>\n",
       "      <td>4105</td>\n",
       "      <td>3858</td>\n",
       "      <td>2827</td>\n",
       "      <td>2732</td>\n",
       "      <td>1802</td>\n",
       "      <td>2664</td>\n",
       "      <td>3161</td>\n",
       "      <td>4334</td>\n",
       "      <td>3494</td>\n",
       "      <td>...</td>\n",
       "      <td>7936</td>\n",
       "      <td>10042</td>\n",
       "      <td>10572</td>\n",
       "      <td>7609</td>\n",
       "      <td>6999</td>\n",
       "      <td>6641</td>\n",
       "      <td>6759</td>\n",
       "      <td>7974</td>\n",
       "      <td>9668</td>\n",
       "      <td>10165</td>\n",
       "    </tr>\n",
       "    <tr>\n",
       "      <th>6</th>\n",
       "      <td>HOUSEHOLD_2</td>\n",
       "      <td>1584</td>\n",
       "      <td>1776</td>\n",
       "      <td>1100</td>\n",
       "      <td>1133</td>\n",
       "      <td>927</td>\n",
       "      <td>1234</td>\n",
       "      <td>1415</td>\n",
       "      <td>1861</td>\n",
       "      <td>1481</td>\n",
       "      <td>...</td>\n",
       "      <td>2159</td>\n",
       "      <td>2797</td>\n",
       "      <td>2886</td>\n",
       "      <td>2067</td>\n",
       "      <td>2001</td>\n",
       "      <td>1925</td>\n",
       "      <td>1992</td>\n",
       "      <td>2299</td>\n",
       "      <td>2918</td>\n",
       "      <td>2926</td>\n",
       "    </tr>\n",
       "  </tbody>\n",
       "</table>\n",
       "<p>7 rows × 1942 columns</p>\n",
       "</div>"
      ],
      "text/plain": [
       "        id_str    d_1    d_2    d_3    d_4    d_5    d_6    d_7    d_8    d_9  \\\n",
       "0      FOODS_1   2343   2216   1657   1508   1209   1897   1903   2235   1925   \n",
       "1      FOODS_2   4094   4209   3174   3606   2869   4375   3349   4384   4273   \n",
       "2      FOODS_3  16741  16333  12343  13764  10525  15821  15238  21132  18664   \n",
       "3    HOBBIES_1   3610   3172   2497   2531   1714   3133   2855   3831   2741   \n",
       "4    HOBBIES_2    154    185    185    138    100     87     89    155    158   \n",
       "5  HOUSEHOLD_1   4105   3858   2827   2732   1802   2664   3161   4334   3494   \n",
       "6  HOUSEHOLD_2   1584   1776   1100   1133    927   1234   1415   1861   1481   \n",
       "\n",
       "   ...  d_1932  d_1933  d_1934  d_1935  d_1936  d_1937  d_1938  d_1939  \\\n",
       "0  ...    4130    4257    4225    3264    3119    3073    3251    3735   \n",
       "1  ...    5842    7563    9069    6226    5311    4648    4551    4815   \n",
       "2  ...   20135   24756   28153   19668   17718   17069   16935   19586   \n",
       "3  ...    3422    4414    4464    3109    3142    3291    3027    3761   \n",
       "4  ...     449     479     552     419     487     449     448     382   \n",
       "5  ...    7936   10042   10572    7609    6999    6641    6759    7974   \n",
       "6  ...    2159    2797    2886    2067    2001    1925    1992    2299   \n",
       "\n",
       "   d_1940  d_1941  \n",
       "0    4195    4031  \n",
       "1    5940    6535  \n",
       "2   23464   25401  \n",
       "3    4832    4720  \n",
       "4     501     560  \n",
       "5    9668   10165  \n",
       "6    2918    2926  \n",
       "\n",
       "[7 rows x 1942 columns]"
      ]
     },
     "execution_count": 13,
     "metadata": {},
     "output_type": "execute_result"
    }
   ],
   "source": [
    "%%time\n",
    "# 5. All products by department (7 series)\n",
    "dept_sales = train.groupby('dept_id',as_index=False)[ts_cols].sum()\n",
    "dept_sales['id_str'] = dept_sales['dept_id'] \n",
    "dept_sales = dept_sales[ ['id_str'] +  [c for c in dept_sales if c not in ['id_str']] ]\n",
    "dept_sales = dept_sales.drop(['dept_id'],axis=1)\n",
    "dept_sales"
   ]
  },
  {
   "cell_type": "code",
   "execution_count": 14,
   "id": "standard-extraction",
   "metadata": {},
   "outputs": [
    {
     "data": {
      "text/html": [
       "<div>\n",
       "<style scoped>\n",
       "    .dataframe tbody tr th:only-of-type {\n",
       "        vertical-align: middle;\n",
       "    }\n",
       "\n",
       "    .dataframe tbody tr th {\n",
       "        vertical-align: top;\n",
       "    }\n",
       "\n",
       "    .dataframe thead th {\n",
       "        text-align: right;\n",
       "    }\n",
       "</style>\n",
       "<table border=\"1\" class=\"dataframe\">\n",
       "  <thead>\n",
       "    <tr style=\"text-align: right;\">\n",
       "      <th></th>\n",
       "      <th>id_str</th>\n",
       "      <th>d_1</th>\n",
       "      <th>d_2</th>\n",
       "      <th>d_3</th>\n",
       "      <th>d_4</th>\n",
       "      <th>d_5</th>\n",
       "      <th>d_6</th>\n",
       "      <th>d_7</th>\n",
       "      <th>d_8</th>\n",
       "      <th>d_9</th>\n",
       "      <th>...</th>\n",
       "      <th>d_1932</th>\n",
       "      <th>d_1933</th>\n",
       "      <th>d_1934</th>\n",
       "      <th>d_1935</th>\n",
       "      <th>d_1936</th>\n",
       "      <th>d_1937</th>\n",
       "      <th>d_1938</th>\n",
       "      <th>d_1939</th>\n",
       "      <th>d_1940</th>\n",
       "      <th>d_1941</th>\n",
       "    </tr>\n",
       "  </thead>\n",
       "  <tbody>\n",
       "    <tr>\n",
       "      <th>0</th>\n",
       "      <td>all</td>\n",
       "      <td>32631</td>\n",
       "      <td>31749</td>\n",
       "      <td>23783</td>\n",
       "      <td>25412</td>\n",
       "      <td>19146</td>\n",
       "      <td>29211</td>\n",
       "      <td>28010</td>\n",
       "      <td>37932</td>\n",
       "      <td>32736</td>\n",
       "      <td>...</td>\n",
       "      <td>44073</td>\n",
       "      <td>54308</td>\n",
       "      <td>59921</td>\n",
       "      <td>42362</td>\n",
       "      <td>38777</td>\n",
       "      <td>37096</td>\n",
       "      <td>36963</td>\n",
       "      <td>42552</td>\n",
       "      <td>51518</td>\n",
       "      <td>54338</td>\n",
       "    </tr>\n",
       "    <tr>\n",
       "      <th>1</th>\n",
       "      <td>CA</td>\n",
       "      <td>14195</td>\n",
       "      <td>13805</td>\n",
       "      <td>10108</td>\n",
       "      <td>11047</td>\n",
       "      <td>9925</td>\n",
       "      <td>11322</td>\n",
       "      <td>12251</td>\n",
       "      <td>16610</td>\n",
       "      <td>14696</td>\n",
       "      <td>...</td>\n",
       "      <td>18471</td>\n",
       "      <td>23037</td>\n",
       "      <td>24704</td>\n",
       "      <td>17721</td>\n",
       "      <td>16150</td>\n",
       "      <td>15678</td>\n",
       "      <td>16297</td>\n",
       "      <td>17430</td>\n",
       "      <td>23103</td>\n",
       "      <td>24644</td>\n",
       "    </tr>\n",
       "    <tr>\n",
       "      <th>2</th>\n",
       "      <td>TX</td>\n",
       "      <td>9438</td>\n",
       "      <td>9630</td>\n",
       "      <td>6778</td>\n",
       "      <td>7381</td>\n",
       "      <td>5912</td>\n",
       "      <td>9006</td>\n",
       "      <td>6226</td>\n",
       "      <td>9440</td>\n",
       "      <td>9376</td>\n",
       "      <td>...</td>\n",
       "      <td>12320</td>\n",
       "      <td>12366</td>\n",
       "      <td>16249</td>\n",
       "      <td>12228</td>\n",
       "      <td>11370</td>\n",
       "      <td>10375</td>\n",
       "      <td>9162</td>\n",
       "      <td>12303</td>\n",
       "      <td>13681</td>\n",
       "      <td>14815</td>\n",
       "    </tr>\n",
       "    <tr>\n",
       "      <th>3</th>\n",
       "      <td>WI</td>\n",
       "      <td>8998</td>\n",
       "      <td>8314</td>\n",
       "      <td>6897</td>\n",
       "      <td>6984</td>\n",
       "      <td>3309</td>\n",
       "      <td>8883</td>\n",
       "      <td>9533</td>\n",
       "      <td>11882</td>\n",
       "      <td>8664</td>\n",
       "      <td>...</td>\n",
       "      <td>13282</td>\n",
       "      <td>18905</td>\n",
       "      <td>18968</td>\n",
       "      <td>12413</td>\n",
       "      <td>11257</td>\n",
       "      <td>11043</td>\n",
       "      <td>11504</td>\n",
       "      <td>12819</td>\n",
       "      <td>14734</td>\n",
       "      <td>14879</td>\n",
       "    </tr>\n",
       "    <tr>\n",
       "      <th>4</th>\n",
       "      <td>CA_1</td>\n",
       "      <td>4337</td>\n",
       "      <td>4155</td>\n",
       "      <td>2816</td>\n",
       "      <td>3051</td>\n",
       "      <td>2630</td>\n",
       "      <td>3276</td>\n",
       "      <td>3450</td>\n",
       "      <td>5437</td>\n",
       "      <td>4340</td>\n",
       "      <td>...</td>\n",
       "      <td>4951</td>\n",
       "      <td>6245</td>\n",
       "      <td>6707</td>\n",
       "      <td>4568</td>\n",
       "      <td>3949</td>\n",
       "      <td>3995</td>\n",
       "      <td>4136</td>\n",
       "      <td>4433</td>\n",
       "      <td>5764</td>\n",
       "      <td>6289</td>\n",
       "    </tr>\n",
       "    <tr>\n",
       "      <th>5</th>\n",
       "      <td>CA_2</td>\n",
       "      <td>3494</td>\n",
       "      <td>3046</td>\n",
       "      <td>2121</td>\n",
       "      <td>2324</td>\n",
       "      <td>1942</td>\n",
       "      <td>2288</td>\n",
       "      <td>2629</td>\n",
       "      <td>3729</td>\n",
       "      <td>2957</td>\n",
       "      <td>...</td>\n",
       "      <td>4839</td>\n",
       "      <td>6507</td>\n",
       "      <td>6710</td>\n",
       "      <td>4238</td>\n",
       "      <td>3963</td>\n",
       "      <td>3789</td>\n",
       "      <td>4037</td>\n",
       "      <td>4751</td>\n",
       "      <td>7120</td>\n",
       "      <td>6614</td>\n",
       "    </tr>\n",
       "    <tr>\n",
       "      <th>6</th>\n",
       "      <td>CA_3</td>\n",
       "      <td>4739</td>\n",
       "      <td>4827</td>\n",
       "      <td>3785</td>\n",
       "      <td>4232</td>\n",
       "      <td>3817</td>\n",
       "      <td>4369</td>\n",
       "      <td>4703</td>\n",
       "      <td>5456</td>\n",
       "      <td>5581</td>\n",
       "      <td>...</td>\n",
       "      <td>6046</td>\n",
       "      <td>7029</td>\n",
       "      <td>7969</td>\n",
       "      <td>5891</td>\n",
       "      <td>5523</td>\n",
       "      <td>5375</td>\n",
       "      <td>5580</td>\n",
       "      <td>5542</td>\n",
       "      <td>7073</td>\n",
       "      <td>8144</td>\n",
       "    </tr>\n",
       "    <tr>\n",
       "      <th>7</th>\n",
       "      <td>CA_4</td>\n",
       "      <td>1625</td>\n",
       "      <td>1777</td>\n",
       "      <td>1386</td>\n",
       "      <td>1440</td>\n",
       "      <td>1536</td>\n",
       "      <td>1389</td>\n",
       "      <td>1469</td>\n",
       "      <td>1988</td>\n",
       "      <td>1818</td>\n",
       "      <td>...</td>\n",
       "      <td>2635</td>\n",
       "      <td>3256</td>\n",
       "      <td>3318</td>\n",
       "      <td>3024</td>\n",
       "      <td>2715</td>\n",
       "      <td>2519</td>\n",
       "      <td>2544</td>\n",
       "      <td>2704</td>\n",
       "      <td>3146</td>\n",
       "      <td>3597</td>\n",
       "    </tr>\n",
       "    <tr>\n",
       "      <th>8</th>\n",
       "      <td>TX_1</td>\n",
       "      <td>2556</td>\n",
       "      <td>2687</td>\n",
       "      <td>1822</td>\n",
       "      <td>2258</td>\n",
       "      <td>1694</td>\n",
       "      <td>2734</td>\n",
       "      <td>1691</td>\n",
       "      <td>2820</td>\n",
       "      <td>2887</td>\n",
       "      <td>...</td>\n",
       "      <td>3610</td>\n",
       "      <td>3787</td>\n",
       "      <td>5000</td>\n",
       "      <td>3708</td>\n",
       "      <td>3310</td>\n",
       "      <td>3147</td>\n",
       "      <td>2748</td>\n",
       "      <td>3664</td>\n",
       "      <td>4167</td>\n",
       "      <td>4624</td>\n",
       "    </tr>\n",
       "    <tr>\n",
       "      <th>9</th>\n",
       "      <td>TX_2</td>\n",
       "      <td>3852</td>\n",
       "      <td>3937</td>\n",
       "      <td>2731</td>\n",
       "      <td>2954</td>\n",
       "      <td>2492</td>\n",
       "      <td>3439</td>\n",
       "      <td>2588</td>\n",
       "      <td>3772</td>\n",
       "      <td>3657</td>\n",
       "      <td>...</td>\n",
       "      <td>4415</td>\n",
       "      <td>4424</td>\n",
       "      <td>5866</td>\n",
       "      <td>4179</td>\n",
       "      <td>4008</td>\n",
       "      <td>3518</td>\n",
       "      <td>3126</td>\n",
       "      <td>4249</td>\n",
       "      <td>4802</td>\n",
       "      <td>5217</td>\n",
       "    </tr>\n",
       "    <tr>\n",
       "      <th>10</th>\n",
       "      <td>TX_3</td>\n",
       "      <td>3030</td>\n",
       "      <td>3006</td>\n",
       "      <td>2225</td>\n",
       "      <td>2169</td>\n",
       "      <td>1726</td>\n",
       "      <td>2833</td>\n",
       "      <td>1947</td>\n",
       "      <td>2848</td>\n",
       "      <td>2832</td>\n",
       "      <td>...</td>\n",
       "      <td>4295</td>\n",
       "      <td>4155</td>\n",
       "      <td>5383</td>\n",
       "      <td>4341</td>\n",
       "      <td>4052</td>\n",
       "      <td>3710</td>\n",
       "      <td>3288</td>\n",
       "      <td>4390</td>\n",
       "      <td>4712</td>\n",
       "      <td>4974</td>\n",
       "    </tr>\n",
       "    <tr>\n",
       "      <th>11</th>\n",
       "      <td>WI_1</td>\n",
       "      <td>2704</td>\n",
       "      <td>2194</td>\n",
       "      <td>1562</td>\n",
       "      <td>1251</td>\n",
       "      <td>2</td>\n",
       "      <td>2049</td>\n",
       "      <td>2815</td>\n",
       "      <td>3248</td>\n",
       "      <td>1674</td>\n",
       "      <td>...</td>\n",
       "      <td>3978</td>\n",
       "      <td>5527</td>\n",
       "      <td>5488</td>\n",
       "      <td>3505</td>\n",
       "      <td>3323</td>\n",
       "      <td>3242</td>\n",
       "      <td>3478</td>\n",
       "      <td>3813</td>\n",
       "      <td>5002</td>\n",
       "      <td>5054</td>\n",
       "    </tr>\n",
       "    <tr>\n",
       "      <th>12</th>\n",
       "      <td>WI_2</td>\n",
       "      <td>2256</td>\n",
       "      <td>1922</td>\n",
       "      <td>2018</td>\n",
       "      <td>2522</td>\n",
       "      <td>1175</td>\n",
       "      <td>2244</td>\n",
       "      <td>2232</td>\n",
       "      <td>2643</td>\n",
       "      <td>2140</td>\n",
       "      <td>...</td>\n",
       "      <td>5317</td>\n",
       "      <td>7704</td>\n",
       "      <td>7586</td>\n",
       "      <td>5011</td>\n",
       "      <td>4628</td>\n",
       "      <td>4533</td>\n",
       "      <td>4628</td>\n",
       "      <td>4880</td>\n",
       "      <td>5213</td>\n",
       "      <td>5068</td>\n",
       "    </tr>\n",
       "    <tr>\n",
       "      <th>13</th>\n",
       "      <td>WI_3</td>\n",
       "      <td>4038</td>\n",
       "      <td>4198</td>\n",
       "      <td>3317</td>\n",
       "      <td>3211</td>\n",
       "      <td>2132</td>\n",
       "      <td>4590</td>\n",
       "      <td>4486</td>\n",
       "      <td>5991</td>\n",
       "      <td>4850</td>\n",
       "      <td>...</td>\n",
       "      <td>3987</td>\n",
       "      <td>5674</td>\n",
       "      <td>5894</td>\n",
       "      <td>3897</td>\n",
       "      <td>3306</td>\n",
       "      <td>3268</td>\n",
       "      <td>3398</td>\n",
       "      <td>4126</td>\n",
       "      <td>4519</td>\n",
       "      <td>4757</td>\n",
       "    </tr>\n",
       "    <tr>\n",
       "      <th>14</th>\n",
       "      <td>FOODS</td>\n",
       "      <td>23178</td>\n",
       "      <td>22758</td>\n",
       "      <td>17174</td>\n",
       "      <td>18878</td>\n",
       "      <td>14603</td>\n",
       "      <td>22093</td>\n",
       "      <td>20490</td>\n",
       "      <td>27751</td>\n",
       "      <td>24862</td>\n",
       "      <td>...</td>\n",
       "      <td>30107</td>\n",
       "      <td>36576</td>\n",
       "      <td>41447</td>\n",
       "      <td>29158</td>\n",
       "      <td>26148</td>\n",
       "      <td>24790</td>\n",
       "      <td>24737</td>\n",
       "      <td>28136</td>\n",
       "      <td>33599</td>\n",
       "      <td>35967</td>\n",
       "    </tr>\n",
       "    <tr>\n",
       "      <th>15</th>\n",
       "      <td>HOBBIES</td>\n",
       "      <td>3764</td>\n",
       "      <td>3357</td>\n",
       "      <td>2682</td>\n",
       "      <td>2669</td>\n",
       "      <td>1814</td>\n",
       "      <td>3220</td>\n",
       "      <td>2944</td>\n",
       "      <td>3986</td>\n",
       "      <td>2899</td>\n",
       "      <td>...</td>\n",
       "      <td>3871</td>\n",
       "      <td>4893</td>\n",
       "      <td>5016</td>\n",
       "      <td>3528</td>\n",
       "      <td>3629</td>\n",
       "      <td>3740</td>\n",
       "      <td>3475</td>\n",
       "      <td>4143</td>\n",
       "      <td>5333</td>\n",
       "      <td>5280</td>\n",
       "    </tr>\n",
       "    <tr>\n",
       "      <th>16</th>\n",
       "      <td>HOUSEHOLD</td>\n",
       "      <td>5689</td>\n",
       "      <td>5634</td>\n",
       "      <td>3927</td>\n",
       "      <td>3865</td>\n",
       "      <td>2729</td>\n",
       "      <td>3898</td>\n",
       "      <td>4576</td>\n",
       "      <td>6195</td>\n",
       "      <td>4975</td>\n",
       "      <td>...</td>\n",
       "      <td>10095</td>\n",
       "      <td>12839</td>\n",
       "      <td>13458</td>\n",
       "      <td>9676</td>\n",
       "      <td>9000</td>\n",
       "      <td>8566</td>\n",
       "      <td>8751</td>\n",
       "      <td>10273</td>\n",
       "      <td>12586</td>\n",
       "      <td>13091</td>\n",
       "    </tr>\n",
       "    <tr>\n",
       "      <th>17</th>\n",
       "      <td>FOODS_1</td>\n",
       "      <td>2343</td>\n",
       "      <td>2216</td>\n",
       "      <td>1657</td>\n",
       "      <td>1508</td>\n",
       "      <td>1209</td>\n",
       "      <td>1897</td>\n",
       "      <td>1903</td>\n",
       "      <td>2235</td>\n",
       "      <td>1925</td>\n",
       "      <td>...</td>\n",
       "      <td>4130</td>\n",
       "      <td>4257</td>\n",
       "      <td>4225</td>\n",
       "      <td>3264</td>\n",
       "      <td>3119</td>\n",
       "      <td>3073</td>\n",
       "      <td>3251</td>\n",
       "      <td>3735</td>\n",
       "      <td>4195</td>\n",
       "      <td>4031</td>\n",
       "    </tr>\n",
       "    <tr>\n",
       "      <th>18</th>\n",
       "      <td>FOODS_2</td>\n",
       "      <td>4094</td>\n",
       "      <td>4209</td>\n",
       "      <td>3174</td>\n",
       "      <td>3606</td>\n",
       "      <td>2869</td>\n",
       "      <td>4375</td>\n",
       "      <td>3349</td>\n",
       "      <td>4384</td>\n",
       "      <td>4273</td>\n",
       "      <td>...</td>\n",
       "      <td>5842</td>\n",
       "      <td>7563</td>\n",
       "      <td>9069</td>\n",
       "      <td>6226</td>\n",
       "      <td>5311</td>\n",
       "      <td>4648</td>\n",
       "      <td>4551</td>\n",
       "      <td>4815</td>\n",
       "      <td>5940</td>\n",
       "      <td>6535</td>\n",
       "    </tr>\n",
       "    <tr>\n",
       "      <th>19</th>\n",
       "      <td>FOODS_3</td>\n",
       "      <td>16741</td>\n",
       "      <td>16333</td>\n",
       "      <td>12343</td>\n",
       "      <td>13764</td>\n",
       "      <td>10525</td>\n",
       "      <td>15821</td>\n",
       "      <td>15238</td>\n",
       "      <td>21132</td>\n",
       "      <td>18664</td>\n",
       "      <td>...</td>\n",
       "      <td>20135</td>\n",
       "      <td>24756</td>\n",
       "      <td>28153</td>\n",
       "      <td>19668</td>\n",
       "      <td>17718</td>\n",
       "      <td>17069</td>\n",
       "      <td>16935</td>\n",
       "      <td>19586</td>\n",
       "      <td>23464</td>\n",
       "      <td>25401</td>\n",
       "    </tr>\n",
       "    <tr>\n",
       "      <th>20</th>\n",
       "      <td>HOBBIES_1</td>\n",
       "      <td>3610</td>\n",
       "      <td>3172</td>\n",
       "      <td>2497</td>\n",
       "      <td>2531</td>\n",
       "      <td>1714</td>\n",
       "      <td>3133</td>\n",
       "      <td>2855</td>\n",
       "      <td>3831</td>\n",
       "      <td>2741</td>\n",
       "      <td>...</td>\n",
       "      <td>3422</td>\n",
       "      <td>4414</td>\n",
       "      <td>4464</td>\n",
       "      <td>3109</td>\n",
       "      <td>3142</td>\n",
       "      <td>3291</td>\n",
       "      <td>3027</td>\n",
       "      <td>3761</td>\n",
       "      <td>4832</td>\n",
       "      <td>4720</td>\n",
       "    </tr>\n",
       "    <tr>\n",
       "      <th>21</th>\n",
       "      <td>HOBBIES_2</td>\n",
       "      <td>154</td>\n",
       "      <td>185</td>\n",
       "      <td>185</td>\n",
       "      <td>138</td>\n",
       "      <td>100</td>\n",
       "      <td>87</td>\n",
       "      <td>89</td>\n",
       "      <td>155</td>\n",
       "      <td>158</td>\n",
       "      <td>...</td>\n",
       "      <td>449</td>\n",
       "      <td>479</td>\n",
       "      <td>552</td>\n",
       "      <td>419</td>\n",
       "      <td>487</td>\n",
       "      <td>449</td>\n",
       "      <td>448</td>\n",
       "      <td>382</td>\n",
       "      <td>501</td>\n",
       "      <td>560</td>\n",
       "    </tr>\n",
       "    <tr>\n",
       "      <th>22</th>\n",
       "      <td>HOUSEHOLD_1</td>\n",
       "      <td>4105</td>\n",
       "      <td>3858</td>\n",
       "      <td>2827</td>\n",
       "      <td>2732</td>\n",
       "      <td>1802</td>\n",
       "      <td>2664</td>\n",
       "      <td>3161</td>\n",
       "      <td>4334</td>\n",
       "      <td>3494</td>\n",
       "      <td>...</td>\n",
       "      <td>7936</td>\n",
       "      <td>10042</td>\n",
       "      <td>10572</td>\n",
       "      <td>7609</td>\n",
       "      <td>6999</td>\n",
       "      <td>6641</td>\n",
       "      <td>6759</td>\n",
       "      <td>7974</td>\n",
       "      <td>9668</td>\n",
       "      <td>10165</td>\n",
       "    </tr>\n",
       "    <tr>\n",
       "      <th>23</th>\n",
       "      <td>HOUSEHOLD_2</td>\n",
       "      <td>1584</td>\n",
       "      <td>1776</td>\n",
       "      <td>1100</td>\n",
       "      <td>1133</td>\n",
       "      <td>927</td>\n",
       "      <td>1234</td>\n",
       "      <td>1415</td>\n",
       "      <td>1861</td>\n",
       "      <td>1481</td>\n",
       "      <td>...</td>\n",
       "      <td>2159</td>\n",
       "      <td>2797</td>\n",
       "      <td>2886</td>\n",
       "      <td>2067</td>\n",
       "      <td>2001</td>\n",
       "      <td>1925</td>\n",
       "      <td>1992</td>\n",
       "      <td>2299</td>\n",
       "      <td>2918</td>\n",
       "      <td>2926</td>\n",
       "    </tr>\n",
       "  </tbody>\n",
       "</table>\n",
       "<p>24 rows × 1942 columns</p>\n",
       "</div>"
      ],
      "text/plain": [
       "         id_str    d_1    d_2    d_3    d_4    d_5    d_6    d_7    d_8  \\\n",
       "0           all  32631  31749  23783  25412  19146  29211  28010  37932   \n",
       "1            CA  14195  13805  10108  11047   9925  11322  12251  16610   \n",
       "2            TX   9438   9630   6778   7381   5912   9006   6226   9440   \n",
       "3            WI   8998   8314   6897   6984   3309   8883   9533  11882   \n",
       "4          CA_1   4337   4155   2816   3051   2630   3276   3450   5437   \n",
       "5          CA_2   3494   3046   2121   2324   1942   2288   2629   3729   \n",
       "6          CA_3   4739   4827   3785   4232   3817   4369   4703   5456   \n",
       "7          CA_4   1625   1777   1386   1440   1536   1389   1469   1988   \n",
       "8          TX_1   2556   2687   1822   2258   1694   2734   1691   2820   \n",
       "9          TX_2   3852   3937   2731   2954   2492   3439   2588   3772   \n",
       "10         TX_3   3030   3006   2225   2169   1726   2833   1947   2848   \n",
       "11         WI_1   2704   2194   1562   1251      2   2049   2815   3248   \n",
       "12         WI_2   2256   1922   2018   2522   1175   2244   2232   2643   \n",
       "13         WI_3   4038   4198   3317   3211   2132   4590   4486   5991   \n",
       "14        FOODS  23178  22758  17174  18878  14603  22093  20490  27751   \n",
       "15      HOBBIES   3764   3357   2682   2669   1814   3220   2944   3986   \n",
       "16    HOUSEHOLD   5689   5634   3927   3865   2729   3898   4576   6195   \n",
       "17      FOODS_1   2343   2216   1657   1508   1209   1897   1903   2235   \n",
       "18      FOODS_2   4094   4209   3174   3606   2869   4375   3349   4384   \n",
       "19      FOODS_3  16741  16333  12343  13764  10525  15821  15238  21132   \n",
       "20    HOBBIES_1   3610   3172   2497   2531   1714   3133   2855   3831   \n",
       "21    HOBBIES_2    154    185    185    138    100     87     89    155   \n",
       "22  HOUSEHOLD_1   4105   3858   2827   2732   1802   2664   3161   4334   \n",
       "23  HOUSEHOLD_2   1584   1776   1100   1133    927   1234   1415   1861   \n",
       "\n",
       "      d_9  ...  d_1932  d_1933  d_1934  d_1935  d_1936  d_1937  d_1938  \\\n",
       "0   32736  ...   44073   54308   59921   42362   38777   37096   36963   \n",
       "1   14696  ...   18471   23037   24704   17721   16150   15678   16297   \n",
       "2    9376  ...   12320   12366   16249   12228   11370   10375    9162   \n",
       "3    8664  ...   13282   18905   18968   12413   11257   11043   11504   \n",
       "4    4340  ...    4951    6245    6707    4568    3949    3995    4136   \n",
       "5    2957  ...    4839    6507    6710    4238    3963    3789    4037   \n",
       "6    5581  ...    6046    7029    7969    5891    5523    5375    5580   \n",
       "7    1818  ...    2635    3256    3318    3024    2715    2519    2544   \n",
       "8    2887  ...    3610    3787    5000    3708    3310    3147    2748   \n",
       "9    3657  ...    4415    4424    5866    4179    4008    3518    3126   \n",
       "10   2832  ...    4295    4155    5383    4341    4052    3710    3288   \n",
       "11   1674  ...    3978    5527    5488    3505    3323    3242    3478   \n",
       "12   2140  ...    5317    7704    7586    5011    4628    4533    4628   \n",
       "13   4850  ...    3987    5674    5894    3897    3306    3268    3398   \n",
       "14  24862  ...   30107   36576   41447   29158   26148   24790   24737   \n",
       "15   2899  ...    3871    4893    5016    3528    3629    3740    3475   \n",
       "16   4975  ...   10095   12839   13458    9676    9000    8566    8751   \n",
       "17   1925  ...    4130    4257    4225    3264    3119    3073    3251   \n",
       "18   4273  ...    5842    7563    9069    6226    5311    4648    4551   \n",
       "19  18664  ...   20135   24756   28153   19668   17718   17069   16935   \n",
       "20   2741  ...    3422    4414    4464    3109    3142    3291    3027   \n",
       "21    158  ...     449     479     552     419     487     449     448   \n",
       "22   3494  ...    7936   10042   10572    7609    6999    6641    6759   \n",
       "23   1481  ...    2159    2797    2886    2067    2001    1925    1992   \n",
       "\n",
       "    d_1939  d_1940  d_1941  \n",
       "0    42552   51518   54338  \n",
       "1    17430   23103   24644  \n",
       "2    12303   13681   14815  \n",
       "3    12819   14734   14879  \n",
       "4     4433    5764    6289  \n",
       "5     4751    7120    6614  \n",
       "6     5542    7073    8144  \n",
       "7     2704    3146    3597  \n",
       "8     3664    4167    4624  \n",
       "9     4249    4802    5217  \n",
       "10    4390    4712    4974  \n",
       "11    3813    5002    5054  \n",
       "12    4880    5213    5068  \n",
       "13    4126    4519    4757  \n",
       "14   28136   33599   35967  \n",
       "15    4143    5333    5280  \n",
       "16   10273   12586   13091  \n",
       "17    3735    4195    4031  \n",
       "18    4815    5940    6535  \n",
       "19   19586   23464   25401  \n",
       "20    3761    4832    4720  \n",
       "21     382     501     560  \n",
       "22    7974    9668   10165  \n",
       "23    2299    2918    2926  \n",
       "\n",
       "[24 rows x 1942 columns]"
      ]
     },
     "execution_count": 14,
     "metadata": {},
     "output_type": "execute_result"
    }
   ],
   "source": [
    "## TOP LEVEL aggregates + TOTAL\n",
    "all_aggregates = pd.concat([all_sales,state_sales,store_sales,cat_sales,dept_sales],ignore_index=True)\n",
    "all_aggregates"
   ]
  },
  {
   "cell_type": "code",
   "execution_count": 15,
   "id": "forward-vegetation",
   "metadata": {},
   "outputs": [
    {
     "data": {
      "text/html": [
       "<div>\n",
       "<style scoped>\n",
       "    .dataframe tbody tr th:only-of-type {\n",
       "        vertical-align: middle;\n",
       "    }\n",
       "\n",
       "    .dataframe tbody tr th {\n",
       "        vertical-align: top;\n",
       "    }\n",
       "\n",
       "    .dataframe thead th {\n",
       "        text-align: right;\n",
       "    }\n",
       "</style>\n",
       "<table border=\"1\" class=\"dataframe\">\n",
       "  <thead>\n",
       "    <tr style=\"text-align: right;\">\n",
       "      <th>id_str</th>\n",
       "      <th>all</th>\n",
       "      <th>CA</th>\n",
       "      <th>TX</th>\n",
       "      <th>WI</th>\n",
       "      <th>CA_1</th>\n",
       "      <th>CA_2</th>\n",
       "      <th>CA_3</th>\n",
       "      <th>CA_4</th>\n",
       "      <th>TX_1</th>\n",
       "      <th>TX_2</th>\n",
       "      <th>...</th>\n",
       "      <th>FOODS</th>\n",
       "      <th>HOBBIES</th>\n",
       "      <th>HOUSEHOLD</th>\n",
       "      <th>FOODS_1</th>\n",
       "      <th>FOODS_2</th>\n",
       "      <th>FOODS_3</th>\n",
       "      <th>HOBBIES_1</th>\n",
       "      <th>HOBBIES_2</th>\n",
       "      <th>HOUSEHOLD_1</th>\n",
       "      <th>HOUSEHOLD_2</th>\n",
       "    </tr>\n",
       "    <tr>\n",
       "      <th>date</th>\n",
       "      <th></th>\n",
       "      <th></th>\n",
       "      <th></th>\n",
       "      <th></th>\n",
       "      <th></th>\n",
       "      <th></th>\n",
       "      <th></th>\n",
       "      <th></th>\n",
       "      <th></th>\n",
       "      <th></th>\n",
       "      <th></th>\n",
       "      <th></th>\n",
       "      <th></th>\n",
       "      <th></th>\n",
       "      <th></th>\n",
       "      <th></th>\n",
       "      <th></th>\n",
       "      <th></th>\n",
       "      <th></th>\n",
       "      <th></th>\n",
       "      <th></th>\n",
       "    </tr>\n",
       "  </thead>\n",
       "  <tbody>\n",
       "    <tr>\n",
       "      <th>2011-01-29</th>\n",
       "      <td>32631</td>\n",
       "      <td>14195</td>\n",
       "      <td>9438</td>\n",
       "      <td>8998</td>\n",
       "      <td>4337</td>\n",
       "      <td>3494</td>\n",
       "      <td>4739</td>\n",
       "      <td>1625</td>\n",
       "      <td>2556</td>\n",
       "      <td>3852</td>\n",
       "      <td>...</td>\n",
       "      <td>23178</td>\n",
       "      <td>3764</td>\n",
       "      <td>5689</td>\n",
       "      <td>2343</td>\n",
       "      <td>4094</td>\n",
       "      <td>16741</td>\n",
       "      <td>3610</td>\n",
       "      <td>154</td>\n",
       "      <td>4105</td>\n",
       "      <td>1584</td>\n",
       "    </tr>\n",
       "    <tr>\n",
       "      <th>2011-01-30</th>\n",
       "      <td>31749</td>\n",
       "      <td>13805</td>\n",
       "      <td>9630</td>\n",
       "      <td>8314</td>\n",
       "      <td>4155</td>\n",
       "      <td>3046</td>\n",
       "      <td>4827</td>\n",
       "      <td>1777</td>\n",
       "      <td>2687</td>\n",
       "      <td>3937</td>\n",
       "      <td>...</td>\n",
       "      <td>22758</td>\n",
       "      <td>3357</td>\n",
       "      <td>5634</td>\n",
       "      <td>2216</td>\n",
       "      <td>4209</td>\n",
       "      <td>16333</td>\n",
       "      <td>3172</td>\n",
       "      <td>185</td>\n",
       "      <td>3858</td>\n",
       "      <td>1776</td>\n",
       "    </tr>\n",
       "    <tr>\n",
       "      <th>2011-01-31</th>\n",
       "      <td>23783</td>\n",
       "      <td>10108</td>\n",
       "      <td>6778</td>\n",
       "      <td>6897</td>\n",
       "      <td>2816</td>\n",
       "      <td>2121</td>\n",
       "      <td>3785</td>\n",
       "      <td>1386</td>\n",
       "      <td>1822</td>\n",
       "      <td>2731</td>\n",
       "      <td>...</td>\n",
       "      <td>17174</td>\n",
       "      <td>2682</td>\n",
       "      <td>3927</td>\n",
       "      <td>1657</td>\n",
       "      <td>3174</td>\n",
       "      <td>12343</td>\n",
       "      <td>2497</td>\n",
       "      <td>185</td>\n",
       "      <td>2827</td>\n",
       "      <td>1100</td>\n",
       "    </tr>\n",
       "    <tr>\n",
       "      <th>2011-02-01</th>\n",
       "      <td>25412</td>\n",
       "      <td>11047</td>\n",
       "      <td>7381</td>\n",
       "      <td>6984</td>\n",
       "      <td>3051</td>\n",
       "      <td>2324</td>\n",
       "      <td>4232</td>\n",
       "      <td>1440</td>\n",
       "      <td>2258</td>\n",
       "      <td>2954</td>\n",
       "      <td>...</td>\n",
       "      <td>18878</td>\n",
       "      <td>2669</td>\n",
       "      <td>3865</td>\n",
       "      <td>1508</td>\n",
       "      <td>3606</td>\n",
       "      <td>13764</td>\n",
       "      <td>2531</td>\n",
       "      <td>138</td>\n",
       "      <td>2732</td>\n",
       "      <td>1133</td>\n",
       "    </tr>\n",
       "    <tr>\n",
       "      <th>2011-02-02</th>\n",
       "      <td>19146</td>\n",
       "      <td>9925</td>\n",
       "      <td>5912</td>\n",
       "      <td>3309</td>\n",
       "      <td>2630</td>\n",
       "      <td>1942</td>\n",
       "      <td>3817</td>\n",
       "      <td>1536</td>\n",
       "      <td>1694</td>\n",
       "      <td>2492</td>\n",
       "      <td>...</td>\n",
       "      <td>14603</td>\n",
       "      <td>1814</td>\n",
       "      <td>2729</td>\n",
       "      <td>1209</td>\n",
       "      <td>2869</td>\n",
       "      <td>10525</td>\n",
       "      <td>1714</td>\n",
       "      <td>100</td>\n",
       "      <td>1802</td>\n",
       "      <td>927</td>\n",
       "    </tr>\n",
       "    <tr>\n",
       "      <th>...</th>\n",
       "      <td>...</td>\n",
       "      <td>...</td>\n",
       "      <td>...</td>\n",
       "      <td>...</td>\n",
       "      <td>...</td>\n",
       "      <td>...</td>\n",
       "      <td>...</td>\n",
       "      <td>...</td>\n",
       "      <td>...</td>\n",
       "      <td>...</td>\n",
       "      <td>...</td>\n",
       "      <td>...</td>\n",
       "      <td>...</td>\n",
       "      <td>...</td>\n",
       "      <td>...</td>\n",
       "      <td>...</td>\n",
       "      <td>...</td>\n",
       "      <td>...</td>\n",
       "      <td>...</td>\n",
       "      <td>...</td>\n",
       "      <td>...</td>\n",
       "    </tr>\n",
       "    <tr>\n",
       "      <th>2016-05-18</th>\n",
       "      <td>37096</td>\n",
       "      <td>15678</td>\n",
       "      <td>10375</td>\n",
       "      <td>11043</td>\n",
       "      <td>3995</td>\n",
       "      <td>3789</td>\n",
       "      <td>5375</td>\n",
       "      <td>2519</td>\n",
       "      <td>3147</td>\n",
       "      <td>3518</td>\n",
       "      <td>...</td>\n",
       "      <td>24790</td>\n",
       "      <td>3740</td>\n",
       "      <td>8566</td>\n",
       "      <td>3073</td>\n",
       "      <td>4648</td>\n",
       "      <td>17069</td>\n",
       "      <td>3291</td>\n",
       "      <td>449</td>\n",
       "      <td>6641</td>\n",
       "      <td>1925</td>\n",
       "    </tr>\n",
       "    <tr>\n",
       "      <th>2016-05-19</th>\n",
       "      <td>36963</td>\n",
       "      <td>16297</td>\n",
       "      <td>9162</td>\n",
       "      <td>11504</td>\n",
       "      <td>4136</td>\n",
       "      <td>4037</td>\n",
       "      <td>5580</td>\n",
       "      <td>2544</td>\n",
       "      <td>2748</td>\n",
       "      <td>3126</td>\n",
       "      <td>...</td>\n",
       "      <td>24737</td>\n",
       "      <td>3475</td>\n",
       "      <td>8751</td>\n",
       "      <td>3251</td>\n",
       "      <td>4551</td>\n",
       "      <td>16935</td>\n",
       "      <td>3027</td>\n",
       "      <td>448</td>\n",
       "      <td>6759</td>\n",
       "      <td>1992</td>\n",
       "    </tr>\n",
       "    <tr>\n",
       "      <th>2016-05-20</th>\n",
       "      <td>42552</td>\n",
       "      <td>17430</td>\n",
       "      <td>12303</td>\n",
       "      <td>12819</td>\n",
       "      <td>4433</td>\n",
       "      <td>4751</td>\n",
       "      <td>5542</td>\n",
       "      <td>2704</td>\n",
       "      <td>3664</td>\n",
       "      <td>4249</td>\n",
       "      <td>...</td>\n",
       "      <td>28136</td>\n",
       "      <td>4143</td>\n",
       "      <td>10273</td>\n",
       "      <td>3735</td>\n",
       "      <td>4815</td>\n",
       "      <td>19586</td>\n",
       "      <td>3761</td>\n",
       "      <td>382</td>\n",
       "      <td>7974</td>\n",
       "      <td>2299</td>\n",
       "    </tr>\n",
       "    <tr>\n",
       "      <th>2016-05-21</th>\n",
       "      <td>51518</td>\n",
       "      <td>23103</td>\n",
       "      <td>13681</td>\n",
       "      <td>14734</td>\n",
       "      <td>5764</td>\n",
       "      <td>7120</td>\n",
       "      <td>7073</td>\n",
       "      <td>3146</td>\n",
       "      <td>4167</td>\n",
       "      <td>4802</td>\n",
       "      <td>...</td>\n",
       "      <td>33599</td>\n",
       "      <td>5333</td>\n",
       "      <td>12586</td>\n",
       "      <td>4195</td>\n",
       "      <td>5940</td>\n",
       "      <td>23464</td>\n",
       "      <td>4832</td>\n",
       "      <td>501</td>\n",
       "      <td>9668</td>\n",
       "      <td>2918</td>\n",
       "    </tr>\n",
       "    <tr>\n",
       "      <th>2016-05-22</th>\n",
       "      <td>54338</td>\n",
       "      <td>24644</td>\n",
       "      <td>14815</td>\n",
       "      <td>14879</td>\n",
       "      <td>6289</td>\n",
       "      <td>6614</td>\n",
       "      <td>8144</td>\n",
       "      <td>3597</td>\n",
       "      <td>4624</td>\n",
       "      <td>5217</td>\n",
       "      <td>...</td>\n",
       "      <td>35967</td>\n",
       "      <td>5280</td>\n",
       "      <td>13091</td>\n",
       "      <td>4031</td>\n",
       "      <td>6535</td>\n",
       "      <td>25401</td>\n",
       "      <td>4720</td>\n",
       "      <td>560</td>\n",
       "      <td>10165</td>\n",
       "      <td>2926</td>\n",
       "    </tr>\n",
       "  </tbody>\n",
       "</table>\n",
       "<p>1941 rows × 24 columns</p>\n",
       "</div>"
      ],
      "text/plain": [
       "id_str        all     CA     TX     WI  CA_1  CA_2  CA_3  CA_4  TX_1  TX_2  \\\n",
       "date                                                                         \n",
       "2011-01-29  32631  14195   9438   8998  4337  3494  4739  1625  2556  3852   \n",
       "2011-01-30  31749  13805   9630   8314  4155  3046  4827  1777  2687  3937   \n",
       "2011-01-31  23783  10108   6778   6897  2816  2121  3785  1386  1822  2731   \n",
       "2011-02-01  25412  11047   7381   6984  3051  2324  4232  1440  2258  2954   \n",
       "2011-02-02  19146   9925   5912   3309  2630  1942  3817  1536  1694  2492   \n",
       "...           ...    ...    ...    ...   ...   ...   ...   ...   ...   ...   \n",
       "2016-05-18  37096  15678  10375  11043  3995  3789  5375  2519  3147  3518   \n",
       "2016-05-19  36963  16297   9162  11504  4136  4037  5580  2544  2748  3126   \n",
       "2016-05-20  42552  17430  12303  12819  4433  4751  5542  2704  3664  4249   \n",
       "2016-05-21  51518  23103  13681  14734  5764  7120  7073  3146  4167  4802   \n",
       "2016-05-22  54338  24644  14815  14879  6289  6614  8144  3597  4624  5217   \n",
       "\n",
       "id_str      ...  FOODS  HOBBIES  HOUSEHOLD  FOODS_1  FOODS_2  FOODS_3  \\\n",
       "date        ...                                                         \n",
       "2011-01-29  ...  23178     3764       5689     2343     4094    16741   \n",
       "2011-01-30  ...  22758     3357       5634     2216     4209    16333   \n",
       "2011-01-31  ...  17174     2682       3927     1657     3174    12343   \n",
       "2011-02-01  ...  18878     2669       3865     1508     3606    13764   \n",
       "2011-02-02  ...  14603     1814       2729     1209     2869    10525   \n",
       "...         ...    ...      ...        ...      ...      ...      ...   \n",
       "2016-05-18  ...  24790     3740       8566     3073     4648    17069   \n",
       "2016-05-19  ...  24737     3475       8751     3251     4551    16935   \n",
       "2016-05-20  ...  28136     4143      10273     3735     4815    19586   \n",
       "2016-05-21  ...  33599     5333      12586     4195     5940    23464   \n",
       "2016-05-22  ...  35967     5280      13091     4031     6535    25401   \n",
       "\n",
       "id_str      HOBBIES_1  HOBBIES_2  HOUSEHOLD_1  HOUSEHOLD_2  \n",
       "date                                                        \n",
       "2011-01-29       3610        154         4105         1584  \n",
       "2011-01-30       3172        185         3858         1776  \n",
       "2011-01-31       2497        185         2827         1100  \n",
       "2011-02-01       2531        138         2732         1133  \n",
       "2011-02-02       1714        100         1802          927  \n",
       "...               ...        ...          ...          ...  \n",
       "2016-05-18       3291        449         6641         1925  \n",
       "2016-05-19       3027        448         6759         1992  \n",
       "2016-05-20       3761        382         7974         2299  \n",
       "2016-05-21       4832        501         9668         2918  \n",
       "2016-05-22       4720        560        10165         2926  \n",
       "\n",
       "[1941 rows x 24 columns]"
      ]
     },
     "execution_count": 15,
     "metadata": {},
     "output_type": "execute_result"
    }
   ],
   "source": [
    "main_df = all_aggregates.set_index('id_str').T\n",
    "main_df['date'] = calendar[['d', 'date']].set_index('d')['date']\n",
    "main_df = main_df.set_index('date')\n",
    "main_df.index = pd.DatetimeIndex(main_df.index)\n",
    "main_df"
   ]
  },
  {
   "cell_type": "markdown",
   "id": "alien-latter",
   "metadata": {},
   "source": [
    "# Aggregate time series visualization\n",
    "\n",
    "Visualize data using different aggregation levels, e.g. by product category and by state. Scale the data to help vizualize differences in patterns. "
   ]
  },
  {
   "cell_type": "code",
   "execution_count": 16,
   "id": "honey-preservation",
   "metadata": {},
   "outputs": [],
   "source": [
    "import matplotlib.pyplot as plt\n",
    "from sklearn.preprocessing import scale"
   ]
  },
  {
   "cell_type": "code",
   "execution_count": 17,
   "id": "virgin-causing",
   "metadata": {},
   "outputs": [
    {
     "data": {
      "text/plain": [
       "Text(0.5, 1.0, 'Total Sales (All Aggregated)')"
      ]
     },
     "execution_count": 17,
     "metadata": {},
     "output_type": "execute_result"
    },
    {
     "data": {
      "image/png": "[encoded data removed]",
      "text/plain": [
       "<Figure size 1080x288 with 1 Axes>"
      ]
     },
     "metadata": {
      "needs_background": "light"
     },
     "output_type": "display_data"
    }
   ],
   "source": [
    "fig, ax = plt.subplots(figsize=(15,4))\n",
    "ax.plot(main_df.index, scale(main_df['all']), label='all', alpha=0.5)\n",
    "plt.legend()\n",
    "plt.title(\"Total Sales (All Aggregated)\")"
   ]
  },
  {
   "cell_type": "code",
   "execution_count": 18,
   "id": "trying-connectivity",
   "metadata": {},
   "outputs": [],
   "source": [
    "data_df = all_sales.set_index('id_str').transpose()"
   ]
  },
  {
   "cell_type": "code",
   "execution_count": 19,
   "id": "thirty-slovak",
   "metadata": {},
   "outputs": [
    {
     "data": {
      "text/html": [
       "<div>\n",
       "<style scoped>\n",
       "    .dataframe tbody tr th:only-of-type {\n",
       "        vertical-align: middle;\n",
       "    }\n",
       "\n",
       "    .dataframe tbody tr th {\n",
       "        vertical-align: top;\n",
       "    }\n",
       "\n",
       "    .dataframe thead th {\n",
       "        text-align: right;\n",
       "    }\n",
       "</style>\n",
       "<table border=\"1\" class=\"dataframe\">\n",
       "  <thead>\n",
       "    <tr style=\"text-align: right;\">\n",
       "      <th>id_str</th>\n",
       "      <th>all</th>\n",
       "    </tr>\n",
       "  </thead>\n",
       "  <tbody>\n",
       "    <tr>\n",
       "      <th>d_1</th>\n",
       "      <td>32631</td>\n",
       "    </tr>\n",
       "    <tr>\n",
       "      <th>d_2</th>\n",
       "      <td>31749</td>\n",
       "    </tr>\n",
       "    <tr>\n",
       "      <th>d_3</th>\n",
       "      <td>23783</td>\n",
       "    </tr>\n",
       "    <tr>\n",
       "      <th>d_4</th>\n",
       "      <td>25412</td>\n",
       "    </tr>\n",
       "    <tr>\n",
       "      <th>d_5</th>\n",
       "      <td>19146</td>\n",
       "    </tr>\n",
       "    <tr>\n",
       "      <th>...</th>\n",
       "      <td>...</td>\n",
       "    </tr>\n",
       "    <tr>\n",
       "      <th>d_1937</th>\n",
       "      <td>37096</td>\n",
       "    </tr>\n",
       "    <tr>\n",
       "      <th>d_1938</th>\n",
       "      <td>36963</td>\n",
       "    </tr>\n",
       "    <tr>\n",
       "      <th>d_1939</th>\n",
       "      <td>42552</td>\n",
       "    </tr>\n",
       "    <tr>\n",
       "      <th>d_1940</th>\n",
       "      <td>51518</td>\n",
       "    </tr>\n",
       "    <tr>\n",
       "      <th>d_1941</th>\n",
       "      <td>54338</td>\n",
       "    </tr>\n",
       "  </tbody>\n",
       "</table>\n",
       "<p>1941 rows × 1 columns</p>\n",
       "</div>"
      ],
      "text/plain": [
       "id_str    all\n",
       "d_1     32631\n",
       "d_2     31749\n",
       "d_3     23783\n",
       "d_4     25412\n",
       "d_5     19146\n",
       "...       ...\n",
       "d_1937  37096\n",
       "d_1938  36963\n",
       "d_1939  42552\n",
       "d_1940  51518\n",
       "d_1941  54338\n",
       "\n",
       "[1941 rows x 1 columns]"
      ]
     },
     "execution_count": 19,
     "metadata": {},
     "output_type": "execute_result"
    }
   ],
   "source": [
    "data_df"
   ]
  },
  {
   "cell_type": "markdown",
   "id": "robust-figure",
   "metadata": {},
   "source": [
    "### Pytorch Forecasting with NBEATS\n",
    "Data preparation"
   ]
  },
  {
   "cell_type": "code",
   "execution_count": 20,
   "id": "announced-alfred",
   "metadata": {},
   "outputs": [],
   "source": [
    "import seaborn as sns\n",
    "import torch\n",
    "import pytorch_lightning as pl\n",
    "from pytorch_lightning.callbacks import EarlyStopping, LearningRateMonitor, Callback\n",
    "from pytorch_forecasting import TimeSeriesDataSet, NBeats, Baseline, DeepAR, GroupNormalizer, MultiNormalizer, EncoderNormalizer\n",
    "from pytorch_forecasting.data import NaNLabelEncoder\n",
    "from pytorch_forecasting.metrics import MAPE, MAE, MASE, RMSE\n",
    "from pytorch_forecasting.metrics import NormalDistributionLoss"
   ]
  },
  {
   "cell_type": "code",
   "execution_count": 21,
   "id": "touched-military",
   "metadata": {},
   "outputs": [],
   "source": [
    "class EpochCallback(Callback):\n",
    "        \n",
    "    def on_validation_epoch_end(self, trainer, module):\n",
    "        print(trainer.progress_bar_metrics)"
   ]
  },
  {
   "cell_type": "markdown",
   "id": "sharing-given",
   "metadata": {},
   "source": [
    "#### Data Splitting\n",
    "\n",
    "We immediately split the data into training and test sets. We can later split the training set into training and validation."
   ]
  },
  {
   "cell_type": "code",
   "execution_count": 22,
   "id": "multiple-article",
   "metadata": {},
   "outputs": [],
   "source": [
    "train_size = 0.8\n",
    "\n",
    "train_df = data_df.iloc[:int(len(data_df)*train_size)]\n",
    "test_df = data_df.iloc[int(len(data_df)*train_size):]"
   ]
  },
  {
   "cell_type": "markdown",
   "id": "derived-wrestling",
   "metadata": {},
   "source": [
    "#### Data Formatting\n",
    "\n",
    "PyTorch Forecasting expects data to be formatted using its own [TimeSeriesDataSet](https://pytorch-forecasting.readthedocs.io/en/latest/data.html) objects. Building a TimeSeriesDataSet begins with a Pandas DataFrame, and like with Prophet and NeuralProphet, we need to add certain custom columns.\n",
    "\n",
    "For this demo, we are once again specifying a lead time of 30 days and we will withhold the last 20% of data for testing. In the code below, we are very careful to ensure that when training and validating the model, it does not have access to the withheld data.\n",
    "\n",
    "#### Time Series Data Formatting\n",
    "\n",
    "PyTorch Forecasting models can accomodate datasets consisting of multiple, coincident time series in several ways. As per the [documentation](https://pytorch-forecasting.readthedocs.io/en/latest/data.html), a combination of `group_id` and `time_idx` identify a sample in the data, and that *if we have only one time series, to set* `group_id` *to a constant.*\n",
    "\n",
    "`time_idx` is an *integer column denoting the time index*. This, as opposed to the `date` column, is used to determine the temporal sequence of samples. \n",
    "\n",
    "#### Preparing a TimeSeriesDataSet for N-BEATS\n",
    "\n",
    "N-BEATS is a univariate forecasting method. As such, it can only process one variable at a time."
   ]
  },
  {
   "cell_type": "code",
   "execution_count": null,
   "id": "latin-devil",
   "metadata": {},
   "outputs": [],
   "source": []
  },
  {
   "cell_type": "code",
   "execution_count": 23,
   "id": "crazy-robinson",
   "metadata": {},
   "outputs": [
    {
     "name": "stderr",
     "output_type": "stream",
     "text": [
      "/ssd003/projects/aieng/public/forecasting_unified/lib/python3.8/site-packages/pandas/core/frame.py:3607: SettingWithCopyWarning: \n",
      "A value is trying to be set on a copy of a slice from a DataFrame.\n",
      "Try using .loc[row_indexer,col_indexer] = value instead\n",
      "\n",
      "See the caveats in the documentation: https://pandas.pydata.org/pandas-docs/stable/user_guide/indexing.html#returning-a-view-versus-a-copy\n",
      "  self._set_item(key, value)\n"
     ]
    }
   ],
   "source": [
    "lag_time = 5*28\n",
    "lead_time = 28\n",
    "\n",
    "train_df['time_idx'] = train_df.index.to_series().apply(lambda x: int(x.split('_')[1]))\n",
    "test_df['time_idx'] = test_df.index.to_series().apply(lambda x: int(x.split('_')[1]))\n",
    "\n",
    "train_df['group_ids'] = 0\n",
    "test_df['group_ids'] = 0"
   ]
  },
  {
   "cell_type": "code",
   "execution_count": 24,
   "id": "lyric-government",
   "metadata": {},
   "outputs": [],
   "source": [
    "train_df['all'] = train_df['all'].astype('float')"
   ]
  },
  {
   "cell_type": "code",
   "execution_count": 25,
   "id": "searching-haiti",
   "metadata": {},
   "outputs": [],
   "source": [
    "test_df['all'] = test_df['all'].astype('float')"
   ]
  },
  {
   "cell_type": "markdown",
   "id": "careful-makeup",
   "metadata": {},
   "source": [
    "The following code defines the training/validation split and important parts of the prediction task - the lag time and lead time. Here we are specifying that 25% of the training data should be used for validation. In total, this results in a 60/20/20 train/valid/test split (since 25% of 80% is 20% of the initial 100%)."
   ]
  },
  {
   "cell_type": "code",
   "execution_count": 26,
   "id": "silent-facing",
   "metadata": {},
   "outputs": [],
   "source": [
    "# define dataset\n",
    "valid_size = 0.25  \n",
    "max_encoder_length = lag_time\n",
    "max_prediction_length = lead_time\n",
    "training_cutoff = train_df[\"time_idx\"][:int((1 - valid_size)*train_df[\"time_idx\"].max())].values[-1]\n",
    "context_length = max_encoder_length\n",
    "prediction_length = max_prediction_length"
   ]
  },
  {
   "cell_type": "markdown",
   "id": "sitting-september",
   "metadata": {},
   "source": [
    "Since NBEATS is actually a univariate forecasting model, it makes sense that pytorch-forecasting does not support specifying explanatory variables as `time_varying_unknown_reals`."
   ]
  },
  {
   "cell_type": "code",
   "execution_count": 27,
   "id": "organized-tiffany",
   "metadata": {},
   "outputs": [],
   "source": [
    "training = TimeSeriesDataSet(\n",
    "    train_df.loc[train_df.time_idx <= training_cutoff],  # Applying the training cutoff\n",
    "    time_idx=\"time_idx\",\n",
    "    target=\"all\",\n",
    "    #categorical_encoders={\"group_ids\": NaNLabelEncoder().fit(train_df.group_ids)},\n",
    "    group_ids=['group_ids'],\n",
    "    max_encoder_length=context_length,\n",
    "    max_prediction_length=max_prediction_length,\n",
    "    time_varying_unknown_reals=[\"all\"],\n",
    ")"
   ]
  },
  {
   "cell_type": "code",
   "execution_count": 28,
   "id": "cognitive-scroll",
   "metadata": {},
   "outputs": [],
   "source": [
    "validation = TimeSeriesDataSet(\n",
    "    train_df.loc[train_df.time_idx > training_cutoff],  # Applying the training cutoff\n",
    "    time_idx=\"time_idx\",\n",
    "    target=\"all\",\n",
    "    #categorical_encoders={\"group_ids\": NaNLabelEncoder().fit(train_df.group_ids)},\n",
    "    group_ids=['group_ids'],\n",
    "    max_encoder_length=context_length,\n",
    "    max_prediction_length=max_prediction_length,\n",
    "    time_varying_unknown_reals=[\"all\"],\n",
    ")"
   ]
  },
  {
   "cell_type": "code",
   "execution_count": 29,
   "id": "invisible-convenience",
   "metadata": {},
   "outputs": [],
   "source": [
    "batch_size = 64\n",
    "train_dataloader = training.to_dataloader(train=True, batch_size=batch_size, num_workers=1)\n",
    "val_dataloader = validation.to_dataloader(train=False, batch_size=batch_size, num_workers=1)"
   ]
  },
  {
   "cell_type": "markdown",
   "id": "changing-impossible",
   "metadata": {},
   "source": [
    "### Training the model\n",
    "\n",
    "In our first effort to train the N-BEATS model, we adopt the default configuration suggested by the pytorch-forecasting [tutorials](https://pytorch-forecasting.readthedocs.io/en/stable/tutorials/ar.html)."
   ]
  },
  {
   "cell_type": "code",
   "execution_count": 30,
   "id": "green-sculpture",
   "metadata": {},
   "outputs": [
    {
     "name": "stderr",
     "output_type": "stream",
     "text": [
      "Global seed set to 42\n",
      "GPU available: True, used: True\n",
      "TPU available: False, using: 0 TPU cores\n",
      "IPU available: False, using: 0 IPUs\n",
      "/ssd003/projects/aieng/public/forecasting_unified/lib/python3.8/site-packages/pytorch_forecasting/models/nbeats/sub_modules.py:154: UserWarning: Creating a tensor from a list of numpy.ndarrays is extremely slow. Please consider converting the list to a single numpy.ndarray with numpy.array() before converting to a tensor. (Triggered internally at  ../torch/csrc/utils/tensor_new.cpp:201.)\n",
      "  coefficients = torch.tensor([backcast_linspace ** i for i in range(thetas_dim)], dtype=torch.float32)\n",
      "/ssd003/projects/aieng/public/forecasting_unified/lib/python3.8/site-packages/pytorch_lightning/trainer/trainer.py:735: LightningDeprecationWarning: `trainer.fit(train_dataloader)` is deprecated in v1.4 and will be removed in v1.6. Use `trainer.fit(train_dataloaders)` instead. HINT: added 's'\n",
      "  rank_zero_deprecation(\n",
      "LOCAL_RANK: 0 - CUDA_VISIBLE_DEVICES: [0]\n",
      "Set SLURM handle signals.\n",
      "\n",
      "  | Name            | Type       | Params\n",
      "-----------------------------------------------\n",
      "0 | loss            | MASE       | 0     \n",
      "1 | logging_metrics | ModuleList | 0     \n",
      "2 | net_blocks      | ModuleList | 1.9 M \n",
      "-----------------------------------------------\n",
      "1.9 M     Trainable params\n",
      "0         Non-trainable params\n",
      "1.9 M     Total params\n",
      "7.423     Total estimated model params size (MB)\n"
     ]
    },
    {
     "data": {
      "application/vnd.jupyter.widget-view+json": {
       "model_id": "710306cf7e6b40e9ae0306a429dd0fef",
       "version_major": 2,
       "version_minor": 0
      },
      "text/plain": [
       "Validation sanity check: 0it [00:00, ?it/s]"
      ]
     },
     "metadata": {},
     "output_type": "display_data"
    },
    {
     "name": "stderr",
     "output_type": "stream",
     "text": [
      "/ssd003/projects/aieng/public/forecasting_unified/lib/python3.8/site-packages/pytorch_lightning/trainer/data_loading.py:132: UserWarning: The dataloader, val_dataloader 0, does not have many workers which may be a bottleneck. Consider increasing the value of the `num_workers` argument` (try 32 which is the number of cpus on this machine) in the `DataLoader` init to improve performance.\n",
      "  rank_zero_warn(\n",
      "/ssd003/projects/aieng/public/forecasting_unified/lib/python3.8/site-packages/pytorch_lightning/utilities/data.py:59: UserWarning: Trying to infer the `batch_size` from an ambiguous collection. The batch size we found is 64. To avoid any miscalculations, use `self.log(..., batch_size=batch_size)`.\n",
      "  warning_cache.warn(\n",
      "Global seed set to 42\n"
     ]
    },
    {
     "name": "stdout",
     "output_type": "stream",
     "text": [
      "{'sanity_check_loss': 1.3019667863845825}\n"
     ]
    },
    {
     "name": "stderr",
     "output_type": "stream",
     "text": [
      "/ssd003/projects/aieng/public/forecasting_unified/lib/python3.8/site-packages/pytorch_lightning/trainer/data_loading.py:132: UserWarning: The dataloader, train_dataloader, does not have many workers which may be a bottleneck. Consider increasing the value of the `num_workers` argument` (try 32 which is the number of cpus on this machine) in the `DataLoader` init to improve performance.\n",
      "  rank_zero_warn(\n",
      "/ssd003/projects/aieng/public/forecasting_unified/lib/python3.8/site-packages/pytorch_lightning/trainer/data_loading.py:432: UserWarning: The number of training samples (15) is smaller than the logging interval Trainer(log_every_n_steps=50). Set a lower value for log_every_n_steps if you want to see logs for the training epoch.\n",
      "  rank_zero_warn(\n"
     ]
    },
    {
     "data": {
      "application/vnd.jupyter.widget-view+json": {
       "model_id": "06063f31853242b88acd534ccf51187b",
       "version_major": 2,
       "version_minor": 0
      },
      "text/plain": [
       "Training: 0it [00:00, ?it/s]"
      ]
     },
     "metadata": {},
     "output_type": "display_data"
    },
    {
     "data": {
      "application/vnd.jupyter.widget-view+json": {
       "model_id": "89de207382814b32895561972d0608ce",
       "version_major": 2,
       "version_minor": 0
      },
      "text/plain": [
       "Validating: 0it [00:00, ?it/s]"
      ]
     },
     "metadata": {},
     "output_type": "display_data"
    },
    {
     "name": "stderr",
     "output_type": "stream",
     "text": [
      "/ssd003/projects/aieng/public/forecasting_unified/lib/python3.8/site-packages/pytorch_lightning/utilities/data.py:59: UserWarning: Trying to infer the `batch_size` from an ambiguous collection. The batch size we found is 29. To avoid any miscalculations, use `self.log(..., batch_size=batch_size)`.\n",
      "  warning_cache.warn(\n"
     ]
    },
    {
     "name": "stdout",
     "output_type": "stream",
     "text": [
      "{'train_loss_step': 1.2623318433761597, 'val_loss': 1.2292876243591309}\n"
     ]
    },
    {
     "data": {
      "application/vnd.jupyter.widget-view+json": {
       "model_id": "957ba9f440f94efaa226723a83280a61",
       "version_major": 2,
       "version_minor": 0
      },
      "text/plain": [
       "Validating: 0it [00:00, ?it/s]"
      ]
     },
     "metadata": {},
     "output_type": "display_data"
    },
    {
     "name": "stdout",
     "output_type": "stream",
     "text": [
      "{'train_loss_step': 1.2424348592758179, 'val_loss': 1.2220579385757446, 'train_loss_epoch': 1.2692599296569824}\n"
     ]
    },
    {
     "data": {
      "application/vnd.jupyter.widget-view+json": {
       "model_id": "f0b1e8b39b304d50a634dccafd787f84",
       "version_major": 2,
       "version_minor": 0
      },
      "text/plain": [
       "Validating: 0it [00:00, ?it/s]"
      ]
     },
     "metadata": {},
     "output_type": "display_data"
    },
    {
     "name": "stdout",
     "output_type": "stream",
     "text": [
      "{'train_loss_step': 1.218926191329956, 'val_loss': 1.2062374353408813, 'train_loss_epoch': 1.2601131200790405}\n"
     ]
    },
    {
     "data": {
      "application/vnd.jupyter.widget-view+json": {
       "model_id": "ecbf5d5def584fb3bd98b65793f61b3b",
       "version_major": 2,
       "version_minor": 0
      },
      "text/plain": [
       "Validating: 0it [00:00, ?it/s]"
      ]
     },
     "metadata": {},
     "output_type": "display_data"
    },
    {
     "name": "stdout",
     "output_type": "stream",
     "text": [
      "{'train_loss_step': 1.2393648624420166, 'val_loss': 1.1922132968902588, 'train_loss_epoch': 1.2467247247695923}\n"
     ]
    },
    {
     "data": {
      "application/vnd.jupyter.widget-view+json": {
       "model_id": "77d60be481d442ffb981f8f47162c5eb",
       "version_major": 2,
       "version_minor": 0
      },
      "text/plain": [
       "Validating: 0it [00:00, ?it/s]"
      ]
     },
     "metadata": {},
     "output_type": "display_data"
    },
    {
     "name": "stdout",
     "output_type": "stream",
     "text": [
      "{'train_loss_step': 1.1953001022338867, 'val_loss': 1.168216586112976, 'train_loss_epoch': 1.2244445085525513}\n"
     ]
    },
    {
     "data": {
      "application/vnd.jupyter.widget-view+json": {
       "model_id": "2cbc9c0f12044938b28364cd45101baf",
       "version_major": 2,
       "version_minor": 0
      },
      "text/plain": [
       "Validating: 0it [00:00, ?it/s]"
      ]
     },
     "metadata": {},
     "output_type": "display_data"
    },
    {
     "name": "stdout",
     "output_type": "stream",
     "text": [
      "{'train_loss_step': 1.1817747354507446, 'val_loss': 1.1497377157211304, 'train_loss_epoch': 1.2003560066223145}\n"
     ]
    },
    {
     "data": {
      "application/vnd.jupyter.widget-view+json": {
       "model_id": "42543667882c44678982fbbddc50458f",
       "version_major": 2,
       "version_minor": 0
      },
      "text/plain": [
       "Validating: 0it [00:00, ?it/s]"
      ]
     },
     "metadata": {},
     "output_type": "display_data"
    },
    {
     "name": "stdout",
     "output_type": "stream",
     "text": [
      "{'train_loss_step': 1.1336944103240967, 'val_loss': 1.1190413236618042, 'train_loss_epoch': 1.1736146211624146}\n"
     ]
    },
    {
     "data": {
      "application/vnd.jupyter.widget-view+json": {
       "model_id": "0683a7c670dc452e8f4b5abce0201195",
       "version_major": 2,
       "version_minor": 0
      },
      "text/plain": [
       "Validating: 0it [00:00, ?it/s]"
      ]
     },
     "metadata": {},
     "output_type": "display_data"
    },
    {
     "name": "stdout",
     "output_type": "stream",
     "text": [
      "{'train_loss_step': 1.1022652387619019, 'val_loss': 1.09721040725708, 'train_loss_epoch': 1.1485419273376465}\n"
     ]
    },
    {
     "data": {
      "application/vnd.jupyter.widget-view+json": {
       "model_id": "c0ef4d51bf0848a48d6d797332fab8ff",
       "version_major": 2,
       "version_minor": 0
      },
      "text/plain": [
       "Validating: 0it [00:00, ?it/s]"
      ]
     },
     "metadata": {},
     "output_type": "display_data"
    },
    {
     "name": "stdout",
     "output_type": "stream",
     "text": [
      "{'train_loss_step': 1.0839821100234985, 'val_loss': 1.0617315769195557, 'train_loss_epoch': 1.119648814201355}\n"
     ]
    },
    {
     "data": {
      "application/vnd.jupyter.widget-view+json": {
       "model_id": "9805dcf6eec34aa2b652a07cd55440d8",
       "version_major": 2,
       "version_minor": 0
      },
      "text/plain": [
       "Validating: 0it [00:00, ?it/s]"
      ]
     },
     "metadata": {},
     "output_type": "display_data"
    },
    {
     "name": "stdout",
     "output_type": "stream",
     "text": [
      "{'train_loss_step': 1.0234404802322388, 'val_loss': 1.0370254516601562, 'train_loss_epoch': 1.0903491973876953}\n"
     ]
    },
    {
     "data": {
      "application/vnd.jupyter.widget-view+json": {
       "model_id": "da49a743e1584d6aab3724f19d185583",
       "version_major": 2,
       "version_minor": 0
      },
      "text/plain": [
       "Validating: 0it [00:00, ?it/s]"
      ]
     },
     "metadata": {},
     "output_type": "display_data"
    },
    {
     "name": "stdout",
     "output_type": "stream",
     "text": [
      "{'train_loss_step': 1.0474916696548462, 'val_loss': 0.999877393245697, 'train_loss_epoch': 1.0647633075714111}\n"
     ]
    },
    {
     "data": {
      "application/vnd.jupyter.widget-view+json": {
       "model_id": "a770712f33754579b4c07ac09082804b",
       "version_major": 2,
       "version_minor": 0
      },
      "text/plain": [
       "Validating: 0it [00:00, ?it/s]"
      ]
     },
     "metadata": {},
     "output_type": "display_data"
    },
    {
     "name": "stdout",
     "output_type": "stream",
     "text": [
      "{'train_loss_step': 0.9575961232185364, 'val_loss': 0.9743616580963135, 'train_loss_epoch': 1.0281862020492554}\n"
     ]
    },
    {
     "data": {
      "application/vnd.jupyter.widget-view+json": {
       "model_id": "d5f5ad59631c48b6b2258807ccd17d60",
       "version_major": 2,
       "version_minor": 0
      },
      "text/plain": [
       "Validating: 0it [00:00, ?it/s]"
      ]
     },
     "metadata": {},
     "output_type": "display_data"
    },
    {
     "name": "stdout",
     "output_type": "stream",
     "text": [
      "{'train_loss_step': 0.9869336485862732, 'val_loss': 0.9366111159324646, 'train_loss_epoch': 0.9996758699417114}\n"
     ]
    },
    {
     "data": {
      "application/vnd.jupyter.widget-view+json": {
       "model_id": "d92dcbd4e252425781d606c26bbc1517",
       "version_major": 2,
       "version_minor": 0
      },
      "text/plain": [
       "Validating: 0it [00:00, ?it/s]"
      ]
     },
     "metadata": {},
     "output_type": "display_data"
    },
    {
     "name": "stdout",
     "output_type": "stream",
     "text": [
      "{'train_loss_step': 0.9364811778068542, 'val_loss': 0.9137256145477295, 'train_loss_epoch': 0.9675887823104858}\n"
     ]
    },
    {
     "data": {
      "application/vnd.jupyter.widget-view+json": {
       "model_id": "3c62bff4e12c4f89a4399ac8020d745b",
       "version_major": 2,
       "version_minor": 0
      },
      "text/plain": [
       "Validating: 0it [00:00, ?it/s]"
      ]
     },
     "metadata": {},
     "output_type": "display_data"
    },
    {
     "name": "stdout",
     "output_type": "stream",
     "text": [
      "{'train_loss_step': 0.8875659704208374, 'val_loss': 0.8799428939819336, 'train_loss_epoch': 0.9376458525657654}\n"
     ]
    },
    {
     "data": {
      "application/vnd.jupyter.widget-view+json": {
       "model_id": "2e8678b7fe654c08b8a9e431bb755359",
       "version_major": 2,
       "version_minor": 0
      },
      "text/plain": [
       "Validating: 0it [00:00, ?it/s]"
      ]
     },
     "metadata": {},
     "output_type": "display_data"
    },
    {
     "name": "stdout",
     "output_type": "stream",
     "text": [
      "{'train_loss_step': 0.8377848863601685, 'val_loss': 0.8601791858673096, 'train_loss_epoch': 0.9088609218597412}\n"
     ]
    },
    {
     "data": {
      "application/vnd.jupyter.widget-view+json": {
       "model_id": "840c6ca300c3470d8b36ff6078c92961",
       "version_major": 2,
       "version_minor": 0
      },
      "text/plain": [
       "Validating: 0it [00:00, ?it/s]"
      ]
     },
     "metadata": {},
     "output_type": "display_data"
    },
    {
     "name": "stdout",
     "output_type": "stream",
     "text": [
      "{'train_loss_step': 0.8276516199111938, 'val_loss': 0.829084038734436, 'train_loss_epoch': 0.880793571472168}\n"
     ]
    },
    {
     "data": {
      "application/vnd.jupyter.widget-view+json": {
       "model_id": "7dcdc2701f31424f96f4a05cacab2366",
       "version_major": 2,
       "version_minor": 0
      },
      "text/plain": [
       "Validating: 0it [00:00, ?it/s]"
      ]
     },
     "metadata": {},
     "output_type": "display_data"
    },
    {
     "name": "stdout",
     "output_type": "stream",
     "text": [
      "{'train_loss_step': 0.8015808463096619, 'val_loss': 0.8099212646484375, 'train_loss_epoch': 0.8504635691642761}\n"
     ]
    },
    {
     "data": {
      "application/vnd.jupyter.widget-view+json": {
       "model_id": "8e6868d8942d433786f88d04da9009b1",
       "version_major": 2,
       "version_minor": 0
      },
      "text/plain": [
       "Validating: 0it [00:00, ?it/s]"
      ]
     },
     "metadata": {},
     "output_type": "display_data"
    },
    {
     "name": "stdout",
     "output_type": "stream",
     "text": [
      "{'train_loss_step': 0.823368489742279, 'val_loss': 0.7854837775230408, 'train_loss_epoch': 0.82375568151474}\n"
     ]
    },
    {
     "data": {
      "application/vnd.jupyter.widget-view+json": {
       "model_id": "f3c855ce8e04492bad76d122e6e658dd",
       "version_major": 2,
       "version_minor": 0
      },
      "text/plain": [
       "Validating: 0it [00:00, ?it/s]"
      ]
     },
     "metadata": {},
     "output_type": "display_data"
    },
    {
     "name": "stdout",
     "output_type": "stream",
     "text": [
      "{'train_loss_step': 0.7828031778335571, 'val_loss': 0.7727875709533691, 'train_loss_epoch': 0.8053091168403625}\n"
     ]
    },
    {
     "data": {
      "application/vnd.jupyter.widget-view+json": {
       "model_id": "527f3395b4c341e9bb270d4860be4359",
       "version_major": 2,
       "version_minor": 0
      },
      "text/plain": [
       "Validating: 0it [00:00, ?it/s]"
      ]
     },
     "metadata": {},
     "output_type": "display_data"
    },
    {
     "name": "stdout",
     "output_type": "stream",
     "text": [
      "{'train_loss_step': 0.7520516514778137, 'val_loss': 0.75732421875, 'train_loss_epoch': 0.7835503220558167}\n"
     ]
    },
    {
     "data": {
      "application/vnd.jupyter.widget-view+json": {
       "model_id": "f6cc51832ccb4f1da3cd078d1a4177ec",
       "version_major": 2,
       "version_minor": 0
      },
      "text/plain": [
       "Validating: 0it [00:00, ?it/s]"
      ]
     },
     "metadata": {},
     "output_type": "display_data"
    },
    {
     "name": "stdout",
     "output_type": "stream",
     "text": [
      "{'train_loss_step': 0.710182785987854, 'val_loss': 0.7458650469779968, 'train_loss_epoch': 0.763447642326355}\n"
     ]
    },
    {
     "data": {
      "application/vnd.jupyter.widget-view+json": {
       "model_id": "3f22a89ecb304127914d3828d738abfd",
       "version_major": 2,
       "version_minor": 0
      },
      "text/plain": [
       "Validating: 0it [00:00, ?it/s]"
      ]
     },
     "metadata": {},
     "output_type": "display_data"
    },
    {
     "name": "stdout",
     "output_type": "stream",
     "text": [
      "{'train_loss_step': 0.688669741153717, 'val_loss': 0.7295116782188416, 'train_loss_epoch': 0.7472051978111267}\n"
     ]
    },
    {
     "data": {
      "application/vnd.jupyter.widget-view+json": {
       "model_id": "5c38d988403b463297399760bb37d1aa",
       "version_major": 2,
       "version_minor": 0
      },
      "text/plain": [
       "Validating: 0it [00:00, ?it/s]"
      ]
     },
     "metadata": {},
     "output_type": "display_data"
    },
    {
     "name": "stdout",
     "output_type": "stream",
     "text": [
      "{'train_loss_step': 0.7427323460578918, 'val_loss': 0.7224738597869873, 'train_loss_epoch': 0.7318926453590393}\n"
     ]
    },
    {
     "data": {
      "application/vnd.jupyter.widget-view+json": {
       "model_id": "90ab94d0503847c88bd4fef28a7a0d2a",
       "version_major": 2,
       "version_minor": 0
      },
      "text/plain": [
       "Validating: 0it [00:00, ?it/s]"
      ]
     },
     "metadata": {},
     "output_type": "display_data"
    },
    {
     "name": "stdout",
     "output_type": "stream",
     "text": [
      "{'train_loss_step': 0.7289749979972839, 'val_loss': 0.7139909267425537, 'train_loss_epoch': 0.724937379360199}\n"
     ]
    },
    {
     "data": {
      "application/vnd.jupyter.widget-view+json": {
       "model_id": "ad50c471cd414809a70cb41baa833035",
       "version_major": 2,
       "version_minor": 0
      },
      "text/plain": [
       "Validating: 0it [00:00, ?it/s]"
      ]
     },
     "metadata": {},
     "output_type": "display_data"
    },
    {
     "name": "stdout",
     "output_type": "stream",
     "text": [
      "{'train_loss_step': 0.6775410771369934, 'val_loss': 0.7077436447143555, 'train_loss_epoch': 0.7173211574554443}\n"
     ]
    },
    {
     "data": {
      "application/vnd.jupyter.widget-view+json": {
       "model_id": "52cf534ed5594dcdadcbd801b2c32e05",
       "version_major": 2,
       "version_minor": 0
      },
      "text/plain": [
       "Validating: 0it [00:00, ?it/s]"
      ]
     },
     "metadata": {},
     "output_type": "display_data"
    },
    {
     "name": "stdout",
     "output_type": "stream",
     "text": [
      "{'train_loss_step': 0.7170342206954956, 'val_loss': 0.6976548433303833, 'train_loss_epoch': 0.7021687030792236}\n"
     ]
    },
    {
     "data": {
      "application/vnd.jupyter.widget-view+json": {
       "model_id": "91dcff8e9fc846c89e2248ef644a62fb",
       "version_major": 2,
       "version_minor": 0
      },
      "text/plain": [
       "Validating: 0it [00:00, ?it/s]"
      ]
     },
     "metadata": {},
     "output_type": "display_data"
    },
    {
     "name": "stdout",
     "output_type": "stream",
     "text": [
      "{'train_loss_step': 0.7203750014305115, 'val_loss': 0.6935680508613586, 'train_loss_epoch': 0.6985911726951599}\n"
     ]
    },
    {
     "data": {
      "application/vnd.jupyter.widget-view+json": {
       "model_id": "cf7c3453fecd452f8758428a2de3b3a2",
       "version_major": 2,
       "version_minor": 0
      },
      "text/plain": [
       "Validating: 0it [00:00, ?it/s]"
      ]
     },
     "metadata": {},
     "output_type": "display_data"
    },
    {
     "name": "stdout",
     "output_type": "stream",
     "text": [
      "{'train_loss_step': 0.7114500403404236, 'val_loss': 0.6853646039962769, 'train_loss_epoch': 0.6873493194580078}\n"
     ]
    },
    {
     "data": {
      "application/vnd.jupyter.widget-view+json": {
       "model_id": "6d3357f8961d4a44a8b45ee8dd0ef10b",
       "version_major": 2,
       "version_minor": 0
      },
      "text/plain": [
       "Validating: 0it [00:00, ?it/s]"
      ]
     },
     "metadata": {},
     "output_type": "display_data"
    },
    {
     "name": "stdout",
     "output_type": "stream",
     "text": [
      "{'train_loss_step': 0.6818941831588745, 'val_loss': 0.6805259585380554, 'train_loss_epoch': 0.6798008680343628}\n"
     ]
    },
    {
     "data": {
      "application/vnd.jupyter.widget-view+json": {
       "model_id": "8a87b3f87bd34b5fb1edacb80a12cb46",
       "version_major": 2,
       "version_minor": 0
      },
      "text/plain": [
       "Validating: 0it [00:00, ?it/s]"
      ]
     },
     "metadata": {},
     "output_type": "display_data"
    },
    {
     "name": "stdout",
     "output_type": "stream",
     "text": [
      "{'train_loss_step': 0.6710450053215027, 'val_loss': 0.6776494383811951, 'train_loss_epoch': 0.6794317364692688}\n"
     ]
    },
    {
     "data": {
      "application/vnd.jupyter.widget-view+json": {
       "model_id": "975fd739554c4829931a5db5f032ea1c",
       "version_major": 2,
       "version_minor": 0
      },
      "text/plain": [
       "Validating: 0it [00:00, ?it/s]"
      ]
     },
     "metadata": {},
     "output_type": "display_data"
    },
    {
     "name": "stdout",
     "output_type": "stream",
     "text": [
      "{'train_loss_step': 0.6639875173568726, 'val_loss': 0.6733968257904053, 'train_loss_epoch': 0.6722262501716614}\n"
     ]
    },
    {
     "data": {
      "application/vnd.jupyter.widget-view+json": {
       "model_id": "4cb7c777aa0243b9bbc046cd87c80f23",
       "version_major": 2,
       "version_minor": 0
      },
      "text/plain": [
       "Validating: 0it [00:00, ?it/s]"
      ]
     },
     "metadata": {},
     "output_type": "display_data"
    },
    {
     "name": "stdout",
     "output_type": "stream",
     "text": [
      "{'train_loss_step': 0.6536398530006409, 'val_loss': 0.6674560904502869, 'train_loss_epoch': 0.6675518155097961}\n"
     ]
    },
    {
     "data": {
      "application/vnd.jupyter.widget-view+json": {
       "model_id": "516112d18ded4c01a20654a8af755e71",
       "version_major": 2,
       "version_minor": 0
      },
      "text/plain": [
       "Validating: 0it [00:00, ?it/s]"
      ]
     },
     "metadata": {},
     "output_type": "display_data"
    },
    {
     "name": "stdout",
     "output_type": "stream",
     "text": [
      "{'train_loss_step': 0.6813620924949646, 'val_loss': 0.6630041599273682, 'train_loss_epoch': 0.6651317477226257}\n"
     ]
    },
    {
     "data": {
      "application/vnd.jupyter.widget-view+json": {
       "model_id": "77346db2f5f84880bb90be777c380589",
       "version_major": 2,
       "version_minor": 0
      },
      "text/plain": [
       "Validating: 0it [00:00, ?it/s]"
      ]
     },
     "metadata": {},
     "output_type": "display_data"
    },
    {
     "name": "stdout",
     "output_type": "stream",
     "text": [
      "{'train_loss_step': 0.6569585800170898, 'val_loss': 0.6606284379959106, 'train_loss_epoch': 0.6575042009353638}\n"
     ]
    },
    {
     "data": {
      "application/vnd.jupyter.widget-view+json": {
       "model_id": "cd1db5d4a311429c862fa57ee9830142",
       "version_major": 2,
       "version_minor": 0
      },
      "text/plain": [
       "Validating: 0it [00:00, ?it/s]"
      ]
     },
     "metadata": {},
     "output_type": "display_data"
    },
    {
     "name": "stdout",
     "output_type": "stream",
     "text": [
      "{'train_loss_step': 0.6328415274620056, 'val_loss': 0.6567184925079346, 'train_loss_epoch': 0.6527366042137146}\n"
     ]
    },
    {
     "data": {
      "application/vnd.jupyter.widget-view+json": {
       "model_id": "d4ef88134a134288942f7a8d2a20553f",
       "version_major": 2,
       "version_minor": 0
      },
      "text/plain": [
       "Validating: 0it [00:00, ?it/s]"
      ]
     },
     "metadata": {},
     "output_type": "display_data"
    },
    {
     "name": "stdout",
     "output_type": "stream",
     "text": [
      "{'train_loss_step': 0.6328442692756653, 'val_loss': 0.6536188125610352, 'train_loss_epoch': 0.6535497307777405}\n"
     ]
    },
    {
     "data": {
      "application/vnd.jupyter.widget-view+json": {
       "model_id": "cbbc5ec2052740b9b6eae30e390ffa4b",
       "version_major": 2,
       "version_minor": 0
      },
      "text/plain": [
       "Validating: 0it [00:00, ?it/s]"
      ]
     },
     "metadata": {},
     "output_type": "display_data"
    },
    {
     "name": "stdout",
     "output_type": "stream",
     "text": [
      "{'train_loss_step': 0.6453580856323242, 'val_loss': 0.6521674990653992, 'train_loss_epoch': 0.6477958559989929}\n"
     ]
    },
    {
     "data": {
      "application/vnd.jupyter.widget-view+json": {
       "model_id": "1c83bac9519843b98ddc1cac95277fd2",
       "version_major": 2,
       "version_minor": 0
      },
      "text/plain": [
       "Validating: 0it [00:00, ?it/s]"
      ]
     },
     "metadata": {},
     "output_type": "display_data"
    },
    {
     "name": "stdout",
     "output_type": "stream",
     "text": [
      "{'train_loss_step': 0.6340740323066711, 'val_loss': 0.6482256650924683, 'train_loss_epoch': 0.6448729634284973}\n"
     ]
    },
    {
     "data": {
      "application/vnd.jupyter.widget-view+json": {
       "model_id": "9c7f2af3bab04e07bb3c7db8a1a57154",
       "version_major": 2,
       "version_minor": 0
      },
      "text/plain": [
       "Validating: 0it [00:00, ?it/s]"
      ]
     },
     "metadata": {},
     "output_type": "display_data"
    },
    {
     "name": "stdout",
     "output_type": "stream",
     "text": [
      "{'train_loss_step': 0.6502811312675476, 'val_loss': 0.6459977030754089, 'train_loss_epoch': 0.641034722328186}\n"
     ]
    },
    {
     "data": {
      "application/vnd.jupyter.widget-view+json": {
       "model_id": "0d91ef68ebd945268deb1d963448015a",
       "version_major": 2,
       "version_minor": 0
      },
      "text/plain": [
       "Validating: 0it [00:00, ?it/s]"
      ]
     },
     "metadata": {},
     "output_type": "display_data"
    },
    {
     "name": "stdout",
     "output_type": "stream",
     "text": [
      "{'train_loss_step': 0.6445971727371216, 'val_loss': 0.6435660719871521, 'train_loss_epoch': 0.638703465461731}\n"
     ]
    },
    {
     "data": {
      "application/vnd.jupyter.widget-view+json": {
       "model_id": "16b6d369dcde47da9e310fe8c7e3a4a3",
       "version_major": 2,
       "version_minor": 0
      },
      "text/plain": [
       "Validating: 0it [00:00, ?it/s]"
      ]
     },
     "metadata": {},
     "output_type": "display_data"
    },
    {
     "name": "stdout",
     "output_type": "stream",
     "text": [
      "{'train_loss_step': 0.6474881172180176, 'val_loss': 0.643200695514679, 'train_loss_epoch': 0.639834463596344}\n"
     ]
    },
    {
     "data": {
      "application/vnd.jupyter.widget-view+json": {
       "model_id": "e3cc43155f4a4cf3955785cef45a497e",
       "version_major": 2,
       "version_minor": 0
      },
      "text/plain": [
       "Validating: 0it [00:00, ?it/s]"
      ]
     },
     "metadata": {},
     "output_type": "display_data"
    },
    {
     "name": "stdout",
     "output_type": "stream",
     "text": [
      "{'train_loss_step': 0.6312144994735718, 'val_loss': 0.6387777924537659, 'train_loss_epoch': 0.6341953277587891}\n"
     ]
    },
    {
     "data": {
      "application/vnd.jupyter.widget-view+json": {
       "model_id": "3c4f05f61af0407194d51c0fa6401cd3",
       "version_major": 2,
       "version_minor": 0
      },
      "text/plain": [
       "Validating: 0it [00:00, ?it/s]"
      ]
     },
     "metadata": {},
     "output_type": "display_data"
    },
    {
     "name": "stdout",
     "output_type": "stream",
     "text": [
      "{'train_loss_step': 0.6365185976028442, 'val_loss': 0.6371394395828247, 'train_loss_epoch': 0.6304843425750732}\n"
     ]
    },
    {
     "data": {
      "application/vnd.jupyter.widget-view+json": {
       "model_id": "d1c4d1ad3c9c4ae0a99881dbb5b31aff",
       "version_major": 2,
       "version_minor": 0
      },
      "text/plain": [
       "Validating: 0it [00:00, ?it/s]"
      ]
     },
     "metadata": {},
     "output_type": "display_data"
    },
    {
     "name": "stdout",
     "output_type": "stream",
     "text": [
      "{'train_loss_step': 0.6333829164505005, 'val_loss': 0.6345087885856628, 'train_loss_epoch': 0.633068859577179}\n"
     ]
    },
    {
     "data": {
      "application/vnd.jupyter.widget-view+json": {
       "model_id": "5190ed1b8c614c86bae0aaa0a2ee8181",
       "version_major": 2,
       "version_minor": 0
      },
      "text/plain": [
       "Validating: 0it [00:00, ?it/s]"
      ]
     },
     "metadata": {},
     "output_type": "display_data"
    },
    {
     "name": "stdout",
     "output_type": "stream",
     "text": [
      "{'train_loss_step': 0.6377245783805847, 'val_loss': 0.6339541077613831, 'train_loss_epoch': 0.6261550784111023}\n"
     ]
    },
    {
     "data": {
      "application/vnd.jupyter.widget-view+json": {
       "model_id": "40b84ac76d5349d29028792e54e8813e",
       "version_major": 2,
       "version_minor": 0
      },
      "text/plain": [
       "Validating: 0it [00:00, ?it/s]"
      ]
     },
     "metadata": {},
     "output_type": "display_data"
    },
    {
     "name": "stdout",
     "output_type": "stream",
     "text": [
      "{'train_loss_step': 0.6518950462341309, 'val_loss': 0.6317776441574097, 'train_loss_epoch': 0.6254605650901794}\n"
     ]
    },
    {
     "data": {
      "application/vnd.jupyter.widget-view+json": {
       "model_id": "9f2116adc3a54e2f876fe3380352a375",
       "version_major": 2,
       "version_minor": 0
      },
      "text/plain": [
       "Validating: 0it [00:00, ?it/s]"
      ]
     },
     "metadata": {},
     "output_type": "display_data"
    },
    {
     "name": "stdout",
     "output_type": "stream",
     "text": [
      "{'train_loss_step': 0.6212409138679504, 'val_loss': 0.630962610244751, 'train_loss_epoch': 0.6234017610549927}\n"
     ]
    },
    {
     "data": {
      "application/vnd.jupyter.widget-view+json": {
       "model_id": "8f5a4ca6287849498cf040d9ec7ea191",
       "version_major": 2,
       "version_minor": 0
      },
      "text/plain": [
       "Validating: 0it [00:00, ?it/s]"
      ]
     },
     "metadata": {},
     "output_type": "display_data"
    },
    {
     "name": "stdout",
     "output_type": "stream",
     "text": [
      "{'train_loss_step': 0.5979769825935364, 'val_loss': 0.6286649107933044, 'train_loss_epoch': 0.6217883825302124}\n"
     ]
    },
    {
     "data": {
      "application/vnd.jupyter.widget-view+json": {
       "model_id": "e460579ef8b84320b498eb87767577a3",
       "version_major": 2,
       "version_minor": 0
      },
      "text/plain": [
       "Validating: 0it [00:00, ?it/s]"
      ]
     },
     "metadata": {},
     "output_type": "display_data"
    },
    {
     "name": "stdout",
     "output_type": "stream",
     "text": [
      "{'train_loss_step': 0.6410039067268372, 'val_loss': 0.6293920874595642, 'train_loss_epoch': 0.6211839914321899}\n"
     ]
    }
   ],
   "source": [
    "pl.seed_everything(42)\n",
    "early_stop_callback = EarlyStopping(monitor=\"val_loss\", min_delta=1e-4, patience=10, verbose=False, mode=\"min\")\n",
    "epoch_callback = EpochCallback()\n",
    "\n",
    "trainer = pl.Trainer(\n",
    "    max_epochs=50,\n",
    "    gpus=1,\n",
    "    weights_summary=\"top\",\n",
    "    gradient_clip_val=0.01,\n",
    "    callbacks=[early_stop_callback, epoch_callback],\n",
    "    limit_train_batches=1.0,\n",
    ")\n",
    "\n",
    "net = NBeats.from_dataset(\n",
    "    training,\n",
    "    learning_rate=1e-4,\n",
    "    log_interval=10,\n",
    "    log_val_interval=1,\n",
    "    weight_decay=1e-2,\n",
    "    # widths=[16, 16],\n",
    "    # backcast_loss_ratio=1.0,\n",
    ")\n",
    "\n",
    "trainer.fit(\n",
    "    net,\n",
    "    train_dataloader=train_dataloader,\n",
    "    val_dataloaders=val_dataloader,\n",
    ")"
   ]
  },
  {
   "cell_type": "markdown",
   "id": "satellite-novelty",
   "metadata": {},
   "source": [
    "### Testing the model\n"
   ]
  },
  {
   "cell_type": "code",
   "execution_count": 31,
   "id": "completed-placement",
   "metadata": {},
   "outputs": [],
   "source": [
    "test_dataset = TimeSeriesDataSet(\n",
    "    test_df,\n",
    "    time_idx=\"time_idx\",\n",
    "    target=\"all\",\n",
    "    group_ids=['group_ids'],\n",
    "    max_encoder_length=context_length,\n",
    "    max_prediction_length=max_prediction_length,\n",
    "    time_varying_unknown_reals=[\"all\"],\n",
    ")\n",
    "\n",
    "test_dataloader = test_dataset.to_dataloader(train=False, batch_size=1, num_workers=0)"
   ]
  },
  {
   "cell_type": "code",
   "execution_count": 32,
   "id": "sufficient-secretariat",
   "metadata": {},
   "outputs": [
    {
     "data": {
      "text/plain": [
       "222"
      ]
     },
     "execution_count": 32,
     "metadata": {},
     "output_type": "execute_result"
    }
   ],
   "source": [
    "len(test_dataset)"
   ]
  },
  {
   "cell_type": "markdown",
   "id": "capable-catalog",
   "metadata": {},
   "source": [
    "### Collect test set predictions\n"
   ]
  },
  {
   "cell_type": "code",
   "execution_count": 33,
   "id": "chinese-greece",
   "metadata": {},
   "outputs": [],
   "source": [
    "best_model_path = trainer.checkpoint_callback.best_model_path\n",
    "best_model = NBeats.load_from_checkpoint(best_model_path)\n",
    "\n",
    "actuals = torch.cat([y[0] for x, y in iter(test_dataloader)])\n",
    "predictions = best_model.predict(test_dataloader)"
   ]
  },
  {
   "cell_type": "markdown",
   "id": "fiscal-extra",
   "metadata": {},
   "source": [
    "### Plot model forecasts at max lead time\n",
    "\n",
    "plotting the predictions at max lead time as well as one individual example forecast. "
   ]
  },
  {
   "cell_type": "code",
   "execution_count": 34,
   "id": "metropolitan-montgomery",
   "metadata": {},
   "outputs": [
    {
     "data": {
      "text/plain": [
       "<matplotlib.legend.Legend at 0x7fc64abca0d0>"
      ]
     },
     "execution_count": 34,
     "metadata": {},
     "output_type": "execute_result"
    },
    {
     "data": {
      "image/png": "[encoded data removed]",
      "text/plain": [
       "<Figure size 1080x288 with 1 Axes>"
      ]
     },
     "metadata": {
      "needs_background": "light"
     },
     "output_type": "display_data"
    }
   ],
   "source": [
    "actuals_np = actuals.detach().numpy()\n",
    "predictions_np = predictions.detach().numpy()\n",
    "\n",
    "indexes = []\n",
    "preds = []\n",
    "trues = []\n",
    "\n",
    "for time_idx in range(actuals_np.shape[0]):\n",
    "    indexes.append(time_idx)\n",
    "    preds.append(predictions_np[time_idx][-1])\n",
    "    trues.append(actuals_np[time_idx][-1])\n",
    "\n",
    "fig, ax = plt.subplots(figsize=(15,4))\n",
    "ax.plot(indexes, preds, color='red', label='forecast')\n",
    "ax.plot(indexes, trues, color='blue', label='ground truth')\n",
    "ax.set_title(f\"Forecasts at max lead time ({lead_time} samples) - N-BEATS\")\n",
    "ax.legend()"
   ]
  },
  {
   "cell_type": "code",
   "execution_count": 35,
   "id": "aboriginal-train",
   "metadata": {},
   "outputs": [
    {
     "data": {
      "text/plain": [
       "(222, 28)"
      ]
     },
     "execution_count": 35,
     "metadata": {},
     "output_type": "execute_result"
    }
   ],
   "source": [
    "actuals_np.shape"
   ]
  },
  {
   "cell_type": "code",
   "execution_count": 44,
   "id": "disciplinary-mineral",
   "metadata": {},
   "outputs": [
    {
     "data": {
      "text/plain": [
       "array([[33998., 38689., 48279., ..., 42240., 35681., 34248.],\n",
       "       [38689., 48279., 49979., ..., 35681., 34248., 36353.],\n",
       "       [48279., 49979., 36145., ..., 34248., 36353., 38422.],\n",
       "       ...,\n",
       "       [48962., 49795., 38793., ..., 37096., 36963., 42552.],\n",
       "       [49795., 38793., 35487., ..., 36963., 42552., 51518.],\n",
       "       [38793., 35487., 34445., ..., 42552., 51518., 54338.]],\n",
       "      dtype=float32)"
      ]
     },
     "execution_count": 44,
     "metadata": {},
     "output_type": "execute_result"
    }
   ],
   "source": [
    "actuals_np"
   ]
  },
  {
   "cell_type": "code",
   "execution_count": 46,
   "id": "involved-oxygen",
   "metadata": {},
   "outputs": [
    {
     "data": {
      "text/html": [
       "<div>\n",
       "<style scoped>\n",
       "    .dataframe tbody tr th:only-of-type {\n",
       "        vertical-align: middle;\n",
       "    }\n",
       "\n",
       "    .dataframe tbody tr th {\n",
       "        vertical-align: top;\n",
       "    }\n",
       "\n",
       "    .dataframe thead th {\n",
       "        text-align: right;\n",
       "    }\n",
       "</style>\n",
       "<table border=\"1\" class=\"dataframe\">\n",
       "  <thead>\n",
       "    <tr style=\"text-align: right;\">\n",
       "      <th>id_str</th>\n",
       "      <th>all</th>\n",
       "      <th>time_idx</th>\n",
       "      <th>group_ids</th>\n",
       "    </tr>\n",
       "  </thead>\n",
       "  <tbody>\n",
       "    <tr>\n",
       "      <th>d_1914</th>\n",
       "      <td>38793.0</td>\n",
       "      <td>1914</td>\n",
       "      <td>0</td>\n",
       "    </tr>\n",
       "    <tr>\n",
       "      <th>d_1915</th>\n",
       "      <td>35487.0</td>\n",
       "      <td>1915</td>\n",
       "      <td>0</td>\n",
       "    </tr>\n",
       "    <tr>\n",
       "      <th>d_1916</th>\n",
       "      <td>34445.0</td>\n",
       "      <td>1916</td>\n",
       "      <td>0</td>\n",
       "    </tr>\n",
       "    <tr>\n",
       "      <th>d_1917</th>\n",
       "      <td>34732.0</td>\n",
       "      <td>1917</td>\n",
       "      <td>0</td>\n",
       "    </tr>\n",
       "    <tr>\n",
       "      <th>d_1918</th>\n",
       "      <td>42896.0</td>\n",
       "      <td>1918</td>\n",
       "      <td>0</td>\n",
       "    </tr>\n",
       "    <tr>\n",
       "      <th>d_1919</th>\n",
       "      <td>50429.0</td>\n",
       "      <td>1919</td>\n",
       "      <td>0</td>\n",
       "    </tr>\n",
       "    <tr>\n",
       "      <th>d_1920</th>\n",
       "      <td>53032.0</td>\n",
       "      <td>1920</td>\n",
       "      <td>0</td>\n",
       "    </tr>\n",
       "    <tr>\n",
       "      <th>d_1921</th>\n",
       "      <td>43181.0</td>\n",
       "      <td>1921</td>\n",
       "      <td>0</td>\n",
       "    </tr>\n",
       "    <tr>\n",
       "      <th>d_1922</th>\n",
       "      <td>44314.0</td>\n",
       "      <td>1922</td>\n",
       "      <td>0</td>\n",
       "    </tr>\n",
       "    <tr>\n",
       "      <th>d_1923</th>\n",
       "      <td>39601.0</td>\n",
       "      <td>1923</td>\n",
       "      <td>0</td>\n",
       "    </tr>\n",
       "    <tr>\n",
       "      <th>d_1924</th>\n",
       "      <td>40763.0</td>\n",
       "      <td>1924</td>\n",
       "      <td>0</td>\n",
       "    </tr>\n",
       "    <tr>\n",
       "      <th>d_1925</th>\n",
       "      <td>43805.0</td>\n",
       "      <td>1925</td>\n",
       "      <td>0</td>\n",
       "    </tr>\n",
       "    <tr>\n",
       "      <th>d_1926</th>\n",
       "      <td>54239.0</td>\n",
       "      <td>1926</td>\n",
       "      <td>0</td>\n",
       "    </tr>\n",
       "    <tr>\n",
       "      <th>d_1927</th>\n",
       "      <td>45609.0</td>\n",
       "      <td>1927</td>\n",
       "      <td>0</td>\n",
       "    </tr>\n",
       "    <tr>\n",
       "      <th>d_1928</th>\n",
       "      <td>46400.0</td>\n",
       "      <td>1928</td>\n",
       "      <td>0</td>\n",
       "    </tr>\n",
       "    <tr>\n",
       "      <th>d_1929</th>\n",
       "      <td>39379.0</td>\n",
       "      <td>1929</td>\n",
       "      <td>0</td>\n",
       "    </tr>\n",
       "    <tr>\n",
       "      <th>d_1930</th>\n",
       "      <td>42248.0</td>\n",
       "      <td>1930</td>\n",
       "      <td>0</td>\n",
       "    </tr>\n",
       "    <tr>\n",
       "      <th>d_1931</th>\n",
       "      <td>40503.0</td>\n",
       "      <td>1931</td>\n",
       "      <td>0</td>\n",
       "    </tr>\n",
       "    <tr>\n",
       "      <th>d_1932</th>\n",
       "      <td>44073.0</td>\n",
       "      <td>1932</td>\n",
       "      <td>0</td>\n",
       "    </tr>\n",
       "    <tr>\n",
       "      <th>d_1933</th>\n",
       "      <td>54308.0</td>\n",
       "      <td>1933</td>\n",
       "      <td>0</td>\n",
       "    </tr>\n",
       "    <tr>\n",
       "      <th>d_1934</th>\n",
       "      <td>59921.0</td>\n",
       "      <td>1934</td>\n",
       "      <td>0</td>\n",
       "    </tr>\n",
       "    <tr>\n",
       "      <th>d_1935</th>\n",
       "      <td>42362.0</td>\n",
       "      <td>1935</td>\n",
       "      <td>0</td>\n",
       "    </tr>\n",
       "    <tr>\n",
       "      <th>d_1936</th>\n",
       "      <td>38777.0</td>\n",
       "      <td>1936</td>\n",
       "      <td>0</td>\n",
       "    </tr>\n",
       "    <tr>\n",
       "      <th>d_1937</th>\n",
       "      <td>37096.0</td>\n",
       "      <td>1937</td>\n",
       "      <td>0</td>\n",
       "    </tr>\n",
       "    <tr>\n",
       "      <th>d_1938</th>\n",
       "      <td>36963.0</td>\n",
       "      <td>1938</td>\n",
       "      <td>0</td>\n",
       "    </tr>\n",
       "    <tr>\n",
       "      <th>d_1939</th>\n",
       "      <td>42552.0</td>\n",
       "      <td>1939</td>\n",
       "      <td>0</td>\n",
       "    </tr>\n",
       "    <tr>\n",
       "      <th>d_1940</th>\n",
       "      <td>51518.0</td>\n",
       "      <td>1940</td>\n",
       "      <td>0</td>\n",
       "    </tr>\n",
       "    <tr>\n",
       "      <th>d_1941</th>\n",
       "      <td>54338.0</td>\n",
       "      <td>1941</td>\n",
       "      <td>0</td>\n",
       "    </tr>\n",
       "  </tbody>\n",
       "</table>\n",
       "</div>"
      ],
      "text/plain": [
       "id_str      all  time_idx  group_ids\n",
       "d_1914  38793.0      1914          0\n",
       "d_1915  35487.0      1915          0\n",
       "d_1916  34445.0      1916          0\n",
       "d_1917  34732.0      1917          0\n",
       "d_1918  42896.0      1918          0\n",
       "d_1919  50429.0      1919          0\n",
       "d_1920  53032.0      1920          0\n",
       "d_1921  43181.0      1921          0\n",
       "d_1922  44314.0      1922          0\n",
       "d_1923  39601.0      1923          0\n",
       "d_1924  40763.0      1924          0\n",
       "d_1925  43805.0      1925          0\n",
       "d_1926  54239.0      1926          0\n",
       "d_1927  45609.0      1927          0\n",
       "d_1928  46400.0      1928          0\n",
       "d_1929  39379.0      1929          0\n",
       "d_1930  42248.0      1930          0\n",
       "d_1931  40503.0      1931          0\n",
       "d_1932  44073.0      1932          0\n",
       "d_1933  54308.0      1933          0\n",
       "d_1934  59921.0      1934          0\n",
       "d_1935  42362.0      1935          0\n",
       "d_1936  38777.0      1936          0\n",
       "d_1937  37096.0      1937          0\n",
       "d_1938  36963.0      1938          0\n",
       "d_1939  42552.0      1939          0\n",
       "d_1940  51518.0      1940          0\n",
       "d_1941  54338.0      1941          0"
      ]
     },
     "execution_count": 46,
     "metadata": {},
     "output_type": "execute_result"
    }
   ],
   "source": [
    "test_df.iloc[-28:]"
   ]
  },
  {
   "cell_type": "code",
   "execution_count": 40,
   "id": "widespread-twenty",
   "metadata": {},
   "outputs": [],
   "source": [
    "df_predictions = pd.DataFrame(predictions_np)"
   ]
  },
  {
   "cell_type": "code",
   "execution_count": 73,
   "id": "stone-roberts",
   "metadata": {},
   "outputs": [],
   "source": [
    "df_prediction_last_28 = test_df.iloc[-28:].copy()"
   ]
  },
  {
   "cell_type": "code",
   "execution_count": 74,
   "id": "charitable-azerbaijan",
   "metadata": {},
   "outputs": [],
   "source": [
    "df_prediction_last_28['nbeats_pred'] = df_predictions.transpose()[221].values.tolist()"
   ]
  },
  {
   "cell_type": "code",
   "execution_count": 75,
   "id": "alternate-circumstances",
   "metadata": {},
   "outputs": [
    {
     "data": {
      "text/html": [
       "<div>\n",
       "<style scoped>\n",
       "    .dataframe tbody tr th:only-of-type {\n",
       "        vertical-align: middle;\n",
       "    }\n",
       "\n",
       "    .dataframe tbody tr th {\n",
       "        vertical-align: top;\n",
       "    }\n",
       "\n",
       "    .dataframe thead th {\n",
       "        text-align: right;\n",
       "    }\n",
       "</style>\n",
       "<table border=\"1\" class=\"dataframe\">\n",
       "  <thead>\n",
       "    <tr style=\"text-align: right;\">\n",
       "      <th>id_str</th>\n",
       "      <th>all</th>\n",
       "      <th>time_idx</th>\n",
       "      <th>group_ids</th>\n",
       "      <th>nbeats_pred</th>\n",
       "    </tr>\n",
       "  </thead>\n",
       "  <tbody>\n",
       "    <tr>\n",
       "      <th>d_1914</th>\n",
       "      <td>38793.0</td>\n",
       "      <td>1914</td>\n",
       "      <td>0</td>\n",
       "      <td>39520.777344</td>\n",
       "    </tr>\n",
       "    <tr>\n",
       "      <th>d_1915</th>\n",
       "      <td>35487.0</td>\n",
       "      <td>1915</td>\n",
       "      <td>0</td>\n",
       "      <td>33041.937500</td>\n",
       "    </tr>\n",
       "    <tr>\n",
       "      <th>d_1916</th>\n",
       "      <td>34445.0</td>\n",
       "      <td>1916</td>\n",
       "      <td>0</td>\n",
       "      <td>31174.589844</td>\n",
       "    </tr>\n",
       "    <tr>\n",
       "      <th>d_1917</th>\n",
       "      <td>34732.0</td>\n",
       "      <td>1917</td>\n",
       "      <td>0</td>\n",
       "      <td>35286.425781</td>\n",
       "    </tr>\n",
       "    <tr>\n",
       "      <th>d_1918</th>\n",
       "      <td>42896.0</td>\n",
       "      <td>1918</td>\n",
       "      <td>0</td>\n",
       "      <td>42657.234375</td>\n",
       "    </tr>\n",
       "    <tr>\n",
       "      <th>d_1919</th>\n",
       "      <td>50429.0</td>\n",
       "      <td>1919</td>\n",
       "      <td>0</td>\n",
       "      <td>48435.566406</td>\n",
       "    </tr>\n",
       "    <tr>\n",
       "      <th>d_1920</th>\n",
       "      <td>53032.0</td>\n",
       "      <td>1920</td>\n",
       "      <td>0</td>\n",
       "      <td>49078.468750</td>\n",
       "    </tr>\n",
       "    <tr>\n",
       "      <th>d_1921</th>\n",
       "      <td>43181.0</td>\n",
       "      <td>1921</td>\n",
       "      <td>0</td>\n",
       "      <td>44816.160156</td>\n",
       "    </tr>\n",
       "    <tr>\n",
       "      <th>d_1922</th>\n",
       "      <td>44314.0</td>\n",
       "      <td>1922</td>\n",
       "      <td>0</td>\n",
       "      <td>39388.339844</td>\n",
       "    </tr>\n",
       "    <tr>\n",
       "      <th>d_1923</th>\n",
       "      <td>39601.0</td>\n",
       "      <td>1923</td>\n",
       "      <td>0</td>\n",
       "      <td>37261.941406</td>\n",
       "    </tr>\n",
       "    <tr>\n",
       "      <th>d_1924</th>\n",
       "      <td>40763.0</td>\n",
       "      <td>1924</td>\n",
       "      <td>0</td>\n",
       "      <td>40359.664062</td>\n",
       "    </tr>\n",
       "    <tr>\n",
       "      <th>d_1925</th>\n",
       "      <td>43805.0</td>\n",
       "      <td>1925</td>\n",
       "      <td>0</td>\n",
       "      <td>46672.171875</td>\n",
       "    </tr>\n",
       "    <tr>\n",
       "      <th>d_1926</th>\n",
       "      <td>54239.0</td>\n",
       "      <td>1926</td>\n",
       "      <td>0</td>\n",
       "      <td>51751.800781</td>\n",
       "    </tr>\n",
       "    <tr>\n",
       "      <th>d_1927</th>\n",
       "      <td>45609.0</td>\n",
       "      <td>1927</td>\n",
       "      <td>0</td>\n",
       "      <td>51986.222656</td>\n",
       "    </tr>\n",
       "    <tr>\n",
       "      <th>d_1928</th>\n",
       "      <td>46400.0</td>\n",
       "      <td>1928</td>\n",
       "      <td>0</td>\n",
       "      <td>47252.250000</td>\n",
       "    </tr>\n",
       "    <tr>\n",
       "      <th>d_1929</th>\n",
       "      <td>39379.0</td>\n",
       "      <td>1929</td>\n",
       "      <td>0</td>\n",
       "      <td>41011.535156</td>\n",
       "    </tr>\n",
       "    <tr>\n",
       "      <th>d_1930</th>\n",
       "      <td>42248.0</td>\n",
       "      <td>1930</td>\n",
       "      <td>0</td>\n",
       "      <td>37775.390625</td>\n",
       "    </tr>\n",
       "    <tr>\n",
       "      <th>d_1931</th>\n",
       "      <td>40503.0</td>\n",
       "      <td>1931</td>\n",
       "      <td>0</td>\n",
       "      <td>39795.238281</td>\n",
       "    </tr>\n",
       "    <tr>\n",
       "      <th>d_1932</th>\n",
       "      <td>44073.0</td>\n",
       "      <td>1932</td>\n",
       "      <td>0</td>\n",
       "      <td>45397.332031</td>\n",
       "    </tr>\n",
       "    <tr>\n",
       "      <th>d_1933</th>\n",
       "      <td>54308.0</td>\n",
       "      <td>1933</td>\n",
       "      <td>0</td>\n",
       "      <td>50186.496094</td>\n",
       "    </tr>\n",
       "    <tr>\n",
       "      <th>d_1934</th>\n",
       "      <td>59921.0</td>\n",
       "      <td>1934</td>\n",
       "      <td>0</td>\n",
       "      <td>50250.468750</td>\n",
       "    </tr>\n",
       "    <tr>\n",
       "      <th>d_1935</th>\n",
       "      <td>42362.0</td>\n",
       "      <td>1935</td>\n",
       "      <td>0</td>\n",
       "      <td>45039.089844</td>\n",
       "    </tr>\n",
       "    <tr>\n",
       "      <th>d_1936</th>\n",
       "      <td>38777.0</td>\n",
       "      <td>1936</td>\n",
       "      <td>0</td>\n",
       "      <td>37827.816406</td>\n",
       "    </tr>\n",
       "    <tr>\n",
       "      <th>d_1937</th>\n",
       "      <td>37096.0</td>\n",
       "      <td>1937</td>\n",
       "      <td>0</td>\n",
       "      <td>33425.386719</td>\n",
       "    </tr>\n",
       "    <tr>\n",
       "      <th>d_1938</th>\n",
       "      <td>36963.0</td>\n",
       "      <td>1938</td>\n",
       "      <td>0</td>\n",
       "      <td>34776.285156</td>\n",
       "    </tr>\n",
       "    <tr>\n",
       "      <th>d_1939</th>\n",
       "      <td>42552.0</td>\n",
       "      <td>1939</td>\n",
       "      <td>0</td>\n",
       "      <td>40893.832031</td>\n",
       "    </tr>\n",
       "    <tr>\n",
       "      <th>d_1940</th>\n",
       "      <td>51518.0</td>\n",
       "      <td>1940</td>\n",
       "      <td>0</td>\n",
       "      <td>47584.089844</td>\n",
       "    </tr>\n",
       "    <tr>\n",
       "      <th>d_1941</th>\n",
       "      <td>54338.0</td>\n",
       "      <td>1941</td>\n",
       "      <td>0</td>\n",
       "      <td>50405.753906</td>\n",
       "    </tr>\n",
       "  </tbody>\n",
       "</table>\n",
       "</div>"
      ],
      "text/plain": [
       "id_str      all  time_idx  group_ids   nbeats_pred\n",
       "d_1914  38793.0      1914          0  39520.777344\n",
       "d_1915  35487.0      1915          0  33041.937500\n",
       "d_1916  34445.0      1916          0  31174.589844\n",
       "d_1917  34732.0      1917          0  35286.425781\n",
       "d_1918  42896.0      1918          0  42657.234375\n",
       "d_1919  50429.0      1919          0  48435.566406\n",
       "d_1920  53032.0      1920          0  49078.468750\n",
       "d_1921  43181.0      1921          0  44816.160156\n",
       "d_1922  44314.0      1922          0  39388.339844\n",
       "d_1923  39601.0      1923          0  37261.941406\n",
       "d_1924  40763.0      1924          0  40359.664062\n",
       "d_1925  43805.0      1925          0  46672.171875\n",
       "d_1926  54239.0      1926          0  51751.800781\n",
       "d_1927  45609.0      1927          0  51986.222656\n",
       "d_1928  46400.0      1928          0  47252.250000\n",
       "d_1929  39379.0      1929          0  41011.535156\n",
       "d_1930  42248.0      1930          0  37775.390625\n",
       "d_1931  40503.0      1931          0  39795.238281\n",
       "d_1932  44073.0      1932          0  45397.332031\n",
       "d_1933  54308.0      1933          0  50186.496094\n",
       "d_1934  59921.0      1934          0  50250.468750\n",
       "d_1935  42362.0      1935          0  45039.089844\n",
       "d_1936  38777.0      1936          0  37827.816406\n",
       "d_1937  37096.0      1937          0  33425.386719\n",
       "d_1938  36963.0      1938          0  34776.285156\n",
       "d_1939  42552.0      1939          0  40893.832031\n",
       "d_1940  51518.0      1940          0  47584.089844\n",
       "d_1941  54338.0      1941          0  50405.753906"
      ]
     },
     "execution_count": 75,
     "metadata": {},
     "output_type": "execute_result"
    }
   ],
   "source": [
    "df_prediction_last_28"
   ]
  },
  {
   "cell_type": "code",
   "execution_count": 76,
   "id": "functioning-prisoner",
   "metadata": {},
   "outputs": [],
   "source": [
    "df_prediction_last_28.to_csv('nbeats_pred_w_true.csv')"
   ]
  },
  {
   "cell_type": "code",
   "execution_count": null,
   "id": "hybrid-density",
   "metadata": {},
   "outputs": [],
   "source": []
  }
 ],
 "metadata": {
  "kernelspec": {
   "display_name": "forecasting",
   "language": "python",
   "name": "forecasting"
  },
  "language_info": {
   "codemirror_mode": {
    "name": "ipython",
    "version": 3
   },
   "file_extension": ".py",
   "mimetype": "text/x-python",
   "name": "python",
   "nbconvert_exporter": "python",
   "pygments_lexer": "ipython3",
   "version": "3.8.0"
  }
 },
 "nbformat": 4,
 "nbformat_minor": 5
}
