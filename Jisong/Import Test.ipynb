{
 "cells": [
  {
   "cell_type": "code",
   "execution_count": 1,
   "id": "italian-broadway",
   "metadata": {},
   "outputs": [
    {
     "name": "stderr",
     "output_type": "stream",
     "text": [
      "Matplotlib is building the font cache; this may take a moment.\n"
     ]
    }
   ],
   "source": [
    "from pytorch_forecasting import NBeats"
   ]
  },
  {
   "cell_type": "code",
   "execution_count": 2,
   "id": "pressing-halifax",
   "metadata": {},
   "outputs": [
    {
     "name": "stdout",
     "output_type": "stream",
     "text": [
      "boc_exchange\t exchange_rate\t\t  store-sales-time-series-forecasting\r\n",
      "can_weather\t illness\t\t  traffic\r\n",
      "connex_ontario\t m5-forecasting-accuracy  weather\r\n",
      "cpi_forecasting  physionet.org\t\t  weather_bench\r\n",
      "electricity\t rbc_cpi_data\r\n",
      "ETT-small\t rbc_cpi_datasets\r\n"
     ]
    }
   ],
   "source": [
    "!ls /ssd003/projects/forecasting_bootcamp/bootcamp_datasets"
   ]
  },
  {
   "cell_type": "code",
   "execution_count": 3,
   "id": "victorian-louisiana",
   "metadata": {},
   "outputs": [
    {
     "ename": "AttributeError",
     "evalue": "type object 'NBeats' has no attribute '__version__'",
     "output_type": "error",
     "traceback": [
      "\u001b[0;31m---------------------------------------------------------------------------\u001b[0m",
      "\u001b[0;31mAttributeError\u001b[0m                            Traceback (most recent call last)",
      "Input \u001b[0;32mIn [3]\u001b[0m, in \u001b[0;36m<module>\u001b[0;34m\u001b[0m\n\u001b[0;32m----> 1\u001b[0m \u001b[38;5;28mprint\u001b[39m(\u001b[43mNBeats\u001b[49m\u001b[38;5;241;43m.\u001b[39;49m\u001b[43m__version__\u001b[49m)\n",
      "\u001b[0;31mAttributeError\u001b[0m: type object 'NBeats' has no attribute '__version__'"
     ]
    }
   ],
   "source": [
    "print(NBeats.__version__)"
   ]
  },
  {
   "cell_type": "code",
   "execution_count": null,
   "id": "graduate-syndicate",
   "metadata": {},
   "outputs": [],
   "source": []
  }
 ],
 "metadata": {
  "kernelspec": {
   "display_name": "forecasting",
   "language": "python",
   "name": "forecasting"
  },
  "language_info": {
   "codemirror_mode": {
    "name": "ipython",
    "version": 3
   },
   "file_extension": ".py",
   "mimetype": "text/x-python",
   "name": "python",
   "nbconvert_exporter": "python",
   "pygments_lexer": "ipython3",
   "version": "3.8.0"
  }
 },
 "nbformat": 4,
 "nbformat_minor": 5
}
