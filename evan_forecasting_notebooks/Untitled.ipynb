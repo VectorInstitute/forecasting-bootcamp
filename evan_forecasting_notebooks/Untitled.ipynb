{
 "cells": [
  {
   "cell_type": "code",
   "execution_count": 1,
   "id": "eight-shopping",
   "metadata": {},
   "outputs": [
    {
     "name": "stderr",
     "output_type": "stream",
     "text": [
      "Matplotlib is building the font cache; this may take a moment.\n"
     ]
    }
   ],
   "source": [
    "from pytorch_forecasting import NBeats"
   ]
  },
  {
   "cell_type": "code",
   "execution_count": 2,
   "id": "explicit-retreat",
   "metadata": {},
   "outputs": [
    {
     "name": "stdout",
     "output_type": "stream",
     "text": [
      "boc_exchange\t ETT-small\t\t\t      traffic\r\n",
      "can_weather\t exchange_rate\t\t\t      weather\r\n",
      "connex_ontario\t illness\t\t\t      weather_bench\r\n",
      "cpi_forecasting  m5-forecasting-accuracy\r\n",
      "electricity\t store-sales-time-series-forecasting\r\n"
     ]
    }
   ],
   "source": [
    "!ls /ssd003/projects/forecasting_bootcamp/bootcamp_datasets"
   ]
  },
  {
   "cell_type": "code",
   "execution_count": null,
   "id": "married-finance",
   "metadata": {},
   "outputs": [],
   "source": []
  }
 ],
 "metadata": {
  "kernelspec": {
   "display_name": "forecasting",
   "language": "python",
   "name": "forecasting"
  },
  "language_info": {
   "codemirror_mode": {
    "name": "ipython",
    "version": 3
   },
   "file_extension": ".py",
   "mimetype": "text/x-python",
   "name": "python",
   "nbconvert_exporter": "python",
   "pygments_lexer": "ipython3",
   "version": "3.8.0"
  }
 },
 "nbformat": 4,
 "nbformat_minor": 5
}
