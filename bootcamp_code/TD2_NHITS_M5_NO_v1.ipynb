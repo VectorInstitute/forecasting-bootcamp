{
 "cells": [
  {
   "cell_type": "markdown",
   "metadata": {
    "id": "LzMjIk8XWQKv"
   },
   "source": [
    "# Multivariate Forecasting Long Sequence Time Series with NHITS"
   ]
  },
  {
   "cell_type": "markdown",
   "metadata": {
    "id": "mIBOj7D13LOA"
   },
   "source": [
    "This notebook outlines the application of [NHITS](https://arxiv.org/abs/2201.12886), a recently-proposed model for time series forecasting, to a collection of hourly data\n",
    "from California Department of Transportation, which describes the road occupancy rates measured\n",
    "by 862 different sensors on San Francisco Bay area freeways. \n",
    "\n",
    "This demo uses an implementation of NHITS from the neuralforecast package. [neuralforecast](https://github.com/jdb78/pytorch-forecasting) is a package/repository that provides implementations of several state-of-the-art deep learning-based forecasting models, namely [Autoformer](https://arxiv.org/abs/2106.13008), [Informer](https://arxiv.org/abs/2012.07436), [NHITS](https://arxiv.org/abs/2201.12886) and [ES-RNN](https://www.sciencedirect.com/science/article/abs/pii/S0169207019301153). Similar to PyTorch Forecasting, neuralforecast is built using [PyTorch Lightning](https://pytorch-lightning.readthedocs.io/), making it easier to train in multi-GPU compute environments, out-of-the-box. \n",
    "\n",
    "**Note:** neuralforecast is a relatively new package that has been gaining traction because, unlike more mature packages, it supports recent state-of-the-art methods like NHITS and Autoformer. That being said, the documentation is sparse and the package is not as mature as others we have used in other demos ([PyTorch Forecasting](https://pytorch-forecasting.readthedocs.io/en/stable/), [Prophet](https://facebook.github.io/prophet/)). In any event, neuralforecast provides a great oppurtunity to explore bleeding edge time series forecasting methods."
   ]
  },
  {
   "cell_type": "markdown",
   "metadata": {
    "id": "BGde3CGy9LFb"
   },
   "source": [
    "## Environment Configuration and Package Imports\n"
   ]
  },
  {
   "cell_type": "markdown",
   "metadata": {
    "id": "vwJqwV-B9P9P"
   },
   "source": [
    "**Note for Colab users:** Run the following cell to install PyTorch Forecasting. After installation completes, you will likely need to restart the Colab runtime. If this is the case, a button RESTART RUNTIME will appear at the bottom of the next cell's output."
   ]
  },
  {
   "cell_type": "code",
   "execution_count": 1,
   "metadata": {
    "colab": {
     "base_uri": "https://localhost:8080/",
     "height": 1000
    },
    "id": "xHxLTgOJ8exn",
    "outputId": "9fc84b72-06cd-4a35-e1d0-0b4a0bf60792"
   },
   "outputs": [],
   "source": [
    "if 'google.colab' in str(get_ipython()):\n",
    "    !pip install pytorch_lightning\n",
    "    !pip install neuralforecast\n",
    "    \n",
    "if 'google.colab' in str(get_ipython()):\n",
    "    from google.colab import drive\n",
    "    drive.mount('/content/drive')"
   ]
  },
  {
   "cell_type": "code",
   "execution_count": 2,
   "metadata": {
    "colab": {
     "base_uri": "https://localhost:8080/"
    },
    "id": "U2BciqyT9JBw",
    "outputId": "dc0b2c99-3d92-4215-d7bb-4c65a288ff99"
   },
   "outputs": [],
   "source": [
    "import warnings\n",
    "import numpy as np\n",
    "import pandas as pd\n",
    "import matplotlib.pyplot as plt\n",
    "from sklearn.metrics import mean_squared_error, mean_absolute_error, mean_absolute_percentage_error\n",
    "\n",
    "import torch\n",
    "import pytorch_lightning as pl\n",
    "\n",
    "import neuralforecast as nf\n",
    "from neuralforecast.data.datasets.epf import EPF\n",
    "from pytorch_lightning.callbacks import EarlyStopping\n",
    "from neuralforecast.data.tsloader import TimeSeriesLoader\n",
    "from neuralforecast.experiments.utils import create_datasets"
   ]
  },
  {
   "cell_type": "markdown",
   "metadata": {
    "id": "RD_5cnT-FGKN"
   },
   "source": [
    "## Hyperparameter Defintions"
   ]
  },
  {
   "cell_type": "code",
   "execution_count": 3,
   "metadata": {
    "id": "hQPzq1jbFveG"
   },
   "outputs": [],
   "source": [
    "# General Hyperparameters\n",
    "VAL_PERC = .1\n",
    "TEST_PERC = .1"
   ]
  },
  {
   "cell_type": "code",
   "execution_count": 4,
   "metadata": {
    "colab": {
     "base_uri": "https://localhost:8080/"
    },
    "id": "5nlrNCcN-ABF",
    "outputId": "d9c9b68d-3bed-4177-89da-7b963105a9d6"
   },
   "outputs": [
    {
     "name": "stdout",
     "output_type": "stream",
     "text": [
      "=================================================================\n",
      "model                                                   n-hits\n",
      "mode                                                    simple\n",
      "activation                                                SELU\n",
      "n_time_in                                                   30\n",
      "n_time_out                                                  30\n",
      "n_x_hidden                                                   8\n",
      "n_s_hidden                                                   0\n",
      "stack_types                     [identity, identity, identity]\n",
      "constant_n_blocks                                            1\n",
      "constant_n_layers                                            2\n",
      "constant_n_mlp_units                                       256\n",
      "n_pool_kernel_size                                   [4, 2, 1]\n",
      "n_freq_downsample                                  [24, 12, 1]\n",
      "pooling_mode                                               max\n",
      "interpolation_mode                                      linear\n",
      "shared_weights                                           False\n",
      "initialization                                    lecun_normal\n",
      "learning_rate                                            0.001\n",
      "batch_size                                                   1\n",
      "n_windows                                                   32\n",
      "lr_decay                                                   0.5\n",
      "lr_decay_step_size                                           2\n",
      "max_epochs                                                  50\n",
      "max_steps                                                 None\n",
      "early_stop_patience                                         20\n",
      "eval_freq                                                  500\n",
      "batch_normalization                                      False\n",
      "dropout_prob_theta                                         0.0\n",
      "dropout_prob_exogenous                                     0.0\n",
      "weight_decay                                                 0\n",
      "loss_train                                                 MAE\n",
      "loss_hypar                                                 0.5\n",
      "loss_valid                                                 MAE\n",
      "random_seed                                                  1\n",
      "idx_to_sample_freq                                           1\n",
      "val_idx_to_sample_freq                                       1\n",
      "n_val_weeks                                                 52\n",
      "normalizer_y                                              None\n",
      "normalizer_x                                              None\n",
      "complete_windows                                         False\n",
      "frequency                                                    h\n",
      "n_mlp_units               [[256, 256], [256, 256], [256, 256]]\n",
      "n_blocks                                             [1, 1, 1]\n",
      "n_layers                                             [2, 2, 2]\n",
      "dtype: object\n",
      "=================================================================\n"
     ]
    }
   ],
   "source": [
    "# Model Configuration Hyperparameters\n",
    "mc = {}\n",
    "mc['model'] = 'n-hits' # Model Name \n",
    "mc['mode'] = 'simple' \n",
    "mc['activation'] = 'SELU' # Activation function\n",
    "\n",
    "\n",
    "mc['n_time_in'] = 30 # Length of input sequences\n",
    "mc['n_time_out'] = 30 # Length of Output Sequences\n",
    "mc['n_x_hidden'] = 8 # Number of hidden output channels of exogenous_tcn and exogenous_wavenet stacks.\n",
    "mc['n_s_hidden'] = 0 # Number of encoded static features\n",
    "\n",
    "mc['stack_types'] = ['identity', 'identity', 'identity'] # List of stack types. Subset from ['seasonality', 'trend', 'identity', 'exogenous', 'exogenous_tcSubset from ['seasonality', 'trend', 'identity', 'exogenous', 'exogenous_tcn', 'exogenous_wavenet'].\n",
    "mc['constant_n_blocks'] = 1 # Constant n_blocks across stacks\n",
    "mc['constant_n_layers'] = 2 # Constant n_layers across stacks\n",
    "mc['constant_n_mlp_units'] = 256 # Constant n_mlp_units across stacks\n",
    "mc['n_pool_kernel_size'] = [4, 2, 1]  # Pooling size for input for each stack. Note that len(n_pool_kernel_size) = len(stack_types).\n",
    "mc['n_freq_downsample'] = [24, 12, 1] # Downsample multiplier of output for each stack. Note that len(n_freq_downsample) = len(stack_types).\n",
    "mc['pooling_mode'] = 'max' # Pooling type. An item from ['average', 'max']\n",
    "mc['interpolation_mode'] = 'linear' # Interpolation function. An item from ['linear', 'nearest', 'cubic']\n",
    "mc['shared_weights'] = False # If True, all blocks within each stack will share parameters.\n",
    "\n",
    "# Optimization and regularization parameters\n",
    "mc['initialization'] = 'lecun_normal'  #Initialization function. An item from ['orthogonal', 'he_uniform', 'glorot_uniform', 'glorot_normal', 'lecun_normal'].\n",
    "mc['learning_rate'] = 0.001 # Learning rate between (0, 1).\n",
    "mc['batch_size'] = 1 # Batch size \n",
    "mc['n_windows'] = 32\n",
    "mc['lr_decay'] = 0.5 # Decreasing multiplier for the learning rate.\n",
    "mc['lr_decay_step_size'] = 2 # Steps between each learning rate decay.\n",
    "mc['max_epochs'] = 50 # Maximum number of training epochs\n",
    "mc['max_steps'] = None # Maximum number of validation epochs\n",
    "mc['early_stop_patience'] = 20 #Number of consecutive violations of early stopping criteria to end training\n",
    "mc['eval_freq'] = 500 # How many steps between evaluations\n",
    "mc['batch_normalization'] = False # Whether perform batch normalization.\n",
    "mc['dropout_prob_theta'] = 0.0 # Float between (0, 1). Dropout for Nbeats basis.\n",
    "mc['dropout_prob_exogenous'] = 0.0 # \n",
    "mc['weight_decay'] = 0 # L2 penalty for optimizer.\n",
    "mc['loss_train'] = 'MAE' # Loss to optimize. An item from ['MAPE', 'MASE', 'SMAPE', 'MSE', 'MAE', 'QUANTILE', 'QUANTILE2'].\n",
    "mc['loss_hypar'] = 0.5 # Hyperparameter for chosen loss.\n",
    "mc['loss_valid'] = mc['loss_train'] #  Validation loss.  An item from ['MAPE', 'MASE', 'SMAPE', 'RMSE', 'MAE', 'QUANTILE'].\n",
    "mc['random_seed'] = 1 # random_seed for pseudo random pytorch initializer and numpy random generator.\n",
    "\n",
    "# Data Parameters\n",
    "mc['idx_to_sample_freq'] = 1\n",
    "mc['val_idx_to_sample_freq'] = 1\n",
    "mc['n_val_weeks'] = 52\n",
    "mc['normalizer_y'] = None\n",
    "mc['normalizer_x'] = None\n",
    "mc['complete_windows'] = False # Consider only full sequences in forecasting horizon\n",
    "mc['frequency'] = 'h' # Frequency of the data\n",
    "\n",
    "\n",
    "# Structure of hidden layers for each stack type.\n",
    "# Each internal list should contain the number of units of each hidden layer.\n",
    "# Note that len(n_hidden) = len(stack_types).\n",
    "mc['n_mlp_units'] = len(mc['stack_types']) * [ mc['constant_n_layers'] * [int(mc['constant_n_mlp_units'])] ] \n",
    "mc['n_blocks'] =  len(mc['stack_types']) * [ mc['constant_n_blocks'] ] # Number of blocks for each stack. Note that len(n_blocks) = len(stack_types).\n",
    "mc['n_layers'] =  len(mc['stack_types']) * [ mc['constant_n_layers'] ] # Number of layers for each stack type. Note that len(n_layers) = len(stack_types).\n",
    "\n",
    "print(65*'=')\n",
    "print(pd.Series(mc))\n",
    "print(65*'=')\n"
   ]
  },
  {
   "cell_type": "markdown",
   "metadata": {
    "id": "RZm7cG82-fOk"
   },
   "source": [
    "## Load Data\n",
    "We start by loading the data. neuralforecast provides utilities for loading a [variety of different datasets](https://nixtla.github.io/neuralforecast/data_datasets__long_horizon.html) popular in the time series forecasting domain. Conveniently, the loaded data is in the format that is expected by the model that we define in the subsequent section. In particular, we call the `load` function with an argument specifying the dataset to load three dataframes: \n",
    "- `Y_df`: (pd.DataFrame) Target time series with columns ['unique_id', 'ds', 'y']\n",
    "- `X_df`: (pd.DataFrame) Exogenous time series with columns ['unique_id', 'ds', 'y']\n",
    "- `S_df` (pd.DataFrame) Static exogenous variables with columns ['unique_id'] and static variables. \n",
    "\n",
    "The columns referenced above are defined as follows:\n",
    "- `unique_id`: column used to identify which time series the dataframe row corresponds to. The number of unique values in the column is the number of time series in the dataset.\n",
    "- `ds`: column used to identify the time stamp the dataframe row corresponds to. \n",
    "\n",
    "In this way, a combination of `unique_id` and `ds` identify a sample in  `Y_df` and `X_df`. Thus, the total number of rows they contain is the product of the unique observations in `unique_id` and `ds`. On the other hand, `S_df` contains a row for each exogneous variable-time series pairing. If no exogenous varables exist for any of the time sereis, `S_df` is `None`. \n",
    "\n",
    "For datasets that are not supported out of the box for the package, we must construct these dataframes ourselves with the format specified above."
   ]
  },
  {
   "cell_type": "code",
   "execution_count": 5,
   "metadata": {},
   "outputs": [
    {
     "data": {
      "text/html": [
       "<div>\n",
       "<style scoped>\n",
       "    .dataframe tbody tr th:only-of-type {\n",
       "        vertical-align: middle;\n",
       "    }\n",
       "\n",
       "    .dataframe tbody tr th {\n",
       "        vertical-align: top;\n",
       "    }\n",
       "\n",
       "    .dataframe thead th {\n",
       "        text-align: right;\n",
       "    }\n",
       "</style>\n",
       "<table border=\"1\" class=\"dataframe\">\n",
       "  <thead>\n",
       "    <tr style=\"text-align: right;\">\n",
       "      <th></th>\n",
       "      <th>unique_id</th>\n",
       "      <th>ds</th>\n",
       "      <th>y</th>\n",
       "    </tr>\n",
       "  </thead>\n",
       "  <tbody>\n",
       "    <tr>\n",
       "      <th>0</th>\n",
       "      <td>CA_1</td>\n",
       "      <td>2016-01-01</td>\n",
       "      <td>4337.0</td>\n",
       "    </tr>\n",
       "    <tr>\n",
       "      <th>1</th>\n",
       "      <td>CA_1</td>\n",
       "      <td>2016-01-02</td>\n",
       "      <td>4155.0</td>\n",
       "    </tr>\n",
       "    <tr>\n",
       "      <th>2</th>\n",
       "      <td>CA_1</td>\n",
       "      <td>2016-01-03</td>\n",
       "      <td>2816.0</td>\n",
       "    </tr>\n",
       "    <tr>\n",
       "      <th>3</th>\n",
       "      <td>CA_1</td>\n",
       "      <td>2016-01-04</td>\n",
       "      <td>3051.0</td>\n",
       "    </tr>\n",
       "    <tr>\n",
       "      <th>4</th>\n",
       "      <td>CA_1</td>\n",
       "      <td>2016-01-05</td>\n",
       "      <td>2630.0</td>\n",
       "    </tr>\n",
       "    <tr>\n",
       "      <th>...</th>\n",
       "      <td>...</td>\n",
       "      <td>...</td>\n",
       "      <td>...</td>\n",
       "    </tr>\n",
       "    <tr>\n",
       "      <th>19405</th>\n",
       "      <td>WI_3</td>\n",
       "      <td>2021-04-20</td>\n",
       "      <td>3268.0</td>\n",
       "    </tr>\n",
       "    <tr>\n",
       "      <th>19406</th>\n",
       "      <td>WI_3</td>\n",
       "      <td>2021-04-21</td>\n",
       "      <td>3398.0</td>\n",
       "    </tr>\n",
       "    <tr>\n",
       "      <th>19407</th>\n",
       "      <td>WI_3</td>\n",
       "      <td>2021-04-22</td>\n",
       "      <td>4126.0</td>\n",
       "    </tr>\n",
       "    <tr>\n",
       "      <th>19408</th>\n",
       "      <td>WI_3</td>\n",
       "      <td>2021-04-23</td>\n",
       "      <td>4519.0</td>\n",
       "    </tr>\n",
       "    <tr>\n",
       "      <th>19409</th>\n",
       "      <td>WI_3</td>\n",
       "      <td>2021-04-24</td>\n",
       "      <td>4757.0</td>\n",
       "    </tr>\n",
       "  </tbody>\n",
       "</table>\n",
       "<p>19410 rows × 3 columns</p>\n",
       "</div>"
      ],
      "text/plain": [
       "      unique_id         ds       y\n",
       "0          CA_1 2016-01-01  4337.0\n",
       "1          CA_1 2016-01-02  4155.0\n",
       "2          CA_1 2016-01-03  2816.0\n",
       "3          CA_1 2016-01-04  3051.0\n",
       "4          CA_1 2016-01-05  2630.0\n",
       "...         ...        ...     ...\n",
       "19405      WI_3 2021-04-20  3268.0\n",
       "19406      WI_3 2021-04-21  3398.0\n",
       "19407      WI_3 2021-04-22  4126.0\n",
       "19408      WI_3 2021-04-23  4519.0\n",
       "19409      WI_3 2021-04-24  4757.0\n",
       "\n",
       "[19410 rows x 3 columns]"
      ]
     },
     "execution_count": 5,
     "metadata": {},
     "output_type": "execute_result"
    }
   ],
   "source": [
    "DATA_PATH = \"/ssd003/projects/forecasting_bootcamp/bootcamp_datasets/m5-forecasting-accuracy\"\n",
    "df = pd.read_csv(f'{DATA_PATH}/sales_train_evaluation.csv')\n",
    "df = df.groupby('store_id').sum().T.reset_index(drop=False).rename(columns = {'index':'ds'})\n",
    "df['ds'] = pd.date_range(start='1/1/2016', end='4/24/2021')\n",
    "df['ds'] = pd.to_datetime(df['ds'])\n",
    "df = df.melt(id_vars=['ds'], value_vars=df.columns, var_name='group_ids')\n",
    "df = df.reindex(columns = ['group_ids', 'ds', 'value']).rename(columns = {'group_ids': 'unique_id', 'value': 'y'}).astype({'y': 'float'})\n",
    "Y_df = X_df = S_df = df\n",
    "df"
   ]
  },
  {
   "cell_type": "code",
   "execution_count": 6,
   "metadata": {},
   "outputs": [
    {
     "data": {
      "text/html": [
       "<div>\n",
       "<style scoped>\n",
       "    .dataframe tbody tr th:only-of-type {\n",
       "        vertical-align: middle;\n",
       "    }\n",
       "\n",
       "    .dataframe tbody tr th {\n",
       "        vertical-align: top;\n",
       "    }\n",
       "\n",
       "    .dataframe thead th {\n",
       "        text-align: right;\n",
       "    }\n",
       "</style>\n",
       "<table border=\"1\" class=\"dataframe\">\n",
       "  <thead>\n",
       "    <tr style=\"text-align: right;\">\n",
       "      <th></th>\n",
       "      <th>unique_id</th>\n",
       "      <th>ds</th>\n",
       "      <th>exog1</th>\n",
       "    </tr>\n",
       "  </thead>\n",
       "  <tbody>\n",
       "    <tr>\n",
       "      <th>0</th>\n",
       "      <td>CA_1</td>\n",
       "      <td>2016-01-01</td>\n",
       "      <td>0</td>\n",
       "    </tr>\n",
       "    <tr>\n",
       "      <th>1</th>\n",
       "      <td>CA_1</td>\n",
       "      <td>2016-01-02</td>\n",
       "      <td>0</td>\n",
       "    </tr>\n",
       "    <tr>\n",
       "      <th>2</th>\n",
       "      <td>CA_1</td>\n",
       "      <td>2016-01-03</td>\n",
       "      <td>0</td>\n",
       "    </tr>\n",
       "    <tr>\n",
       "      <th>3</th>\n",
       "      <td>CA_1</td>\n",
       "      <td>2016-01-04</td>\n",
       "      <td>0</td>\n",
       "    </tr>\n",
       "    <tr>\n",
       "      <th>4</th>\n",
       "      <td>CA_1</td>\n",
       "      <td>2016-01-05</td>\n",
       "      <td>0</td>\n",
       "    </tr>\n",
       "    <tr>\n",
       "      <th>...</th>\n",
       "      <td>...</td>\n",
       "      <td>...</td>\n",
       "      <td>...</td>\n",
       "    </tr>\n",
       "    <tr>\n",
       "      <th>19405</th>\n",
       "      <td>WI_3</td>\n",
       "      <td>2021-04-20</td>\n",
       "      <td>0</td>\n",
       "    </tr>\n",
       "    <tr>\n",
       "      <th>19406</th>\n",
       "      <td>WI_3</td>\n",
       "      <td>2021-04-21</td>\n",
       "      <td>0</td>\n",
       "    </tr>\n",
       "    <tr>\n",
       "      <th>19407</th>\n",
       "      <td>WI_3</td>\n",
       "      <td>2021-04-22</td>\n",
       "      <td>0</td>\n",
       "    </tr>\n",
       "    <tr>\n",
       "      <th>19408</th>\n",
       "      <td>WI_3</td>\n",
       "      <td>2021-04-23</td>\n",
       "      <td>0</td>\n",
       "    </tr>\n",
       "    <tr>\n",
       "      <th>19409</th>\n",
       "      <td>WI_3</td>\n",
       "      <td>2021-04-24</td>\n",
       "      <td>0</td>\n",
       "    </tr>\n",
       "  </tbody>\n",
       "</table>\n",
       "<p>19410 rows × 3 columns</p>\n",
       "</div>"
      ],
      "text/plain": [
       "      unique_id         ds  exog1\n",
       "0          CA_1 2016-01-01      0\n",
       "1          CA_1 2016-01-02      0\n",
       "2          CA_1 2016-01-03      0\n",
       "3          CA_1 2016-01-04      0\n",
       "4          CA_1 2016-01-05      0\n",
       "...         ...        ...    ...\n",
       "19405      WI_3 2021-04-20      0\n",
       "19406      WI_3 2021-04-21      0\n",
       "19407      WI_3 2021-04-22      0\n",
       "19408      WI_3 2021-04-23      0\n",
       "19409      WI_3 2021-04-24      0\n",
       "\n",
       "[19410 rows x 3 columns]"
      ]
     },
     "execution_count": 6,
     "metadata": {},
     "output_type": "execute_result"
    }
   ],
   "source": [
    "X_df = df.rename(columns = {'y': 'exog1'})\n",
    "X_df['exog1'] = 0\n",
    "X_df.unique_id, X_df.ds = Y_df.unique_id, Y_df.ds\n",
    "X_df"
   ]
  },
  {
   "cell_type": "code",
   "execution_count": 7,
   "metadata": {
    "id": "cev5UJOG_8GY"
   },
   "outputs": [
    {
     "name": "stdout",
     "output_type": "stream",
     "text": [
      "(19410, 3) (19410, 3) ['exog1']\n"
     ]
    }
   ],
   "source": [
    "f_cols = X_df.drop(['unique_id','ds'], axis = 1).columns.to_list()\n",
    "print(Y_df.shape, X_df.shape, f_cols)"
   ]
  },
  {
   "cell_type": "markdown",
   "metadata": {
    "id": "BaOiqP-FAOy0"
   },
   "source": [
    "## Data Splitting\n",
    "\n",
    "The data is split sequentially into train, validation and test based on `VAL_PERC` and `TEST_PERC` global variables. We will withhold the last `TEST_PERC` of data for testing. In the code below, we are very careful to ensure that when training and validating the model, it does not have access to the withheld data.\n",
    "\n",
    "The neuralforecast package's function [create_datasets](https://nixtla.github.io/neuralforecast/experiments__utils.html#create_datasets) allows us to generate a [TSDataset](https://nixtla.github.io/neuralforecast/data__tsdataset.html) for the train, validation and test sets by passing `Y_df`, `X_df` and `S_df` that we defined above. Additionally, we specify the amount of time steps we want in the validation and test datasets, `ds_in_val` and `ds_in_test`. \n",
    "\n"
   ]
  },
  {
   "cell_type": "code",
   "execution_count": 8,
   "metadata": {
    "colab": {
     "base_uri": "https://localhost:8080/"
    },
    "id": "HMBK5JmwFDQH",
    "outputId": "0b812ad0-00a1-4853-dfd1-7a2f123a8c5d"
   },
   "outputs": [
    {
     "name": "stderr",
     "output_type": "stream",
     "text": [
      "INFO:root:Train Validation splits\n",
      "\n",
      "INFO:root:                    ds           \n",
      "                   min        max\n",
      "sample_mask                      \n",
      "0           2020-04-02 2021-04-24\n",
      "1           2016-01-01 2020-04-01\n",
      "INFO:root:\n",
      "Total data \t\t\t19410 time stamps \n",
      "Available percentage=100.0, \t19410 time stamps \n",
      "Insample  percentage=80.01, \t15530 time stamps \n",
      "Outsample percentage=19.99, \t3880 time stamps \n",
      "\n",
      "/ssd003/projects/aieng/public/forecasting_unified/lib/python3.8/site-packages/neuralforecast/data/tsdataset.py:208: FutureWarning: In a future version of pandas all arguments of DataFrame.drop except for the argument 'labels' will be keyword-only\n",
      "  X.drop(['unique_id', 'ds'], 1, inplace=True)\n",
      "INFO:root:Train Validation splits\n",
      "\n",
      "INFO:root:                    ds           \n",
      "                   min        max\n",
      "sample_mask                      \n",
      "0           2016-01-01 2021-04-24\n",
      "1           2020-04-02 2020-10-12\n",
      "INFO:root:\n",
      "Total data \t\t\t19410 time stamps \n",
      "Available percentage=100.0, \t19410 time stamps \n",
      "Insample  percentage=9.99, \t1940 time stamps \n",
      "Outsample percentage=90.01, \t17470 time stamps \n",
      "\n",
      "/ssd003/projects/aieng/public/forecasting_unified/lib/python3.8/site-packages/neuralforecast/data/tsdataset.py:208: FutureWarning: In a future version of pandas all arguments of DataFrame.drop except for the argument 'labels' will be keyword-only\n",
      "  X.drop(['unique_id', 'ds'], 1, inplace=True)\n",
      "INFO:root:Train Validation splits\n",
      "\n",
      "INFO:root:                    ds           \n",
      "                   min        max\n",
      "sample_mask                      \n",
      "0           2016-01-01 2020-10-12\n",
      "1           2020-10-13 2021-04-24\n",
      "INFO:root:\n",
      "Total data \t\t\t19410 time stamps \n",
      "Available percentage=100.0, \t19410 time stamps \n",
      "Insample  percentage=9.99, \t1940 time stamps \n",
      "Outsample percentage=90.01, \t17470 time stamps \n",
      "\n",
      "/ssd003/projects/aieng/public/forecasting_unified/lib/python3.8/site-packages/neuralforecast/data/tsdataset.py:208: FutureWarning: In a future version of pandas all arguments of DataFrame.drop except for the argument 'labels' will be keyword-only\n",
      "  X.drop(['unique_id', 'ds'], 1, inplace=True)\n"
     ]
    }
   ],
   "source": [
    "n_ds = Y_df['ds'].nunique()\n",
    "n_val = int(VAL_PERC * n_ds)\n",
    "n_test = int(TEST_PERC * n_ds)\n",
    "\n",
    "train_dataset, val_dataset, test_dataset, scaler_y = create_datasets(mc=mc,\n",
    "                                                                     S_df=None, \n",
    "                                                                     Y_df=Y_df, X_df=X_df,\n",
    "                                                                     f_cols=f_cols,\n",
    "                                                                     ds_in_val=n_val,\n",
    "                                                                     ds_in_test=n_test)"
   ]
  },
  {
   "cell_type": "markdown",
   "metadata": {
    "id": "LnksooMlSMzm"
   },
   "source": [
    "## Defining Dataloader\n",
    "The neural forecasting package defines its own dataloader [TimeSeriesLoader](https://nixtla.github.io/neuralforecast/data__tsloader.html). Similar to a regular PyTorch dataloader, we pass a dataset, batch size and other paraneters that inform how each batch of data is loaded. "
   ]
  },
  {
   "cell_type": "code",
   "execution_count": 9,
   "metadata": {
    "id": "MEW6JcexFGRV"
   },
   "outputs": [],
   "source": [
    "train_loader = TimeSeriesLoader(dataset=train_dataset,\n",
    "                                batch_size=int(mc['batch_size']),\n",
    "                                n_windows=mc['n_windows'],\n",
    "                                shuffle=True)\n",
    "\n",
    "val_loader = TimeSeriesLoader(dataset=val_dataset,\n",
    "                              batch_size=int(mc['batch_size']),\n",
    "                              shuffle=False)\n",
    "\n",
    "test_loader = TimeSeriesLoader(dataset=test_dataset,\n",
    "                               batch_size=int(mc['batch_size']),\n",
    "                               shuffle=False)"
   ]
  },
  {
   "cell_type": "markdown",
   "metadata": {
    "id": "E6o947iVWPxV"
   },
   "source": [
    "## Model"
   ]
  },
  {
   "cell_type": "markdown",
   "metadata": {
    "id": "Mom5--QWWSiu"
   },
   "source": [
    "### NHITS Overview\n",
    "\n",
    "<p align=\"center\">\n",
    "<img width=\"750\" alt=\"NHITS Architecture\" src=\"https://user-images.githubusercontent.com/34798787/156445832-58e5e082-5003-4859-92f6-cb029ddbd378.png\">\n",
    "</p>\n",
    "\n",
    "NHITS is a popular deep learning based approach to time series forecasting. In particualr, NHITS adapts the NBEATS architecture to perform long sequence time series forecasting (LSTF); a task where the length of the input and output sequence are large. NHITS learns a global model from historical data of one or more time series. Thus, although the input and output space is univariate, NHITS can be used to jointly model a set of related time series. The architecture consists of deep stacks of fully connected layers connected with forward and backward residual links. The forwad links aggregate partial forecast to yield final forecast. Alternatively, backward links subtract out input signal corresponding to already predicted partial forecast from input prior to being passed to the next stack. NHITS builds on NBEATS by enhancing its input decomposition via multi-rate data sampling and its output synthesizer via multi-scale interpolation. This increases both the accuracy and  computational efficiency of the approach in the LSTF setting. \n",
    "\n",
    "Some additional features of NHITS include:\n",
    "\n",
    "- **Interpretability**: Allows for hierarchical decomposition of a forecasts into trend and seasonal components which enhances interpretability.\n",
    "- **Ensembling**: Ensembles models fit with different loss functions and time horizons. The final prediction is mean of models in ensemble.\n",
    "- **Efficient**: Avoids the use of recurrent structute and predicts entire ouput sequence in single forward pass."
   ]
  },
  {
   "cell_type": "markdown",
   "metadata": {
    "id": "2pIUu7EaA_Xy"
   },
   "source": [
    "## Model Definition\n",
    "Using the neuralforecast package, an NHITS model can be initialized using the `NHITS` class. This returns a Pytorch Lighnting model that we will subsequently train and evaluate. There is a large amount of parameters involved in the definition, most of which can stay consistent accross datasets. Some of the arguments that may vary include:\n",
    "- `n_time_in`: (int) The length of sequences input to the model. \n",
    "- `n_time_out`: (int) The length of the sequences output by the model.  \n",
    "- `n_x`: (int) The number of exogenous time series. This equals the number of features included in `X_df`.\n",
    "- `n_s`: (int) The number of static exogenous variables. This equals the number of features included in `S_df`.\n",
    "- `frequency `: (string) The frequency of the observations. (hourly:`h`, daily:`d`)\n",
    "\n",
    "For additional details in regards to the `NHITS` class, consult the  [neuralforecast documentation](https://nixtla.github.io/neuralforecast/models_nhits__nhits.html). Values of model hyperparameters with corresponding defintions is available above in the **Hyperparameter Defintions** section."
   ]
  },
  {
   "cell_type": "code",
   "execution_count": 10,
   "metadata": {
    "id": "XxQbONhrFIlp"
   },
   "outputs": [],
   "source": [
    "mc['n_x'], mc['n_s'] = train_dataset.get_n_variables()\n",
    "\n",
    "model = nf.models.nhits.nhits.NHITS(n_time_in=int(mc['n_time_in']),\n",
    "              n_time_out=int(mc['n_time_out']),\n",
    "              n_x=mc['n_x'],\n",
    "              n_s=mc['n_s'],\n",
    "              n_s_hidden=int(mc['n_s_hidden']),\n",
    "              n_x_hidden=int(mc['n_x_hidden']),\n",
    "              shared_weights=mc['shared_weights'],\n",
    "              initialization=mc['initialization'],\n",
    "              activation=mc['activation'],\n",
    "              stack_types=mc['stack_types'],\n",
    "              n_blocks=mc['n_blocks'],\n",
    "              n_layers=mc['n_layers'],\n",
    "              n_mlp_units=mc['n_mlp_units'],\n",
    "              n_pool_kernel_size=mc['n_pool_kernel_size'],\n",
    "              n_freq_downsample=mc['n_freq_downsample'],\n",
    "              pooling_mode=mc['pooling_mode'],\n",
    "              interpolation_mode=mc['interpolation_mode'],\n",
    "              batch_normalization = mc['batch_normalization'],\n",
    "              dropout_prob_theta=mc['dropout_prob_theta'],\n",
    "              learning_rate=float(mc['learning_rate']),\n",
    "              lr_decay=float(mc['lr_decay']),\n",
    "              lr_decay_step_size=float(mc['lr_decay_step_size']),\n",
    "              weight_decay=mc['weight_decay'],\n",
    "              loss_train=mc['loss_train'],\n",
    "              loss_hypar=float(mc['loss_hypar']),\n",
    "              loss_valid=mc['loss_valid'],\n",
    "              frequency=mc['frequency'],\n",
    "              random_seed=int(mc['random_seed']))"
   ]
  },
  {
   "cell_type": "markdown",
   "metadata": {
    "id": "7da_AhLgMaZk"
   },
   "source": [
    "## Training and Validation\n",
    "We first define a pytorch lighting trainer which encapsulates the training process and allows us to easily implement a training and validation loop with the specified parameters. The arguments to the trainer include: \n",
    "- `max_epochs`: (Optional[int]) – Stop training once this number of epochs is reached. \n",
    "- `callbacks`: (Union[List[Callback], Callback, None]) – Add a callback or list of callbacks.\n",
    "\n",
    "Subsequently, we can use the `fit` method of the trainer with the `net`, `train_dataloader` and `val_dataloader` to perform the training and validation loop. \n",
    "\n",
    "For more information regarding the `pl.Trainer` class, consult the [PyTorch Lightning documentation](https://pytorch-lightning.readthedocs.io/en/stable/api/pytorch_lightning.trainer.trainer.html#pytorch_lightning.trainer.trainer.Trainer.validate)."
   ]
  },
  {
   "cell_type": "code",
   "execution_count": null,
   "metadata": {
    "colab": {
     "base_uri": "https://localhost:8080/",
     "height": 503,
     "referenced_widgets": [
      "27c41d33a16647beac5f938be574c094",
      "3c4be8fb5dfd461b8b4d1af8a6f1c09f",
      "5cf37e9c0dde4df6b7b3618558934fd1",
      "7576624594e244d2a353d678f0c1040a",
      "af069b1b83c44f6aa44d76288a245eef",
      "e0907f2fc1dd42cd9cfc8779da61c8e4",
      "4ef1155b09e54cfaab81a1dcfb253d65",
      "52b587678fbf45f8a5b0ed2b85909ae0",
      "d650431899d34cb5b7a175a807b4c2e2",
      "07b7d0d6a99e48b0b718f44b8353a6d3",
      "ae25eae53a144e369c0abcd644c17a45",
      "c482906511ef4414b127756a2fdf0784",
      "cf6baec523414f168b9f74b6e8fb591f",
      "12dd3a992134471bb898255549e151eb",
      "b2fd89bae7ef435482e08752b5b87d23",
      "8b854731840a4971a56a1d89401874ce",
      "c194b7243ef045308f0b2e95de5c40bd",
      "5ba9462313c74cd49b5c3c9b9599a223",
      "b629e51b7d804d158cbfc1b916615d7b",
      "046c28253347476b9c2ac50ff4a21746",
      "e8646c330ab64d0b96ad724c23e0ccfe",
      "e938ac293c9a488b99bc9b5429db65aa",
      "459e486a6c8b403387aa9a61a1d4c0bc",
      "0afcfc1ec22e47398ffae6459556d6e9",
      "a6d6b497065e4cfbb64ea34a5ea871d7",
      "0c005e6aca2c49a4ace83a0a1092c03f",
      "1c02e62c0b764deaaa435e0b1e50b455",
      "46c0abc56b8d476588301592232a2f34",
      "8c363a963eed45febd2855fd4be13de5",
      "813c3874df17481ba44e4f3a4e44bc33",
      "87ccf33d70954b828a5caa19c837ebff",
      "6e813721c09f4fa7a5805ca25dc6d06e",
      "a6d759e6a19a4fa28989583d30ddaa93"
     ]
    },
    "id": "bSuVbGTuIgMK",
    "outputId": "7133cc2c-320d-41a5-b87f-0a6944ab6c62"
   },
   "outputs": [
    {
     "name": "stderr",
     "output_type": "stream",
     "text": [
      "Global seed set to 42\n",
      "/ssd003/projects/aieng/public/forecasting_unified/lib/python3.8/site-packages/pytorch_lightning/trainer/connectors/callback_connector.py:90: LightningDeprecationWarning: Setting `Trainer(progress_bar_refresh_rate=10)` is deprecated in v1.5 and will be removed in v1.7. Please pass `pytorch_lightning.callbacks.progress.TQDMProgressBar` with `refresh_rate` directly to the Trainer's `callbacks` argument instead. Or, to disable the progress bar pass `enable_progress_bar = False` to the Trainer.\n",
      "  rank_zero_deprecation(\n",
      "GPU available: True, used: False\n",
      "TPU available: False, using: 0 TPU cores\n",
      "IPU available: False, using: 0 IPUs\n",
      "/ssd003/projects/aieng/public/forecasting_unified/lib/python3.8/site-packages/pytorch_lightning/trainer/trainer.py:1584: UserWarning: GPU available but not used. Set the gpus flag in your trainer `Trainer(gpus=1)` or script `--gpus=1`.\n",
      "  rank_zero_warn(\n",
      "Set SLURM handle signals.\n",
      "\n",
      "  | Name  | Type   | Params\n",
      "---------------------------------\n",
      "0 | model | _NHITS | 289 K \n",
      "---------------------------------\n",
      "289 K     Trainable params\n",
      "0         Non-trainable params\n",
      "289 K     Total params\n",
      "1.158     Total estimated model params size (MB)\n",
      "/ssd003/projects/aieng/public/forecasting_unified/lib/python3.8/site-packages/pytorch_lightning/callbacks/model_checkpoint.py:631: UserWarning: Checkpoint directory /ssd003/home/nosman/forecasting-bootcamp/bootcamp_code/lightning_logs/version_6666381/checkpoints exists and is not empty.\n",
      "  rank_zero_warn(f\"Checkpoint directory {dirpath} exists and is not empty.\")\n"
     ]
    },
    {
     "data": {
      "application/vnd.jupyter.widget-view+json": {
       "model_id": "6858bd9ccf404821b6daa74ebaf86eb9",
       "version_major": 2,
       "version_minor": 0
      },
      "text/plain": [
       "Validation sanity check: 0it [00:00, ?it/s]"
      ]
     },
     "metadata": {},
     "output_type": "display_data"
    },
    {
     "name": "stderr",
     "output_type": "stream",
     "text": [
      "/ssd003/projects/aieng/public/forecasting_unified/lib/python3.8/site-packages/pytorch_lightning/trainer/data_loading.py:132: UserWarning: The dataloader, val_dataloader 0, does not have many workers which may be a bottleneck. Consider increasing the value of the `num_workers` argument` (try 32 which is the number of cpus on this machine) in the `DataLoader` init to improve performance.\n",
      "  rank_zero_warn(\n",
      "/ssd003/projects/aieng/public/forecasting_unified/lib/python3.8/site-packages/torch/nn/functional.py:3631: UserWarning: Default upsampling behavior when mode=linear is changed to align_corners=False since 0.4.0. Please specify align_corners=True if the old behavior is desired. See the documentation of nn.Upsample for details.\n",
      "  warnings.warn(\n",
      "Global seed set to 42\n",
      "/ssd003/projects/aieng/public/forecasting_unified/lib/python3.8/site-packages/pytorch_lightning/trainer/data_loading.py:132: UserWarning: The dataloader, train_dataloader, does not have many workers which may be a bottleneck. Consider increasing the value of the `num_workers` argument` (try 32 which is the number of cpus on this machine) in the `DataLoader` init to improve performance.\n",
      "  rank_zero_warn(\n",
      "/ssd003/projects/aieng/public/forecasting_unified/lib/python3.8/site-packages/pytorch_lightning/trainer/data_loading.py:432: UserWarning: The number of training samples (10) is smaller than the logging interval Trainer(log_every_n_steps=500). Set a lower value for log_every_n_steps if you want to see logs for the training epoch.\n",
      "  rank_zero_warn(\n"
     ]
    },
    {
     "data": {
      "application/vnd.jupyter.widget-view+json": {
       "model_id": "3b44316312284c3d818bbd1c96adbc64",
       "version_major": 2,
       "version_minor": 0
      },
      "text/plain": [
       "Training: 0it [00:00, ?it/s]"
      ]
     },
     "metadata": {},
     "output_type": "display_data"
    },
    {
     "data": {
      "application/vnd.jupyter.widget-view+json": {
       "model_id": "e69e618d79f24049a9e85513ddf5426b",
       "version_major": 2,
       "version_minor": 0
      },
      "text/plain": [
       "Validating: 0it [00:00, ?it/s]"
      ]
     },
     "metadata": {},
     "output_type": "display_data"
    },
    {
     "data": {
      "application/vnd.jupyter.widget-view+json": {
       "model_id": "f24f11e5641f45738fc34e1898a8cfb8",
       "version_major": 2,
       "version_minor": 0
      },
      "text/plain": [
       "Validating: 0it [00:00, ?it/s]"
      ]
     },
     "metadata": {},
     "output_type": "display_data"
    },
    {
     "data": {
      "application/vnd.jupyter.widget-view+json": {
       "model_id": "c2b83559c58b407fa36d1f7268a3c226",
       "version_major": 2,
       "version_minor": 0
      },
      "text/plain": [
       "Validating: 0it [00:00, ?it/s]"
      ]
     },
     "metadata": {},
     "output_type": "display_data"
    },
    {
     "data": {
      "application/vnd.jupyter.widget-view+json": {
       "model_id": "8ef2a90ec58e40f8a66221b96b18f781",
       "version_major": 2,
       "version_minor": 0
      },
      "text/plain": [
       "Validating: 0it [00:00, ?it/s]"
      ]
     },
     "metadata": {},
     "output_type": "display_data"
    },
    {
     "data": {
      "application/vnd.jupyter.widget-view+json": {
       "model_id": "22ca649a71364ba89ab564365e312454",
       "version_major": 2,
       "version_minor": 0
      },
      "text/plain": [
       "Validating: 0it [00:00, ?it/s]"
      ]
     },
     "metadata": {},
     "output_type": "display_data"
    },
    {
     "data": {
      "application/vnd.jupyter.widget-view+json": {
       "model_id": "a6f587e15cc04d90bcf1b665046dddc8",
       "version_major": 2,
       "version_minor": 0
      },
      "text/plain": [
       "Validating: 0it [00:00, ?it/s]"
      ]
     },
     "metadata": {},
     "output_type": "display_data"
    },
    {
     "data": {
      "application/vnd.jupyter.widget-view+json": {
       "model_id": "7a9ec27d72b648a693f7de01ca454b9e",
       "version_major": 2,
       "version_minor": 0
      },
      "text/plain": [
       "Validating: 0it [00:00, ?it/s]"
      ]
     },
     "metadata": {},
     "output_type": "display_data"
    },
    {
     "data": {
      "application/vnd.jupyter.widget-view+json": {
       "model_id": "792d810ce01c4c3abeb9dbfe54958347",
       "version_major": 2,
       "version_minor": 0
      },
      "text/plain": [
       "Validating: 0it [00:00, ?it/s]"
      ]
     },
     "metadata": {},
     "output_type": "display_data"
    },
    {
     "data": {
      "application/vnd.jupyter.widget-view+json": {
       "model_id": "6dc15209cf4e456694cc50f68737903e",
       "version_major": 2,
       "version_minor": 0
      },
      "text/plain": [
       "Validating: 0it [00:00, ?it/s]"
      ]
     },
     "metadata": {},
     "output_type": "display_data"
    },
    {
     "data": {
      "application/vnd.jupyter.widget-view+json": {
       "model_id": "51ee9808d09948ceb0b7d5d8bd6b32ca",
       "version_major": 2,
       "version_minor": 0
      },
      "text/plain": [
       "Validating: 0it [00:00, ?it/s]"
      ]
     },
     "metadata": {},
     "output_type": "display_data"
    },
    {
     "data": {
      "application/vnd.jupyter.widget-view+json": {
       "model_id": "66d312bcc2bf4ad781125435160982ae",
       "version_major": 2,
       "version_minor": 0
      },
      "text/plain": [
       "Validating: 0it [00:00, ?it/s]"
      ]
     },
     "metadata": {},
     "output_type": "display_data"
    },
    {
     "data": {
      "application/vnd.jupyter.widget-view+json": {
       "model_id": "7a59a855b69b4010b9ec0f505c1bd96b",
       "version_major": 2,
       "version_minor": 0
      },
      "text/plain": [
       "Validating: 0it [00:00, ?it/s]"
      ]
     },
     "metadata": {},
     "output_type": "display_data"
    },
    {
     "data": {
      "application/vnd.jupyter.widget-view+json": {
       "model_id": "b8f963bd892441239d4b63303f8f97c5",
       "version_major": 2,
       "version_minor": 0
      },
      "text/plain": [
       "Validating: 0it [00:00, ?it/s]"
      ]
     },
     "metadata": {},
     "output_type": "display_data"
    },
    {
     "data": {
      "application/vnd.jupyter.widget-view+json": {
       "model_id": "e2b5d124e4ae4ccf98255cefd38e6ca0",
       "version_major": 2,
       "version_minor": 0
      },
      "text/plain": [
       "Validating: 0it [00:00, ?it/s]"
      ]
     },
     "metadata": {},
     "output_type": "display_data"
    },
    {
     "data": {
      "application/vnd.jupyter.widget-view+json": {
       "model_id": "cd2afc81f7b14cee82bead8e9be48dee",
       "version_major": 2,
       "version_minor": 0
      },
      "text/plain": [
       "Validating: 0it [00:00, ?it/s]"
      ]
     },
     "metadata": {},
     "output_type": "display_data"
    },
    {
     "data": {
      "application/vnd.jupyter.widget-view+json": {
       "model_id": "c188291e79b5483db842594fdff75ee3",
       "version_major": 2,
       "version_minor": 0
      },
      "text/plain": [
       "Validating: 0it [00:00, ?it/s]"
      ]
     },
     "metadata": {},
     "output_type": "display_data"
    },
    {
     "data": {
      "application/vnd.jupyter.widget-view+json": {
       "model_id": "f6abd81204aa4618afffc48086f2e06f",
       "version_major": 2,
       "version_minor": 0
      },
      "text/plain": [
       "Validating: 0it [00:00, ?it/s]"
      ]
     },
     "metadata": {},
     "output_type": "display_data"
    },
    {
     "data": {
      "application/vnd.jupyter.widget-view+json": {
       "model_id": "a652975d01f943f48bbbe9eff6027a3b",
       "version_major": 2,
       "version_minor": 0
      },
      "text/plain": [
       "Validating: 0it [00:00, ?it/s]"
      ]
     },
     "metadata": {},
     "output_type": "display_data"
    },
    {
     "data": {
      "application/vnd.jupyter.widget-view+json": {
       "model_id": "e736c1e6e4b04b1cbb1dd1f8fb979bc6",
       "version_major": 2,
       "version_minor": 0
      },
      "text/plain": [
       "Validating: 0it [00:00, ?it/s]"
      ]
     },
     "metadata": {},
     "output_type": "display_data"
    },
    {
     "data": {
      "application/vnd.jupyter.widget-view+json": {
       "model_id": "fd94f974a78d409b98cb7ad4ca05a1f8",
       "version_major": 2,
       "version_minor": 0
      },
      "text/plain": [
       "Validating: 0it [00:00, ?it/s]"
      ]
     },
     "metadata": {},
     "output_type": "display_data"
    },
    {
     "data": {
      "application/vnd.jupyter.widget-view+json": {
       "model_id": "224c9d47010f434885b16fc1d4f25794",
       "version_major": 2,
       "version_minor": 0
      },
      "text/plain": [
       "Validating: 0it [00:00, ?it/s]"
      ]
     },
     "metadata": {},
     "output_type": "display_data"
    },
    {
     "data": {
      "application/vnd.jupyter.widget-view+json": {
       "model_id": "7660219d3cba4f75a0cbd51f6ec5cb58",
       "version_major": 2,
       "version_minor": 0
      },
      "text/plain": [
       "Validating: 0it [00:00, ?it/s]"
      ]
     },
     "metadata": {},
     "output_type": "display_data"
    }
   ],
   "source": [
    "# Set random seed \n",
    "pl.seed_everything(42)\n",
    "\n",
    "# Define early stopping criteria\n",
    "early_stopping = EarlyStopping(monitor=\"val_loss\", \n",
    "                               min_delta=1e-4, \n",
    "                               patience=mc['early_stop_patience'],\n",
    "                               verbose=False,\n",
    "                               mode=\"min\")\n",
    "\n",
    "# Init pytorch lightning trainer\n",
    "trainer = pl.Trainer(max_epochs=mc['max_epochs'], \n",
    "                     gradient_clip_val=1.0,\n",
    "                     progress_bar_refresh_rate=10, \n",
    "                     log_every_n_steps=500, \n",
    "                     check_val_every_n_epoch=1,\n",
    "                     callbacks=[early_stopping])\n",
    "\n",
    "# Train and Validate Model\n",
    "trainer.fit(model, train_loader, val_loader)"
   ]
  },
  {
   "cell_type": "markdown",
   "metadata": {
    "id": "r90lmVDPM5jX"
   },
   "source": [
    "## Test"
   ]
  },
  {
   "cell_type": "markdown",
   "metadata": {
    "id": "E39eLwTROZkN"
   },
   "source": [
    "### Inference\n",
    "We can obtain the predictions of the trained model on the test samples using the predict method of the trainer object. This will output a list the same length as the number of time series. Each entry in this list (ie `outputs[0]`) is a list itself where the first item (ie `outputs[0][0]`) is the ground truth and the second item (ie `outputs[0][1]`) is the prediction. "
   ]
  },
  {
   "cell_type": "code",
   "execution_count": null,
   "metadata": {
    "colab": {
     "base_uri": "https://localhost:8080/",
     "height": 173,
     "referenced_widgets": [
      "6bf930c16eb148728e0a6283dea21e7f",
      "f446f52cd0c04a2c8f7b6fb0daa89e97",
      "f924dad9616142d9987dea7dd874d171",
      "951eb81f506d470fba6410489b13ee4c",
      "04c113db19a941f8930c3a98c7e5ae33",
      "81f2a86f597349f888eac3c965e37068",
      "9e51199edd8845bcb7880a5fe7870259",
      "0044d9c506744ad7ba55ef96b69ca6c0",
      "8dadfac2cc7e450bb14ab6818ce4144c",
      "2cfe2e2aab4a40d9b6d905bcd84d5ef0",
      "852cb58614c04337b120997636f8ab56"
     ]
    },
    "id": "MhC_REPyFKdO",
    "outputId": "e418b751-58b6-40cb-8721-611e7855e7fb"
   },
   "outputs": [],
   "source": [
    "# Obtain Predictions on Test Set\n",
    "model.return_decomposition = False\n",
    "outputs = trainer.predict(model, test_loader)"
   ]
  },
  {
   "cell_type": "markdown",
   "metadata": {
    "id": "xfHn94R1NIwe"
   },
   "source": [
    "### Visualize Predictions\n",
    "With the trained model from the previous step, we can apply it to the test set to get an unbias estimate of the models performance. Additionally, we can visualize the results to build some intuition about the forecasts being generated."
   ]
  },
  {
   "cell_type": "code",
   "execution_count": null,
   "metadata": {
    "id": "ha6Rx_3pFLsx"
   },
   "outputs": [],
   "source": [
    "input_list, gt_list = [], []\n",
    "for d in test_loader:\n",
    "    Y = d[\"Y\"] \n",
    "    inp = Y[:, :mc['n_time_in']]\n",
    "    input_list.append(inp)"
   ]
  },
  {
   "cell_type": "code",
   "execution_count": null,
   "metadata": {
    "colab": {
     "base_uri": "https://localhost:8080/",
     "height": 1000
    },
    "id": "os8VvTkEH6UV",
    "outputId": "876dec7e-8d79-47d5-97e9-833ca44610f9"
   },
   "outputs": [],
   "source": [
    "n_samples = 5\n",
    "ss_indices = np.random.choice((len(outputs)), n_samples, replace=False).tolist()\n",
    "\n",
    "f, axarr = plt.subplots(n_samples, 1, figsize=(40, 60))\n",
    "\n",
    "for i, ss_ind in enumerate(ss_indices):\n",
    "    inp = input_list[ss_ind][0, :].cpu().numpy()\n",
    "\n",
    "    out1 = outputs[ss_ind][0][0, :].cpu().numpy()\n",
    "    out2 = outputs[ss_ind][1][0, :].cpu().numpy()\n",
    "\n",
    "    inp_index = [j for j in range(mc['n_time_in'])]\n",
    "    out_index = [j for j in range(mc['n_time_in'], mc['n_time_out'] + mc['n_time_out'])]\n",
    "\n",
    "    axarr[i].plot(inp_index, inp, c=\"green\")\n",
    "    axarr[i].plot(out_index, out1, c=\"red\")\n",
    "    axarr[i].plot(out_index, out2, c=\"blue\")"
   ]
  },
  {
   "cell_type": "markdown",
   "metadata": {
    "id": "hg9_FY7yUieW"
   },
   "source": [
    "### Quantitative Resutls\n",
    "To assess the performance of NHITS on the dataset, we calculate its performance on the test set using a set of metrics that are commonly used in time series forecasting. The metrics include Mean Absolute Error (MAE) and Mean Squared Error (MSE)."
   ]
  },
  {
   "cell_type": "code",
   "execution_count": null,
   "metadata": {
    "colab": {
     "base_uri": "https://localhost:8080/"
    },
    "id": "PtUPc7LdO7iG",
    "outputId": "28f93e26-8c38-4074-dfc7-83e8c405ec5e"
   },
   "outputs": [],
   "source": [
    "# Aggregate list of ground truth and prediction series in to lists\n",
    "true_list = [output[0] for output in outputs]\n",
    "pred_list = [output[1] for output in outputs]\n",
    "\n",
    "# Stack lists into tensors along the sample/batch dimension\n",
    "trues = torch.concat(true_list, dim=0)\n",
    "preds = torch.concat(pred_list, dim=0)\n",
    "\n",
    "# Calculate Losses\n",
    "mse = mean_squared_error(trues.cpu().numpy(), preds.cpu().numpy())\n",
    "mae = mean_absolute_error(trues.cpu().numpy(), preds.cpu().numpy())\n",
    "\n",
    "print(f\"MSE: {mse} MAE: {mae}\")"
   ]
  }
 ],
 "metadata": {
  "accelerator": "GPU",
  "colab": {
   "collapsed_sections": [],
   "machine_shape": "hm",
   "name": "nhits_traffic.ipynb",
   "provenance": []
  },
  "kernelspec": {
   "display_name": "forecasting",
   "language": "python",
   "name": "forecasting"
  },
  "language_info": {
   "codemirror_mode": {
    "name": "ipython",
    "version": 3
   },
   "file_extension": ".py",
   "mimetype": "text/x-python",
   "name": "python",
   "nbconvert_exporter": "python",
   "pygments_lexer": "ipython3",
   "version": "3.8.0"
  },
  "widgets": {
   "application/vnd.jupyter.widget-state+json": {
    "0044d9c506744ad7ba55ef96b69ca6c0": {
     "model_module": "@jupyter-widgets/controls",
     "model_module_version": "1.5.0",
     "model_name": "ProgressStyleModel",
     "state": {
      "_model_module": "@jupyter-widgets/controls",
      "_model_module_version": "1.5.0",
      "_model_name": "ProgressStyleModel",
      "_view_count": null,
      "_view_module": "@jupyter-widgets/base",
      "_view_module_version": "1.2.0",
      "_view_name": "StyleView",
      "bar_color": null,
      "description_width": ""
     }
    },
    "046c28253347476b9c2ac50ff4a21746": {
     "model_module": "@jupyter-widgets/base",
     "model_module_version": "1.2.0",
     "model_name": "LayoutModel",
     "state": {
      "_model_module": "@jupyter-widgets/base",
      "_model_module_version": "1.2.0",
      "_model_name": "LayoutModel",
      "_view_count": null,
      "_view_module": "@jupyter-widgets/base",
      "_view_module_version": "1.2.0",
      "_view_name": "LayoutView",
      "align_content": null,
      "align_items": null,
      "align_self": null,
      "border": null,
      "bottom": null,
      "display": null,
      "flex": "2",
      "flex_flow": null,
      "grid_area": null,
      "grid_auto_columns": null,
      "grid_auto_flow": null,
      "grid_auto_rows": null,
      "grid_column": null,
      "grid_gap": null,
      "grid_row": null,
      "grid_template_areas": null,
      "grid_template_columns": null,
      "grid_template_rows": null,
      "height": null,
      "justify_content": null,
      "justify_items": null,
      "left": null,
      "margin": null,
      "max_height": null,
      "max_width": null,
      "min_height": null,
      "min_width": null,
      "object_fit": null,
      "object_position": null,
      "order": null,
      "overflow": null,
      "overflow_x": null,
      "overflow_y": null,
      "padding": null,
      "right": null,
      "top": null,
      "visibility": null,
      "width": null
     }
    },
    "04c113db19a941f8930c3a98c7e5ae33": {
     "model_module": "@jupyter-widgets/controls",
     "model_module_version": "1.5.0",
     "model_name": "HTMLModel",
     "state": {
      "_dom_classes": [],
      "_model_module": "@jupyter-widgets/controls",
      "_model_module_version": "1.5.0",
      "_model_name": "HTMLModel",
      "_view_count": null,
      "_view_module": "@jupyter-widgets/controls",
      "_view_module_version": "1.5.0",
      "_view_name": "HTMLView",
      "description": "",
      "description_tooltip": null,
      "layout": "IPY_MODEL_852cb58614c04337b120997636f8ab56",
      "placeholder": "​",
      "style": "IPY_MODEL_2cfe2e2aab4a40d9b6d905bcd84d5ef0",
      "value": " 862/862 [00:33&lt;?, ?it/s]"
     }
    },
    "07b7d0d6a99e48b0b718f44b8353a6d3": {
     "model_module": "@jupyter-widgets/controls",
     "model_module_version": "1.5.0",
     "model_name": "DescriptionStyleModel",
     "state": {
      "_model_module": "@jupyter-widgets/controls",
      "_model_module_version": "1.5.0",
      "_model_name": "DescriptionStyleModel",
      "_view_count": null,
      "_view_module": "@jupyter-widgets/base",
      "_view_module_version": "1.2.0",
      "_view_name": "StyleView",
      "description_width": ""
     }
    },
    "0afcfc1ec22e47398ffae6459556d6e9": {
     "model_module": "@jupyter-widgets/base",
     "model_module_version": "1.2.0",
     "model_name": "LayoutModel",
     "state": {
      "_model_module": "@jupyter-widgets/base",
      "_model_module_version": "1.2.0",
      "_model_name": "LayoutModel",
      "_view_count": null,
      "_view_module": "@jupyter-widgets/base",
      "_view_module_version": "1.2.0",
      "_view_name": "LayoutView",
      "align_content": null,
      "align_items": null,
      "align_self": null,
      "border": null,
      "bottom": null,
      "display": "inline-flex",
      "flex": null,
      "flex_flow": "row wrap",
      "grid_area": null,
      "grid_auto_columns": null,
      "grid_auto_flow": null,
      "grid_auto_rows": null,
      "grid_column": null,
      "grid_gap": null,
      "grid_row": null,
      "grid_template_areas": null,
      "grid_template_columns": null,
      "grid_template_rows": null,
      "height": null,
      "justify_content": null,
      "justify_items": null,
      "left": null,
      "margin": null,
      "max_height": null,
      "max_width": null,
      "min_height": null,
      "min_width": null,
      "object_fit": null,
      "object_position": null,
      "order": null,
      "overflow": null,
      "overflow_x": null,
      "overflow_y": null,
      "padding": null,
      "right": null,
      "top": null,
      "visibility": null,
      "width": "100%"
     }
    },
    "0c005e6aca2c49a4ace83a0a1092c03f": {
     "model_module": "@jupyter-widgets/controls",
     "model_module_version": "1.5.0",
     "model_name": "FloatProgressModel",
     "state": {
      "_dom_classes": [],
      "_model_module": "@jupyter-widgets/controls",
      "_model_module_version": "1.5.0",
      "_model_name": "FloatProgressModel",
      "_view_count": null,
      "_view_module": "@jupyter-widgets/controls",
      "_view_module_version": "1.5.0",
      "_view_name": "ProgressView",
      "bar_style": "",
      "description": "",
      "description_tooltip": null,
      "layout": "IPY_MODEL_87ccf33d70954b828a5caa19c837ebff",
      "max": 862,
      "min": 0,
      "orientation": "horizontal",
      "style": "IPY_MODEL_813c3874df17481ba44e4f3a4e44bc33",
      "value": 862
     }
    },
    "12dd3a992134471bb898255549e151eb": {
     "model_module": "@jupyter-widgets/controls",
     "model_module_version": "1.5.0",
     "model_name": "HTMLModel",
     "state": {
      "_dom_classes": [],
      "_model_module": "@jupyter-widgets/controls",
      "_model_module_version": "1.5.0",
      "_model_name": "HTMLModel",
      "_view_count": null,
      "_view_module": "@jupyter-widgets/controls",
      "_view_module_version": "1.5.0",
      "_view_name": "HTMLView",
      "description": "",
      "description_tooltip": null,
      "layout": "IPY_MODEL_5ba9462313c74cd49b5c3c9b9599a223",
      "placeholder": "​",
      "style": "IPY_MODEL_c194b7243ef045308f0b2e95de5c40bd",
      "value": "Epoch 0: 100%"
     }
    },
    "1c02e62c0b764deaaa435e0b1e50b455": {
     "model_module": "@jupyter-widgets/controls",
     "model_module_version": "1.5.0",
     "model_name": "HTMLModel",
     "state": {
      "_dom_classes": [],
      "_model_module": "@jupyter-widgets/controls",
      "_model_module_version": "1.5.0",
      "_model_name": "HTMLModel",
      "_view_count": null,
      "_view_module": "@jupyter-widgets/controls",
      "_view_module_version": "1.5.0",
      "_view_name": "HTMLView",
      "description": "",
      "description_tooltip": null,
      "layout": "IPY_MODEL_a6d759e6a19a4fa28989583d30ddaa93",
      "placeholder": "​",
      "style": "IPY_MODEL_6e813721c09f4fa7a5805ca25dc6d06e",
      "value": " 860/862 [00:33&lt;00:00, 25.12it/s]"
     }
    },
    "27c41d33a16647beac5f938be574c094": {
     "model_module": "@jupyter-widgets/controls",
     "model_module_version": "1.5.0",
     "model_name": "HBoxModel",
     "state": {
      "_dom_classes": [],
      "_model_module": "@jupyter-widgets/controls",
      "_model_module_version": "1.5.0",
      "_model_name": "HBoxModel",
      "_view_count": null,
      "_view_module": "@jupyter-widgets/controls",
      "_view_module_version": "1.5.0",
      "_view_name": "HBoxView",
      "box_style": "",
      "children": [
       "IPY_MODEL_5cf37e9c0dde4df6b7b3618558934fd1",
       "IPY_MODEL_7576624594e244d2a353d678f0c1040a",
       "IPY_MODEL_af069b1b83c44f6aa44d76288a245eef"
      ],
      "layout": "IPY_MODEL_3c4be8fb5dfd461b8b4d1af8a6f1c09f"
     }
    },
    "2cfe2e2aab4a40d9b6d905bcd84d5ef0": {
     "model_module": "@jupyter-widgets/controls",
     "model_module_version": "1.5.0",
     "model_name": "DescriptionStyleModel",
     "state": {
      "_model_module": "@jupyter-widgets/controls",
      "_model_module_version": "1.5.0",
      "_model_name": "DescriptionStyleModel",
      "_view_count": null,
      "_view_module": "@jupyter-widgets/base",
      "_view_module_version": "1.2.0",
      "_view_name": "StyleView",
      "description_width": ""
     }
    },
    "3c4be8fb5dfd461b8b4d1af8a6f1c09f": {
     "model_module": "@jupyter-widgets/base",
     "model_module_version": "1.2.0",
     "model_name": "LayoutModel",
     "state": {
      "_model_module": "@jupyter-widgets/base",
      "_model_module_version": "1.2.0",
      "_model_name": "LayoutModel",
      "_view_count": null,
      "_view_module": "@jupyter-widgets/base",
      "_view_module_version": "1.2.0",
      "_view_name": "LayoutView",
      "align_content": null,
      "align_items": null,
      "align_self": null,
      "border": null,
      "bottom": null,
      "display": "inline-flex",
      "flex": null,
      "flex_flow": "row wrap",
      "grid_area": null,
      "grid_auto_columns": null,
      "grid_auto_flow": null,
      "grid_auto_rows": null,
      "grid_column": null,
      "grid_gap": null,
      "grid_row": null,
      "grid_template_areas": null,
      "grid_template_columns": null,
      "grid_template_rows": null,
      "height": null,
      "justify_content": null,
      "justify_items": null,
      "left": null,
      "margin": null,
      "max_height": null,
      "max_width": null,
      "min_height": null,
      "min_width": null,
      "object_fit": null,
      "object_position": null,
      "order": null,
      "overflow": null,
      "overflow_x": null,
      "overflow_y": null,
      "padding": null,
      "right": null,
      "top": null,
      "visibility": null,
      "width": "100%"
     }
    },
    "459e486a6c8b403387aa9a61a1d4c0bc": {
     "model_module": "@jupyter-widgets/controls",
     "model_module_version": "1.5.0",
     "model_name": "HBoxModel",
     "state": {
      "_dom_classes": [],
      "_model_module": "@jupyter-widgets/controls",
      "_model_module_version": "1.5.0",
      "_model_name": "HBoxModel",
      "_view_count": null,
      "_view_module": "@jupyter-widgets/controls",
      "_view_module_version": "1.5.0",
      "_view_name": "HBoxView",
      "box_style": "",
      "children": [
       "IPY_MODEL_a6d6b497065e4cfbb64ea34a5ea871d7",
       "IPY_MODEL_0c005e6aca2c49a4ace83a0a1092c03f",
       "IPY_MODEL_1c02e62c0b764deaaa435e0b1e50b455"
      ],
      "layout": "IPY_MODEL_0afcfc1ec22e47398ffae6459556d6e9"
     }
    },
    "46c0abc56b8d476588301592232a2f34": {
     "model_module": "@jupyter-widgets/controls",
     "model_module_version": "1.5.0",
     "model_name": "DescriptionStyleModel",
     "state": {
      "_model_module": "@jupyter-widgets/controls",
      "_model_module_version": "1.5.0",
      "_model_name": "DescriptionStyleModel",
      "_view_count": null,
      "_view_module": "@jupyter-widgets/base",
      "_view_module_version": "1.2.0",
      "_view_name": "StyleView",
      "description_width": ""
     }
    },
    "4ef1155b09e54cfaab81a1dcfb253d65": {
     "model_module": "@jupyter-widgets/base",
     "model_module_version": "1.2.0",
     "model_name": "LayoutModel",
     "state": {
      "_model_module": "@jupyter-widgets/base",
      "_model_module_version": "1.2.0",
      "_model_name": "LayoutModel",
      "_view_count": null,
      "_view_module": "@jupyter-widgets/base",
      "_view_module_version": "1.2.0",
      "_view_name": "LayoutView",
      "align_content": null,
      "align_items": null,
      "align_self": null,
      "border": null,
      "bottom": null,
      "display": null,
      "flex": null,
      "flex_flow": null,
      "grid_area": null,
      "grid_auto_columns": null,
      "grid_auto_flow": null,
      "grid_auto_rows": null,
      "grid_column": null,
      "grid_gap": null,
      "grid_row": null,
      "grid_template_areas": null,
      "grid_template_columns": null,
      "grid_template_rows": null,
      "height": null,
      "justify_content": null,
      "justify_items": null,
      "left": null,
      "margin": null,
      "max_height": null,
      "max_width": null,
      "min_height": null,
      "min_width": null,
      "object_fit": null,
      "object_position": null,
      "order": null,
      "overflow": null,
      "overflow_x": null,
      "overflow_y": null,
      "padding": null,
      "right": null,
      "top": null,
      "visibility": null,
      "width": null
     }
    },
    "52b587678fbf45f8a5b0ed2b85909ae0": {
     "model_module": "@jupyter-widgets/controls",
     "model_module_version": "1.5.0",
     "model_name": "ProgressStyleModel",
     "state": {
      "_model_module": "@jupyter-widgets/controls",
      "_model_module_version": "1.5.0",
      "_model_name": "ProgressStyleModel",
      "_view_count": null,
      "_view_module": "@jupyter-widgets/base",
      "_view_module_version": "1.2.0",
      "_view_name": "StyleView",
      "bar_color": null,
      "description_width": ""
     }
    },
    "5ba9462313c74cd49b5c3c9b9599a223": {
     "model_module": "@jupyter-widgets/base",
     "model_module_version": "1.2.0",
     "model_name": "LayoutModel",
     "state": {
      "_model_module": "@jupyter-widgets/base",
      "_model_module_version": "1.2.0",
      "_model_name": "LayoutModel",
      "_view_count": null,
      "_view_module": "@jupyter-widgets/base",
      "_view_module_version": "1.2.0",
      "_view_name": "LayoutView",
      "align_content": null,
      "align_items": null,
      "align_self": null,
      "border": null,
      "bottom": null,
      "display": null,
      "flex": null,
      "flex_flow": null,
      "grid_area": null,
      "grid_auto_columns": null,
      "grid_auto_flow": null,
      "grid_auto_rows": null,
      "grid_column": null,
      "grid_gap": null,
      "grid_row": null,
      "grid_template_areas": null,
      "grid_template_columns": null,
      "grid_template_rows": null,
      "height": null,
      "justify_content": null,
      "justify_items": null,
      "left": null,
      "margin": null,
      "max_height": null,
      "max_width": null,
      "min_height": null,
      "min_width": null,
      "object_fit": null,
      "object_position": null,
      "order": null,
      "overflow": null,
      "overflow_x": null,
      "overflow_y": null,
      "padding": null,
      "right": null,
      "top": null,
      "visibility": null,
      "width": null
     }
    },
    "5cf37e9c0dde4df6b7b3618558934fd1": {
     "model_module": "@jupyter-widgets/controls",
     "model_module_version": "1.5.0",
     "model_name": "HTMLModel",
     "state": {
      "_dom_classes": [],
      "_model_module": "@jupyter-widgets/controls",
      "_model_module_version": "1.5.0",
      "_model_name": "HTMLModel",
      "_view_count": null,
      "_view_module": "@jupyter-widgets/controls",
      "_view_module_version": "1.5.0",
      "_view_name": "HTMLView",
      "description": "",
      "description_tooltip": null,
      "layout": "IPY_MODEL_4ef1155b09e54cfaab81a1dcfb253d65",
      "placeholder": "​",
      "style": "IPY_MODEL_e0907f2fc1dd42cd9cfc8779da61c8e4",
      "value": "Validation sanity check: 100%"
     }
    },
    "6bf930c16eb148728e0a6283dea21e7f": {
     "model_module": "@jupyter-widgets/controls",
     "model_module_version": "1.5.0",
     "model_name": "HBoxModel",
     "state": {
      "_dom_classes": [],
      "_model_module": "@jupyter-widgets/controls",
      "_model_module_version": "1.5.0",
      "_model_name": "HBoxModel",
      "_view_count": null,
      "_view_module": "@jupyter-widgets/controls",
      "_view_module_version": "1.5.0",
      "_view_name": "HBoxView",
      "box_style": "",
      "children": [
       "IPY_MODEL_f924dad9616142d9987dea7dd874d171",
       "IPY_MODEL_951eb81f506d470fba6410489b13ee4c",
       "IPY_MODEL_04c113db19a941f8930c3a98c7e5ae33"
      ],
      "layout": "IPY_MODEL_f446f52cd0c04a2c8f7b6fb0daa89e97"
     }
    },
    "6e813721c09f4fa7a5805ca25dc6d06e": {
     "model_module": "@jupyter-widgets/controls",
     "model_module_version": "1.5.0",
     "model_name": "DescriptionStyleModel",
     "state": {
      "_model_module": "@jupyter-widgets/controls",
      "_model_module_version": "1.5.0",
      "_model_name": "DescriptionStyleModel",
      "_view_count": null,
      "_view_module": "@jupyter-widgets/base",
      "_view_module_version": "1.2.0",
      "_view_name": "StyleView",
      "description_width": ""
     }
    },
    "7576624594e244d2a353d678f0c1040a": {
     "model_module": "@jupyter-widgets/controls",
     "model_module_version": "1.5.0",
     "model_name": "FloatProgressModel",
     "state": {
      "_dom_classes": [],
      "_model_module": "@jupyter-widgets/controls",
      "_model_module_version": "1.5.0",
      "_model_name": "FloatProgressModel",
      "_view_count": null,
      "_view_module": "@jupyter-widgets/controls",
      "_view_module_version": "1.5.0",
      "_view_name": "ProgressView",
      "bar_style": "",
      "description": "",
      "description_tooltip": null,
      "layout": "IPY_MODEL_d650431899d34cb5b7a175a807b4c2e2",
      "max": 2,
      "min": 0,
      "orientation": "horizontal",
      "style": "IPY_MODEL_52b587678fbf45f8a5b0ed2b85909ae0",
      "value": 2
     }
    },
    "813c3874df17481ba44e4f3a4e44bc33": {
     "model_module": "@jupyter-widgets/controls",
     "model_module_version": "1.5.0",
     "model_name": "ProgressStyleModel",
     "state": {
      "_model_module": "@jupyter-widgets/controls",
      "_model_module_version": "1.5.0",
      "_model_name": "ProgressStyleModel",
      "_view_count": null,
      "_view_module": "@jupyter-widgets/base",
      "_view_module_version": "1.2.0",
      "_view_name": "StyleView",
      "bar_color": null,
      "description_width": ""
     }
    },
    "81f2a86f597349f888eac3c965e37068": {
     "model_module": "@jupyter-widgets/controls",
     "model_module_version": "1.5.0",
     "model_name": "DescriptionStyleModel",
     "state": {
      "_model_module": "@jupyter-widgets/controls",
      "_model_module_version": "1.5.0",
      "_model_name": "DescriptionStyleModel",
      "_view_count": null,
      "_view_module": "@jupyter-widgets/base",
      "_view_module_version": "1.2.0",
      "_view_name": "StyleView",
      "description_width": ""
     }
    },
    "852cb58614c04337b120997636f8ab56": {
     "model_module": "@jupyter-widgets/base",
     "model_module_version": "1.2.0",
     "model_name": "LayoutModel",
     "state": {
      "_model_module": "@jupyter-widgets/base",
      "_model_module_version": "1.2.0",
      "_model_name": "LayoutModel",
      "_view_count": null,
      "_view_module": "@jupyter-widgets/base",
      "_view_module_version": "1.2.0",
      "_view_name": "LayoutView",
      "align_content": null,
      "align_items": null,
      "align_self": null,
      "border": null,
      "bottom": null,
      "display": null,
      "flex": null,
      "flex_flow": null,
      "grid_area": null,
      "grid_auto_columns": null,
      "grid_auto_flow": null,
      "grid_auto_rows": null,
      "grid_column": null,
      "grid_gap": null,
      "grid_row": null,
      "grid_template_areas": null,
      "grid_template_columns": null,
      "grid_template_rows": null,
      "height": null,
      "justify_content": null,
      "justify_items": null,
      "left": null,
      "margin": null,
      "max_height": null,
      "max_width": null,
      "min_height": null,
      "min_width": null,
      "object_fit": null,
      "object_position": null,
      "order": null,
      "overflow": null,
      "overflow_x": null,
      "overflow_y": null,
      "padding": null,
      "right": null,
      "top": null,
      "visibility": null,
      "width": null
     }
    },
    "87ccf33d70954b828a5caa19c837ebff": {
     "model_module": "@jupyter-widgets/base",
     "model_module_version": "1.2.0",
     "model_name": "LayoutModel",
     "state": {
      "_model_module": "@jupyter-widgets/base",
      "_model_module_version": "1.2.0",
      "_model_name": "LayoutModel",
      "_view_count": null,
      "_view_module": "@jupyter-widgets/base",
      "_view_module_version": "1.2.0",
      "_view_name": "LayoutView",
      "align_content": null,
      "align_items": null,
      "align_self": null,
      "border": null,
      "bottom": null,
      "display": null,
      "flex": "2",
      "flex_flow": null,
      "grid_area": null,
      "grid_auto_columns": null,
      "grid_auto_flow": null,
      "grid_auto_rows": null,
      "grid_column": null,
      "grid_gap": null,
      "grid_row": null,
      "grid_template_areas": null,
      "grid_template_columns": null,
      "grid_template_rows": null,
      "height": null,
      "justify_content": null,
      "justify_items": null,
      "left": null,
      "margin": null,
      "max_height": null,
      "max_width": null,
      "min_height": null,
      "min_width": null,
      "object_fit": null,
      "object_position": null,
      "order": null,
      "overflow": null,
      "overflow_x": null,
      "overflow_y": null,
      "padding": null,
      "right": null,
      "top": null,
      "visibility": null,
      "width": null
     }
    },
    "8b854731840a4971a56a1d89401874ce": {
     "model_module": "@jupyter-widgets/controls",
     "model_module_version": "1.5.0",
     "model_name": "HTMLModel",
     "state": {
      "_dom_classes": [],
      "_model_module": "@jupyter-widgets/controls",
      "_model_module_version": "1.5.0",
      "_model_name": "HTMLModel",
      "_view_count": null,
      "_view_module": "@jupyter-widgets/controls",
      "_view_module_version": "1.5.0",
      "_view_name": "HTMLView",
      "description": "",
      "description_tooltip": null,
      "layout": "IPY_MODEL_e938ac293c9a488b99bc9b5429db65aa",
      "placeholder": "​",
      "style": "IPY_MODEL_e8646c330ab64d0b96ad724c23e0ccfe",
      "value": " 1724/1724 [00:59&lt;00:00, 28.74it/s, loss=0.344, v_num=0, train_loss_step=0.383, val_loss=0.403, train_loss_epoch=0.446]"
     }
    },
    "8c363a963eed45febd2855fd4be13de5": {
     "model_module": "@jupyter-widgets/base",
     "model_module_version": "1.2.0",
     "model_name": "LayoutModel",
     "state": {
      "_model_module": "@jupyter-widgets/base",
      "_model_module_version": "1.2.0",
      "_model_name": "LayoutModel",
      "_view_count": null,
      "_view_module": "@jupyter-widgets/base",
      "_view_module_version": "1.2.0",
      "_view_name": "LayoutView",
      "align_content": null,
      "align_items": null,
      "align_self": null,
      "border": null,
      "bottom": null,
      "display": null,
      "flex": null,
      "flex_flow": null,
      "grid_area": null,
      "grid_auto_columns": null,
      "grid_auto_flow": null,
      "grid_auto_rows": null,
      "grid_column": null,
      "grid_gap": null,
      "grid_row": null,
      "grid_template_areas": null,
      "grid_template_columns": null,
      "grid_template_rows": null,
      "height": null,
      "justify_content": null,
      "justify_items": null,
      "left": null,
      "margin": null,
      "max_height": null,
      "max_width": null,
      "min_height": null,
      "min_width": null,
      "object_fit": null,
      "object_position": null,
      "order": null,
      "overflow": null,
      "overflow_x": null,
      "overflow_y": null,
      "padding": null,
      "right": null,
      "top": null,
      "visibility": null,
      "width": null
     }
    },
    "8dadfac2cc7e450bb14ab6818ce4144c": {
     "model_module": "@jupyter-widgets/base",
     "model_module_version": "1.2.0",
     "model_name": "LayoutModel",
     "state": {
      "_model_module": "@jupyter-widgets/base",
      "_model_module_version": "1.2.0",
      "_model_name": "LayoutModel",
      "_view_count": null,
      "_view_module": "@jupyter-widgets/base",
      "_view_module_version": "1.2.0",
      "_view_name": "LayoutView",
      "align_content": null,
      "align_items": null,
      "align_self": null,
      "border": null,
      "bottom": null,
      "display": null,
      "flex": "2",
      "flex_flow": null,
      "grid_area": null,
      "grid_auto_columns": null,
      "grid_auto_flow": null,
      "grid_auto_rows": null,
      "grid_column": null,
      "grid_gap": null,
      "grid_row": null,
      "grid_template_areas": null,
      "grid_template_columns": null,
      "grid_template_rows": null,
      "height": null,
      "justify_content": null,
      "justify_items": null,
      "left": null,
      "margin": null,
      "max_height": null,
      "max_width": null,
      "min_height": null,
      "min_width": null,
      "object_fit": null,
      "object_position": null,
      "order": null,
      "overflow": null,
      "overflow_x": null,
      "overflow_y": null,
      "padding": null,
      "right": null,
      "top": null,
      "visibility": null,
      "width": null
     }
    },
    "951eb81f506d470fba6410489b13ee4c": {
     "model_module": "@jupyter-widgets/controls",
     "model_module_version": "1.5.0",
     "model_name": "FloatProgressModel",
     "state": {
      "_dom_classes": [],
      "_model_module": "@jupyter-widgets/controls",
      "_model_module_version": "1.5.0",
      "_model_name": "FloatProgressModel",
      "_view_count": null,
      "_view_module": "@jupyter-widgets/controls",
      "_view_module_version": "1.5.0",
      "_view_name": "ProgressView",
      "bar_style": "success",
      "description": "",
      "description_tooltip": null,
      "layout": "IPY_MODEL_8dadfac2cc7e450bb14ab6818ce4144c",
      "max": 1,
      "min": 0,
      "orientation": "horizontal",
      "style": "IPY_MODEL_0044d9c506744ad7ba55ef96b69ca6c0",
      "value": 1
     }
    },
    "9e51199edd8845bcb7880a5fe7870259": {
     "model_module": "@jupyter-widgets/base",
     "model_module_version": "1.2.0",
     "model_name": "LayoutModel",
     "state": {
      "_model_module": "@jupyter-widgets/base",
      "_model_module_version": "1.2.0",
      "_model_name": "LayoutModel",
      "_view_count": null,
      "_view_module": "@jupyter-widgets/base",
      "_view_module_version": "1.2.0",
      "_view_name": "LayoutView",
      "align_content": null,
      "align_items": null,
      "align_self": null,
      "border": null,
      "bottom": null,
      "display": null,
      "flex": null,
      "flex_flow": null,
      "grid_area": null,
      "grid_auto_columns": null,
      "grid_auto_flow": null,
      "grid_auto_rows": null,
      "grid_column": null,
      "grid_gap": null,
      "grid_row": null,
      "grid_template_areas": null,
      "grid_template_columns": null,
      "grid_template_rows": null,
      "height": null,
      "justify_content": null,
      "justify_items": null,
      "left": null,
      "margin": null,
      "max_height": null,
      "max_width": null,
      "min_height": null,
      "min_width": null,
      "object_fit": null,
      "object_position": null,
      "order": null,
      "overflow": null,
      "overflow_x": null,
      "overflow_y": null,
      "padding": null,
      "right": null,
      "top": null,
      "visibility": null,
      "width": null
     }
    },
    "a6d6b497065e4cfbb64ea34a5ea871d7": {
     "model_module": "@jupyter-widgets/controls",
     "model_module_version": "1.5.0",
     "model_name": "HTMLModel",
     "state": {
      "_dom_classes": [],
      "_model_module": "@jupyter-widgets/controls",
      "_model_module_version": "1.5.0",
      "_model_name": "HTMLModel",
      "_view_count": null,
      "_view_module": "@jupyter-widgets/controls",
      "_view_module_version": "1.5.0",
      "_view_name": "HTMLView",
      "description": "",
      "description_tooltip": null,
      "layout": "IPY_MODEL_8c363a963eed45febd2855fd4be13de5",
      "placeholder": "​",
      "style": "IPY_MODEL_46c0abc56b8d476588301592232a2f34",
      "value": "Validating: 100%"
     }
    },
    "a6d759e6a19a4fa28989583d30ddaa93": {
     "model_module": "@jupyter-widgets/base",
     "model_module_version": "1.2.0",
     "model_name": "LayoutModel",
     "state": {
      "_model_module": "@jupyter-widgets/base",
      "_model_module_version": "1.2.0",
      "_model_name": "LayoutModel",
      "_view_count": null,
      "_view_module": "@jupyter-widgets/base",
      "_view_module_version": "1.2.0",
      "_view_name": "LayoutView",
      "align_content": null,
      "align_items": null,
      "align_self": null,
      "border": null,
      "bottom": null,
      "display": null,
      "flex": null,
      "flex_flow": null,
      "grid_area": null,
      "grid_auto_columns": null,
      "grid_auto_flow": null,
      "grid_auto_rows": null,
      "grid_column": null,
      "grid_gap": null,
      "grid_row": null,
      "grid_template_areas": null,
      "grid_template_columns": null,
      "grid_template_rows": null,
      "height": null,
      "justify_content": null,
      "justify_items": null,
      "left": null,
      "margin": null,
      "max_height": null,
      "max_width": null,
      "min_height": null,
      "min_width": null,
      "object_fit": null,
      "object_position": null,
      "order": null,
      "overflow": null,
      "overflow_x": null,
      "overflow_y": null,
      "padding": null,
      "right": null,
      "top": null,
      "visibility": null,
      "width": null
     }
    },
    "ae25eae53a144e369c0abcd644c17a45": {
     "model_module": "@jupyter-widgets/base",
     "model_module_version": "1.2.0",
     "model_name": "LayoutModel",
     "state": {
      "_model_module": "@jupyter-widgets/base",
      "_model_module_version": "1.2.0",
      "_model_name": "LayoutModel",
      "_view_count": null,
      "_view_module": "@jupyter-widgets/base",
      "_view_module_version": "1.2.0",
      "_view_name": "LayoutView",
      "align_content": null,
      "align_items": null,
      "align_self": null,
      "border": null,
      "bottom": null,
      "display": null,
      "flex": null,
      "flex_flow": null,
      "grid_area": null,
      "grid_auto_columns": null,
      "grid_auto_flow": null,
      "grid_auto_rows": null,
      "grid_column": null,
      "grid_gap": null,
      "grid_row": null,
      "grid_template_areas": null,
      "grid_template_columns": null,
      "grid_template_rows": null,
      "height": null,
      "justify_content": null,
      "justify_items": null,
      "left": null,
      "margin": null,
      "max_height": null,
      "max_width": null,
      "min_height": null,
      "min_width": null,
      "object_fit": null,
      "object_position": null,
      "order": null,
      "overflow": null,
      "overflow_x": null,
      "overflow_y": null,
      "padding": null,
      "right": null,
      "top": null,
      "visibility": null,
      "width": null
     }
    },
    "af069b1b83c44f6aa44d76288a245eef": {
     "model_module": "@jupyter-widgets/controls",
     "model_module_version": "1.5.0",
     "model_name": "HTMLModel",
     "state": {
      "_dom_classes": [],
      "_model_module": "@jupyter-widgets/controls",
      "_model_module_version": "1.5.0",
      "_model_name": "HTMLModel",
      "_view_count": null,
      "_view_module": "@jupyter-widgets/controls",
      "_view_module_version": "1.5.0",
      "_view_name": "HTMLView",
      "description": "",
      "description_tooltip": null,
      "layout": "IPY_MODEL_ae25eae53a144e369c0abcd644c17a45",
      "placeholder": "​",
      "style": "IPY_MODEL_07b7d0d6a99e48b0b718f44b8353a6d3",
      "value": " 2/2 [00:08&lt;00:00,  4.40s/it]"
     }
    },
    "b2fd89bae7ef435482e08752b5b87d23": {
     "model_module": "@jupyter-widgets/controls",
     "model_module_version": "1.5.0",
     "model_name": "FloatProgressModel",
     "state": {
      "_dom_classes": [],
      "_model_module": "@jupyter-widgets/controls",
      "_model_module_version": "1.5.0",
      "_model_name": "FloatProgressModel",
      "_view_count": null,
      "_view_module": "@jupyter-widgets/controls",
      "_view_module_version": "1.5.0",
      "_view_name": "ProgressView",
      "bar_style": "success",
      "description": "",
      "description_tooltip": null,
      "layout": "IPY_MODEL_046c28253347476b9c2ac50ff4a21746",
      "max": 1724,
      "min": 0,
      "orientation": "horizontal",
      "style": "IPY_MODEL_b629e51b7d804d158cbfc1b916615d7b",
      "value": 1724
     }
    },
    "b629e51b7d804d158cbfc1b916615d7b": {
     "model_module": "@jupyter-widgets/controls",
     "model_module_version": "1.5.0",
     "model_name": "ProgressStyleModel",
     "state": {
      "_model_module": "@jupyter-widgets/controls",
      "_model_module_version": "1.5.0",
      "_model_name": "ProgressStyleModel",
      "_view_count": null,
      "_view_module": "@jupyter-widgets/base",
      "_view_module_version": "1.2.0",
      "_view_name": "StyleView",
      "bar_color": null,
      "description_width": ""
     }
    },
    "c194b7243ef045308f0b2e95de5c40bd": {
     "model_module": "@jupyter-widgets/controls",
     "model_module_version": "1.5.0",
     "model_name": "DescriptionStyleModel",
     "state": {
      "_model_module": "@jupyter-widgets/controls",
      "_model_module_version": "1.5.0",
      "_model_name": "DescriptionStyleModel",
      "_view_count": null,
      "_view_module": "@jupyter-widgets/base",
      "_view_module_version": "1.2.0",
      "_view_name": "StyleView",
      "description_width": ""
     }
    },
    "c482906511ef4414b127756a2fdf0784": {
     "model_module": "@jupyter-widgets/controls",
     "model_module_version": "1.5.0",
     "model_name": "HBoxModel",
     "state": {
      "_dom_classes": [],
      "_model_module": "@jupyter-widgets/controls",
      "_model_module_version": "1.5.0",
      "_model_name": "HBoxModel",
      "_view_count": null,
      "_view_module": "@jupyter-widgets/controls",
      "_view_module_version": "1.5.0",
      "_view_name": "HBoxView",
      "box_style": "",
      "children": [
       "IPY_MODEL_12dd3a992134471bb898255549e151eb",
       "IPY_MODEL_b2fd89bae7ef435482e08752b5b87d23",
       "IPY_MODEL_8b854731840a4971a56a1d89401874ce"
      ],
      "layout": "IPY_MODEL_cf6baec523414f168b9f74b6e8fb591f"
     }
    },
    "cf6baec523414f168b9f74b6e8fb591f": {
     "model_module": "@jupyter-widgets/base",
     "model_module_version": "1.2.0",
     "model_name": "LayoutModel",
     "state": {
      "_model_module": "@jupyter-widgets/base",
      "_model_module_version": "1.2.0",
      "_model_name": "LayoutModel",
      "_view_count": null,
      "_view_module": "@jupyter-widgets/base",
      "_view_module_version": "1.2.0",
      "_view_name": "LayoutView",
      "align_content": null,
      "align_items": null,
      "align_self": null,
      "border": null,
      "bottom": null,
      "display": "inline-flex",
      "flex": null,
      "flex_flow": "row wrap",
      "grid_area": null,
      "grid_auto_columns": null,
      "grid_auto_flow": null,
      "grid_auto_rows": null,
      "grid_column": null,
      "grid_gap": null,
      "grid_row": null,
      "grid_template_areas": null,
      "grid_template_columns": null,
      "grid_template_rows": null,
      "height": null,
      "justify_content": null,
      "justify_items": null,
      "left": null,
      "margin": null,
      "max_height": null,
      "max_width": null,
      "min_height": null,
      "min_width": null,
      "object_fit": null,
      "object_position": null,
      "order": null,
      "overflow": null,
      "overflow_x": null,
      "overflow_y": null,
      "padding": null,
      "right": null,
      "top": null,
      "visibility": null,
      "width": "100%"
     }
    },
    "d650431899d34cb5b7a175a807b4c2e2": {
     "model_module": "@jupyter-widgets/base",
     "model_module_version": "1.2.0",
     "model_name": "LayoutModel",
     "state": {
      "_model_module": "@jupyter-widgets/base",
      "_model_module_version": "1.2.0",
      "_model_name": "LayoutModel",
      "_view_count": null,
      "_view_module": "@jupyter-widgets/base",
      "_view_module_version": "1.2.0",
      "_view_name": "LayoutView",
      "align_content": null,
      "align_items": null,
      "align_self": null,
      "border": null,
      "bottom": null,
      "display": null,
      "flex": "2",
      "flex_flow": null,
      "grid_area": null,
      "grid_auto_columns": null,
      "grid_auto_flow": null,
      "grid_auto_rows": null,
      "grid_column": null,
      "grid_gap": null,
      "grid_row": null,
      "grid_template_areas": null,
      "grid_template_columns": null,
      "grid_template_rows": null,
      "height": null,
      "justify_content": null,
      "justify_items": null,
      "left": null,
      "margin": null,
      "max_height": null,
      "max_width": null,
      "min_height": null,
      "min_width": null,
      "object_fit": null,
      "object_position": null,
      "order": null,
      "overflow": null,
      "overflow_x": null,
      "overflow_y": null,
      "padding": null,
      "right": null,
      "top": null,
      "visibility": null,
      "width": null
     }
    },
    "e0907f2fc1dd42cd9cfc8779da61c8e4": {
     "model_module": "@jupyter-widgets/controls",
     "model_module_version": "1.5.0",
     "model_name": "DescriptionStyleModel",
     "state": {
      "_model_module": "@jupyter-widgets/controls",
      "_model_module_version": "1.5.0",
      "_model_name": "DescriptionStyleModel",
      "_view_count": null,
      "_view_module": "@jupyter-widgets/base",
      "_view_module_version": "1.2.0",
      "_view_name": "StyleView",
      "description_width": ""
     }
    },
    "e8646c330ab64d0b96ad724c23e0ccfe": {
     "model_module": "@jupyter-widgets/controls",
     "model_module_version": "1.5.0",
     "model_name": "DescriptionStyleModel",
     "state": {
      "_model_module": "@jupyter-widgets/controls",
      "_model_module_version": "1.5.0",
      "_model_name": "DescriptionStyleModel",
      "_view_count": null,
      "_view_module": "@jupyter-widgets/base",
      "_view_module_version": "1.2.0",
      "_view_name": "StyleView",
      "description_width": ""
     }
    },
    "e938ac293c9a488b99bc9b5429db65aa": {
     "model_module": "@jupyter-widgets/base",
     "model_module_version": "1.2.0",
     "model_name": "LayoutModel",
     "state": {
      "_model_module": "@jupyter-widgets/base",
      "_model_module_version": "1.2.0",
      "_model_name": "LayoutModel",
      "_view_count": null,
      "_view_module": "@jupyter-widgets/base",
      "_view_module_version": "1.2.0",
      "_view_name": "LayoutView",
      "align_content": null,
      "align_items": null,
      "align_self": null,
      "border": null,
      "bottom": null,
      "display": null,
      "flex": null,
      "flex_flow": null,
      "grid_area": null,
      "grid_auto_columns": null,
      "grid_auto_flow": null,
      "grid_auto_rows": null,
      "grid_column": null,
      "grid_gap": null,
      "grid_row": null,
      "grid_template_areas": null,
      "grid_template_columns": null,
      "grid_template_rows": null,
      "height": null,
      "justify_content": null,
      "justify_items": null,
      "left": null,
      "margin": null,
      "max_height": null,
      "max_width": null,
      "min_height": null,
      "min_width": null,
      "object_fit": null,
      "object_position": null,
      "order": null,
      "overflow": null,
      "overflow_x": null,
      "overflow_y": null,
      "padding": null,
      "right": null,
      "top": null,
      "visibility": null,
      "width": null
     }
    },
    "f446f52cd0c04a2c8f7b6fb0daa89e97": {
     "model_module": "@jupyter-widgets/base",
     "model_module_version": "1.2.0",
     "model_name": "LayoutModel",
     "state": {
      "_model_module": "@jupyter-widgets/base",
      "_model_module_version": "1.2.0",
      "_model_name": "LayoutModel",
      "_view_count": null,
      "_view_module": "@jupyter-widgets/base",
      "_view_module_version": "1.2.0",
      "_view_name": "LayoutView",
      "align_content": null,
      "align_items": null,
      "align_self": null,
      "border": null,
      "bottom": null,
      "display": "inline-flex",
      "flex": null,
      "flex_flow": "row wrap",
      "grid_area": null,
      "grid_auto_columns": null,
      "grid_auto_flow": null,
      "grid_auto_rows": null,
      "grid_column": null,
      "grid_gap": null,
      "grid_row": null,
      "grid_template_areas": null,
      "grid_template_columns": null,
      "grid_template_rows": null,
      "height": null,
      "justify_content": null,
      "justify_items": null,
      "left": null,
      "margin": null,
      "max_height": null,
      "max_width": null,
      "min_height": null,
      "min_width": null,
      "object_fit": null,
      "object_position": null,
      "order": null,
      "overflow": null,
      "overflow_x": null,
      "overflow_y": null,
      "padding": null,
      "right": null,
      "top": null,
      "visibility": null,
      "width": "100%"
     }
    },
    "f924dad9616142d9987dea7dd874d171": {
     "model_module": "@jupyter-widgets/controls",
     "model_module_version": "1.5.0",
     "model_name": "HTMLModel",
     "state": {
      "_dom_classes": [],
      "_model_module": "@jupyter-widgets/controls",
      "_model_module_version": "1.5.0",
      "_model_name": "HTMLModel",
      "_view_count": null,
      "_view_module": "@jupyter-widgets/controls",
      "_view_module_version": "1.5.0",
      "_view_name": "HTMLView",
      "description": "",
      "description_tooltip": null,
      "layout": "IPY_MODEL_9e51199edd8845bcb7880a5fe7870259",
      "placeholder": "​",
      "style": "IPY_MODEL_81f2a86f597349f888eac3c965e37068",
      "value": "Predicting: 100%"
     }
    }
   }
  }
 },
 "nbformat": 4,
 "nbformat_minor": 1
}
