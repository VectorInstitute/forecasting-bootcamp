{
 "cells": [
  {
   "cell_type": "code",
   "execution_count": 13,
   "id": "unexpected-tender",
   "metadata": {},
   "outputs": [],
   "source": [
    "import os\n",
    "import gc\n",
    "import time\n",
    "import math\n",
    "import datetime\n",
    "from math import log, floor\n",
    "from sklearn.neighbors import KDTree\n",
    "\n",
    "import numpy as np\n",
    "import pandas as pd\n",
    "from pathlib import Path\n",
    "from sklearn.utils import shuffle\n",
    "from tqdm.notebook import tqdm as tqdm\n",
    "\n",
    "import seaborn as sns\n",
    "from matplotlib import colors\n",
    "import matplotlib.pyplot as plt\n",
    "from matplotlib.colors import Normalize\n",
    "\n",
    "import plotly.express as px\n",
    "import plotly.graph_objects as go\n",
    "import plotly.figure_factory as ff\n",
    "from plotly.subplots import make_subplots\n",
    "\n",
    "import pywt\n",
    "from statsmodels.robust import mad\n",
    "\n",
    "import scipy\n",
    "import statsmodels\n",
    "from scipy import signal\n",
    "import statsmodels.api as sm\n",
    "from prophet import Prophet\n",
    "from scipy.signal import butter, deconvolve\n",
    "from statsmodels.tsa.arima_model import ARIMA\n",
    "from statsmodels.tsa.api import ExponentialSmoothing, SimpleExpSmoothing, Holt\n",
    "\n",
    "import warnings\n",
    "warnings.filterwarnings(\"ignore\")"
   ]
  },
  {
   "cell_type": "code",
   "execution_count": 14,
   "id": "aging-statistics",
   "metadata": {},
   "outputs": [],
   "source": [
    "SALES_PATH = '/ssd003/projects/forecasting_bootcamp/bootcamp_datasets/m5-forecasting-accuracy/sales_train_evaluation.csv'\n",
    "CALENDAR_PATH = '/ssd003/projects/forecasting_bootcamp/bootcamp_datasets/m5-forecasting-accuracy/calendar.csv'\n",
    "PRICES_PATH = '/ssd003/projects/forecasting_bootcamp/bootcamp_datasets/m5-forecasting-accuracy/sell_prices.csv'\n",
    "\n",
    "sales_train_val = pd.read_csv('/ssd003/projects/forecasting_bootcamp/bootcamp_datasets/m5-forecasting-accuracy/sales_train_evaluation.csv')\n",
    "sales_train_val.name = 'sales'\n",
    "calendar = pd.read_csv('/ssd003/projects/forecasting_bootcamp/bootcamp_datasets/m5-forecasting-accuracy/calendar.csv')\n",
    "calendar.name = 'calendar'\n",
    "selling_prices = pd.read_csv('/ssd003/projects/forecasting_bootcamp/bootcamp_datasets/m5-forecasting-accuracy/sell_prices.csv')\n",
    "selling_prices.name = 'prices'"
   ]
  },
  {
   "cell_type": "code",
   "execution_count": 15,
   "id": "decreased-archive",
   "metadata": {},
   "outputs": [],
   "source": [
    "#Train Val Split\n",
    "\n",
    "d_cols = [c for c in sales_train_val.columns if 'd_' in c]\n",
    "train_dataset = sales_train_val[d_cols[-100:-30]]\n",
    "val_dataset = sales_train_val[d_cols[-30:]]\n",
    "n_rows=25"
   ]
  },
  {
   "cell_type": "code",
   "execution_count": 16,
   "id": "caroline-olive",
   "metadata": {},
   "outputs": [],
   "source": [
    "#Naive Approach\n",
    "\n",
    "predictions = []\n",
    "for i in range(len(val_dataset.columns)):\n",
    "    if i == 0:\n",
    "        predictions.append(train_dataset[train_dataset.columns[-1]].values)\n",
    "    else:\n",
    "        predictions.append(val_dataset[val_dataset.columns[i-1]].values)\n",
    "    \n",
    "predictions = np.transpose(np.array([row.tolist() for row in predictions]))\n",
    "error_naive = np.linalg.norm(predictions[:n_rows] - val_dataset.values[:n_rows])/len(predictions[0])\n"
   ]
  },
  {
   "cell_type": "code",
   "execution_count": 17,
   "id": "spectacular-motorcycle",
   "metadata": {},
   "outputs": [],
   "source": [
    "#Moving Average \n",
    "\n",
    "predictions = []\n",
    "for i in range(len(val_dataset.columns)):\n",
    "    if i == 0:\n",
    "        predictions.append(np.mean(train_dataset[train_dataset.columns[-30:]].values, axis=1))\n",
    "    if i < 31 and i > 0:\n",
    "        predictions.append(0.5 * (np.mean(train_dataset[train_dataset.columns[-30+i:]].values, axis=1) + \\\n",
    "                                  np.mean(predictions[:i], axis=0)))\n",
    "    if i > 31:\n",
    "        predictions.append(np.mean([predictions[:i]], axis=1))\n",
    "    \n",
    "predictions = np.transpose(np.array([row.tolist() for row in predictions]))\n",
    "error_avg = np.linalg.norm(predictions[:n_rows] - val_dataset.values[:n_rows])/len(predictions[0])\n"
   ]
  },
  {
   "cell_type": "code",
   "execution_count": 18,
   "id": "optical-sally",
   "metadata": {},
   "outputs": [
    {
     "data": {
      "application/vnd.jupyter.widget-view+json": {
       "model_id": "960f8112ad88493b85053caa0c11f43a",
       "version_major": 2,
       "version_minor": 0
      },
      "text/plain": [
       "  0%|          | 0/25 [00:00<?, ?it/s]"
      ]
     },
     "metadata": {},
     "output_type": "display_data"
    }
   ],
   "source": [
    "#Holt Linear\n",
    "\n",
    "predictions = []\n",
    "for row in tqdm(train_dataset[train_dataset.columns[-30:]].values[:n_rows]):\n",
    "    fit = Holt(row).fit(smoothing_level = 0.3, smoothing_slope = 0.01)\n",
    "    predictions.append(fit.forecast(30))\n",
    "predictions = np.array(predictions).reshape((-1, 30))\n",
    "error_holt = np.linalg.norm(predictions - val_dataset.values[:len(predictions)])/len(predictions[0])\n"
   ]
  },
  {
   "cell_type": "code",
   "execution_count": 19,
   "id": "prompt-israeli",
   "metadata": {},
   "outputs": [
    {
     "data": {
      "application/vnd.jupyter.widget-view+json": {
       "model_id": "0017858d3afc453eafc0174696238543",
       "version_major": 2,
       "version_minor": 0
      },
      "text/plain": [
       "  0%|          | 0/25 [00:00<?, ?it/s]"
      ]
     },
     "metadata": {},
     "output_type": "display_data"
    }
   ],
   "source": [
    "#Exponential Smoothing\n",
    "\n",
    "predictions = []\n",
    "for row in tqdm(train_dataset[train_dataset.columns[-30:]].values[:n_rows]):\n",
    "    fit = ExponentialSmoothing(row, seasonal_periods=3).fit()\n",
    "    predictions.append(fit.forecast(30))\n",
    "predictions = np.array(predictions).reshape((-1, 30))\n",
    "error_exponential = np.linalg.norm(predictions[:n_rows] - val_dataset.values[:n_rows])/len(predictions[0])\n"
   ]
  },
  {
   "cell_type": "code",
   "execution_count": 20,
   "id": "insured-amendment",
   "metadata": {},
   "outputs": [
    {
     "data": {
      "application/vnd.jupyter.widget-view+json": {
       "model_id": "87e0edb4319743799f0e67f59cd293bf",
       "version_major": 2,
       "version_minor": 0
      },
      "text/plain": [
       "  0%|          | 0/25 [00:00<?, ?it/s]"
      ]
     },
     "metadata": {},
     "output_type": "display_data"
    },
    {
     "name": "stdout",
     "output_type": "stream",
     "text": [
      "RUNNING THE L-BFGS-B CODE\n",
      "\n",
      "           * * *\n",
      "\n",
      "Machine precision = 2.220D-16\n",
      " N =            3     M =           10\n",
      "\n",
      "At X0         0 variables are exactly at the bounds\n",
      "\n",
      "At iterate    0    f=  1.51391D+00    |proj g|=  3.29224D-01\n"
     ]
    },
    {
     "name": "stderr",
     "output_type": "stream",
     "text": [
      " This problem is unconstrained.\n"
     ]
    },
    {
     "name": "stdout",
     "output_type": "stream",
     "text": [
      "\n",
      "At iterate    5    f=  1.37351D+00    |proj g|=  1.59405D-02\n",
      "\n",
      "At iterate   10    f=  1.37241D+00    |proj g|=  2.36062D-03\n",
      "\n",
      "At iterate   15    f=  1.37232D+00    |proj g|=  7.52749D-04\n",
      "\n",
      "At iterate   20    f=  1.37230D+00    |proj g|=  1.34413D-03\n",
      "\n",
      "At iterate   25    f=  1.37230D+00    |proj g|=  4.48013D-04\n",
      "\n",
      "           * * *\n",
      "\n",
      "Tit   = total number of iterations\n",
      "Tnf   = total number of function evaluations\n",
      "Tnint = total number of segments explored during Cauchy searches\n",
      "Skip  = number of BFGS updates skipped\n",
      "Nact  = number of active bounds at final generalized Cauchy point\n",
      "Projg = norm of the final projected gradient\n",
      "F     = final function value\n",
      "\n",
      "           * * *\n",
      "\n",
      "   N    Tit     Tnf  Tnint  Skip  Nact     Projg        F\n",
      "    3     28     34      1     0     0   7.643D-06   1.372D+00\n",
      "  F =   1.3723005599156413     \n",
      "\n",
      "CONVERGENCE: NORM_OF_PROJECTED_GRADIENT_<=_PGTOL            \n",
      "RUNNING THE L-BFGS-B CODE\n",
      "\n",
      "           * * *\n",
      "\n",
      "Machine precision = 2.220D-16\n",
      " N =            3     M =           10\n",
      "\n",
      "At X0         0 variables are exactly at the bounds\n",
      "\n",
      "At iterate    0    f=  3.08182D-01    |proj g|=  4.33657D-01\n"
     ]
    },
    {
     "name": "stderr",
     "output_type": "stream",
     "text": [
      " This problem is unconstrained.\n"
     ]
    },
    {
     "name": "stdout",
     "output_type": "stream",
     "text": [
      "\n",
      "At iterate    5    f=  2.96080D-01    |proj g|=  9.11210D-03\n",
      "\n",
      "           * * *\n",
      "\n",
      "Tit   = total number of iterations\n",
      "Tnf   = total number of function evaluations\n",
      "Tnint = total number of segments explored during Cauchy searches\n",
      "Skip  = number of BFGS updates skipped\n",
      "Nact  = number of active bounds at final generalized Cauchy point\n",
      "Projg = norm of the final projected gradient\n",
      "F     = final function value\n",
      "\n",
      "           * * *\n",
      "\n",
      "   N    Tit     Tnf  Tnint  Skip  Nact     Projg        F\n",
      "    3      9     13      1     0     0   1.278D-05   2.960D-01\n",
      "  F =  0.29600077710409095     \n",
      "\n",
      "CONVERGENCE: REL_REDUCTION_OF_F_<=_FACTR*EPSMCH             \n",
      "RUNNING THE L-BFGS-B CODE\n",
      "\n",
      "           * * *\n",
      "\n",
      "Machine precision = 2.220D-16\n",
      " N =            3     M =           10\n",
      "\n",
      "At X0         0 variables are exactly at the bounds\n",
      "\n",
      "At iterate    0    f=  9.65736D-01    |proj g|=  1.99376D-01\n"
     ]
    },
    {
     "name": "stderr",
     "output_type": "stream",
     "text": [
      " This problem is unconstrained.\n"
     ]
    },
    {
     "name": "stdout",
     "output_type": "stream",
     "text": [
      "\n",
      "At iterate    5    f=  8.84023D-01    |proj g|=  1.91855D-02\n",
      "\n",
      "At iterate   10    f=  8.83171D-01    |proj g|=  8.69850D-03\n",
      "\n",
      "At iterate   15    f=  8.83067D-01    |proj g|=  4.74831D-03\n",
      "\n",
      "At iterate   20    f=  8.83051D-01    |proj g|=  8.49232D-04\n",
      "\n",
      "           * * *\n",
      "\n",
      "Tit   = total number of iterations\n",
      "Tnf   = total number of function evaluations\n",
      "Tnint = total number of segments explored during Cauchy searches\n",
      "Skip  = number of BFGS updates skipped\n",
      "Nact  = number of active bounds at final generalized Cauchy point\n",
      "Projg = norm of the final projected gradient\n",
      "F     = final function value\n",
      "\n",
      "           * * *\n",
      "\n",
      "   N    Tit     Tnf  Tnint  Skip  Nact     Projg        F\n",
      "    3     23     31      1     0     0   1.570D-04   8.831D-01\n",
      "  F =  0.88305086938968835     \n",
      "\n",
      "CONVERGENCE: REL_REDUCTION_OF_F_<=_FACTR*EPSMCH             \n",
      "RUNNING THE L-BFGS-B CODE\n",
      "\n",
      "           * * *\n",
      "\n",
      "Machine precision = 2.220D-16\n",
      " N =            3     M =           10\n",
      "\n",
      "At X0         0 variables are exactly at the bounds\n",
      "\n",
      "At iterate    0    f=  1.84868D+00    |proj g|=  3.27108D-01\n"
     ]
    },
    {
     "name": "stderr",
     "output_type": "stream",
     "text": [
      " This problem is unconstrained.\n"
     ]
    },
    {
     "name": "stdout",
     "output_type": "stream",
     "text": [
      "\n",
      "At iterate    5    f=  1.73805D+00    |proj g|=  8.06049D-03\n",
      "\n",
      "At iterate   10    f=  1.73622D+00    |proj g|=  6.02507D-03\n",
      "\n",
      "At iterate   15    f=  1.73596D+00    |proj g|=  1.40472D-03\n",
      "\n",
      "At iterate   20    f=  1.73592D+00    |proj g|=  4.85556D-04\n",
      "\n",
      "At iterate   25    f=  1.73591D+00    |proj g|=  2.26360D-04\n",
      "\n",
      "At iterate   30    f=  1.73591D+00    |proj g|=  1.86527D-04\n",
      "\n",
      "           * * *\n",
      "\n",
      "Tit   = total number of iterations\n",
      "Tnf   = total number of function evaluations\n",
      "Tnint = total number of segments explored during Cauchy searches\n",
      "Skip  = number of BFGS updates skipped\n",
      "Nact  = number of active bounds at final generalized Cauchy point\n",
      "Projg = norm of the final projected gradient\n",
      "F     = final function value\n",
      "\n",
      "           * * *\n",
      "\n",
      "   N    Tit     Tnf  Tnint  Skip  Nact     Projg        F\n",
      "    3     30     36      1     0     0   1.865D-04   1.736D+00\n",
      "  F =   1.7359135052481436     \n",
      "\n",
      "CONVERGENCE: REL_REDUCTION_OF_F_<=_FACTR*EPSMCH             \n",
      "RUNNING THE L-BFGS-B CODE\n",
      "\n",
      "           * * *\n",
      "\n",
      "Machine precision = 2.220D-16\n",
      " N =            3     M =           10\n",
      "\n",
      "At X0         0 variables are exactly at the bounds\n",
      "\n",
      "At iterate    0    f=  1.59342D+00    |proj g|=  3.73693D-01\n"
     ]
    },
    {
     "name": "stderr",
     "output_type": "stream",
     "text": [
      " This problem is unconstrained.\n"
     ]
    },
    {
     "name": "stdout",
     "output_type": "stream",
     "text": [
      "\n",
      "At iterate    5    f=  1.43685D+00    |proj g|=  1.44995D-02\n",
      "\n",
      "At iterate   10    f=  1.43259D+00    |proj g|=  1.00576D-02\n",
      "\n",
      "At iterate   15    f=  1.43197D+00    |proj g|=  3.35078D-03\n",
      "\n",
      "At iterate   20    f=  1.43191D+00    |proj g|=  1.19462D-03\n",
      "\n",
      "At iterate   25    f=  1.43191D+00    |proj g|=  1.03935D-03\n",
      "\n",
      "           * * *\n",
      "\n",
      "Tit   = total number of iterations\n",
      "Tnf   = total number of function evaluations\n",
      "Tnint = total number of segments explored during Cauchy searches\n",
      "Skip  = number of BFGS updates skipped\n",
      "Nact  = number of active bounds at final generalized Cauchy point\n",
      "Projg = norm of the final projected gradient\n",
      "F     = final function value\n",
      "\n",
      "           * * *\n",
      "\n",
      "   N    Tit     Tnf  Tnint  Skip  Nact     Projg        F\n",
      "    3     29     38      1     0     0   2.082D-05   1.432D+00\n",
      "  F =   1.4319045332969340     \n",
      "\n",
      "CONVERGENCE: REL_REDUCTION_OF_F_<=_FACTR*EPSMCH             \n",
      "RUNNING THE L-BFGS-B CODE\n",
      "\n",
      "           * * *\n",
      "\n",
      "Machine precision = 2.220D-16\n",
      " N =            3     M =           10\n",
      "\n",
      "At X0         0 variables are exactly at the bounds\n",
      "\n",
      "At iterate    0    f=  1.48731D+00    |proj g|=  3.12590D-01\n"
     ]
    },
    {
     "name": "stderr",
     "output_type": "stream",
     "text": [
      " This problem is unconstrained.\n"
     ]
    },
    {
     "name": "stdout",
     "output_type": "stream",
     "text": [
      "\n",
      "At iterate    5    f=  1.40878D+00    |proj g|=  9.71826D-03\n",
      "\n",
      "At iterate   10    f=  1.40815D+00    |proj g|=  1.88726D-05\n",
      "\n",
      "           * * *\n",
      "\n",
      "Tit   = total number of iterations\n",
      "Tnf   = total number of function evaluations\n",
      "Tnint = total number of segments explored during Cauchy searches\n",
      "Skip  = number of BFGS updates skipped\n",
      "Nact  = number of active bounds at final generalized Cauchy point\n",
      "Projg = norm of the final projected gradient\n",
      "F     = final function value\n",
      "\n",
      "           * * *\n",
      "\n",
      "   N    Tit     Tnf  Tnint  Skip  Nact     Projg        F\n",
      "    3     11     14      1     0     0   1.276D-06   1.408D+00\n",
      "  F =   1.4081452694219898     \n",
      "\n",
      "CONVERGENCE: NORM_OF_PROJECTED_GRADIENT_<=_PGTOL            \n",
      "RUNNING THE L-BFGS-B CODE\n",
      "\n",
      "           * * *\n",
      "\n",
      "Machine precision = 2.220D-16\n",
      " N =            3     M =           10\n",
      "\n",
      "At X0         0 variables are exactly at the bounds\n",
      "\n",
      "At iterate    0    f=  9.47288D-01    |proj g|=  2.89578D-01\n"
     ]
    },
    {
     "name": "stderr",
     "output_type": "stream",
     "text": [
      " This problem is unconstrained.\n"
     ]
    },
    {
     "name": "stdout",
     "output_type": "stream",
     "text": [
      "\n",
      "At iterate    5    f=  8.32734D-01    |proj g|=  5.02765D-03\n",
      "\n",
      "At iterate   10    f=  8.31298D-01    |proj g|=  5.71124D-03\n",
      "\n",
      "At iterate   15    f=  8.31124D-01    |proj g|=  2.49609D-03\n",
      "\n",
      "At iterate   20    f=  8.31102D-01    |proj g|=  9.59845D-04\n",
      "\n",
      "At iterate   25    f=  8.31098D-01    |proj g|=  1.11923D-04\n",
      "\n",
      "           * * *\n",
      "\n",
      "Tit   = total number of iterations\n",
      "Tnf   = total number of function evaluations\n",
      "Tnint = total number of segments explored during Cauchy searches\n",
      "Skip  = number of BFGS updates skipped\n",
      "Nact  = number of active bounds at final generalized Cauchy point\n",
      "Projg = norm of the final projected gradient\n",
      "F     = final function value\n",
      "\n",
      "           * * *\n",
      "\n",
      "   N    Tit     Tnf  Tnint  Skip  Nact     Projg        F\n",
      "    3     25     40      1     0     0   1.119D-04   8.311D-01\n",
      "  F =  0.83109789351228591     \n",
      "\n",
      "CONVERGENCE: REL_REDUCTION_OF_F_<=_FACTR*EPSMCH             \n",
      "RUNNING THE L-BFGS-B CODE\n",
      "\n",
      "           * * *\n",
      "\n",
      "Machine precision = 2.220D-16\n",
      " N =            3     M =           10\n",
      "\n",
      "At X0         0 variables are exactly at the bounds\n",
      "\n",
      "At iterate    0    f=  3.13859D+00    |proj g|=  1.75694D-01\n"
     ]
    },
    {
     "name": "stderr",
     "output_type": "stream",
     "text": [
      " This problem is unconstrained.\n"
     ]
    },
    {
     "name": "stdout",
     "output_type": "stream",
     "text": [
      "\n",
      "At iterate    5    f=  3.09157D+00    |proj g|=  1.06520D-02\n",
      "\n",
      "At iterate   10    f=  3.07652D+00    |proj g|=  6.51512D-03\n",
      "\n",
      "At iterate   15    f=  3.07559D+00    |proj g|=  3.73187D-04\n",
      "\n",
      "At iterate   20    f=  3.07550D+00    |proj g|=  1.47450D-03\n",
      "\n",
      "At iterate   25    f=  3.07548D+00    |proj g|=  1.46249D-04\n",
      "\n",
      "At iterate   30    f=  3.07547D+00    |proj g|=  7.85106D-05\n",
      "\n",
      "At iterate   35    f=  3.07547D+00    |proj g|=  1.30844D-04\n",
      "\n",
      "At iterate   40    f=  3.07547D+00    |proj g|=  1.52828D-05\n",
      "\n",
      "           * * *\n",
      "\n",
      "Tit   = total number of iterations\n",
      "Tnf   = total number of function evaluations\n",
      "Tnint = total number of segments explored during Cauchy searches\n",
      "Skip  = number of BFGS updates skipped\n",
      "Nact  = number of active bounds at final generalized Cauchy point\n",
      "Projg = norm of the final projected gradient\n",
      "F     = final function value\n",
      "\n",
      "           * * *\n",
      "\n",
      "   N    Tit     Tnf  Tnint  Skip  Nact     Projg        F\n",
      "    3     43     50      1     0     0   6.068D-06   3.075D+00\n",
      "  F =   3.0754732372631071     \n",
      "\n",
      "CONVERGENCE: NORM_OF_PROJECTED_GRADIENT_<=_PGTOL            \n",
      "RUNNING THE L-BFGS-B CODE\n",
      "\n",
      "           * * *\n",
      "\n",
      "Machine precision = 2.220D-16\n",
      " N =            3     M =           10\n",
      "\n",
      "At X0         0 variables are exactly at the bounds\n",
      "\n",
      "At iterate    0    f=  1.56582D+00    |proj g|=  3.05268D-01\n"
     ]
    },
    {
     "name": "stderr",
     "output_type": "stream",
     "text": [
      " This problem is unconstrained.\n"
     ]
    },
    {
     "name": "stdout",
     "output_type": "stream",
     "text": [
      "\n",
      "At iterate    5    f=  1.48842D+00    |proj g|=  1.66858D-02\n",
      "\n",
      "At iterate   10    f=  1.48747D+00    |proj g|=  8.80551D-06\n",
      "\n",
      "           * * *\n",
      "\n",
      "Tit   = total number of iterations\n",
      "Tnf   = total number of function evaluations\n",
      "Tnint = total number of segments explored during Cauchy searches\n",
      "Skip  = number of BFGS updates skipped\n",
      "Nact  = number of active bounds at final generalized Cauchy point\n",
      "Projg = norm of the final projected gradient\n",
      "F     = final function value\n",
      "\n",
      "           * * *\n",
      "\n",
      "   N    Tit     Tnf  Tnint  Skip  Nact     Projg        F\n",
      "    3     10     12      1     0     0   8.806D-06   1.487D+00\n",
      "  F =   1.4874655344542611     \n",
      "\n",
      "CONVERGENCE: NORM_OF_PROJECTED_GRADIENT_<=_PGTOL            \n",
      "RUNNING THE L-BFGS-B CODE\n",
      "\n",
      "           * * *\n",
      "\n",
      "Machine precision = 2.220D-16\n",
      " N =            3     M =           10\n",
      "\n",
      "At X0         0 variables are exactly at the bounds\n",
      "\n",
      "At iterate    0    f=  1.13947D+00    |proj g|=  3.18981D-01\n"
     ]
    },
    {
     "name": "stderr",
     "output_type": "stream",
     "text": [
      " This problem is unconstrained.\n"
     ]
    },
    {
     "name": "stdout",
     "output_type": "stream",
     "text": [
      "\n",
      "At iterate    5    f=  1.01944D+00    |proj g|=  6.11687D-03\n",
      "\n",
      "At iterate   10    f=  1.01933D+00    |proj g|=  3.18543D-03\n",
      "\n",
      "           * * *\n",
      "\n",
      "Tit   = total number of iterations\n",
      "Tnf   = total number of function evaluations\n",
      "Tnint = total number of segments explored during Cauchy searches\n",
      "Skip  = number of BFGS updates skipped\n",
      "Nact  = number of active bounds at final generalized Cauchy point\n",
      "Projg = norm of the final projected gradient\n",
      "F     = final function value\n",
      "\n",
      "           * * *\n",
      "\n",
      "   N    Tit     Tnf  Tnint  Skip  Nact     Projg        F\n",
      "    3     14     17      1     0     0   4.861D-06   1.019D+00\n",
      "  F =   1.0193279761656624     \n",
      "\n",
      "CONVERGENCE: NORM_OF_PROJECTED_GRADIENT_<=_PGTOL            \n",
      "RUNNING THE L-BFGS-B CODE\n",
      "\n",
      "           * * *\n",
      "\n",
      "Machine precision = 2.220D-16\n",
      " N =            3     M =           10\n",
      "\n",
      "At X0         0 variables are exactly at the bounds\n",
      "\n",
      "At iterate    0    f=  1.51993D-01    |proj g|=  1.10633D-01\n"
     ]
    },
    {
     "name": "stderr",
     "output_type": "stream",
     "text": [
      " This problem is unconstrained.\n"
     ]
    },
    {
     "name": "stdout",
     "output_type": "stream",
     "text": [
      "\n",
      "           * * *\n",
      "\n",
      "Tit   = total number of iterations\n",
      "Tnf   = total number of function evaluations\n",
      "Tnint = total number of segments explored during Cauchy searches\n",
      "Skip  = number of BFGS updates skipped\n",
      "Nact  = number of active bounds at final generalized Cauchy point\n",
      "Projg = norm of the final projected gradient\n",
      "F     = final function value\n",
      "\n",
      "           * * *\n",
      "\n",
      "   N    Tit     Tnf  Tnint  Skip  Nact     Projg        F\n",
      "    3      3      7      1     0     0   3.353D-06   1.516D-01\n",
      "  F =  0.15161984545204599     \n",
      "\n",
      "CONVERGENCE: NORM_OF_PROJECTED_GRADIENT_<=_PGTOL            \n",
      "RUNNING THE L-BFGS-B CODE\n",
      "\n",
      "           * * *\n",
      "\n",
      "Machine precision = 2.220D-16\n",
      " N =            3     M =           10\n",
      "\n",
      "At X0         0 variables are exactly at the bounds\n",
      "\n",
      "At iterate    0    f=  6.77631D-01    |proj g|=  2.83733D-01\n"
     ]
    },
    {
     "name": "stderr",
     "output_type": "stream",
     "text": [
      " This problem is unconstrained.\n"
     ]
    },
    {
     "name": "stdout",
     "output_type": "stream",
     "text": [
      "\n",
      "At iterate    5    f=  5.69631D-01    |proj g|=  7.27293D-02\n",
      "\n",
      "At iterate   10    f=  5.68155D-01    |proj g|=  6.57878D-03\n",
      "\n",
      "At iterate   15    f=  5.67901D-01    |proj g|=  4.72446D-04\n",
      "\n",
      "At iterate   20    f=  5.67876D-01    |proj g|=  9.94224D-04\n",
      "\n",
      "At iterate   25    f=  5.67870D-01    |proj g|=  1.91255D-04\n",
      "\n",
      "           * * *\n",
      "\n",
      "Tit   = total number of iterations\n",
      "Tnf   = total number of function evaluations\n",
      "Tnint = total number of segments explored during Cauchy searches\n",
      "Skip  = number of BFGS updates skipped\n",
      "Nact  = number of active bounds at final generalized Cauchy point\n",
      "Projg = norm of the final projected gradient\n",
      "F     = final function value\n",
      "\n",
      "           * * *\n",
      "\n",
      "   N    Tit     Tnf  Tnint  Skip  Nact     Projg        F\n",
      "    3     26     40      1     0     0   1.934D-04   5.679D-01\n",
      "  F =  0.56787035143325426     \n",
      "\n",
      "CONVERGENCE: REL_REDUCTION_OF_F_<=_FACTR*EPSMCH             \n",
      "RUNNING THE L-BFGS-B CODE\n",
      "\n",
      "           * * *\n",
      "\n",
      "Machine precision = 2.220D-16\n",
      " N =            3     M =           10\n",
      "\n",
      "At X0         0 variables are exactly at the bounds\n",
      "\n",
      "At iterate    0    f=  1.13522D+00    |proj g|=  3.94875D-01\n"
     ]
    },
    {
     "name": "stderr",
     "output_type": "stream",
     "text": [
      "\n",
      " Warning:  more than 10 function and gradient\n",
      "   evaluations in the last line search.  Termination\n",
      "   may possibly be caused by a bad search direction.\n",
      " This problem is unconstrained.\n"
     ]
    },
    {
     "name": "stdout",
     "output_type": "stream",
     "text": [
      "\n",
      "At iterate    5    f=  9.55080D-01    |proj g|=  2.50646D-02\n",
      "\n",
      "At iterate   10    f=  9.52968D-01    |proj g|=  8.30708D-03\n",
      "\n",
      "At iterate   15    f=  9.52671D-01    |proj g|=  6.23082D-03\n",
      "\n",
      "At iterate   20    f=  9.52641D-01    |proj g|=  7.46550D-04\n",
      "\n",
      "At iterate   25    f=  9.52638D-01    |proj g|=  1.78682D-03\n"
     ]
    },
    {
     "name": "stderr",
     "output_type": "stream",
     "text": [
      "\n",
      " Bad direction in the line search;\n",
      "   refresh the lbfgs memory and restart the iteration.\n"
     ]
    },
    {
     "name": "stdout",
     "output_type": "stream",
     "text": [
      "\n",
      "           * * *\n",
      "\n",
      "Tit   = total number of iterations\n",
      "Tnf   = total number of function evaluations\n",
      "Tnint = total number of segments explored during Cauchy searches\n",
      "Skip  = number of BFGS updates skipped\n",
      "Nact  = number of active bounds at final generalized Cauchy point\n",
      "Projg = norm of the final projected gradient\n",
      "F     = final function value\n",
      "\n",
      "           * * *\n",
      "\n",
      "   N    Tit     Tnf  Tnint  Skip  Nact     Projg        F\n",
      "    3     28     55      2     0     0   1.578D-06   9.526D-01\n",
      "  F =  0.95263716706814072     \n",
      "\n",
      "CONVERGENCE: NORM_OF_PROJECTED_GRADIENT_<=_PGTOL            \n",
      "RUNNING THE L-BFGS-B CODE\n",
      "\n",
      "           * * *\n",
      "\n",
      "Machine precision = 2.220D-16\n",
      " N =            3     M =           10\n",
      "\n",
      "At X0         0 variables are exactly at the bounds\n",
      "\n",
      "At iterate    0    f=  1.63363D+00    |proj g|=  1.21827D-01\n"
     ]
    },
    {
     "name": "stderr",
     "output_type": "stream",
     "text": [
      " This problem is unconstrained.\n"
     ]
    },
    {
     "name": "stdout",
     "output_type": "stream",
     "text": [
      "\n",
      "At iterate    5    f=  1.57764D+00    |proj g|=  5.14826D-03\n",
      "\n",
      "At iterate   10    f=  1.57584D+00    |proj g|=  1.62399D-03\n",
      "\n",
      "At iterate   15    f=  1.57562D+00    |proj g|=  6.75980D-04\n",
      "\n",
      "At iterate   20    f=  1.57559D+00    |proj g|=  5.49517D-04\n",
      "\n",
      "At iterate   25    f=  1.57558D+00    |proj g|=  3.85619D-04\n",
      "\n",
      "At iterate   30    f=  1.57558D+00    |proj g|=  9.84866D-05\n",
      "\n",
      "At iterate   35    f=  1.57558D+00    |proj g|=  5.16560D-05\n",
      "\n",
      "           * * *\n",
      "\n",
      "Tit   = total number of iterations\n",
      "Tnf   = total number of function evaluations\n",
      "Tnint = total number of segments explored during Cauchy searches\n",
      "Skip  = number of BFGS updates skipped\n",
      "Nact  = number of active bounds at final generalized Cauchy point\n",
      "Projg = norm of the final projected gradient\n",
      "F     = final function value\n",
      "\n",
      "           * * *\n",
      "\n",
      "   N    Tit     Tnf  Tnint  Skip  Nact     Projg        F\n",
      "    3     36     41      1     0     0   1.522D-05   1.576D+00\n",
      "  F =   1.5755813946667334     \n",
      "\n",
      "CONVERGENCE: REL_REDUCTION_OF_F_<=_FACTR*EPSMCH             \n",
      "RUNNING THE L-BFGS-B CODE\n",
      "\n",
      "           * * *\n",
      "\n",
      "Machine precision = 2.220D-16\n",
      " N =            3     M =           10\n",
      "\n",
      "At X0         0 variables are exactly at the bounds\n",
      "\n",
      "At iterate    0    f=  2.21521D+00    |proj g|=  3.13624D-01\n"
     ]
    },
    {
     "name": "stderr",
     "output_type": "stream",
     "text": [
      " This problem is unconstrained.\n"
     ]
    },
    {
     "name": "stdout",
     "output_type": "stream",
     "text": [
      "\n",
      "At iterate    5    f=  2.06576D+00    |proj g|=  1.95417D-02\n",
      "\n",
      "At iterate   10    f=  2.05907D+00    |proj g|=  2.86049D-03\n",
      "\n",
      "At iterate   15    f=  2.05849D+00    |proj g|=  1.19781D-03\n",
      "\n",
      "At iterate   20    f=  2.05842D+00    |proj g|=  4.00042D-04\n",
      "\n",
      "At iterate   25    f=  2.05842D+00    |proj g|=  3.76138D-04\n",
      "\n",
      "At iterate   30    f=  2.05842D+00    |proj g|=  2.65524D-04\n"
     ]
    },
    {
     "name": "stderr",
     "output_type": "stream",
     "text": [
      "\n",
      " Bad direction in the line search;\n",
      "   refresh the lbfgs memory and restart the iteration.\n",
      " This problem is unconstrained.\n"
     ]
    },
    {
     "name": "stdout",
     "output_type": "stream",
     "text": [
      "\n",
      "           * * *\n",
      "\n",
      "Tit   = total number of iterations\n",
      "Tnf   = total number of function evaluations\n",
      "Tnint = total number of segments explored during Cauchy searches\n",
      "Skip  = number of BFGS updates skipped\n",
      "Nact  = number of active bounds at final generalized Cauchy point\n",
      "Projg = norm of the final projected gradient\n",
      "F     = final function value\n",
      "\n",
      "           * * *\n",
      "\n",
      "   N    Tit     Tnf  Tnint  Skip  Nact     Projg        F\n",
      "    3     32     56      2     0     0   1.438D-05   2.058D+00\n",
      "  F =   2.0584150896222790     \n",
      "\n",
      "CONVERGENCE: REL_REDUCTION_OF_F_<=_FACTR*EPSMCH             \n",
      "RUNNING THE L-BFGS-B CODE\n",
      "\n",
      "           * * *\n",
      "\n",
      "Machine precision = 2.220D-16\n",
      " N =            3     M =           10\n",
      "\n",
      "At X0         0 variables are exactly at the bounds\n",
      "\n",
      "At iterate    0    f=  2.80550D+00    |proj g|=  2.87691D-01\n",
      "\n",
      "At iterate    5    f=  2.68132D+00    |proj g|=  3.79995D-02\n",
      "\n",
      "At iterate   10    f=  2.66138D+00    |proj g|=  2.59369D-03\n",
      "\n",
      "At iterate   15    f=  2.66036D+00    |proj g|=  8.37954D-04\n",
      "\n",
      "At iterate   20    f=  2.66020D+00    |proj g|=  1.76599D-04\n",
      "\n",
      "At iterate   25    f=  2.66018D+00    |proj g|=  4.52590D-04\n",
      "\n",
      "At iterate   30    f=  2.66018D+00    |proj g|=  8.48852D-05\n",
      "\n",
      "At iterate   35    f=  2.66018D+00    |proj g|=  2.18984D-05\n",
      "\n",
      "           * * *\n",
      "\n",
      "Tit   = total number of iterations\n",
      "Tnf   = total number of function evaluations\n",
      "Tnint = total number of segments explored during Cauchy searches\n",
      "Skip  = number of BFGS updates skipped\n",
      "Nact  = number of active bounds at final generalized Cauchy point\n",
      "Projg = norm of the final projected gradient\n",
      "F     = final function value\n",
      "\n",
      "           * * *\n",
      "\n",
      "   N    Tit     Tnf  Tnint  Skip  Nact     Projg        F\n",
      "    3     36     39      1     0     0   1.054D-05   2.660D+00\n",
      "  F =   2.6601811489052887     \n",
      "\n",
      "CONVERGENCE: REL_REDUCTION_OF_F_<=_FACTR*EPSMCH             \n",
      "RUNNING THE L-BFGS-B CODE\n",
      "\n",
      "           * * *\n",
      "\n",
      "Machine precision = 2.220D-16\n",
      " N =            3     M =           10\n",
      "\n",
      "At X0         0 variables are exactly at the bounds\n",
      "\n",
      "At iterate    0    f=  1.69307D+00    |proj g|=  2.69419D-01\n"
     ]
    },
    {
     "name": "stderr",
     "output_type": "stream",
     "text": [
      " This problem is unconstrained.\n"
     ]
    },
    {
     "name": "stdout",
     "output_type": "stream",
     "text": [
      "\n",
      "At iterate    5    f=  1.53956D+00    |proj g|=  2.00936D-02\n",
      "\n",
      "At iterate   10    f=  1.53583D+00    |proj g|=  2.81574D-03\n",
      "\n",
      "At iterate   15    f=  1.53538D+00    |proj g|=  4.91402D-03\n",
      "\n",
      "At iterate   20    f=  1.53533D+00    |proj g|=  4.11025D-04\n",
      "\n",
      "At iterate   25    f=  1.53532D+00    |proj g|=  5.83041D-04\n",
      "\n",
      "           * * *\n",
      "\n",
      "Tit   = total number of iterations\n",
      "Tnf   = total number of function evaluations\n",
      "Tnint = total number of segments explored during Cauchy searches\n",
      "Skip  = number of BFGS updates skipped\n",
      "Nact  = number of active bounds at final generalized Cauchy point\n",
      "Projg = norm of the final projected gradient\n",
      "F     = final function value\n",
      "\n",
      "           * * *\n",
      "\n",
      "   N    Tit     Tnf  Tnint  Skip  Nact     Projg        F\n",
      "    3     27     36      1     0     0   8.686D-05   1.535D+00\n",
      "  F =   1.5353243167862571     \n",
      "\n",
      "CONVERGENCE: REL_REDUCTION_OF_F_<=_FACTR*EPSMCH             \n",
      "RUNNING THE L-BFGS-B CODE\n",
      "\n",
      "           * * *\n",
      "\n",
      "Machine precision = 2.220D-16\n",
      " N =            3     M =           10\n",
      "\n",
      "At X0         0 variables are exactly at the bounds\n",
      "\n",
      "At iterate    0    f= -5.65013D+00    |proj g|=  2.14796D+05\n"
     ]
    },
    {
     "name": "stderr",
     "output_type": "stream",
     "text": [
      " This problem is unconstrained.\n"
     ]
    },
    {
     "name": "stdout",
     "output_type": "stream",
     "text": [
      "  ys=-2.019E+00  -gs= 6.257E-01 BFGS update SKIPPED\n"
     ]
    },
    {
     "name": "stderr",
     "output_type": "stream",
     "text": [
      "\n",
      " Bad direction in the line search;\n",
      "   refresh the lbfgs memory and restart the iteration.\n"
     ]
    },
    {
     "name": "stdout",
     "output_type": "stream",
     "text": [
      "\n",
      "           * * *\n",
      "\n",
      "Tit   = total number of iterations\n",
      "Tnf   = total number of function evaluations\n",
      "Tnint = total number of segments explored during Cauchy searches\n",
      "Skip  = number of BFGS updates skipped\n",
      "Nact  = number of active bounds at final generalized Cauchy point\n",
      "Projg = norm of the final projected gradient\n",
      "F     = final function value\n",
      "\n",
      "           * * *\n",
      "\n",
      "   N    Tit     Tnf  Tnint  Skip  Nact     Projg        F\n",
      "    3      3     60      2     1     0   1.958D+04  -7.377D+00\n",
      "  F =  -7.3769511620889698     \n",
      "\n",
      "ABNORMAL_TERMINATION_IN_LNSRCH                              \n",
      "RUNNING THE L-BFGS-B CODE\n",
      "\n",
      "           * * *\n",
      "\n",
      "Machine precision = 2.220D-16\n",
      " N =            3     M =           10\n",
      "\n",
      "At X0         0 variables are exactly at the bounds\n",
      "\n",
      "At iterate    0    f=  3.07439D+00    |proj g|=  2.47198D-01\n"
     ]
    },
    {
     "name": "stderr",
     "output_type": "stream",
     "text": [
      "\n",
      " Line search cannot locate an adequate point after MAXLS\n",
      "  function and gradient evaluations.\n",
      "  Previous x, f and g restored.\n",
      " Possible causes: 1 error in function or gradient evaluation;\n",
      "                  2 rounding error dominate computation.\n",
      " This problem is unconstrained.\n"
     ]
    },
    {
     "name": "stdout",
     "output_type": "stream",
     "text": [
      "\n",
      "At iterate    5    f=  3.00584D+00    |proj g|=  1.61502D-02\n",
      "\n",
      "At iterate   10    f=  2.98795D+00    |proj g|=  6.13469D-03\n",
      "\n",
      "At iterate   15    f=  2.98651D+00    |proj g|=  4.53495D-03\n",
      "\n",
      "At iterate   20    f=  2.98624D+00    |proj g|=  2.10380D-04\n",
      "\n",
      "At iterate   25    f=  2.98621D+00    |proj g|=  2.19232D-04\n",
      "\n",
      "At iterate   30    f=  2.98621D+00    |proj g|=  3.76174D-04\n",
      "\n",
      "At iterate   35    f=  2.98621D+00    |proj g|=  6.90063D-05\n",
      "\n",
      "At iterate   40    f=  2.98621D+00    |proj g|=  2.05578D-05\n",
      "\n",
      "           * * *\n",
      "\n",
      "Tit   = total number of iterations\n",
      "Tnf   = total number of function evaluations\n",
      "Tnint = total number of segments explored during Cauchy searches\n",
      "Skip  = number of BFGS updates skipped\n",
      "Nact  = number of active bounds at final generalized Cauchy point\n",
      "Projg = norm of the final projected gradient\n",
      "F     = final function value\n",
      "\n",
      "           * * *\n",
      "\n",
      "   N    Tit     Tnf  Tnint  Skip  Nact     Projg        F\n",
      "    3     41     47      1     0     0   3.131D-05   2.986D+00\n",
      "  F =   2.9862072936052244     \n",
      "\n",
      "CONVERGENCE: REL_REDUCTION_OF_F_<=_FACTR*EPSMCH             \n",
      "RUNNING THE L-BFGS-B CODE\n",
      "\n",
      "           * * *\n",
      "\n",
      "Machine precision = 2.220D-16\n",
      " N =            3     M =           10\n",
      "\n",
      "At X0         0 variables are exactly at the bounds\n",
      "\n",
      "At iterate    0    f=  6.50351D-01    |proj g|=  2.38726D-01\n"
     ]
    },
    {
     "name": "stderr",
     "output_type": "stream",
     "text": [
      " This problem is unconstrained.\n"
     ]
    },
    {
     "name": "stdout",
     "output_type": "stream",
     "text": [
      "\n",
      "At iterate    5    f=  5.77536D-01    |proj g|=  3.74911D-02\n",
      "\n",
      "At iterate   10    f=  5.77103D-01    |proj g|=  3.71196D-06\n",
      "\n",
      "           * * *\n",
      "\n",
      "Tit   = total number of iterations\n",
      "Tnf   = total number of function evaluations\n",
      "Tnint = total number of segments explored during Cauchy searches\n",
      "Skip  = number of BFGS updates skipped\n",
      "Nact  = number of active bounds at final generalized Cauchy point\n",
      "Projg = norm of the final projected gradient\n",
      "F     = final function value\n",
      "\n",
      "           * * *\n",
      "\n",
      "   N    Tit     Tnf  Tnint  Skip  Nact     Projg        F\n",
      "    3     10     13      1     0     0   3.712D-06   5.771D-01\n",
      "  F =  0.57710276818388972     \n",
      "\n",
      "CONVERGENCE: NORM_OF_PROJECTED_GRADIENT_<=_PGTOL            \n",
      "RUNNING THE L-BFGS-B CODE\n",
      "\n",
      "           * * *\n",
      "\n",
      "Machine precision = 2.220D-16\n",
      " N =            3     M =           10\n",
      "\n",
      "At X0         0 variables are exactly at the bounds\n",
      "\n",
      "At iterate    0    f=  1.53552D+00    |proj g|=  1.45084D+00\n"
     ]
    },
    {
     "name": "stderr",
     "output_type": "stream",
     "text": [
      " This problem is unconstrained.\n"
     ]
    },
    {
     "name": "stdout",
     "output_type": "stream",
     "text": [
      "\n",
      "At iterate    5    f=  1.28721D+00    |proj g|=  2.92396D-02\n",
      "\n",
      "At iterate   10    f=  1.27764D+00    |proj g|=  1.05875D-02\n",
      "\n",
      "At iterate   15    f=  1.27717D+00    |proj g|=  8.22247D-03\n",
      "\n",
      "At iterate   20    f=  1.27710D+00    |proj g|=  6.35109D-04\n",
      "\n",
      "At iterate   25    f=  1.27709D+00    |proj g|=  3.51956D-04\n",
      "\n",
      "At iterate   30    f=  1.27709D+00    |proj g|=  2.98665D-04\n",
      "\n",
      "At iterate   35    f=  1.27709D+00    |proj g|=  5.62577D-05\n"
     ]
    },
    {
     "name": "stderr",
     "output_type": "stream",
     "text": [
      "\n",
      " Bad direction in the line search;\n",
      "   refresh the lbfgs memory and restart the iteration.\n",
      " This problem is unconstrained.\n"
     ]
    },
    {
     "name": "stdout",
     "output_type": "stream",
     "text": [
      "\n",
      "           * * *\n",
      "\n",
      "Tit   = total number of iterations\n",
      "Tnf   = total number of function evaluations\n",
      "Tnint = total number of segments explored during Cauchy searches\n",
      "Skip  = number of BFGS updates skipped\n",
      "Nact  = number of active bounds at final generalized Cauchy point\n",
      "Projg = norm of the final projected gradient\n",
      "F     = final function value\n",
      "\n",
      "           * * *\n",
      "\n",
      "   N    Tit     Tnf  Tnint  Skip  Nact     Projg        F\n",
      "    3     36     65      2     0     0   3.284D-05   1.277D+00\n",
      "  F =   1.2770879163043534     \n",
      "\n",
      "CONVERGENCE: REL_REDUCTION_OF_F_<=_FACTR*EPSMCH             \n",
      "RUNNING THE L-BFGS-B CODE\n",
      "\n",
      "           * * *\n",
      "\n",
      "Machine precision = 2.220D-16\n",
      " N =            3     M =           10\n",
      "\n",
      "At X0         0 variables are exactly at the bounds\n",
      "\n",
      "At iterate    0    f=  8.97325D-01    |proj g|=  8.51536D-02\n",
      "\n",
      "At iterate    5    f=  8.84278D-01    |proj g|=  7.26900D-03\n",
      "\n",
      "           * * *\n",
      "\n",
      "Tit   = total number of iterations\n",
      "Tnf   = total number of function evaluations\n",
      "Tnint = total number of segments explored during Cauchy searches\n",
      "Skip  = number of BFGS updates skipped\n",
      "Nact  = number of active bounds at final generalized Cauchy point\n",
      "Projg = norm of the final projected gradient\n",
      "F     = final function value\n",
      "\n",
      "           * * *\n",
      "\n",
      "   N    Tit     Tnf  Tnint  Skip  Nact     Projg        F\n",
      "    3      9     15      1     0     0   1.146D-05   8.842D-01\n",
      "  F =  0.88422778344342490     \n",
      "\n",
      "CONVERGENCE: REL_REDUCTION_OF_F_<=_FACTR*EPSMCH             \n",
      "RUNNING THE L-BFGS-B CODE\n",
      "\n",
      "           * * *\n",
      "\n",
      "Machine precision = 2.220D-16\n",
      " N =            3     M =           10\n",
      "\n",
      "At X0         0 variables are exactly at the bounds\n",
      "\n",
      "At iterate    0    f=  1.38658D+00    |proj g|=  2.22638D-01\n"
     ]
    },
    {
     "name": "stderr",
     "output_type": "stream",
     "text": [
      " This problem is unconstrained.\n"
     ]
    },
    {
     "name": "stdout",
     "output_type": "stream",
     "text": [
      "\n",
      "At iterate    5    f=  1.31178D+00    |proj g|=  4.50936D-03\n",
      "\n",
      "At iterate   10    f=  1.31090D+00    |proj g|=  5.37287D-03\n",
      "\n",
      "At iterate   15    f=  1.31071D+00    |proj g|=  3.79664D-03\n",
      "\n",
      "At iterate   20    f=  1.31069D+00    |proj g|=  1.02098D-03\n",
      "\n",
      "At iterate   25    f=  1.31069D+00    |proj g|=  8.73346D-04\n",
      "\n",
      "At iterate   30    f=  1.31069D+00    |proj g|=  6.32581D-05\n",
      "\n",
      "           * * *\n",
      "\n",
      "Tit   = total number of iterations\n",
      "Tnf   = total number of function evaluations\n",
      "Tnint = total number of segments explored during Cauchy searches\n",
      "Skip  = number of BFGS updates skipped\n",
      "Nact  = number of active bounds at final generalized Cauchy point\n",
      "Projg = norm of the final projected gradient\n",
      "F     = final function value\n",
      "\n",
      "           * * *\n",
      "\n",
      "   N    Tit     Tnf  Tnint  Skip  Nact     Projg        F\n",
      "    3     31     39      1     0     0   3.697D-05   1.311D+00\n",
      "  F =   1.3106858355388937     \n",
      "\n",
      "CONVERGENCE: REL_REDUCTION_OF_F_<=_FACTR*EPSMCH             \n",
      "RUNNING THE L-BFGS-B CODE\n",
      "\n",
      "           * * *\n",
      "\n",
      "Machine precision = 2.220D-16\n",
      " N =            3     M =           10\n",
      "\n",
      "At X0         0 variables are exactly at the bounds\n",
      "\n",
      "At iterate    0    f=  6.01033D-01    |proj g|=  7.81687D-01\n"
     ]
    },
    {
     "name": "stderr",
     "output_type": "stream",
     "text": [
      " This problem is unconstrained.\n"
     ]
    },
    {
     "name": "stdout",
     "output_type": "stream",
     "text": [
      "\n",
      "At iterate    5    f=  4.65030D-01    |proj g|=  1.03983D-01\n",
      "\n",
      "At iterate   10    f=  4.41945D-01    |proj g|=  2.67046D-04\n",
      "\n",
      "           * * *\n",
      "\n",
      "Tit   = total number of iterations\n",
      "Tnf   = total number of function evaluations\n",
      "Tnint = total number of segments explored during Cauchy searches\n",
      "Skip  = number of BFGS updates skipped\n",
      "Nact  = number of active bounds at final generalized Cauchy point\n",
      "Projg = norm of the final projected gradient\n",
      "F     = final function value\n",
      "\n",
      "           * * *\n",
      "\n",
      "   N    Tit     Tnf  Tnint  Skip  Nact     Projg        F\n",
      "    3     13     21      1     0     0   2.205D-05   4.419D-01\n",
      "  F =  0.44194391170793923     \n",
      "\n",
      "CONVERGENCE: REL_REDUCTION_OF_F_<=_FACTR*EPSMCH             \n",
      "RUNNING THE L-BFGS-B CODE\n",
      "\n",
      "           * * *\n",
      "\n",
      "Machine precision = 2.220D-16\n",
      " N =            3     M =           10\n",
      "\n",
      "At X0         0 variables are exactly at the bounds\n",
      "\n",
      "At iterate    0    f=  1.17658D+00    |proj g|=  2.82964D-01\n"
     ]
    },
    {
     "name": "stderr",
     "output_type": "stream",
     "text": [
      " This problem is unconstrained.\n"
     ]
    },
    {
     "name": "stdout",
     "output_type": "stream",
     "text": [
      "\n",
      "At iterate    5    f=  1.05714D+00    |proj g|=  5.36202D-03\n",
      "\n",
      "At iterate   10    f=  1.05567D+00    |proj g|=  9.66966D-03\n",
      "\n",
      "At iterate   15    f=  1.05540D+00    |proj g|=  2.49818D-03\n",
      "\n",
      "At iterate   20    f=  1.05537D+00    |proj g|=  1.11959D-03\n",
      "\n",
      "At iterate   25    f=  1.05537D+00    |proj g|=  4.18887D-04\n",
      "\n",
      "           * * *\n",
      "\n",
      "Tit   = total number of iterations\n",
      "Tnf   = total number of function evaluations\n",
      "Tnint = total number of segments explored during Cauchy searches\n",
      "Skip  = number of BFGS updates skipped\n",
      "Nact  = number of active bounds at final generalized Cauchy point\n",
      "Projg = norm of the final projected gradient\n",
      "F     = final function value\n",
      "\n",
      "           * * *\n",
      "\n",
      "   N    Tit     Tnf  Tnint  Skip  Nact     Projg        F\n",
      "    3     26     40      1     0     0   4.207D-04   1.055D+00\n",
      "  F =   1.0553662479560921     \n",
      "\n",
      "CONVERGENCE: REL_REDUCTION_OF_F_<=_FACTR*EPSMCH             \n"
     ]
    }
   ],
   "source": [
    "#ARIMA\n",
    "\n",
    "predictions = []\n",
    "for row in tqdm(train_dataset[train_dataset.columns[-30:]].values[:n_rows]):\n",
    "    fit = sm.tsa.statespace.SARIMAX(row, seasonal_order=(0, 1, 1, 7)).fit()\n",
    "    predictions.append(fit.forecast(30))\n",
    "predictions = np.array(predictions).reshape((-1, 30))\n",
    "error_arima = np.linalg.norm(predictions[:n_rows] - val_dataset.values[:n_rows])/len(predictions[0])\n"
   ]
  },
  {
   "cell_type": "code",
   "execution_count": 21,
   "id": "outer-jefferson",
   "metadata": {
    "scrolled": true
   },
   "outputs": [
    {
     "data": {
      "application/vnd.jupyter.widget-view+json": {
       "model_id": "fca38103996646729e15fbf6b936798e",
       "version_major": 2,
       "version_minor": 0
      },
      "text/plain": [
       "  0%|          | 0/25 [00:00<?, ?it/s]"
      ]
     },
     "metadata": {},
     "output_type": "display_data"
    },
    {
     "name": "stderr",
     "output_type": "stream",
     "text": [
      "INFO:prophet:Disabling yearly seasonality. Run prophet with yearly_seasonality=True to override this.\n",
      "INFO:prophet:n_changepoints greater than number of observations. Using 23.\n"
     ]
    },
    {
     "name": "stdout",
     "output_type": "stream",
     "text": [
      "\n",
      "Initial log joint probability = -28.9301\n",
      "Iteration  1. Log joint probability =    9.18298. Improved by 38.113.\n",
      "Iteration  2. Log joint probability =    25.4207. Improved by 16.2377.\n",
      "Iteration  3. Log joint probability =    26.0977. Improved by 0.676986.\n",
      "Iteration  4. Log joint probability =    26.3816. Improved by 0.283952.\n",
      "Iteration  5. Log joint probability =    26.3958. Improved by 0.0141368.\n",
      "Iteration  6. Log joint probability =    26.4112. Improved by 0.0154235.\n",
      "Iteration  7. Log joint probability =    26.4137. Improved by 0.00253877.\n",
      "Iteration  8. Log joint probability =    26.4214. Improved by 0.00766101.\n",
      "Iteration  9. Log joint probability =    26.4299. Improved by 0.00854073.\n",
      "Iteration 10. Log joint probability =    26.4331. Improved by 0.0031661.\n",
      "Iteration 11. Log joint probability =    26.4368. Improved by 0.0037265.\n",
      "Iteration 12. Log joint probability =    26.4384. Improved by 0.00158862.\n",
      "Iteration 13. Log joint probability =    26.4395. Improved by 0.00107142.\n",
      "Iteration 14. Log joint probability =    26.4396. Improved by 0.000110604.\n",
      "Iteration 15. Log joint probability =    26.4405. Improved by 0.000850511.\n",
      "Iteration 16. Log joint probability =    26.4405. Improved by 9.15856e-05.\n",
      "Iteration 17. Log joint probability =    26.4407. Improved by 0.00019916.\n",
      "Iteration 18. Log joint probability =    26.4408. Improved by 0.000100194.\n",
      "Iteration 19. Log joint probability =    26.4409. Improved by 8.40284e-05.\n",
      "Iteration 20. Log joint probability =     26.441. Improved by 4.40602e-05.\n",
      "Iteration 21. Log joint probability =     26.441. Improved by 2.9532e-05.\n",
      "Iteration 22. Log joint probability =     26.441. Improved by 6.03611e-06.\n",
      "Iteration 23. Log joint probability =     26.441. Improved by 5.06874e-06.\n",
      "Iteration 24. Log joint probability =     26.441. Improved by 1.39291e-06.\n",
      "Iteration 25. Log joint probability =     26.441. Improved by 1.15328e-06.\n",
      "Iteration 26. Log joint probability =     26.441. Improved by 1.18563e-06.\n",
      "Iteration 27. Log joint probability =     26.441. Improved by 4.96889e-07.\n",
      "Iteration 28. Log joint probability =     26.441. Improved by 3.68873e-07.\n",
      "Iteration 29. Log joint probability =     26.441. Improved by 1.25032e-07.\n",
      "Iteration 30. Log joint probability =     26.441. Improved by 2.18027e-08.\n",
      "Iteration 31. Log joint probability =     26.441. Improved by 9.02753e-08.\n",
      "Iteration 32. Log joint probability =     26.441. Improved by 3.62999e-08.\n",
      "Iteration 33. Log joint probability =     26.441. Improved by 1.66252e-08.\n",
      "Iteration 34. Log joint probability =     26.441. Improved by 2.25338e-09.\n"
     ]
    },
    {
     "name": "stderr",
     "output_type": "stream",
     "text": [
      "INFO:prophet:Disabling yearly seasonality. Run prophet with yearly_seasonality=True to override this.\n",
      "INFO:prophet:n_changepoints greater than number of observations. Using 23.\n"
     ]
    },
    {
     "name": "stdout",
     "output_type": "stream",
     "text": [
      "\n",
      "Initial log joint probability = -30.3946\n",
      "Iteration  1. Log joint probability =     3.7117. Improved by 34.1063.\n",
      "Iteration  2. Log joint probability =    10.0115. Improved by 6.29977.\n",
      "Iteration  3. Log joint probability =    15.8254. Improved by 5.81397.\n",
      "Iteration  4. Log joint probability =    16.0828. Improved by 0.257403.\n",
      "Iteration  5. Log joint probability =    16.0901. Improved by 0.00730186.\n",
      "Iteration  6. Log joint probability =    16.1216. Improved by 0.0314168.\n",
      "Iteration  7. Log joint probability =    16.1288. Improved by 0.00724291.\n",
      "Iteration  8. Log joint probability =    16.2066. Improved by 0.0778419.\n",
      "Iteration  9. Log joint probability =    16.4858. Improved by 0.279201.\n",
      "Iteration 10. Log joint probability =    16.5475. Improved by 0.0616134.\n",
      "Iteration 11. Log joint probability =    16.5752. Improved by 0.0276983.\n",
      "Iteration 12. Log joint probability =       16.6. Improved by 0.0248926.\n",
      "Iteration 13. Log joint probability =    16.6872. Improved by 0.0871808.\n",
      "Iteration 14. Log joint probability =    16.7241. Improved by 0.0368782.\n",
      "Iteration 15. Log joint probability =    16.8667. Improved by 0.142565.\n",
      "Iteration 16. Log joint probability =    16.8861. Improved by 0.0194048.\n",
      "Iteration 17. Log joint probability =    16.8969. Improved by 0.0108252.\n",
      "Iteration 18. Log joint probability =    16.9152. Improved by 0.0183155.\n",
      "Iteration 19. Log joint probability =    16.9235. Improved by 0.00826583.\n",
      "Iteration 20. Log joint probability =    16.9287. Improved by 0.00525314.\n",
      "Iteration 21. Log joint probability =    16.9298. Improved by 0.0010506.\n",
      "Iteration 22. Log joint probability =    16.9323. Improved by 0.00252011.\n",
      "Iteration 23. Log joint probability =    16.9325. Improved by 0.000219415.\n",
      "Iteration 24. Log joint probability =     16.935. Improved by 0.00251261.\n",
      "Iteration 25. Log joint probability =    16.9365. Improved by 0.00145798.\n",
      "Iteration 26. Log joint probability =    16.9369. Improved by 0.00037017.\n",
      "Iteration 27. Log joint probability =    16.9369. Improved by 1.41197e-06.\n",
      "Iteration 28. Log joint probability =    16.9369. Improved by 8.28238e-05.\n",
      "Iteration 29. Log joint probability =    16.9371. Improved by 0.000145104.\n",
      "Iteration 30. Log joint probability =    16.9374. Improved by 0.000263075.\n",
      "Iteration 31. Log joint probability =    16.9375. Improved by 0.000121901.\n",
      "Iteration 32. Log joint probability =    16.9375. Improved by 6.74079e-05.\n",
      "Iteration 33. Log joint probability =    16.9376. Improved by 5.16524e-05.\n",
      "Iteration 34. Log joint probability =    16.9376. Improved by 3.18956e-05.\n",
      "Iteration 35. Log joint probability =    16.9377. Improved by 2.51147e-05.\n",
      "Iteration 36. Log joint probability =    16.9377. Improved by 1.30803e-05.\n",
      "Iteration 37. Log joint probability =    16.9377. Improved by 1.82392e-05.\n",
      "Iteration 38. Log joint probability =    16.9377. Improved by 9.59644e-06.\n",
      "Iteration 39. Log joint probability =    16.9377. Improved by 1.57203e-06.\n",
      "Iteration 40. Log joint probability =    16.9377. Improved by 2.57797e-06.\n",
      "Iteration 41. Log joint probability =    16.9377. Improved by 1.78773e-06.\n",
      "Iteration 42. Log joint probability =    16.9377. Improved by 3.56632e-06.\n",
      "Iteration 43. Log joint probability =    16.9377. Improved by 8.2788e-07.\n",
      "Iteration 44. Log joint probability =    16.9377. Improved by 1.1026e-06.\n",
      "Iteration 45. Log joint probability =    16.9377. Improved by 2.73176e-06.\n",
      "Iteration 46. Log joint probability =    16.9377. Improved by 5.50919e-07.\n",
      "Iteration 47. Log joint probability =    16.9377. Improved by 8.07523e-07.\n",
      "Iteration 48. Log joint probability =    16.9377. Improved by 5.3564e-07.\n",
      "Iteration 49. Log joint probability =    16.9377. Improved by 1.30242e-07.\n",
      "Iteration 50. Log joint probability =    16.9377. Improved by 1.43464e-07.\n",
      "Iteration 51. Log joint probability =    16.9377. Improved by 4.28049e-08.\n",
      "Iteration 52. Log joint probability =    16.9377. Improved by 1.22815e-07.\n",
      "Iteration 53. Log joint probability =    16.9377. Improved by 5.07608e-08.\n",
      "Iteration 54. Log joint probability =    16.9377. Improved by 5.72316e-08.\n",
      "Iteration 55. Log joint probability =    16.9377. Improved by 3.13832e-08.\n",
      "Iteration 56. Log joint probability =    16.9377. Improved by 1.06794e-08.\n",
      "Iteration 57. Log joint probability =    16.9377. Improved by 2.8419e-08.\n",
      "Iteration 58. Log joint probability =    16.9377. Improved by 9.76502e-09.\n"
     ]
    },
    {
     "name": "stderr",
     "output_type": "stream",
     "text": [
      "INFO:prophet:Disabling yearly seasonality. Run prophet with yearly_seasonality=True to override this.\n",
      "INFO:prophet:n_changepoints greater than number of observations. Using 23.\n"
     ]
    },
    {
     "name": "stdout",
     "output_type": "stream",
     "text": [
      "\n",
      "Initial log joint probability = -28.3381\n",
      "Iteration  1. Log joint probability =    13.8058. Improved by 42.1439.\n",
      "Iteration  2. Log joint probability =    15.5715. Improved by 1.7657.\n",
      "Iteration  3. Log joint probability =    22.2379. Improved by 6.66635.\n",
      "Iteration  4. Log joint probability =    22.8565. Improved by 0.618687.\n",
      "Iteration  5. Log joint probability =    22.9164. Improved by 0.0598917.\n",
      "Iteration  6. Log joint probability =    23.0844. Improved by 0.167988.\n",
      "Iteration  7. Log joint probability =    23.1082. Improved by 0.0237693.\n",
      "Iteration  8. Log joint probability =    23.1302. Improved by 0.0220339.\n",
      "Iteration  9. Log joint probability =    23.1394. Improved by 0.00919653.\n",
      "Iteration 10. Log joint probability =    23.1605. Improved by 0.0210343.\n",
      "Iteration 11. Log joint probability =    23.1609. Improved by 0.000406794.\n",
      "Iteration 12. Log joint probability =     23.174. Improved by 0.0131328.\n",
      "Iteration 13. Log joint probability =    23.1771. Improved by 0.00313613.\n",
      "Iteration 14. Log joint probability =    23.1788. Improved by 0.0017176.\n",
      "Iteration 15. Log joint probability =    23.1816. Improved by 0.00272397.\n",
      "Iteration 16. Log joint probability =    23.1827. Improved by 0.00111666.\n",
      "Iteration 17. Log joint probability =    23.1834. Improved by 0.000737845.\n",
      "Iteration 18. Log joint probability =    23.1837. Improved by 0.000321163.\n",
      "Iteration 19. Log joint probability =    23.1838. Improved by 4.31438e-05.\n",
      "Iteration 20. Log joint probability =     23.184. Improved by 0.000160253.\n",
      "Iteration 21. Log joint probability =     23.184. Improved by 1.49891e-05.\n",
      "Iteration 22. Log joint probability =     23.184. Improved by 7.57238e-05.\n",
      "Iteration 23. Log joint probability =     23.184. Improved by 8.59493e-06.\n",
      "Iteration 24. Log joint probability =    23.1841. Improved by 5.14383e-05.\n",
      "Iteration 25. Log joint probability =    23.1841. Improved by 2.52388e-05.\n",
      "Iteration 26. Log joint probability =    23.1841. Improved by 2.90125e-06.\n",
      "Iteration 27. Log joint probability =    23.1841. Improved by 1.63269e-06.\n",
      "Iteration 28. Log joint probability =    23.1841. Improved by 4.82639e-06.\n",
      "Iteration 29. Log joint probability =    23.1841. Improved by 2.9948e-06.\n",
      "Iteration 30. Log joint probability =    23.1841. Improved by 1.05341e-06.\n",
      "Iteration 31. Log joint probability =    23.1841. Improved by 2.21765e-07.\n",
      "Iteration 32. Log joint probability =    23.1841. Improved by 7.35915e-08.\n",
      "Iteration 33. Log joint probability =    23.1841. Improved by 6.64259e-07.\n",
      "Iteration 34. Log joint probability =    23.1841. Improved by 3.2945e-07.\n",
      "Iteration 35. Log joint probability =    23.1841. Improved by 1.66581e-08.\n",
      "Iteration 36. Log joint probability =    23.1841. Improved by 2.35331e-08.\n",
      "Iteration 37. Log joint probability =    23.1841. Improved by 1.98336e-07.\n",
      "Iteration 38. Log joint probability =    23.1841. Improved by 5.31895e-08.\n",
      "Iteration 39. Log joint probability =    23.1841. Improved by 7.55865e-09.\n"
     ]
    },
    {
     "name": "stderr",
     "output_type": "stream",
     "text": [
      "INFO:prophet:Disabling yearly seasonality. Run prophet with yearly_seasonality=True to override this.\n",
      "INFO:prophet:n_changepoints greater than number of observations. Using 23.\n"
     ]
    },
    {
     "name": "stdout",
     "output_type": "stream",
     "text": [
      "\n",
      "Initial log joint probability = -30.3981\n",
      "Iteration  1. Log joint probability =      13.56. Improved by 43.9581.\n",
      "Iteration  2. Log joint probability =    18.3568. Improved by 4.79678.\n",
      "Iteration  3. Log joint probability =    22.9177. Improved by 4.56086.\n",
      "Iteration  4. Log joint probability =    23.0172. Improved by 0.0995073.\n",
      "Iteration  5. Log joint probability =    23.3184. Improved by 0.301224.\n",
      "Iteration  6. Log joint probability =    23.6518. Improved by 0.333373.\n",
      "Iteration  7. Log joint probability =     23.665. Improved by 0.0132388.\n",
      "Iteration  8. Log joint probability =    23.7218. Improved by 0.0567534.\n",
      "Iteration  9. Log joint probability =    23.7303. Improved by 0.00858265.\n",
      "Iteration 10. Log joint probability =     23.741. Improved by 0.0106295.\n",
      "Iteration 11. Log joint probability =     23.744. Improved by 0.00307253.\n",
      "Iteration 12. Log joint probability =    23.7476. Improved by 0.00358229.\n",
      "Iteration 13. Log joint probability =    23.7492. Improved by 0.00156246.\n",
      "Iteration 14. Log joint probability =    23.7507. Improved by 0.00153978.\n",
      "Iteration 15. Log joint probability =    23.7514. Improved by 0.000697433.\n",
      "Iteration 16. Log joint probability =    23.7516. Improved by 0.000210944.\n",
      "Iteration 17. Log joint probability =    23.7517. Improved by 8.94402e-05.\n",
      "Iteration 18. Log joint probability =    23.7518. Improved by 9.64171e-05.\n",
      "Iteration 19. Log joint probability =    23.7519. Improved by 5.39239e-05.\n",
      "Iteration 20. Log joint probability =    23.7519. Improved by 7.18338e-05.\n",
      "Iteration 21. Log joint probability =     23.752. Improved by 3.63622e-05.\n",
      "Iteration 22. Log joint probability =     23.752. Improved by 2.52713e-05.\n",
      "Iteration 23. Log joint probability =     23.752. Improved by 6.65664e-06.\n",
      "Iteration 24. Log joint probability =     23.752. Improved by 5.74475e-07.\n",
      "Iteration 25. Log joint probability =     23.752. Improved by 1.98593e-06.\n",
      "Iteration 26. Log joint probability =     23.752. Improved by 4.81197e-06.\n",
      "Iteration 27. Log joint probability =     23.752. Improved by 1.86473e-06.\n",
      "Iteration 28. Log joint probability =     23.752. Improved by 1.54962e-06.\n",
      "Iteration 29. Log joint probability =     23.752. Improved by 3.42979e-07.\n",
      "Iteration 30. Log joint probability =     23.752. Improved by 3.76972e-07.\n",
      "Iteration 31. Log joint probability =     23.752. Improved by 4.15502e-07.\n",
      "Iteration 32. Log joint probability =     23.752. Improved by 1.90316e-07.\n",
      "Iteration 33. Log joint probability =     23.752. Improved by 3.3004e-07.\n",
      "Iteration 34. Log joint probability =     23.752. Improved by 1.24327e-07.\n",
      "Iteration 35. Log joint probability =     23.752. Improved by 1.11672e-08.\n",
      "Iteration 36. Log joint probability =     23.752. Improved by 9.23829e-08.\n",
      "Iteration 37. Log joint probability =     23.752. Improved by 4.07404e-08.\n",
      "Iteration 38. Log joint probability =     23.752. Improved by 1.56258e-08.\n",
      "Iteration 39. Log joint probability =     23.752. Improved by 1.34509e-08.\n",
      "Iteration 40. Log joint probability =     23.752. Improved by 5.31776e-09.\n"
     ]
    },
    {
     "name": "stderr",
     "output_type": "stream",
     "text": [
      "INFO:prophet:Disabling yearly seasonality. Run prophet with yearly_seasonality=True to override this.\n",
      "INFO:prophet:n_changepoints greater than number of observations. Using 23.\n"
     ]
    },
    {
     "name": "stdout",
     "output_type": "stream",
     "text": [
      "\n",
      "Initial log joint probability = -28.4933\n",
      "Iteration  1. Log joint probability =    15.3993. Improved by 43.8926.\n",
      "Iteration  2. Log joint probability =    22.5035. Improved by 7.10423.\n",
      "Iteration  3. Log joint probability =    23.4883. Improved by 0.984724.\n",
      "Iteration  4. Log joint probability =    23.5762. Improved by 0.0879303.\n",
      "Iteration  5. Log joint probability =    23.6824. Improved by 0.106262.\n",
      "Iteration  6. Log joint probability =    23.6895. Improved by 0.00700691.\n",
      "Iteration  7. Log joint probability =     23.708. Improved by 0.018513.\n",
      "Iteration  8. Log joint probability =    23.7167. Improved by 0.00872013.\n",
      "Iteration  9. Log joint probability =    23.7217. Improved by 0.00498216.\n",
      "Iteration 10. Log joint probability =     23.722. Improved by 0.000350192.\n",
      "Iteration 11. Log joint probability =    23.7247. Improved by 0.00269921.\n",
      "Iteration 12. Log joint probability =    23.7248. Improved by 9.37317e-05.\n",
      "Iteration 13. Log joint probability =    23.7265. Improved by 0.00165597.\n",
      "Iteration 14. Log joint probability =    23.7269. Improved by 0.000430664.\n",
      "Iteration 15. Log joint probability =     23.727. Improved by 7.16267e-05.\n",
      "Iteration 16. Log joint probability =    23.7273. Improved by 0.000353947.\n",
      "Iteration 17. Log joint probability =    23.7275. Improved by 0.000176461.\n",
      "Iteration 18. Log joint probability =    23.7276. Improved by 8.26086e-05.\n",
      "Iteration 19. Log joint probability =    23.7276. Improved by 1.18107e-05.\n",
      "Iteration 20. Log joint probability =    23.7276. Improved by 7.87807e-06.\n",
      "Iteration 21. Log joint probability =    23.7277. Improved by 5.23228e-05.\n",
      "Iteration 22. Log joint probability =    23.7277. Improved by 1.03639e-05.\n",
      "Iteration 23. Log joint probability =    23.7277. Improved by 3.30389e-06.\n",
      "Iteration 24. Log joint probability =    23.7277. Improved by 9.85174e-06.\n",
      "Iteration 25. Log joint probability =    23.7277. Improved by 5.51475e-06.\n",
      "Iteration 26. Log joint probability =    23.7277. Improved by 2.71167e-06.\n",
      "Iteration 27. Log joint probability =    23.7277. Improved by 1.24907e-06.\n",
      "Iteration 28. Log joint probability =    23.7277. Improved by 2.23086e-07.\n",
      "Iteration 29. Log joint probability =    23.7277. Improved by 1.09978e-07.\n",
      "Iteration 30. Log joint probability =    23.7277. Improved by 6.79354e-07.\n",
      "Iteration 31. Log joint probability =    23.7277. Improved by 1.84952e-08.\n",
      "Iteration 32. Log joint probability =    23.7277. Improved by 2.15363e-08.\n",
      "Iteration 33. Log joint probability =    23.7277. Improved by 4.0729e-07.\n",
      "Iteration 34. Log joint probability =    23.7277. Improved by 7.50066e-08.\n",
      "Iteration 35. Log joint probability =    23.7277. Improved by 7.6932e-08.\n",
      "Iteration 36. Log joint probability =    23.7277. Improved by 5.20902e-08.\n",
      "Iteration 37. Log joint probability =    23.7277. Improved by 4.69194e-08.\n",
      "Iteration 38. Log joint probability =    23.7277. Improved by 1.25013e-08.\n",
      "Iteration 39. Log joint probability =    23.7277. Improved by 1.0472e-08.\n",
      "Iteration 40. Log joint probability =    23.7277. Improved by 5.33459e-09.\n"
     ]
    },
    {
     "name": "stderr",
     "output_type": "stream",
     "text": [
      "INFO:prophet:Disabling yearly seasonality. Run prophet with yearly_seasonality=True to override this.\n",
      "INFO:prophet:n_changepoints greater than number of observations. Using 23.\n"
     ]
    },
    {
     "name": "stdout",
     "output_type": "stream",
     "text": [
      "\n",
      "Initial log joint probability = -30.8768\n",
      "Iteration  1. Log joint probability =    5.29444. Improved by 36.1713.\n",
      "Iteration  2. Log joint probability =    5.71521. Improved by 0.420774.\n",
      "Iteration  3. Log joint probability =    13.7048. Improved by 7.98959.\n",
      "Iteration  4. Log joint probability =    14.0038. Improved by 0.298996.\n",
      "Iteration  5. Log joint probability =    14.1342. Improved by 0.130414.\n",
      "Iteration  6. Log joint probability =    14.2474. Improved by 0.113177.\n",
      "Iteration  7. Log joint probability =    14.3315. Improved by 0.0841374.\n",
      "Iteration  8. Log joint probability =    14.4178. Improved by 0.0862758.\n",
      "Iteration  9. Log joint probability =    14.4365. Improved by 0.0186862.\n",
      "Iteration 10. Log joint probability =    14.5061. Improved by 0.069625.\n",
      "Iteration 11. Log joint probability =    14.5835. Improved by 0.0773832.\n",
      "Iteration 12. Log joint probability =    14.6339. Improved by 0.0504394.\n",
      "Iteration 13. Log joint probability =    14.6469. Improved by 0.0129162.\n",
      "Iteration 14. Log joint probability =    14.6978. Improved by 0.0509161.\n",
      "Iteration 15. Log joint probability =    14.7414. Improved by 0.0435927.\n",
      "Iteration 16. Log joint probability =    14.8114. Improved by 0.0700617.\n",
      "Iteration 17. Log joint probability =    15.0243. Improved by 0.21287.\n",
      "Iteration 18. Log joint probability =    15.0375. Improved by 0.0131681.\n",
      "Iteration 19. Log joint probability =    15.0948. Improved by 0.057378.\n",
      "Iteration 20. Log joint probability =    24.9471. Improved by 9.85222.\n",
      "Iteration 21. Log joint probability =    25.0947. Improved by 0.147599.\n",
      "Iteration 22. Log joint probability =    25.1219. Improved by 0.0272659.\n",
      "Iteration 23. Log joint probability =    25.1269. Improved by 0.00500496.\n",
      "Iteration 24. Log joint probability =    25.2046. Improved by 0.0776259.\n",
      "Iteration 25. Log joint probability =    25.2628. Improved by 0.0582575.\n",
      "Iteration 26. Log joint probability =    25.2889. Improved by 0.0260491.\n",
      "Iteration 27. Log joint probability =    25.3082. Improved by 0.0193425.\n",
      "Iteration 28. Log joint probability =    25.3141. Improved by 0.00592927.\n",
      "Iteration 29. Log joint probability =     25.319. Improved by 0.00489278.\n",
      "Iteration 30. Log joint probability =    25.3214. Improved by 0.00233867.\n",
      "Iteration 31. Log joint probability =    25.3234. Improved by 0.00199503.\n",
      "Iteration 32. Log joint probability =    25.3349. Improved by 0.011505.\n",
      "Iteration 33. Log joint probability =    25.3414. Improved by 0.00649329.\n",
      "Iteration 34. Log joint probability =    25.3421. Improved by 0.000772456.\n",
      "Iteration 35. Log joint probability =    25.3427. Improved by 0.0005381.\n",
      "Iteration 36. Log joint probability =     25.344. Improved by 0.00133327.\n",
      "Iteration 37. Log joint probability =    25.3445. Improved by 0.00050746.\n",
      "Iteration 38. Log joint probability =    25.3446. Improved by 9.19809e-05.\n",
      "Iteration 39. Log joint probability =    25.3446. Improved by 3.55708e-05.\n",
      "Iteration 40. Log joint probability =    25.3449. Improved by 0.000303114.\n",
      "Iteration 41. Log joint probability =    25.3451. Improved by 0.000102828.\n",
      "Iteration 42. Log joint probability =    25.3452. Improved by 9.77564e-05.\n",
      "Iteration 43. Log joint probability =    25.3452. Improved by 4.48539e-05.\n",
      "Iteration 44. Log joint probability =    25.3453. Improved by 7.07067e-05.\n",
      "Iteration 45. Log joint probability =    25.3453. Improved by 4.31987e-05.\n",
      "Iteration 46. Log joint probability =    25.3453. Improved by 1.81822e-05.\n",
      "Iteration 47. Log joint probability =    25.3453. Improved by 4.36259e-06.\n",
      "Iteration 48. Log joint probability =    25.3453. Improved by 1.04192e-05.\n",
      "Iteration 49. Log joint probability =    25.3453. Improved by 1.22314e-06.\n",
      "Iteration 50. Log joint probability =    25.3453. Improved by 5.43447e-06.\n",
      "Iteration 51. Log joint probability =    25.3454. Improved by 2.5953e-06.\n",
      "Iteration 52. Log joint probability =    25.3454. Improved by 1.18068e-06.\n",
      "Iteration 53. Log joint probability =    25.3454. Improved by 4.55403e-07.\n",
      "Iteration 54. Log joint probability =    25.3454. Improved by 4.4098e-07.\n",
      "Iteration 55. Log joint probability =    25.3454. Improved by 2.19259e-07.\n",
      "Iteration 56. Log joint probability =    25.3454. Improved by 2.84924e-07.\n",
      "Iteration 57. Log joint probability =    25.3454. Improved by 1.70676e-07.\n",
      "Iteration 58. Log joint probability =    25.3454. Improved by 7.33083e-08.\n",
      "Iteration 59. Log joint probability =    25.3454. Improved by 7.81459e-09.\n"
     ]
    },
    {
     "name": "stderr",
     "output_type": "stream",
     "text": [
      "INFO:prophet:Disabling yearly seasonality. Run prophet with yearly_seasonality=True to override this.\n",
      "INFO:prophet:n_changepoints greater than number of observations. Using 23.\n"
     ]
    },
    {
     "name": "stdout",
     "output_type": "stream",
     "text": [
      "\n",
      "Initial log joint probability = -28.3603\n",
      "Iteration  1. Log joint probability =    17.3913. Improved by 45.7517.\n",
      "Iteration  2. Log joint probability =    25.5423. Improved by 8.15096.\n",
      "Iteration  3. Log joint probability =    26.3399. Improved by 0.797578.\n",
      "Iteration  4. Log joint probability =    26.6091. Improved by 0.269191.\n",
      "Iteration  5. Log joint probability =     26.627. Improved by 0.0179668.\n",
      "Iteration  6. Log joint probability =    26.6438. Improved by 0.0167747.\n",
      "Iteration  7. Log joint probability =    26.6541. Improved by 0.0102905.\n",
      "Iteration  8. Log joint probability =    26.6558. Improved by 0.00167085.\n",
      "Iteration  9. Log joint probability =    26.6621. Improved by 0.00633762.\n",
      "Iteration 10. Log joint probability =    26.6639. Improved by 0.00183848.\n",
      "Iteration 11. Log joint probability =    26.6651. Improved by 0.00119914.\n",
      "Iteration 12. Log joint probability =    26.6653. Improved by 0.00017539.\n",
      "Iteration 13. Log joint probability =    26.6661. Improved by 0.000823882.\n",
      "Iteration 14. Log joint probability =    26.6663. Improved by 0.000145553.\n",
      "Iteration 15. Log joint probability =    26.6664. Improved by 0.000122614.\n",
      "Iteration 16. Log joint probability =    26.6666. Improved by 0.00015131.\n",
      "Iteration 17. Log joint probability =    26.6666. Improved by 6.13677e-05.\n",
      "Iteration 18. Log joint probability =    26.6666. Improved by 1.50991e-05.\n",
      "Iteration 19. Log joint probability =    26.6667. Improved by 3.72057e-05.\n",
      "Iteration 20. Log joint probability =    26.6667. Improved by 3.00592e-06.\n",
      "Iteration 21. Log joint probability =    26.6667. Improved by 2.29689e-05.\n",
      "Iteration 22. Log joint probability =    26.6667. Improved by 1.03416e-05.\n",
      "Iteration 23. Log joint probability =    26.6667. Improved by 5.20091e-08.\n",
      "Iteration 24. Log joint probability =    26.6667. Improved by 5.14422e-06.\n",
      "Iteration 25. Log joint probability =    26.6667. Improved by 1.15954e-06.\n",
      "Iteration 26. Log joint probability =    26.6667. Improved by 1.88244e-06.\n",
      "Iteration 27. Log joint probability =    26.6667. Improved by 9.79315e-07.\n",
      "Iteration 28. Log joint probability =    26.6667. Improved by 6.79078e-07.\n",
      "Iteration 29. Log joint probability =    26.6667. Improved by 5.16857e-07.\n",
      "Iteration 30. Log joint probability =    26.6667. Improved by 3.85424e-07.\n",
      "Iteration 31. Log joint probability =    26.6667. Improved by 1.24575e-07.\n",
      "Iteration 32. Log joint probability =    26.6667. Improved by 3.82517e-07.\n",
      "Iteration 33. Log joint probability =    26.6667. Improved by 9.06664e-08.\n",
      "Iteration 34. Log joint probability =    26.6667. Improved by 8.60202e-08.\n",
      "Iteration 35. Log joint probability =    26.6667. Improved by 3.19073e-08.\n",
      "Iteration 36. Log joint probability =    26.6667. Improved by 1.91925e-08.\n",
      "Iteration 37. Log joint probability =    26.6667. Improved by 2.84955e-09.\n"
     ]
    },
    {
     "name": "stderr",
     "output_type": "stream",
     "text": [
      "INFO:prophet:Disabling yearly seasonality. Run prophet with yearly_seasonality=True to override this.\n",
      "INFO:prophet:n_changepoints greater than number of observations. Using 23.\n"
     ]
    },
    {
     "name": "stdout",
     "output_type": "stream",
     "text": [
      "\n",
      "Initial log joint probability = -28.3173\n",
      "Iteration  1. Log joint probability =    16.7942. Improved by 45.1115.\n",
      "Iteration  2. Log joint probability =    22.2687. Improved by 5.47454.\n",
      "Iteration  3. Log joint probability =    22.7406. Improved by 0.471865.\n",
      "Iteration  4. Log joint probability =    23.9204. Improved by 1.17983.\n",
      "Iteration  5. Log joint probability =    23.9292. Improved by 0.00880496.\n",
      "Iteration  6. Log joint probability =    23.9313. Improved by 0.00204743.\n",
      "Iteration  7. Log joint probability =    23.9427. Improved by 0.0114688.\n",
      "Iteration  8. Log joint probability =    23.9455. Improved by 0.00279096.\n",
      "Iteration  9. Log joint probability =    24.0509. Improved by 0.105399.\n",
      "Iteration 10. Log joint probability =     24.074. Improved by 0.0230975.\n",
      "Iteration 11. Log joint probability =    24.1088. Improved by 0.0347527.\n",
      "Iteration 12. Log joint probability =    24.1143. Improved by 0.00548942.\n",
      "Iteration 13. Log joint probability =    24.1328. Improved by 0.0185591.\n",
      "Iteration 14. Log joint probability =    24.3359. Improved by 0.203114.\n",
      "Iteration 15. Log joint probability =    24.5586. Improved by 0.222661.\n",
      "Iteration 16. Log joint probability =    24.5941. Improved by 0.0355341.\n",
      "Iteration 17. Log joint probability =    24.6561. Improved by 0.0619861.\n",
      "Iteration 18. Log joint probability =    24.7135. Improved by 0.0573338.\n",
      "Iteration 19. Log joint probability =    24.7816. Improved by 0.0681734.\n",
      "Iteration 20. Log joint probability =     24.839. Improved by 0.0573787.\n",
      "Iteration 21. Log joint probability =    24.8969. Improved by 0.057897.\n",
      "Iteration 22. Log joint probability =    24.9164. Improved by 0.0195277.\n",
      "Iteration 23. Log joint probability =    24.9262. Improved by 0.00976253.\n",
      "Iteration 24. Log joint probability =    24.9736. Improved by 0.0473979.\n",
      "Iteration 25. Log joint probability =    25.0063. Improved by 0.032753.\n",
      "Iteration 26. Log joint probability =    25.0329. Improved by 0.0266082.\n",
      "Iteration 27. Log joint probability =    25.0396. Improved by 0.00665313.\n",
      "Iteration 28. Log joint probability =    25.1025. Improved by 0.0629139.\n",
      "Iteration 29. Log joint probability =    25.3396. Improved by 0.237063.\n",
      "Iteration 30. Log joint probability =    25.5641. Improved by 0.22451.\n",
      "Iteration 31. Log joint probability =    25.6947. Improved by 0.130641.\n",
      "Iteration 32. Log joint probability =     25.716. Improved by 0.021309.\n",
      "Iteration 33. Log joint probability =    25.7404. Improved by 0.0243756.\n",
      "Iteration 34. Log joint probability =    25.7502. Improved by 0.00982234.\n",
      "Iteration 35. Log joint probability =    25.8041. Improved by 0.0538578.\n",
      "Iteration 36. Log joint probability =    25.8584. Improved by 0.0543331.\n",
      "Iteration 37. Log joint probability =    25.9017. Improved by 0.0432842.\n",
      "Iteration 38. Log joint probability =    25.9102. Improved by 0.00844567.\n",
      "Iteration 39. Log joint probability =     25.911. Improved by 0.000803075.\n",
      "Iteration 40. Log joint probability =     25.912. Improved by 0.000993363.\n",
      "Iteration 41. Log joint probability =    25.9144. Improved by 0.00243755.\n",
      "Iteration 42. Log joint probability =    25.9329. Improved by 0.0184824.\n",
      "Iteration 43. Log joint probability =      25.94. Improved by 0.00708634.\n",
      "Iteration 44. Log joint probability =    25.9464. Improved by 0.00642444.\n",
      "Iteration 45. Log joint probability =     25.948. Improved by 0.00161409.\n",
      "Iteration 46. Log joint probability =    25.9529. Improved by 0.00491753.\n",
      "Iteration 47. Log joint probability =    25.9554. Improved by 0.0025322.\n",
      "Iteration 48. Log joint probability =     25.956. Improved by 0.000512206.\n",
      "Iteration 49. Log joint probability =    25.9572. Improved by 0.00125351.\n",
      "Iteration 50. Log joint probability =    25.9579. Improved by 0.000638087.\n",
      "Iteration 51. Log joint probability =     25.958. Improved by 0.000140201.\n",
      "Iteration 52. Log joint probability =    25.9584. Improved by 0.000389581.\n",
      "Iteration 53. Log joint probability =    25.9585. Improved by 0.00011702.\n",
      "Iteration 54. Log joint probability =    25.9585. Improved by 1.54228e-06.\n",
      "Iteration 55. Log joint probability =    25.9585. Improved by 9.15665e-06.\n",
      "Iteration 56. Log joint probability =    25.9586. Improved by 7.29381e-05.\n",
      "Iteration 57. Log joint probability =    25.9586. Improved by 1.55631e-05.\n",
      "Iteration 58. Log joint probability =    25.9586. Improved by 4.37531e-05.\n",
      "Iteration 59. Log joint probability =    25.9587. Improved by 2.39621e-05.\n",
      "Iteration 60. Log joint probability =    25.9587. Improved by 8.71294e-06.\n",
      "Iteration 61. Log joint probability =    25.9587. Improved by 3.82828e-06.\n",
      "Iteration 62. Log joint probability =    25.9587. Improved by 2.57777e-06.\n",
      "Iteration 63. Log joint probability =    25.9587. Improved by 1.46676e-06.\n",
      "Iteration 64. Log joint probability =    25.9587. Improved by 6.58768e-07.\n",
      "Iteration 65. Log joint probability =    25.9587. Improved by 1.0863e-06.\n",
      "Iteration 66. Log joint probability =    25.9587. Improved by 2.04352e-07.\n",
      "Iteration 67. Log joint probability =    25.9587. Improved by 5.43167e-07.\n",
      "Iteration 68. Log joint probability =    25.9587. Improved by 1.23545e-07.\n",
      "Iteration 69. Log joint probability =    25.9587. Improved by 2.78914e-07.\n",
      "Iteration 70. Log joint probability =    25.9587. Improved by 2.0292e-08.\n",
      "Iteration 71. Log joint probability =    25.9587. Improved by 1.79368e-07.\n",
      "Iteration 72. Log joint probability =    25.9587. Improved by 8.87234e-08.\n",
      "Iteration 73. Log joint probability =    25.9587. Improved by 3.72319e-08.\n",
      "Iteration 74. Log joint probability =    25.9587. Improved by 1.88523e-08.\n",
      "Iteration 75. Log joint probability =    25.9587. Improved by 9.05683e-10.\n"
     ]
    },
    {
     "name": "stderr",
     "output_type": "stream",
     "text": [
      "INFO:prophet:Disabling yearly seasonality. Run prophet with yearly_seasonality=True to override this.\n",
      "INFO:prophet:n_changepoints greater than number of observations. Using 23.\n"
     ]
    },
    {
     "name": "stdout",
     "output_type": "stream",
     "text": [
      "\n",
      "Initial log joint probability = -28.0844\n",
      "Iteration  1. Log joint probability =    12.9367. Improved by 41.0211.\n",
      "Iteration  2. Log joint probability =    35.9273. Improved by 22.9906.\n",
      "Iteration  3. Log joint probability =    36.4976. Improved by 0.570323.\n",
      "Iteration  4. Log joint probability =      37.74. Improved by 1.24238.\n",
      "Iteration  5. Log joint probability =    37.8014. Improved by 0.0613863.\n",
      "Iteration  6. Log joint probability =    37.8272. Improved by 0.0258273.\n",
      "Iteration  7. Log joint probability =    37.8651. Improved by 0.0379081.\n",
      "Iteration  8. Log joint probability =    38.1937. Improved by 0.3286.\n",
      "Iteration  9. Log joint probability =    38.1949. Improved by 0.00119131.\n",
      "Iteration 10. Log joint probability =    38.3055. Improved by 0.110587.\n",
      "Iteration 11. Log joint probability =    38.4711. Improved by 0.165565.\n",
      "Iteration 12. Log joint probability =    38.5188. Improved by 0.0477796.\n",
      "Iteration 13. Log joint probability =    38.5325. Improved by 0.0136684.\n",
      "Iteration 14. Log joint probability =     38.541. Improved by 0.00844745.\n",
      "Iteration 15. Log joint probability =    38.5519. Improved by 0.010965.\n",
      "Iteration 16. Log joint probability =    38.5559. Improved by 0.00395761.\n",
      "Iteration 17. Log joint probability =    38.5589. Improved by 0.00303249.\n",
      "Iteration 18. Log joint probability =    38.5603. Improved by 0.00136127.\n",
      "Iteration 19. Log joint probability =    38.5608. Improved by 0.000476887.\n",
      "Iteration 20. Log joint probability =    38.5608. Improved by 7.35953e-06.\n",
      "Iteration 21. Log joint probability =    38.5612. Improved by 0.000399506.\n",
      "Iteration 22. Log joint probability =    38.5613. Improved by 0.000154851.\n",
      "Iteration 23. Log joint probability =    38.5614. Improved by 6.76716e-05.\n",
      "Iteration 24. Log joint probability =    38.5614. Improved by 2.71048e-05.\n",
      "Iteration 25. Log joint probability =    38.5614. Improved by 1.03585e-06.\n",
      "Iteration 26. Log joint probability =    38.5615. Improved by 4.35408e-05.\n",
      "Iteration 27. Log joint probability =    38.5615. Improved by 4.01126e-06.\n",
      "Iteration 28. Log joint probability =    38.5615. Improved by 1.86939e-05.\n",
      "Iteration 29. Log joint probability =    38.5615. Improved by 3.68832e-06.\n",
      "Iteration 30. Log joint probability =    38.5615. Improved by 8.76686e-06.\n",
      "Iteration 31. Log joint probability =    38.5615. Improved by 1.88778e-06.\n",
      "Iteration 32. Log joint probability =    38.5615. Improved by 4.0906e-06.\n",
      "Iteration 33. Log joint probability =    38.5615. Improved by 1.65144e-06.\n",
      "Iteration 34. Log joint probability =    38.5615. Improved by 1.75377e-06.\n",
      "Iteration 35. Log joint probability =    38.5615. Improved by 7.3309e-07.\n",
      "Iteration 36. Log joint probability =    38.5615. Improved by 8.41898e-07.\n",
      "Iteration 37. Log joint probability =    38.5615. Improved by 4.37662e-07.\n",
      "Iteration 38. Log joint probability =    38.5615. Improved by 5.88276e-07.\n",
      "Iteration 39. Log joint probability =    38.5615. Improved by 3.03829e-07.\n",
      "Iteration 40. Log joint probability =    38.5615. Improved by 1.78139e-07.\n",
      "Iteration 41. Log joint probability =    38.5615. Improved by 6.45581e-08.\n",
      "Iteration 42. Log joint probability =    38.5615. Improved by 8.17123e-09.\n"
     ]
    },
    {
     "name": "stderr",
     "output_type": "stream",
     "text": [
      "INFO:prophet:Disabling yearly seasonality. Run prophet with yearly_seasonality=True to override this.\n",
      "INFO:prophet:n_changepoints greater than number of observations. Using 23.\n"
     ]
    },
    {
     "name": "stdout",
     "output_type": "stream",
     "text": [
      "\n",
      "Initial log joint probability = -29.126\n",
      "Iteration  1. Log joint probability =    14.5807. Improved by 43.7067.\n",
      "Iteration  2. Log joint probability =    16.0481. Improved by 1.46741.\n",
      "Iteration  3. Log joint probability =    24.6169. Improved by 8.56878.\n",
      "Iteration  4. Log joint probability =      26.59. Improved by 1.97313.\n",
      "Iteration  5. Log joint probability =    26.8954. Improved by 0.305433.\n",
      "Iteration  6. Log joint probability =    26.9105. Improved by 0.015088.\n",
      "Iteration  7. Log joint probability =    26.9533. Improved by 0.0427351.\n",
      "Iteration  8. Log joint probability =    27.0198. Improved by 0.0665704.\n",
      "Iteration  9. Log joint probability =    27.2056. Improved by 0.185749.\n",
      "Iteration 10. Log joint probability =    27.2202. Improved by 0.0145843.\n",
      "Iteration 11. Log joint probability =    27.3812. Improved by 0.161065.\n",
      "Iteration 12. Log joint probability =    27.3877. Improved by 0.00645123.\n",
      "Iteration 13. Log joint probability =    27.4313. Improved by 0.0436528.\n",
      "Iteration 14. Log joint probability =    27.4323. Improved by 0.00097464.\n",
      "Iteration 15. Log joint probability =    27.4368. Improved by 0.00444066.\n",
      "Iteration 16. Log joint probability =    27.4538. Improved by 0.0170066.\n",
      "Iteration 17. Log joint probability =    27.4585. Improved by 0.00477147.\n",
      "Iteration 18. Log joint probability =    27.4667. Improved by 0.008199.\n",
      "Iteration 19. Log joint probability =    27.4697. Improved by 0.00298871.\n",
      "Iteration 20. Log joint probability =     27.476. Improved by 0.00630994.\n",
      "Iteration 21. Log joint probability =    27.4768. Improved by 0.000813395.\n",
      "Iteration 22. Log joint probability =    27.4777. Improved by 0.000821742.\n",
      "Iteration 23. Log joint probability =    27.4782. Improved by 0.000572322.\n",
      "Iteration 24. Log joint probability =    27.4789. Improved by 0.000691487.\n",
      "Iteration 25. Log joint probability =    27.4795. Improved by 0.000600911.\n",
      "Iteration 26. Log joint probability =    27.4798. Improved by 0.000232362.\n",
      "Iteration 27. Log joint probability =    27.4798. Improved by 3.7387e-05.\n",
      "Iteration 28. Log joint probability =      27.48. Improved by 0.000201642.\n",
      "Iteration 29. Log joint probability =    27.4801. Improved by 5.63989e-05.\n",
      "Iteration 30. Log joint probability =    27.4801. Improved by 2.03341e-05.\n",
      "Iteration 31. Log joint probability =    27.4801. Improved by 3.83491e-05.\n",
      "Iteration 32. Log joint probability =    27.4801. Improved by 2.10059e-05.\n",
      "Iteration 33. Log joint probability =    27.4802. Improved by 1.01761e-05.\n",
      "Iteration 34. Log joint probability =    27.4802. Improved by 6.00662e-07.\n",
      "Iteration 35. Log joint probability =    27.4802. Improved by 1.53331e-06.\n",
      "Iteration 36. Log joint probability =    27.4802. Improved by 4.8728e-06.\n",
      "Iteration 37. Log joint probability =    27.4802. Improved by 9.71204e-07.\n",
      "Iteration 38. Log joint probability =    27.4802. Improved by 2.57991e-06.\n",
      "Iteration 39. Log joint probability =    27.4802. Improved by 1.02966e-06.\n",
      "Iteration 40. Log joint probability =    27.4802. Improved by 5.38301e-08.\n",
      "Iteration 41. Log joint probability =    27.4802. Improved by 8.48091e-07.\n",
      "Iteration 42. Log joint probability =    27.4802. Improved by 2.14109e-07.\n",
      "Iteration 43. Log joint probability =    27.4802. Improved by 6.44164e-10.\n"
     ]
    },
    {
     "name": "stderr",
     "output_type": "stream",
     "text": [
      "INFO:prophet:Disabling yearly seasonality. Run prophet with yearly_seasonality=True to override this.\n",
      "INFO:prophet:n_changepoints greater than number of observations. Using 23.\n"
     ]
    },
    {
     "name": "stdout",
     "output_type": "stream",
     "text": [
      "\n",
      "Initial log joint probability = -27.9926\n",
      "Iteration  1. Log joint probability =    18.4401. Improved by 46.4327.\n",
      "Iteration  2. Log joint probability =    22.7168. Improved by 4.27669.\n",
      "Iteration  3. Log joint probability =    23.4996. Improved by 0.782826.\n",
      "Iteration  4. Log joint probability =    24.5057. Improved by 1.0061.\n",
      "Iteration  5. Log joint probability =    24.5271. Improved by 0.0214334.\n",
      "Iteration  6. Log joint probability =    24.6024. Improved by 0.0752468.\n",
      "Iteration  7. Log joint probability =    24.6323. Improved by 0.029868.\n",
      "Iteration  8. Log joint probability =    24.7869. Improved by 0.154608.\n",
      "Iteration  9. Log joint probability =    24.8354. Improved by 0.0485632.\n",
      "Iteration 10. Log joint probability =     24.867. Improved by 0.0316219.\n",
      "Iteration 11. Log joint probability =    24.9034. Improved by 0.0363643.\n",
      "Iteration 12. Log joint probability =    24.9639. Improved by 0.0604702.\n",
      "Iteration 13. Log joint probability =    25.0666. Improved by 0.102732.\n",
      "Iteration 14. Log joint probability =    25.0923. Improved by 0.0256552.\n",
      "Iteration 15. Log joint probability =    25.1544. Improved by 0.0621526.\n",
      "Iteration 16. Log joint probability =     25.214. Improved by 0.0596206.\n",
      "Iteration 17. Log joint probability =    25.4275. Improved by 0.213419.\n",
      "Iteration 18. Log joint probability =    25.4978. Improved by 0.0703646.\n",
      "Iteration 19. Log joint probability =    25.6545. Improved by 0.156637.\n",
      "Iteration 20. Log joint probability =    25.7602. Improved by 0.105699.\n",
      "Iteration 21. Log joint probability =    25.8662. Improved by 0.106049.\n",
      "Iteration 22. Log joint probability =     25.895. Improved by 0.028808.\n",
      "Iteration 23. Log joint probability =    26.2383. Improved by 0.343241.\n",
      "Iteration 24. Log joint probability =    26.3964. Improved by 0.158172.\n",
      "Iteration 25. Log joint probability =    27.0419. Improved by 0.64545.\n",
      "Iteration 26. Log joint probability =     27.274. Improved by 0.232066.\n",
      "Iteration 27. Log joint probability =    27.4053. Improved by 0.131308.\n",
      "Iteration 28. Log joint probability =    28.4908. Improved by 1.08556.\n",
      "Iteration 29. Log joint probability =    28.4936. Improved by 0.00281646.\n",
      "Iteration 30. Log joint probability =    28.5104. Improved by 0.0167666.\n",
      "Iteration 31. Log joint probability =    28.5165. Improved by 0.00607635.\n",
      "Iteration 32. Log joint probability =     28.525. Improved by 0.00856175.\n",
      "Iteration 33. Log joint probability =    28.5329. Improved by 0.00783767.\n",
      "Iteration 34. Log joint probability =    28.5792. Improved by 0.0462984.\n",
      "Iteration 35. Log joint probability =    28.6359. Improved by 0.0567023.\n",
      "Iteration 36. Log joint probability =    28.6609. Improved by 0.0250563.\n",
      "Iteration 37. Log joint probability =    28.6672. Improved by 0.00626455.\n",
      "Iteration 38. Log joint probability =    28.7628. Improved by 0.0956454.\n",
      "Iteration 39. Log joint probability =    28.8143. Improved by 0.0514534.\n",
      "Iteration 40. Log joint probability =    28.9533. Improved by 0.139021.\n",
      "Iteration 41. Log joint probability =    28.9763. Improved by 0.0230102.\n",
      "Iteration 42. Log joint probability =    29.0586. Improved by 0.0822535.\n",
      "Iteration 43. Log joint probability =    29.0587. Improved by 0.000161147.\n",
      "Iteration 44. Log joint probability =    29.1103. Improved by 0.051516.\n",
      "Iteration 45. Log joint probability =    29.1709. Improved by 0.0606705.\n",
      "Iteration 46. Log joint probability =    29.2412. Improved by 0.0702471.\n",
      "Iteration 47. Log joint probability =    29.3154. Improved by 0.0741967.\n",
      "Iteration 48. Log joint probability =    29.3488. Improved by 0.0334513.\n",
      "Iteration 49. Log joint probability =    29.3658. Improved by 0.0170113.\n",
      "Iteration 50. Log joint probability =    29.3672. Improved by 0.00131744.\n",
      "Iteration 51. Log joint probability =    29.3694. Improved by 0.00225255.\n",
      "Iteration 52. Log joint probability =    29.3728. Improved by 0.00343829.\n",
      "Iteration 53. Log joint probability =    29.3822. Improved by 0.00935131.\n",
      "Iteration 54. Log joint probability =    29.3838. Improved by 0.00159811.\n",
      "Iteration 55. Log joint probability =    29.3878. Improved by 0.00398957.\n",
      "Iteration 56. Log joint probability =    29.3898. Improved by 0.00199111.\n",
      "Iteration 57. Log joint probability =    29.3924. Improved by 0.0026566.\n",
      "Iteration 58. Log joint probability =    29.3932. Improved by 0.000761064.\n",
      "Iteration 59. Log joint probability =    29.3934. Improved by 0.000186512.\n",
      "Iteration 60. Log joint probability =    29.3934. Improved by 5.72889e-05.\n",
      "Iteration 61. Log joint probability =    29.3942. Improved by 0.000724868.\n",
      "Iteration 62. Log joint probability =    29.3945. Improved by 0.000329045.\n",
      "Iteration 63. Log joint probability =    29.3946. Improved by 0.000155566.\n",
      "Iteration 64. Log joint probability =    29.3947. Improved by 2.92217e-05.\n",
      "Iteration 65. Log joint probability =    29.3947. Improved by 6.10708e-05.\n",
      "Iteration 66. Log joint probability =    29.3948. Improved by 2.6929e-05.\n",
      "Iteration 67. Log joint probability =    29.3948. Improved by 3.27354e-05.\n",
      "Iteration 68. Log joint probability =    29.3948. Improved by 7.16515e-06.\n",
      "Iteration 69. Log joint probability =    29.3948. Improved by 1.81428e-05.\n",
      "Iteration 70. Log joint probability =    29.3948. Improved by 2.6035e-06.\n",
      "Iteration 71. Log joint probability =    29.3948. Improved by 1.0399e-05.\n",
      "Iteration 72. Log joint probability =    29.3948. Improved by 3.4643e-06.\n",
      "Iteration 73. Log joint probability =    29.3948. Improved by 3.21975e-06.\n",
      "Iteration 74. Log joint probability =    29.3948. Improved by 2.15787e-06.\n",
      "Iteration 75. Log joint probability =    29.3948. Improved by 1.12001e-06.\n",
      "Iteration 76. Log joint probability =    29.3948. Improved by 4.26945e-07.\n",
      "Iteration 77. Log joint probability =    29.3948. Improved by 7.23397e-08.\n",
      "Iteration 78. Log joint probability =    29.3948. Improved by 7.52236e-08.\n",
      "Iteration 79. Log joint probability =    29.3948. Improved by 3.11497e-07.\n",
      "Iteration 80. Log joint probability =    29.3948. Improved by 5.12706e-09.\n"
     ]
    },
    {
     "name": "stderr",
     "output_type": "stream",
     "text": [
      "INFO:prophet:Disabling yearly seasonality. Run prophet with yearly_seasonality=True to override this.\n",
      "INFO:prophet:n_changepoints greater than number of observations. Using 23.\n"
     ]
    },
    {
     "name": "stdout",
     "output_type": "stream",
     "text": [
      "\n",
      "Initial log joint probability = -29.9926\n",
      "Iteration  1. Log joint probability =    10.2992. Improved by 40.2918.\n",
      "Iteration  2. Log joint probability =    14.4736. Improved by 4.17436.\n",
      "Iteration  3. Log joint probability =    14.5855. Improved by 0.111885.\n",
      "Iteration  4. Log joint probability =    14.6355. Improved by 0.0500744.\n",
      "Iteration  5. Log joint probability =    14.7467. Improved by 0.111151.\n",
      "Iteration  6. Log joint probability =    14.7728. Improved by 0.0260739.\n",
      "Iteration  7. Log joint probability =    14.7783. Improved by 0.00551282.\n",
      "Iteration  8. Log joint probability =    14.7783. Improved by 1.77145e-05.\n",
      "Iteration  9. Log joint probability =     14.779. Improved by 0.000746037.\n",
      "Iteration 10. Log joint probability =    14.7846. Improved by 0.00558714.\n",
      "Iteration 11. Log joint probability =    14.7875. Improved by 0.00288807.\n",
      "Iteration 12. Log joint probability =    14.7887. Improved by 0.00121044.\n",
      "Iteration 13. Log joint probability =    14.7894. Improved by 0.000642666.\n",
      "Iteration 14. Log joint probability =    14.7896. Improved by 0.000202636.\n",
      "Iteration 15. Log joint probability =    14.7898. Improved by 0.000195729.\n",
      "Iteration 16. Log joint probability =    14.7899. Improved by 0.00013588.\n",
      "Iteration 17. Log joint probability =      14.79. Improved by 7.81192e-05.\n",
      "Iteration 18. Log joint probability =    14.7901. Improved by 7.76839e-05.\n",
      "Iteration 19. Log joint probability =    14.7901. Improved by 5.67418e-05.\n",
      "Iteration 20. Log joint probability =    14.7902. Improved by 4.32215e-05.\n",
      "Iteration 21. Log joint probability =    14.7902. Improved by 2.05138e-05.\n",
      "Iteration 22. Log joint probability =    14.7902. Improved by 8.47482e-06.\n",
      "Iteration 23. Log joint probability =    14.7902. Improved by 3.83619e-06.\n",
      "Iteration 24. Log joint probability =    14.7902. Improved by 3.74369e-06.\n",
      "Iteration 25. Log joint probability =    14.7902. Improved by 7.16096e-07.\n",
      "Iteration 26. Log joint probability =    14.7902. Improved by 2.28797e-06.\n",
      "Iteration 27. Log joint probability =    14.7902. Improved by 3.13001e-07.\n",
      "Iteration 28. Log joint probability =    14.7902. Improved by 1.34915e-06.\n",
      "Iteration 29. Log joint probability =    14.7902. Improved by 5.56743e-07.\n",
      "Iteration 30. Log joint probability =    14.7902. Improved by 1.16769e-07.\n",
      "Iteration 31. Log joint probability =    14.7902. Improved by 2.49349e-07.\n",
      "Iteration 32. Log joint probability =    14.7902. Improved by 1.13918e-07.\n",
      "Iteration 33. Log joint probability =    14.7902. Improved by 1.6785e-07.\n",
      "Iteration 34. Log joint probability =    14.7902. Improved by 4.61449e-08.\n",
      "Iteration 35. Log joint probability =    14.7902. Improved by 4.34404e-09.\n"
     ]
    },
    {
     "name": "stderr",
     "output_type": "stream",
     "text": [
      "INFO:prophet:Disabling yearly seasonality. Run prophet with yearly_seasonality=True to override this.\n",
      "INFO:prophet:n_changepoints greater than number of observations. Using 23.\n"
     ]
    },
    {
     "name": "stdout",
     "output_type": "stream",
     "text": [
      "\n",
      "Initial log joint probability = -29.1922\n",
      "Iteration  1. Log joint probability =    13.9219. Improved by 43.1142.\n",
      "Iteration  2. Log joint probability =    20.5144. Improved by 6.5925.\n",
      "Iteration  3. Log joint probability =    21.0853. Improved by 0.570908.\n",
      "Iteration  4. Log joint probability =    21.3995. Improved by 0.314171.\n",
      "Iteration  5. Log joint probability =    21.5076. Improved by 0.108082.\n",
      "Iteration  6. Log joint probability =    21.5189. Improved by 0.0112849.\n",
      "Iteration  7. Log joint probability =    21.5316. Improved by 0.0126667.\n",
      "Iteration  8. Log joint probability =    21.5873. Improved by 0.055761.\n",
      "Iteration  9. Log joint probability =    21.6654. Improved by 0.0781096.\n",
      "Iteration 10. Log joint probability =    21.8494. Improved by 0.183977.\n",
      "Iteration 11. Log joint probability =    21.8738. Improved by 0.0244246.\n",
      "Iteration 12. Log joint probability =    21.9212. Improved by 0.0473791.\n",
      "Iteration 13. Log joint probability =    21.9657. Improved by 0.0445387.\n",
      "Iteration 14. Log joint probability =    22.0068. Improved by 0.0410382.\n",
      "Iteration 15. Log joint probability =    22.0177. Improved by 0.0108843.\n",
      "Iteration 16. Log joint probability =    22.0243. Improved by 0.00658797.\n",
      "Iteration 17. Log joint probability =    22.0312. Improved by 0.00695079.\n",
      "Iteration 18. Log joint probability =    22.0328. Improved by 0.00158464.\n",
      "Iteration 19. Log joint probability =    22.0344. Improved by 0.00164747.\n",
      "Iteration 20. Log joint probability =    22.0363. Improved by 0.00182314.\n",
      "Iteration 21. Log joint probability =    22.0369. Improved by 0.000670358.\n",
      "Iteration 22. Log joint probability =     22.038. Improved by 0.00110757.\n",
      "Iteration 23. Log joint probability =    22.0388. Improved by 0.000716485.\n",
      "Iteration 24. Log joint probability =    22.0391. Improved by 0.000307327.\n",
      "Iteration 25. Log joint probability =    22.0392. Improved by 0.000113041.\n",
      "Iteration 26. Log joint probability =    22.0393. Improved by 0.000108121.\n",
      "Iteration 27. Log joint probability =    22.0393. Improved by 3.80281e-05.\n",
      "Iteration 28. Log joint probability =    22.0394. Improved by 5.43124e-05.\n",
      "Iteration 29. Log joint probability =    22.0394. Improved by 3.02819e-05.\n",
      "Iteration 30. Log joint probability =    22.0394. Improved by 3.06531e-05.\n",
      "Iteration 31. Log joint probability =    22.0395. Improved by 2.82933e-05.\n",
      "Iteration 32. Log joint probability =    22.0395. Improved by 8.19048e-06.\n",
      "Iteration 33. Log joint probability =    22.0395. Improved by 3.88443e-06.\n",
      "Iteration 34. Log joint probability =    22.0395. Improved by 1.07806e-06.\n",
      "Iteration 35. Log joint probability =    22.0395. Improved by 1.80944e-06.\n",
      "Iteration 36. Log joint probability =    22.0395. Improved by 8.90584e-07.\n",
      "Iteration 37. Log joint probability =    22.0395. Improved by 8.62873e-07.\n",
      "Iteration 38. Log joint probability =    22.0395. Improved by 1.63989e-07.\n",
      "Iteration 39. Log joint probability =    22.0395. Improved by 6.27144e-07.\n",
      "Iteration 40. Log joint probability =    22.0395. Improved by 3.9434e-07.\n",
      "Iteration 41. Log joint probability =    22.0395. Improved by 1.6382e-07.\n",
      "Iteration 42. Log joint probability =    22.0395. Improved by 6.41338e-08.\n",
      "Iteration 43. Log joint probability =    22.0395. Improved by 3.67959e-09.\n"
     ]
    },
    {
     "name": "stderr",
     "output_type": "stream",
     "text": [
      "INFO:prophet:Disabling yearly seasonality. Run prophet with yearly_seasonality=True to override this.\n",
      "INFO:prophet:n_changepoints greater than number of observations. Using 23.\n"
     ]
    },
    {
     "name": "stdout",
     "output_type": "stream",
     "text": [
      "\n",
      "Initial log joint probability = -28.7667\n",
      "Iteration  1. Log joint probability =    16.0695. Improved by 44.8362.\n",
      "Iteration  2. Log joint probability =    23.8855. Improved by 7.81596.\n",
      "Iteration  3. Log joint probability =     24.376. Improved by 0.490465.\n",
      "Iteration  4. Log joint probability =    24.6325. Improved by 0.256569.\n",
      "Iteration  5. Log joint probability =    24.6471. Improved by 0.0145633.\n",
      "Iteration  6. Log joint probability =    24.6697. Improved by 0.0226444.\n",
      "Iteration  7. Log joint probability =    24.6773. Improved by 0.00758967.\n",
      "Iteration  8. Log joint probability =    24.6825. Improved by 0.00518786.\n",
      "Iteration  9. Log joint probability =    24.6828. Improved by 0.000307155.\n",
      "Iteration 10. Log joint probability =     24.686. Improved by 0.00318481.\n",
      "Iteration 11. Log joint probability =     24.687. Improved by 0.000977587.\n",
      "Iteration 12. Log joint probability =    24.6871. Improved by 7.7683e-05.\n",
      "Iteration 13. Log joint probability =    24.6877. Improved by 0.000623101.\n",
      "Iteration 14. Log joint probability =    24.6878. Improved by 0.000121659.\n",
      "Iteration 15. Log joint probability =    24.6881. Improved by 0.000305199.\n",
      "Iteration 16. Log joint probability =    24.6883. Improved by 0.000186601.\n",
      "Iteration 17. Log joint probability =    24.6884. Improved by 9.09074e-05.\n",
      "Iteration 18. Log joint probability =    24.6884. Improved by 4.04032e-05.\n",
      "Iteration 19. Log joint probability =    24.6884. Improved by 3.85573e-06.\n",
      "Iteration 20. Log joint probability =    24.6884. Improved by 6.78286e-07.\n",
      "Iteration 21. Log joint probability =    24.6885. Improved by 2.24979e-05.\n",
      "Iteration 22. Log joint probability =    24.6885. Improved by 8.24123e-06.\n",
      "Iteration 23. Log joint probability =    24.6885. Improved by 5.56023e-06.\n",
      "Iteration 24. Log joint probability =    24.6885. Improved by 3.45541e-06.\n",
      "Iteration 25. Log joint probability =    24.6885. Improved by 2.22244e-06.\n",
      "Iteration 26. Log joint probability =    24.6885. Improved by 4.38958e-07.\n",
      "Iteration 27. Log joint probability =    24.6885. Improved by 1.18856e-06.\n",
      "Iteration 28. Log joint probability =    24.6885. Improved by 6.13186e-08.\n",
      "Iteration 29. Log joint probability =    24.6885. Improved by 6.29295e-07.\n",
      "Iteration 30. Log joint probability =    24.6885. Improved by 1.10694e-07.\n",
      "Iteration 31. Log joint probability =    24.6885. Improved by 2.91661e-07.\n",
      "Iteration 32. Log joint probability =    24.6885. Improved by 1.09649e-08.\n",
      "Iteration 33. Log joint probability =    24.6885. Improved by 1.48863e-07.\n",
      "Iteration 34. Log joint probability =    24.6885. Improved by 5.13614e-08.\n",
      "Iteration 35. Log joint probability =    24.6885. Improved by 7.9982e-08.\n",
      "Iteration 36. Log joint probability =    24.6885. Improved by 3.47213e-08.\n",
      "Iteration 37. Log joint probability =    24.6885. Improved by 1.862e-08.\n",
      "Iteration 38. Log joint probability =    24.6885. Improved by 1.17614e-08.\n",
      "Iteration 39. Log joint probability =    24.6885. Improved by 2.33913e-09.\n"
     ]
    },
    {
     "name": "stderr",
     "output_type": "stream",
     "text": [
      "INFO:prophet:Disabling yearly seasonality. Run prophet with yearly_seasonality=True to override this.\n",
      "INFO:prophet:n_changepoints greater than number of observations. Using 23.\n"
     ]
    },
    {
     "name": "stdout",
     "output_type": "stream",
     "text": [
      "\n",
      "Initial log joint probability = -28.1818\n",
      "Iteration  1. Log joint probability =   0.304054. Improved by 28.4858.\n",
      "Iteration  2. Log joint probability =    16.9718. Improved by 16.6678.\n",
      "Iteration  3. Log joint probability =     18.993. Improved by 2.02116.\n",
      "Iteration  4. Log joint probability =    19.0375. Improved by 0.0444676.\n",
      "Iteration  5. Log joint probability =    19.0651. Improved by 0.0276299.\n",
      "Iteration  6. Log joint probability =    19.0771. Improved by 0.0119666.\n",
      "Iteration  7. Log joint probability =    19.0956. Improved by 0.0185729.\n",
      "Iteration  8. Log joint probability =    19.1358. Improved by 0.0401202.\n",
      "Iteration  9. Log joint probability =     19.261. Improved by 0.125202.\n",
      "Iteration 10. Log joint probability =    19.2772. Improved by 0.0162801.\n",
      "Iteration 11. Log joint probability =    19.3666. Improved by 0.0893138.\n",
      "Iteration 12. Log joint probability =    19.4313. Improved by 0.0647567.\n",
      "Iteration 13. Log joint probability =    19.4468. Improved by 0.015488.\n",
      "Iteration 14. Log joint probability =    19.5543. Improved by 0.10751.\n",
      "Iteration 15. Log joint probability =    19.7855. Improved by 0.231238.\n",
      "Iteration 16. Log joint probability =    19.8474. Improved by 0.0618587.\n",
      "Iteration 17. Log joint probability =     19.915. Improved by 0.0676312.\n",
      "Iteration 18. Log joint probability =    19.9381. Improved by 0.0230428.\n",
      "Iteration 19. Log joint probability =     19.969. Improved by 0.0309197.\n",
      "Iteration 20. Log joint probability =    19.9917. Improved by 0.0227243.\n",
      "Iteration 21. Log joint probability =    21.5217. Improved by 1.53.\n",
      "Iteration 22. Log joint probability =    21.5333. Improved by 0.0115532.\n",
      "Iteration 23. Log joint probability =    21.5782. Improved by 0.0448716.\n",
      "Iteration 24. Log joint probability =    24.5551. Improved by 2.97692.\n",
      "Iteration 25. Log joint probability =    24.9165. Improved by 0.361463.\n",
      "Iteration 26. Log joint probability =    25.1115. Improved by 0.195.\n",
      "Iteration 27. Log joint probability =    25.1499. Improved by 0.038372.\n",
      "Iteration 28. Log joint probability =    25.1549. Improved by 0.00497271.\n",
      "Iteration 29. Log joint probability =    25.2938. Improved by 0.138948.\n",
      "Iteration 30. Log joint probability =    25.5637. Improved by 0.269892.\n",
      "Iteration 31. Log joint probability =    25.5876. Improved by 0.0238971.\n",
      "Iteration 32. Log joint probability =    25.6374. Improved by 0.0497388.\n",
      "Iteration 33. Log joint probability =    26.0665. Improved by 0.429098.\n",
      "Iteration 34. Log joint probability =    26.2054. Improved by 0.138985.\n",
      "Iteration 35. Log joint probability =    26.2401. Improved by 0.0346688.\n",
      "Iteration 36. Log joint probability =    26.2867. Improved by 0.0466393.\n",
      "Iteration 37. Log joint probability =    26.3116. Improved by 0.0248781.\n",
      "Iteration 38. Log joint probability =    26.3362. Improved by 0.024565.\n",
      "Iteration 39. Log joint probability =    26.3756. Improved by 0.0393778.\n",
      "Iteration 40. Log joint probability =    26.5431. Improved by 0.167581.\n",
      "Iteration 41. Log joint probability =     26.552. Improved by 0.00883405.\n",
      "Iteration 42. Log joint probability =    26.5563. Improved by 0.0043604.\n",
      "Iteration 43. Log joint probability =    26.5747. Improved by 0.0183482.\n",
      "Iteration 44. Log joint probability =    26.5791. Improved by 0.00442227.\n",
      "Iteration 45. Log joint probability =    26.5911. Improved by 0.0120085.\n",
      "Iteration 46. Log joint probability =    26.5944. Improved by 0.0032466.\n",
      "Iteration 47. Log joint probability =    26.5953. Improved by 0.000911956.\n",
      "Iteration 48. Log joint probability =    26.5984. Improved by 0.00310762.\n",
      "Iteration 49. Log joint probability =    26.5992. Improved by 0.000849359.\n",
      "Iteration 50. Log joint probability =    26.5997. Improved by 0.000430135.\n",
      "Iteration 51. Log joint probability =    26.6001. Improved by 0.000469879.\n",
      "Iteration 52. Log joint probability =    26.6003. Improved by 0.000189988.\n",
      "Iteration 53. Log joint probability =    26.6003. Improved by 3.07167e-06.\n",
      "Iteration 54. Log joint probability =    26.6004. Improved by 3.73784e-05.\n",
      "Iteration 55. Log joint probability =    26.6006. Improved by 0.000192211.\n",
      "Iteration 56. Log joint probability =    26.6006. Improved by 4.282e-05.\n",
      "Iteration 57. Log joint probability =    26.6006. Improved by 3.88621e-05.\n",
      "Iteration 58. Log joint probability =    26.6006. Improved by 6.31293e-06.\n",
      "Iteration 59. Log joint probability =    26.6007. Improved by 2.88831e-05.\n",
      "Iteration 60. Log joint probability =    26.6007. Improved by 8.37315e-06.\n",
      "Iteration 61. Log joint probability =    26.6007. Improved by 1.23067e-06.\n",
      "Iteration 62. Log joint probability =    26.6007. Improved by 8.78446e-07.\n",
      "Iteration 63. Log joint probability =    26.6007. Improved by 1.01505e-05.\n",
      "Iteration 64. Log joint probability =    26.6007. Improved by 5.25096e-06.\n",
      "Iteration 65. Log joint probability =    26.6007. Improved by 1.13838e-06.\n",
      "Iteration 66. Log joint probability =    26.6007. Improved by 1.97333e-06.\n",
      "Iteration 67. Log joint probability =    26.6007. Improved by 8.85068e-07.\n",
      "Iteration 68. Log joint probability =    26.6007. Improved by 1.05419e-06.\n",
      "Iteration 69. Log joint probability =    26.6007. Improved by 8.52159e-09.\n"
     ]
    },
    {
     "name": "stderr",
     "output_type": "stream",
     "text": [
      "INFO:prophet:Disabling yearly seasonality. Run prophet with yearly_seasonality=True to override this.\n",
      "INFO:prophet:n_changepoints greater than number of observations. Using 23.\n"
     ]
    },
    {
     "name": "stdout",
     "output_type": "stream",
     "text": [
      "\n",
      "Initial log joint probability = -28.4859\n",
      "Iteration  1. Log joint probability =    17.6421. Improved by 46.128.\n",
      "Iteration  2. Log joint probability =    32.7854. Improved by 15.1434.\n",
      "Iteration  3. Log joint probability =    36.4419. Improved by 3.65648.\n",
      "Iteration  4. Log joint probability =    36.5802. Improved by 0.138301.\n",
      "Iteration  5. Log joint probability =    36.5912. Improved by 0.0109579.\n",
      "Iteration  6. Log joint probability =    36.5921. Improved by 0.000918807.\n",
      "Iteration  7. Log joint probability =    36.5931. Improved by 0.000992113.\n",
      "Iteration  8. Log joint probability =    36.5989. Improved by 0.00577854.\n",
      "Iteration  9. Log joint probability =    36.6011. Improved by 0.00222826.\n",
      "Iteration 10. Log joint probability =    36.6016. Improved by 0.000511683.\n",
      "Iteration 11. Log joint probability =     36.603. Improved by 0.00135316.\n",
      "Iteration 12. Log joint probability =     36.603. Improved by 2.16429e-05.\n",
      "Iteration 13. Log joint probability =     36.603. Improved by 5.9478e-05.\n",
      "Iteration 14. Log joint probability =    36.6031. Improved by 9.63626e-06.\n",
      "Iteration 15. Log joint probability =    36.6032. Improved by 0.000107178.\n",
      "Iteration 16. Log joint probability =    36.6038. Improved by 0.000601177.\n",
      "Iteration 17. Log joint probability =    36.6039. Improved by 0.000182701.\n",
      "Iteration 18. Log joint probability =    36.6043. Improved by 0.000354182.\n",
      "Iteration 19. Log joint probability =    36.6044. Improved by 0.000147386.\n",
      "Iteration 20. Log joint probability =    36.6045. Improved by 6.88078e-05.\n",
      "Iteration 21. Log joint probability =    36.6045. Improved by 3.2376e-06.\n",
      "Iteration 22. Log joint probability =    36.6045. Improved by 4.44279e-06.\n",
      "Iteration 23. Log joint probability =    36.6046. Improved by 3.59164e-05.\n",
      "Iteration 24. Log joint probability =    36.6046. Improved by 1.43554e-05.\n",
      "Iteration 25. Log joint probability =    36.6046. Improved by 1.72162e-05.\n",
      "Iteration 26. Log joint probability =    36.6046. Improved by 4.35139e-07.\n",
      "Iteration 27. Log joint probability =    36.6046. Improved by 1.07136e-06.\n",
      "Iteration 28. Log joint probability =    36.6046. Improved by 1.06272e-05.\n",
      "Iteration 29. Log joint probability =    36.6046. Improved by 2.11592e-06.\n",
      "Iteration 30. Log joint probability =    36.6046. Improved by 5.52637e-06.\n",
      "Iteration 31. Log joint probability =    36.6046. Improved by 1.98358e-06.\n",
      "Iteration 32. Log joint probability =    36.6046. Improved by 1.05556e-06.\n",
      "Iteration 33. Log joint probability =    36.6046. Improved by 7.1257e-07.\n",
      "Iteration 34. Log joint probability =    36.6046. Improved by 3.76597e-07.\n",
      "Iteration 35. Log joint probability =    36.6046. Improved by 2.28763e-07.\n",
      "Iteration 36. Log joint probability =    36.6046. Improved by 1.99451e-07.\n",
      "Iteration 37. Log joint probability =    36.6046. Improved by 9.7458e-08.\n",
      "Iteration 38. Log joint probability =    36.6046. Improved by 1.08734e-07.\n",
      "Iteration 39. Log joint probability =    36.6046. Improved by 6.25432e-08.\n",
      "Iteration 40. Log joint probability =    36.6046. Improved by 7.78834e-08.\n",
      "Iteration 41. Log joint probability =    36.6046. Improved by 4.07543e-08.\n",
      "Iteration 42. Log joint probability =    36.6046. Improved by 1.77304e-08.\n",
      "Iteration 43. Log joint probability =    36.6046. Improved by 1.67687e-09.\n"
     ]
    },
    {
     "name": "stderr",
     "output_type": "stream",
     "text": [
      "INFO:prophet:Disabling yearly seasonality. Run prophet with yearly_seasonality=True to override this.\n",
      "INFO:prophet:n_changepoints greater than number of observations. Using 23.\n"
     ]
    },
    {
     "name": "stdout",
     "output_type": "stream",
     "text": [
      "\n",
      "Initial log joint probability = -27.9886\n",
      "Iteration  1. Log joint probability =    18.9673. Improved by 46.9559.\n",
      "Iteration  2. Log joint probability =    28.4678. Improved by 9.50048.\n",
      "Iteration  3. Log joint probability =    29.6807. Improved by 1.21286.\n",
      "Iteration  4. Log joint probability =    29.7186. Improved by 0.0378728.\n",
      "Iteration  5. Log joint probability =     29.918. Improved by 0.199462.\n",
      "Iteration  6. Log joint probability =    30.0049. Improved by 0.0868545.\n",
      "Iteration  7. Log joint probability =    30.0463. Improved by 0.0414426.\n",
      "Iteration  8. Log joint probability =    30.0478. Improved by 0.0015338.\n",
      "Iteration  9. Log joint probability =    30.0873. Improved by 0.0394617.\n",
      "Iteration 10. Log joint probability =    30.0898. Improved by 0.00252272.\n",
      "Iteration 11. Log joint probability =    30.1069. Improved by 0.0170595.\n",
      "Iteration 12. Log joint probability =    30.1128. Improved by 0.00593432.\n",
      "Iteration 13. Log joint probability =    30.1184. Improved by 0.00557377.\n",
      "Iteration 14. Log joint probability =     30.124. Improved by 0.00557968.\n",
      "Iteration 15. Log joint probability =    30.1286. Improved by 0.00464851.\n",
      "Iteration 16. Log joint probability =    30.1307. Improved by 0.00204093.\n",
      "Iteration 17. Log joint probability =    30.1321. Improved by 0.00140443.\n",
      "Iteration 18. Log joint probability =    30.1325. Improved by 0.000456964.\n",
      "Iteration 19. Log joint probability =    30.1325. Improved by 2.32726e-05.\n",
      "Iteration 20. Log joint probability =    30.1327. Improved by 0.000144735.\n",
      "Iteration 21. Log joint probability =    30.1333. Improved by 0.000650849.\n",
      "Iteration 22. Log joint probability =    30.1336. Improved by 0.000294593.\n",
      "Iteration 23. Log joint probability =    30.1337. Improved by 5.38143e-05.\n",
      "Iteration 24. Log joint probability =    30.1339. Improved by 0.000178742.\n",
      "Iteration 25. Log joint probability =     30.134. Improved by 8.12304e-05.\n",
      "Iteration 26. Log joint probability =     30.134. Improved by 2.15694e-06.\n",
      "Iteration 27. Log joint probability =     30.134. Improved by 4.51982e-05.\n",
      "Iteration 28. Log joint probability =     30.134. Improved by 1.99543e-05.\n",
      "Iteration 29. Log joint probability =     30.134. Improved by 2.47042e-06.\n",
      "Iteration 30. Log joint probability =     30.134. Improved by 9.59485e-06.\n",
      "Iteration 31. Log joint probability =     30.134. Improved by 2.53445e-06.\n",
      "Iteration 32. Log joint probability =     30.134. Improved by 3.99439e-06.\n",
      "Iteration 33. Log joint probability =     30.134. Improved by 8.09396e-07.\n",
      "Iteration 34. Log joint probability =     30.134. Improved by 2.32482e-06.\n",
      "Iteration 35. Log joint probability =     30.134. Improved by 1.23216e-06.\n",
      "Iteration 36. Log joint probability =     30.134. Improved by 1.78279e-07.\n",
      "Iteration 37. Log joint probability =     30.134. Improved by 4.44224e-07.\n",
      "Iteration 38. Log joint probability =     30.134. Improved by 5.04446e-07.\n",
      "Iteration 39. Log joint probability =     30.134. Improved by 3.41471e-07.\n",
      "Iteration 40. Log joint probability =     30.134. Improved by 1.05958e-07.\n",
      "Iteration 41. Log joint probability =     30.134. Improved by 3.10138e-08.\n",
      "Iteration 42. Log joint probability =     30.134. Improved by 6.57502e-09.\n"
     ]
    },
    {
     "name": "stderr",
     "output_type": "stream",
     "text": [
      "INFO:prophet:Disabling yearly seasonality. Run prophet with yearly_seasonality=True to override this.\n",
      "INFO:prophet:n_changepoints greater than number of observations. Using 23.\n",
      "INFO:prophet:Disabling yearly seasonality. Run prophet with yearly_seasonality=True to override this.\n",
      "INFO:prophet:n_changepoints greater than number of observations. Using 23.\n"
     ]
    },
    {
     "name": "stdout",
     "output_type": "stream",
     "text": [
      "\n",
      "Initial log joint probability = -28.766\n",
      "Iteration  1. Log joint probability =    15.8803. Improved by 44.6463.\n",
      "Iteration  2. Log joint probability =    20.2104. Improved by 4.33006.\n",
      "Iteration  3. Log joint probability =    22.8264. Improved by 2.61606.\n",
      "Iteration  4. Log joint probability =    23.2092. Improved by 0.38281.\n",
      "Iteration  5. Log joint probability =    23.2568. Improved by 0.0475471.\n",
      "Iteration  6. Log joint probability =    23.2808. Improved by 0.0239849.\n",
      "Iteration  7. Log joint probability =    23.2884. Improved by 0.0076737.\n",
      "Iteration  8. Log joint probability =    23.3009. Improved by 0.0124823.\n",
      "Iteration  9. Log joint probability =     23.323. Improved by 0.0220701.\n",
      "Iteration 10. Log joint probability =    23.4715. Improved by 0.148554.\n",
      "Iteration 11. Log joint probability =    23.5881. Improved by 0.116518.\n",
      "Iteration 12. Log joint probability =    23.7107. Improved by 0.122685.\n",
      "Iteration 13. Log joint probability =     23.804. Improved by 0.0932946.\n",
      "Iteration 14. Log joint probability =    23.8256. Improved by 0.0215838.\n",
      "Iteration 15. Log joint probability =    23.9135. Improved by 0.0878359.\n",
      "Iteration 16. Log joint probability =    23.9664. Improved by 0.0529098.\n",
      "Iteration 17. Log joint probability =    24.3984. Improved by 0.432054.\n",
      "Iteration 18. Log joint probability =     24.639. Improved by 0.240578.\n",
      "Iteration 19. Log joint probability =    24.6923. Improved by 0.0533222.\n",
      "Iteration 20. Log joint probability =    24.7808. Improved by 0.0885082.\n",
      "Iteration 21. Log joint probability =    24.7873. Improved by 0.006423.\n",
      "Iteration 22. Log joint probability =    24.8054. Improved by 0.0181887.\n",
      "Iteration 23. Log joint probability =    24.8243. Improved by 0.0188287.\n",
      "Iteration 24. Log joint probability =    24.8325. Improved by 0.00827976.\n",
      "Iteration 25. Log joint probability =    24.8341. Improved by 0.00155812.\n",
      "Iteration 26. Log joint probability =     24.839. Improved by 0.00494201.\n",
      "Iteration 27. Log joint probability =    24.8403. Improved by 0.00121913.\n",
      "Iteration 28. Log joint probability =    24.8431. Improved by 0.00287492.\n",
      "Iteration 29. Log joint probability =    24.8441. Improved by 0.000966677.\n",
      "Iteration 30. Log joint probability =    24.8441. Improved by 1.92494e-05.\n",
      "Iteration 31. Log joint probability =    24.8443. Improved by 0.000141428.\n",
      "Iteration 32. Log joint probability =    24.8451. Improved by 0.000791661.\n",
      "Iteration 33. Log joint probability =    24.8453. Improved by 0.000226111.\n",
      "Iteration 34. Log joint probability =    24.8453. Improved by 4.03199e-05.\n",
      "Iteration 35. Log joint probability =    24.8455. Improved by 0.00017443.\n",
      "Iteration 36. Log joint probability =    24.8456. Improved by 0.000113501.\n",
      "Iteration 37. Log joint probability =    24.8456. Improved by 1.16233e-05.\n",
      "Iteration 38. Log joint probability =    24.8456. Improved by 1.92432e-05.\n",
      "Iteration 39. Log joint probability =    24.8457. Improved by 1.25153e-05.\n",
      "Iteration 40. Log joint probability =    24.8457. Improved by 4.16949e-06.\n",
      "Iteration 41. Log joint probability =    24.8457. Improved by 9.7018e-06.\n",
      "Iteration 42. Log joint probability =    24.8457. Improved by 8.9302e-07.\n",
      "Iteration 43. Log joint probability =    24.8457. Improved by 4.79951e-06.\n",
      "Iteration 44. Log joint probability =    24.8457. Improved by 7.99081e-07.\n",
      "Iteration 45. Log joint probability =    24.8457. Improved by 2.71247e-06.\n",
      "Iteration 46. Log joint probability =    24.8457. Improved by 1.4426e-06.\n",
      "Iteration 47. Log joint probability =    24.8457. Improved by 7.50251e-07.\n",
      "Iteration 48. Log joint probability =    24.8457. Improved by 3.04772e-07.\n",
      "Iteration 49. Log joint probability =    24.8457. Improved by 1.01079e-07.\n",
      "Iteration 50. Log joint probability =    24.8457. Improved by 5.22097e-08.\n",
      "Iteration 51. Log joint probability =    24.8457. Improved by 1.03447e-08.\n",
      "Iteration 52. Log joint probability =    24.8457. Improved by 9.19468e-08.\n",
      "Iteration 53. Log joint probability =    24.8457. Improved by 4.30287e-08.\n",
      "Iteration 54. Log joint probability =    24.8457. Improved by 1.40151e-09.\n"
     ]
    },
    {
     "name": "stderr",
     "output_type": "stream",
     "text": [
      "INFO:prophet:Disabling yearly seasonality. Run prophet with yearly_seasonality=True to override this.\n",
      "INFO:prophet:n_changepoints greater than number of observations. Using 23.\n"
     ]
    },
    {
     "name": "stdout",
     "output_type": "stream",
     "text": [
      "\n",
      "Initial log joint probability = -31.4464\n",
      "Iteration  1. Log joint probability =    8.18532. Improved by 39.6317.\n",
      "Iteration  2. Log joint probability =    10.4855. Improved by 2.30018.\n",
      "Iteration  3. Log joint probability =    12.7065. Improved by 2.22096.\n",
      "Iteration  4. Log joint probability =    13.4266. Improved by 0.720166.\n",
      "Iteration  5. Log joint probability =    13.4343. Improved by 0.00769364.\n",
      "Iteration  6. Log joint probability =     13.443. Improved by 0.00867567.\n",
      "Iteration  7. Log joint probability =    13.4489. Improved by 0.0058904.\n",
      "Iteration  8. Log joint probability =    13.4524. Improved by 0.00347628.\n",
      "Iteration  9. Log joint probability =     13.456. Improved by 0.00367742.\n",
      "Iteration 10. Log joint probability =    13.4574. Improved by 0.00139582.\n",
      "Iteration 11. Log joint probability =    13.4596. Improved by 0.00217272.\n",
      "Iteration 12. Log joint probability =      13.46. Improved by 0.000393729.\n",
      "Iteration 13. Log joint probability =    13.4615. Improved by 0.00147677.\n",
      "Iteration 14. Log joint probability =    13.4621. Improved by 0.000623135.\n",
      "Iteration 15. Log joint probability =    13.4625. Improved by 0.00039635.\n",
      "Iteration 16. Log joint probability =    13.4627. Improved by 0.00016522.\n",
      "Iteration 17. Log joint probability =    13.4628. Improved by 9.81977e-05.\n",
      "Iteration 18. Log joint probability =    13.4628. Improved by 3.29546e-05.\n",
      "Iteration 19. Log joint probability =    13.4628. Improved by 1.32327e-06.\n",
      "Iteration 20. Log joint probability =    13.4628. Improved by 2.23029e-05.\n",
      "Iteration 21. Log joint probability =    13.4628. Improved by 4.76949e-07.\n",
      "Iteration 22. Log joint probability =    13.4628. Improved by 7.67812e-07.\n",
      "Iteration 23. Log joint probability =    13.4628. Improved by 8.19636e-06.\n",
      "Iteration 24. Log joint probability =    13.4628. Improved by 5.65414e-06.\n",
      "Iteration 25. Log joint probability =    13.4628. Improved by 2.19045e-06.\n",
      "Iteration 26. Log joint probability =    13.4628. Improved by 1.79662e-06.\n",
      "Iteration 27. Log joint probability =    13.4628. Improved by 2.18458e-06.\n",
      "Iteration 28. Log joint probability =    13.4628. Improved by 1.19244e-06.\n",
      "Iteration 29. Log joint probability =    13.4628. Improved by 9.49698e-08.\n",
      "Iteration 30. Log joint probability =    13.4628. Improved by 5.77386e-07.\n",
      "Iteration 31. Log joint probability =    13.4628. Improved by 2.19838e-07.\n",
      "Iteration 32. Log joint probability =    13.4628. Improved by 3.23688e-07.\n",
      "Iteration 33. Log joint probability =    13.4628. Improved by 1.15939e-07.\n",
      "Iteration 34. Log joint probability =    13.4628. Improved by 1.48746e-08.\n",
      "Iteration 35. Log joint probability =    13.4628. Improved by 6.79273e-08.\n",
      "Iteration 36. Log joint probability =    13.4628. Improved by 2.8797e-08.\n",
      "Iteration 37. Log joint probability =    13.4628. Improved by 4.27005e-08.\n",
      "Iteration 38. Log joint probability =    13.4628. Improved by 7.79131e-09.\n"
     ]
    },
    {
     "name": "stderr",
     "output_type": "stream",
     "text": [
      "INFO:prophet:Disabling yearly seasonality. Run prophet with yearly_seasonality=True to override this.\n",
      "INFO:prophet:n_changepoints greater than number of observations. Using 23.\n"
     ]
    },
    {
     "name": "stdout",
     "output_type": "stream",
     "text": [
      "\n",
      "Initial log joint probability = -31.1715\n",
      "Iteration  1. Log joint probability =    16.3531. Improved by 47.5245.\n",
      "Iteration  2. Log joint probability =    29.5925. Improved by 13.2395.\n",
      "Iteration  3. Log joint probability =     36.052. Improved by 6.45952.\n",
      "Iteration  4. Log joint probability =    36.3091. Improved by 0.257025.\n",
      "Iteration  5. Log joint probability =    36.3231. Improved by 0.0139933.\n",
      "Iteration  6. Log joint probability =    36.4342. Improved by 0.111143.\n",
      "Iteration  7. Log joint probability =    36.4694. Improved by 0.0352327.\n",
      "Iteration  8. Log joint probability =    36.6095. Improved by 0.140102.\n",
      "Iteration  9. Log joint probability =    36.6105. Improved by 0.000964034.\n",
      "Iteration 10. Log joint probability =    36.6151. Improved by 0.00462052.\n",
      "Iteration 11. Log joint probability =    36.6173. Improved by 0.00213868.\n",
      "Iteration 12. Log joint probability =    36.6339. Improved by 0.0166287.\n",
      "Iteration 13. Log joint probability =    36.6403. Improved by 0.00636347.\n",
      "Iteration 14. Log joint probability =     36.649. Improved by 0.00874663.\n",
      "Iteration 15. Log joint probability =    36.6523. Improved by 0.00331087.\n",
      "Iteration 16. Log joint probability =    36.6554. Improved by 0.00309458.\n",
      "Iteration 17. Log joint probability =    36.6568. Improved by 0.00140232.\n",
      "Iteration 18. Log joint probability =    36.6578. Improved by 0.00103906.\n",
      "Iteration 19. Log joint probability =    36.6589. Improved by 0.00100572.\n",
      "Iteration 20. Log joint probability =    36.6591. Improved by 0.000274752.\n",
      "Iteration 21. Log joint probability =    36.6598. Improved by 0.000683239.\n",
      "Iteration 22. Log joint probability =      36.66. Improved by 0.000225079.\n",
      "Iteration 23. Log joint probability =    36.6601. Improved by 3.22446e-05.\n",
      "Iteration 24. Log joint probability =    36.6601. Improved by 1.68058e-05.\n",
      "Iteration 25. Log joint probability =    36.6602. Improved by 0.000151993.\n",
      "Iteration 26. Log joint probability =    36.6603. Improved by 1.34565e-05.\n",
      "Iteration 27. Log joint probability =    36.6603. Improved by 1.67367e-05.\n",
      "Iteration 28. Log joint probability =    36.6603. Improved by 4.68445e-05.\n",
      "Iteration 29. Log joint probability =    36.6604. Improved by 3.94391e-05.\n",
      "Iteration 30. Log joint probability =    36.6604. Improved by 4.24052e-05.\n",
      "Iteration 31. Log joint probability =    36.6604. Improved by 5.95995e-06.\n",
      "Iteration 32. Log joint probability =    36.6604. Improved by 1.06419e-05.\n",
      "Iteration 33. Log joint probability =    36.6604. Improved by 4.81852e-06.\n",
      "Iteration 34. Log joint probability =    36.6604. Improved by 1.95869e-06.\n",
      "Iteration 35. Log joint probability =    36.6604. Improved by 4.19462e-06.\n",
      "Iteration 36. Log joint probability =    36.6604. Improved by 9.35324e-07.\n",
      "Iteration 37. Log joint probability =    36.6604. Improved by 5.70828e-07.\n",
      "Iteration 38. Log joint probability =    36.6604. Improved by 2.64186e-06.\n",
      "Iteration 39. Log joint probability =    36.6604. Improved by 9.60485e-07.\n",
      "Iteration 40. Log joint probability =    36.6604. Improved by 8.19957e-08.\n",
      "Iteration 41. Log joint probability =    36.6604. Improved by 2.61061e-07.\n",
      "Iteration 42. Log joint probability =    36.6604. Improved by 3.87906e-07.\n",
      "Iteration 43. Log joint probability =    36.6604. Improved by 4.61713e-07.\n",
      "Iteration 44. Log joint probability =    36.6604. Improved by 5.59123e-08.\n",
      "Iteration 45. Log joint probability =    36.6604. Improved by 1.05638e-07.\n",
      "Iteration 46. Log joint probability =    36.6604. Improved by 1.08729e-07.\n",
      "Iteration 47. Log joint probability =    36.6604. Improved by 6.88964e-10.\n"
     ]
    },
    {
     "name": "stderr",
     "output_type": "stream",
     "text": [
      "INFO:prophet:Disabling yearly seasonality. Run prophet with yearly_seasonality=True to override this.\n",
      "INFO:prophet:n_changepoints greater than number of observations. Using 23.\n"
     ]
    },
    {
     "name": "stdout",
     "output_type": "stream",
     "text": [
      "\n",
      "Initial log joint probability = -28.2704\n",
      "Iteration  1. Log joint probability =     10.557. Improved by 38.8273.\n",
      "Iteration  2. Log joint probability =     32.465. Improved by 21.9081.\n",
      "Iteration  3. Log joint probability =    33.7662. Improved by 1.30119.\n",
      "Iteration  4. Log joint probability =    34.5397. Improved by 0.773432.\n",
      "Iteration  5. Log joint probability =     34.549. Improved by 0.00936113.\n",
      "Iteration  6. Log joint probability =     34.569. Improved by 0.0200084.\n",
      "Iteration  7. Log joint probability =    34.5936. Improved by 0.0245664.\n",
      "Iteration  8. Log joint probability =    34.6239. Improved by 0.0303421.\n",
      "Iteration  9. Log joint probability =    34.6661. Improved by 0.042139.\n",
      "Iteration 10. Log joint probability =    34.7346. Improved by 0.0685035.\n",
      "Iteration 11. Log joint probability =    34.8379. Improved by 0.103371.\n",
      "Iteration 12. Log joint probability =    35.0748. Improved by 0.236813.\n",
      "Iteration 13. Log joint probability =    35.1657. Improved by 0.0909265.\n",
      "Iteration 14. Log joint probability =    35.2006. Improved by 0.0349332.\n",
      "Iteration 15. Log joint probability =    35.2112. Improved by 0.0106225.\n",
      "Iteration 16. Log joint probability =    35.2271. Improved by 0.0158743.\n",
      "Iteration 17. Log joint probability =    35.2336. Improved by 0.00652785.\n",
      "Iteration 18. Log joint probability =    35.2587. Improved by 0.0250273.\n",
      "Iteration 19. Log joint probability =    35.2652. Improved by 0.00647726.\n",
      "Iteration 20. Log joint probability =    35.2668. Improved by 0.00169753.\n",
      "Iteration 21. Log joint probability =     35.271. Improved by 0.00418081.\n",
      "Iteration 22. Log joint probability =    35.2728. Improved by 0.00175102.\n",
      "Iteration 23. Log joint probability =    35.2752. Improved by 0.00241177.\n",
      "Iteration 24. Log joint probability =     35.276. Improved by 0.000819846.\n",
      "Iteration 25. Log joint probability =    35.2765. Improved by 0.000497509.\n",
      "Iteration 26. Log joint probability =    35.2769. Improved by 0.000346153.\n",
      "Iteration 27. Log joint probability =    35.2771. Improved by 0.000230367.\n",
      "Iteration 28. Log joint probability =    35.2773. Improved by 0.000250286.\n",
      "Iteration 29. Log joint probability =    35.2774. Improved by 3.96606e-05.\n",
      "Iteration 30. Log joint probability =    35.2775. Improved by 0.000153271.\n",
      "Iteration 31. Log joint probability =    35.2775. Improved by 1.57167e-05.\n",
      "Iteration 32. Log joint probability =    35.2776. Improved by 7.47348e-05.\n",
      "Iteration 33. Log joint probability =    35.2776. Improved by 1.55625e-05.\n",
      "Iteration 34. Log joint probability =    35.2777. Improved by 4.45631e-05.\n",
      "Iteration 35. Log joint probability =    35.2777. Improved by 1.27162e-05.\n",
      "Iteration 36. Log joint probability =    35.2777. Improved by 6.5927e-06.\n",
      "Iteration 37. Log joint probability =    35.2777. Improved by 8.01505e-06.\n",
      "Iteration 38. Log joint probability =    35.2777. Improved by 1.88125e-07.\n",
      "Iteration 39. Log joint probability =    35.2777. Improved by 8.85179e-07.\n",
      "Iteration 40. Log joint probability =    35.2777. Improved by 5.54907e-06.\n",
      "Iteration 41. Log joint probability =    35.2777. Improved by 2.63685e-06.\n",
      "Iteration 42. Log joint probability =    35.2777. Improved by 1.19236e-06.\n",
      "Iteration 43. Log joint probability =    35.2777. Improved by 5.79757e-08.\n",
      "Iteration 44. Log joint probability =    35.2777. Improved by 7.31016e-07.\n",
      "Iteration 45. Log joint probability =    35.2777. Improved by 3.16183e-07.\n",
      "Iteration 46. Log joint probability =    35.2777. Improved by 3.1504e-08.\n",
      "Iteration 47. Log joint probability =    35.2777. Improved by 1.42245e-07.\n",
      "Iteration 48. Log joint probability =    35.2777. Improved by 4.8273e-08.\n",
      "Iteration 49. Log joint probability =    35.2777. Improved by 7.84411e-08.\n",
      "Iteration 50. Log joint probability =    35.2777. Improved by 2.84123e-08.\n",
      "Iteration 51. Log joint probability =    35.2777. Improved by 1.10734e-08.\n",
      "Iteration 52. Log joint probability =    35.2777. Improved by 1.3991e-08.\n",
      "Iteration 53. Log joint probability =    35.2777. Improved by 5.81264e-09.\n"
     ]
    },
    {
     "name": "stderr",
     "output_type": "stream",
     "text": [
      "INFO:prophet:Disabling yearly seasonality. Run prophet with yearly_seasonality=True to override this.\n",
      "INFO:prophet:n_changepoints greater than number of observations. Using 23.\n"
     ]
    },
    {
     "name": "stdout",
     "output_type": "stream",
     "text": [
      "\n",
      "Initial log joint probability = -28.5466\n",
      "Iteration  1. Log joint probability =    17.0992. Improved by 45.6457.\n",
      "Iteration  2. Log joint probability =    17.6784. Improved by 0.579234.\n",
      "Iteration  3. Log joint probability =    25.0039. Improved by 7.32552.\n",
      "Iteration  4. Log joint probability =    25.5125. Improved by 0.508531.\n",
      "Iteration  5. Log joint probability =    25.6373. Improved by 0.124808.\n",
      "Iteration  6. Log joint probability =     25.681. Improved by 0.0437768.\n",
      "Iteration  7. Log joint probability =    25.7475. Improved by 0.0664306.\n",
      "Iteration  8. Log joint probability =    25.7582. Improved by 0.0107595.\n",
      "Iteration  9. Log joint probability =    25.7927. Improved by 0.0344381.\n",
      "Iteration 10. Log joint probability =    25.8013. Improved by 0.00860814.\n",
      "Iteration 11. Log joint probability =    25.8233. Improved by 0.0219971.\n",
      "Iteration 12. Log joint probability =    25.8282. Improved by 0.00493799.\n",
      "Iteration 13. Log joint probability =    25.8805. Improved by 0.0522575.\n",
      "Iteration 14. Log joint probability =    25.9881. Improved by 0.107632.\n",
      "Iteration 15. Log joint probability =    26.0096. Improved by 0.0215269.\n",
      "Iteration 16. Log joint probability =    26.0162. Improved by 0.00657425.\n",
      "Iteration 17. Log joint probability =    26.0493. Improved by 0.0331137.\n",
      "Iteration 18. Log joint probability =    26.3695. Improved by 0.320153.\n",
      "Iteration 19. Log joint probability =    26.4108. Improved by 0.0413217.\n",
      "Iteration 20. Log joint probability =     26.545. Improved by 0.134168.\n",
      "Iteration 21. Log joint probability =    26.5914. Improved by 0.0464278.\n",
      "Iteration 22. Log joint probability =    26.6591. Improved by 0.0676706.\n",
      "Iteration 23. Log joint probability =    34.5442. Improved by 7.88515.\n",
      "Iteration 24. Log joint probability =    34.7291. Improved by 0.184918.\n",
      "Iteration 25. Log joint probability =    34.7972. Improved by 0.0680757.\n",
      "Iteration 26. Log joint probability =    34.8043. Improved by 0.00712817.\n",
      "Iteration 27. Log joint probability =    34.8281. Improved by 0.0237749.\n",
      "Iteration 28. Log joint probability =    35.0206. Improved by 0.192509.\n",
      "Iteration 29. Log joint probability =    35.0341. Improved by 0.0134704.\n",
      "Iteration 30. Log joint probability =    35.0379. Improved by 0.00387047.\n",
      "Iteration 31. Log joint probability =    35.0383. Improved by 0.000323606.\n",
      "Iteration 32. Log joint probability =    35.0396. Improved by 0.00131516.\n",
      "Iteration 33. Log joint probability =    35.0612. Improved by 0.0216383.\n",
      "Iteration 34. Log joint probability =    35.0633. Improved by 0.00211262.\n",
      "Iteration 35. Log joint probability =    35.0737. Improved by 0.0103906.\n",
      "Iteration 36. Log joint probability =    35.0742. Improved by 0.000477352.\n",
      "Iteration 37. Log joint probability =    35.0797. Improved by 0.00552296.\n",
      "Iteration 38. Log joint probability =    35.0824. Improved by 0.00269639.\n",
      "Iteration 39. Log joint probability =    35.0826. Improved by 0.000222442.\n",
      "Iteration 40. Log joint probability =     35.084. Improved by 0.00137216.\n",
      "Iteration 41. Log joint probability =     35.084. Improved by 7.22763e-06.\n",
      "Iteration 42. Log joint probability =    35.0841. Improved by 4.75459e-05.\n",
      "Iteration 43. Log joint probability =    35.0847. Improved by 0.000581108.\n",
      "Iteration 44. Log joint probability =    35.0849. Improved by 0.000266329.\n",
      "Iteration 45. Log joint probability =    35.0851. Improved by 0.000223853.\n",
      "Iteration 46. Log joint probability =    35.0852. Improved by 1.31386e-05.\n",
      "Iteration 47. Log joint probability =    35.0853. Improved by 0.000193793.\n",
      "Iteration 48. Log joint probability =    35.0854. Improved by 6.91314e-05.\n",
      "Iteration 49. Log joint probability =    35.0854. Improved by 7.64478e-06.\n",
      "Iteration 50. Log joint probability =    35.0855. Improved by 3.2989e-05.\n",
      "Iteration 51. Log joint probability =    35.0855. Improved by 2.18493e-05.\n",
      "Iteration 52. Log joint probability =    35.0855. Improved by 9.62408e-06.\n",
      "Iteration 53. Log joint probability =    35.0855. Improved by 2.18491e-06.\n",
      "Iteration 54. Log joint probability =    35.0855. Improved by 9.45056e-06.\n",
      "Iteration 55. Log joint probability =    35.0855. Improved by 2.08e-06.\n",
      "Iteration 56. Log joint probability =    35.0855. Improved by 5.19939e-06.\n",
      "Iteration 57. Log joint probability =    35.0855. Improved by 2.72289e-06.\n",
      "Iteration 58. Log joint probability =    35.0855. Improved by 1.16198e-06.\n",
      "Iteration 59. Log joint probability =    35.0855. Improved by 6.38946e-07.\n",
      "Iteration 60. Log joint probability =    35.0855. Improved by 9.54957e-08.\n",
      "Iteration 61. Log joint probability =    35.0855. Improved by 3.57552e-07.\n",
      "Iteration 62. Log joint probability =    35.0855. Improved by 1.49e-07.\n",
      "Iteration 63. Log joint probability =    35.0855. Improved by 6.50308e-08.\n",
      "Iteration 64. Log joint probability =    35.0855. Improved by 2.76562e-08.\n",
      "Iteration 65. Log joint probability =    35.0855. Improved by 4.43475e-08.\n",
      "Iteration 66. Log joint probability =    35.0855. Improved by 1.39756e-08.\n",
      "Iteration 67. Log joint probability =    35.0855. Improved by 3.91078e-09.\n"
     ]
    },
    {
     "name": "stderr",
     "output_type": "stream",
     "text": [
      "INFO:prophet:Disabling yearly seasonality. Run prophet with yearly_seasonality=True to override this.\n",
      "INFO:prophet:n_changepoints greater than number of observations. Using 23.\n"
     ]
    },
    {
     "name": "stdout",
     "output_type": "stream",
     "text": [
      "\n",
      "Initial log joint probability = -31.3617\n",
      "Iteration  1. Log joint probability =    14.6387. Improved by 46.0004.\n",
      "Iteration  2. Log joint probability =    31.7274. Improved by 17.0887.\n",
      "Iteration  3. Log joint probability =    37.8263. Improved by 6.09892.\n",
      "Iteration  4. Log joint probability =      38.01. Improved by 0.183657.\n",
      "Iteration  5. Log joint probability =    38.0219. Improved by 0.0119737.\n",
      "Iteration  6. Log joint probability =    38.0401. Improved by 0.0181185.\n",
      "Iteration  7. Log joint probability =     38.087. Improved by 0.046952.\n",
      "Iteration  8. Log joint probability =    38.1195. Improved by 0.0324449.\n",
      "Iteration  9. Log joint probability =    38.1623. Improved by 0.0428312.\n",
      "Iteration 10. Log joint probability =    38.1807. Improved by 0.0184416.\n",
      "Iteration 11. Log joint probability =    38.1893. Improved by 0.00858192.\n",
      "Iteration 12. Log joint probability =    38.1925. Improved by 0.00316915.\n",
      "Iteration 13. Log joint probability =    38.1965. Improved by 0.00400616.\n",
      "Iteration 14. Log joint probability =    38.1965. Improved by 5.09674e-05.\n",
      "Iteration 15. Log joint probability =    38.1973. Improved by 0.000727974.\n",
      "Iteration 16. Log joint probability =    38.1996. Improved by 0.00233299.\n",
      "Iteration 17. Log joint probability =    38.1998. Improved by 0.000184972.\n",
      "Iteration 18. Log joint probability =    38.2011. Improved by 0.00128691.\n",
      "Iteration 19. Log joint probability =    38.2016. Improved by 0.000542246.\n",
      "Iteration 20. Log joint probability =    38.2018. Improved by 0.000227628.\n",
      "Iteration 21. Log joint probability =    38.2021. Improved by 0.000273964.\n",
      "Iteration 22. Log joint probability =    38.2022. Improved by 4.25354e-05.\n",
      "Iteration 23. Log joint probability =    38.2024. Improved by 0.000218125.\n",
      "Iteration 24. Log joint probability =    38.2024. Improved by 3.93346e-05.\n",
      "Iteration 25. Log joint probability =    38.2024. Improved by 2.11316e-05.\n",
      "Iteration 26. Log joint probability =    38.2025. Improved by 3.61197e-05.\n",
      "Iteration 27. Log joint probability =    38.2025. Improved by 1.70455e-05.\n",
      "Iteration 28. Log joint probability =    38.2025. Improved by 6.1694e-06.\n",
      "Iteration 29. Log joint probability =    38.2025. Improved by 5.179e-08.\n",
      "Iteration 30. Log joint probability =    38.2025. Improved by 1.09654e-05.\n",
      "Iteration 31. Log joint probability =    38.2025. Improved by 5.33256e-07.\n",
      "Iteration 32. Log joint probability =    38.2025. Improved by 4.50599e-06.\n",
      "Iteration 33. Log joint probability =    38.2025. Improved by 1.22748e-06.\n",
      "Iteration 34. Log joint probability =    38.2025. Improved by 2.4727e-06.\n",
      "Iteration 35. Log joint probability =    38.2025. Improved by 1.58232e-06.\n",
      "Iteration 36. Log joint probability =    38.2025. Improved by 5.46902e-07.\n",
      "Iteration 37. Log joint probability =    38.2025. Improved by 2.30601e-07.\n",
      "Iteration 38. Log joint probability =    38.2025. Improved by 5.45076e-08.\n",
      "Iteration 39. Log joint probability =    38.2025. Improved by 1.47199e-08.\n",
      "Iteration 40. Log joint probability =    38.2025. Improved by 8.86271e-09.\n"
     ]
    },
    {
     "name": "stderr",
     "output_type": "stream",
     "text": [
      "INFO:prophet:Disabling yearly seasonality. Run prophet with yearly_seasonality=True to override this.\n",
      "INFO:prophet:n_changepoints greater than number of observations. Using 23.\n"
     ]
    },
    {
     "name": "stdout",
     "output_type": "stream",
     "text": [
      "\n",
      "Initial log joint probability = -30.3617\n",
      "Iteration  1. Log joint probability =    10.2333. Improved by 40.595.\n",
      "Iteration  2. Log joint probability =    17.5574. Improved by 7.32411.\n",
      "Iteration  3. Log joint probability =    17.8316. Improved by 0.274254.\n",
      "Iteration  4. Log joint probability =    17.8595. Improved by 0.0278989.\n",
      "Iteration  5. Log joint probability =    18.0078. Improved by 0.148284.\n",
      "Iteration  6. Log joint probability =    18.0126. Improved by 0.00480151.\n",
      "Iteration  7. Log joint probability =    18.0195. Improved by 0.00689045.\n",
      "Iteration  8. Log joint probability =    18.0229. Improved by 0.00343353.\n",
      "Iteration  9. Log joint probability =    18.0256. Improved by 0.00264141.\n",
      "Iteration 10. Log joint probability =     18.028. Improved by 0.0024202.\n",
      "Iteration 11. Log joint probability =    18.0294. Improved by 0.00143387.\n",
      "Iteration 12. Log joint probability =      18.03. Improved by 0.000606135.\n",
      "Iteration 13. Log joint probability =    18.0301. Improved by 5.37927e-05.\n",
      "Iteration 14. Log joint probability =    18.0304. Improved by 0.000287873.\n",
      "Iteration 15. Log joint probability =    18.0305. Improved by 0.000101404.\n",
      "Iteration 16. Log joint probability =    18.0306. Improved by 0.000132732.\n",
      "Iteration 17. Log joint probability =    18.0306. Improved by 2.39802e-07.\n",
      "Iteration 18. Log joint probability =    18.0306. Improved by 5.19071e-06.\n",
      "Iteration 19. Log joint probability =    18.0307. Improved by 6.74406e-05.\n",
      "Iteration 20. Log joint probability =    18.0307. Improved by 4.18422e-05.\n",
      "Iteration 21. Log joint probability =    18.0307. Improved by 1.21364e-05.\n",
      "Iteration 22. Log joint probability =    18.0308. Improved by 2.41742e-05.\n",
      "Iteration 23. Log joint probability =    18.0308. Improved by 6.39198e-06.\n",
      "Iteration 24. Log joint probability =    18.0308. Improved by 7.64745e-06.\n",
      "Iteration 25. Log joint probability =    18.0308. Improved by 8.06339e-06.\n",
      "Iteration 26. Log joint probability =    18.0308. Improved by 6.0838e-06.\n",
      "Iteration 27. Log joint probability =    18.0308. Improved by 1.53954e-06.\n",
      "Iteration 28. Log joint probability =    18.0308. Improved by 8.05598e-07.\n",
      "Iteration 29. Log joint probability =    18.0308. Improved by 1.06667e-06.\n",
      "Iteration 30. Log joint probability =    18.0308. Improved by 6.84965e-07.\n",
      "Iteration 31. Log joint probability =    18.0308. Improved by 3.28022e-07.\n",
      "Iteration 32. Log joint probability =    18.0308. Improved by 1.86425e-08.\n",
      "Iteration 33. Log joint probability =    18.0308. Improved by 1.54221e-07.\n",
      "Iteration 34. Log joint probability =    18.0308. Improved by 2.93873e-08.\n",
      "Iteration 35. Log joint probability =    18.0308. Improved by 6.78137e-08.\n",
      "Iteration 36. Log joint probability =    18.0308. Improved by 1.0458e-08.\n",
      "Iteration 37. Log joint probability =    18.0308. Improved by 4.10646e-08.\n",
      "Iteration 38. Log joint probability =    18.0308. Improved by 1.81184e-08.\n",
      "Iteration 39. Log joint probability =    18.0308. Improved by 6.30912e-09.\n"
     ]
    }
   ],
   "source": [
    "#Prophet\n",
    "\n",
    "dates = [\"2007-12-\" + str(i) for i in range(1, 31)]\n",
    "predictions = []\n",
    "for row in tqdm(train_dataset[train_dataset.columns[-30:]].values[:n_rows]):\n",
    "    df = pd.DataFrame(np.transpose([dates, row]))\n",
    "    df.columns = [\"ds\", \"y\"]\n",
    "    model = Prophet(daily_seasonality=True)\n",
    "    model.fit(df)\n",
    "    future = model.make_future_dataframe(periods=30)\n",
    "    forecast = model.predict(future)[\"yhat\"].loc[30:].values\n",
    "    predictions.append(forecast)\n",
    "predictions = np.array(predictions).reshape((-1, 30))\n",
    "error_prophet = np.linalg.norm(predictions[:n_rows] - val_dataset.values[:n_rows])/len(predictions[0])\n"
   ]
  },
  {
   "cell_type": "code",
   "execution_count": 22,
   "id": "scheduled-romania",
   "metadata": {},
   "outputs": [
    {
     "data": {
      "application/vnd.plotly.v1+json": {
       "config": {
        "plotlyServerURL": "https://plot.ly"
       },
       "data": [
        {
         "alignmentgroup": "True",
         "hovertemplate": "Model=%{x}<br>RMSE Loss=%{y}<extra></extra>",
         "legendgroup": "Exponential smoothing",
         "marker": {
          "color": "#636efa",
          "pattern": {
           "shape": ""
          }
         },
         "name": "Exponential smoothing",
         "offsetgroup": "Exponential smoothing",
         "orientation": "v",
         "showlegend": true,
         "textposition": "auto",
         "type": "bar",
         "x": [
          "Exponential smoothing"
         ],
         "xaxis": "x",
         "y": [
          "2.9039077195375422"
         ],
         "yaxis": "y"
        },
        {
         "alignmentgroup": "True",
         "hovertemplate": "Model=%{x}<br>RMSE Loss=%{y}<extra></extra>",
         "legendgroup": "ARIMA",
         "marker": {
          "color": "#EF553B",
          "pattern": {
           "shape": ""
          }
         },
         "name": "ARIMA",
         "offsetgroup": "ARIMA",
         "orientation": "v",
         "showlegend": true,
         "textposition": "auto",
         "type": "bar",
         "x": [
          "ARIMA"
         ],
         "xaxis": "x",
         "y": [
          "2.91911826226005"
         ],
         "yaxis": "y"
        },
        {
         "alignmentgroup": "True",
         "hovertemplate": "Model=%{x}<br>RMSE Loss=%{y}<extra></extra>",
         "legendgroup": "Moving average",
         "marker": {
          "color": "#00cc96",
          "pattern": {
           "shape": ""
          }
         },
         "name": "Moving average",
         "offsetgroup": "Moving average",
         "orientation": "v",
         "showlegend": true,
         "textposition": "auto",
         "type": "bar",
         "x": [
          "Moving average"
         ],
         "xaxis": "x",
         "y": [
          "2.9610872417601684"
         ],
         "yaxis": "y"
        },
        {
         "alignmentgroup": "True",
         "hovertemplate": "Model=%{x}<br>RMSE Loss=%{y}<extra></extra>",
         "legendgroup": "Holt linear",
         "marker": {
          "color": "#ab63fa",
          "pattern": {
           "shape": ""
          }
         },
         "name": "Holt linear",
         "offsetgroup": "Holt linear",
         "orientation": "v",
         "showlegend": true,
         "textposition": "auto",
         "type": "bar",
         "x": [
          "Holt linear"
         ],
         "xaxis": "x",
         "y": [
          "2.961747823238682"
         ],
         "yaxis": "y"
        },
        {
         "alignmentgroup": "True",
         "hovertemplate": "Model=%{x}<br>RMSE Loss=%{y}<extra></extra>",
         "legendgroup": "Prophet",
         "marker": {
          "color": "#FFA15A",
          "pattern": {
           "shape": ""
          }
         },
         "name": "Prophet",
         "offsetgroup": "Prophet",
         "orientation": "v",
         "showlegend": true,
         "textposition": "auto",
         "type": "bar",
         "x": [
          "Prophet"
         ],
         "xaxis": "x",
         "y": [
          "3.2838175102285407"
         ],
         "yaxis": "y"
        },
        {
         "alignmentgroup": "True",
         "hovertemplate": "Model=%{x}<br>RMSE Loss=%{y}<extra></extra>",
         "legendgroup": "Naive approach",
         "marker": {
          "color": "#19d3f3",
          "pattern": {
           "shape": ""
          }
         },
         "name": "Naive approach",
         "offsetgroup": "Naive approach",
         "orientation": "v",
         "showlegend": true,
         "textposition": "auto",
         "type": "bar",
         "x": [
          "Naive approach"
         ],
         "xaxis": "x",
         "y": [
          "3.596912256057656"
         ],
         "yaxis": "y"
        }
       ],
       "layout": {
        "barmode": "relative",
        "legend": {
         "title": {
          "text": "Model"
         },
         "tracegroupgap": 0
        },
        "template": {
         "data": {
          "bar": [
           {
            "error_x": {
             "color": "#2a3f5f"
            },
            "error_y": {
             "color": "#2a3f5f"
            },
            "marker": {
             "line": {
              "color": "#E5ECF6",
              "width": 0.5
             },
             "pattern": {
              "fillmode": "overlay",
              "size": 10,
              "solidity": 0.2
             }
            },
            "type": "bar"
           }
          ],
          "barpolar": [
           {
            "marker": {
             "line": {
              "color": "#E5ECF6",
              "width": 0.5
             },
             "pattern": {
              "fillmode": "overlay",
              "size": 10,
              "solidity": 0.2
             }
            },
            "type": "barpolar"
           }
          ],
          "carpet": [
           {
            "aaxis": {
             "endlinecolor": "#2a3f5f",
             "gridcolor": "white",
             "linecolor": "white",
             "minorgridcolor": "white",
             "startlinecolor": "#2a3f5f"
            },
            "baxis": {
             "endlinecolor": "#2a3f5f",
             "gridcolor": "white",
             "linecolor": "white",
             "minorgridcolor": "white",
             "startlinecolor": "#2a3f5f"
            },
            "type": "carpet"
           }
          ],
          "choropleth": [
           {
            "colorbar": {
             "outlinewidth": 0,
             "ticks": ""
            },
            "type": "choropleth"
           }
          ],
          "contour": [
           {
            "colorbar": {
             "outlinewidth": 0,
             "ticks": ""
            },
            "colorscale": [
             [
              0,
              "#0d0887"
             ],
             [
              0.1111111111111111,
              "#46039f"
             ],
             [
              0.2222222222222222,
              "#7201a8"
             ],
             [
              0.3333333333333333,
              "#9c179e"
             ],
             [
              0.4444444444444444,
              "#bd3786"
             ],
             [
              0.5555555555555556,
              "#d8576b"
             ],
             [
              0.6666666666666666,
              "#ed7953"
             ],
             [
              0.7777777777777778,
              "#fb9f3a"
             ],
             [
              0.8888888888888888,
              "#fdca26"
             ],
             [
              1,
              "#f0f921"
             ]
            ],
            "type": "contour"
           }
          ],
          "contourcarpet": [
           {
            "colorbar": {
             "outlinewidth": 0,
             "ticks": ""
            },
            "type": "contourcarpet"
           }
          ],
          "heatmap": [
           {
            "colorbar": {
             "outlinewidth": 0,
             "ticks": ""
            },
            "colorscale": [
             [
              0,
              "#0d0887"
             ],
             [
              0.1111111111111111,
              "#46039f"
             ],
             [
              0.2222222222222222,
              "#7201a8"
             ],
             [
              0.3333333333333333,
              "#9c179e"
             ],
             [
              0.4444444444444444,
              "#bd3786"
             ],
             [
              0.5555555555555556,
              "#d8576b"
             ],
             [
              0.6666666666666666,
              "#ed7953"
             ],
             [
              0.7777777777777778,
              "#fb9f3a"
             ],
             [
              0.8888888888888888,
              "#fdca26"
             ],
             [
              1,
              "#f0f921"
             ]
            ],
            "type": "heatmap"
           }
          ],
          "heatmapgl": [
           {
            "colorbar": {
             "outlinewidth": 0,
             "ticks": ""
            },
            "colorscale": [
             [
              0,
              "#0d0887"
             ],
             [
              0.1111111111111111,
              "#46039f"
             ],
             [
              0.2222222222222222,
              "#7201a8"
             ],
             [
              0.3333333333333333,
              "#9c179e"
             ],
             [
              0.4444444444444444,
              "#bd3786"
             ],
             [
              0.5555555555555556,
              "#d8576b"
             ],
             [
              0.6666666666666666,
              "#ed7953"
             ],
             [
              0.7777777777777778,
              "#fb9f3a"
             ],
             [
              0.8888888888888888,
              "#fdca26"
             ],
             [
              1,
              "#f0f921"
             ]
            ],
            "type": "heatmapgl"
           }
          ],
          "histogram": [
           {
            "marker": {
             "pattern": {
              "fillmode": "overlay",
              "size": 10,
              "solidity": 0.2
             }
            },
            "type": "histogram"
           }
          ],
          "histogram2d": [
           {
            "colorbar": {
             "outlinewidth": 0,
             "ticks": ""
            },
            "colorscale": [
             [
              0,
              "#0d0887"
             ],
             [
              0.1111111111111111,
              "#46039f"
             ],
             [
              0.2222222222222222,
              "#7201a8"
             ],
             [
              0.3333333333333333,
              "#9c179e"
             ],
             [
              0.4444444444444444,
              "#bd3786"
             ],
             [
              0.5555555555555556,
              "#d8576b"
             ],
             [
              0.6666666666666666,
              "#ed7953"
             ],
             [
              0.7777777777777778,
              "#fb9f3a"
             ],
             [
              0.8888888888888888,
              "#fdca26"
             ],
             [
              1,
              "#f0f921"
             ]
            ],
            "type": "histogram2d"
           }
          ],
          "histogram2dcontour": [
           {
            "colorbar": {
             "outlinewidth": 0,
             "ticks": ""
            },
            "colorscale": [
             [
              0,
              "#0d0887"
             ],
             [
              0.1111111111111111,
              "#46039f"
             ],
             [
              0.2222222222222222,
              "#7201a8"
             ],
             [
              0.3333333333333333,
              "#9c179e"
             ],
             [
              0.4444444444444444,
              "#bd3786"
             ],
             [
              0.5555555555555556,
              "#d8576b"
             ],
             [
              0.6666666666666666,
              "#ed7953"
             ],
             [
              0.7777777777777778,
              "#fb9f3a"
             ],
             [
              0.8888888888888888,
              "#fdca26"
             ],
             [
              1,
              "#f0f921"
             ]
            ],
            "type": "histogram2dcontour"
           }
          ],
          "mesh3d": [
           {
            "colorbar": {
             "outlinewidth": 0,
             "ticks": ""
            },
            "type": "mesh3d"
           }
          ],
          "parcoords": [
           {
            "line": {
             "colorbar": {
              "outlinewidth": 0,
              "ticks": ""
             }
            },
            "type": "parcoords"
           }
          ],
          "pie": [
           {
            "automargin": true,
            "type": "pie"
           }
          ],
          "scatter": [
           {
            "marker": {
             "colorbar": {
              "outlinewidth": 0,
              "ticks": ""
             }
            },
            "type": "scatter"
           }
          ],
          "scatter3d": [
           {
            "line": {
             "colorbar": {
              "outlinewidth": 0,
              "ticks": ""
             }
            },
            "marker": {
             "colorbar": {
              "outlinewidth": 0,
              "ticks": ""
             }
            },
            "type": "scatter3d"
           }
          ],
          "scattercarpet": [
           {
            "marker": {
             "colorbar": {
              "outlinewidth": 0,
              "ticks": ""
             }
            },
            "type": "scattercarpet"
           }
          ],
          "scattergeo": [
           {
            "marker": {
             "colorbar": {
              "outlinewidth": 0,
              "ticks": ""
             }
            },
            "type": "scattergeo"
           }
          ],
          "scattergl": [
           {
            "marker": {
             "colorbar": {
              "outlinewidth": 0,
              "ticks": ""
             }
            },
            "type": "scattergl"
           }
          ],
          "scattermapbox": [
           {
            "marker": {
             "colorbar": {
              "outlinewidth": 0,
              "ticks": ""
             }
            },
            "type": "scattermapbox"
           }
          ],
          "scatterpolar": [
           {
            "marker": {
             "colorbar": {
              "outlinewidth": 0,
              "ticks": ""
             }
            },
            "type": "scatterpolar"
           }
          ],
          "scatterpolargl": [
           {
            "marker": {
             "colorbar": {
              "outlinewidth": 0,
              "ticks": ""
             }
            },
            "type": "scatterpolargl"
           }
          ],
          "scatterternary": [
           {
            "marker": {
             "colorbar": {
              "outlinewidth": 0,
              "ticks": ""
             }
            },
            "type": "scatterternary"
           }
          ],
          "surface": [
           {
            "colorbar": {
             "outlinewidth": 0,
             "ticks": ""
            },
            "colorscale": [
             [
              0,
              "#0d0887"
             ],
             [
              0.1111111111111111,
              "#46039f"
             ],
             [
              0.2222222222222222,
              "#7201a8"
             ],
             [
              0.3333333333333333,
              "#9c179e"
             ],
             [
              0.4444444444444444,
              "#bd3786"
             ],
             [
              0.5555555555555556,
              "#d8576b"
             ],
             [
              0.6666666666666666,
              "#ed7953"
             ],
             [
              0.7777777777777778,
              "#fb9f3a"
             ],
             [
              0.8888888888888888,
              "#fdca26"
             ],
             [
              1,
              "#f0f921"
             ]
            ],
            "type": "surface"
           }
          ],
          "table": [
           {
            "cells": {
             "fill": {
              "color": "#EBF0F8"
             },
             "line": {
              "color": "white"
             }
            },
            "header": {
             "fill": {
              "color": "#C8D4E3"
             },
             "line": {
              "color": "white"
             }
            },
            "type": "table"
           }
          ]
         },
         "layout": {
          "annotationdefaults": {
           "arrowcolor": "#2a3f5f",
           "arrowhead": 0,
           "arrowwidth": 1
          },
          "autotypenumbers": "strict",
          "coloraxis": {
           "colorbar": {
            "outlinewidth": 0,
            "ticks": ""
           }
          },
          "colorscale": {
           "diverging": [
            [
             0,
             "#8e0152"
            ],
            [
             0.1,
             "#c51b7d"
            ],
            [
             0.2,
             "#de77ae"
            ],
            [
             0.3,
             "#f1b6da"
            ],
            [
             0.4,
             "#fde0ef"
            ],
            [
             0.5,
             "#f7f7f7"
            ],
            [
             0.6,
             "#e6f5d0"
            ],
            [
             0.7,
             "#b8e186"
            ],
            [
             0.8,
             "#7fbc41"
            ],
            [
             0.9,
             "#4d9221"
            ],
            [
             1,
             "#276419"
            ]
           ],
           "sequential": [
            [
             0,
             "#0d0887"
            ],
            [
             0.1111111111111111,
             "#46039f"
            ],
            [
             0.2222222222222222,
             "#7201a8"
            ],
            [
             0.3333333333333333,
             "#9c179e"
            ],
            [
             0.4444444444444444,
             "#bd3786"
            ],
            [
             0.5555555555555556,
             "#d8576b"
            ],
            [
             0.6666666666666666,
             "#ed7953"
            ],
            [
             0.7777777777777778,
             "#fb9f3a"
            ],
            [
             0.8888888888888888,
             "#fdca26"
            ],
            [
             1,
             "#f0f921"
            ]
           ],
           "sequentialminus": [
            [
             0,
             "#0d0887"
            ],
            [
             0.1111111111111111,
             "#46039f"
            ],
            [
             0.2222222222222222,
             "#7201a8"
            ],
            [
             0.3333333333333333,
             "#9c179e"
            ],
            [
             0.4444444444444444,
             "#bd3786"
            ],
            [
             0.5555555555555556,
             "#d8576b"
            ],
            [
             0.6666666666666666,
             "#ed7953"
            ],
            [
             0.7777777777777778,
             "#fb9f3a"
            ],
            [
             0.8888888888888888,
             "#fdca26"
            ],
            [
             1,
             "#f0f921"
            ]
           ]
          },
          "colorway": [
           "#636efa",
           "#EF553B",
           "#00cc96",
           "#ab63fa",
           "#FFA15A",
           "#19d3f3",
           "#FF6692",
           "#B6E880",
           "#FF97FF",
           "#FECB52"
          ],
          "font": {
           "color": "#2a3f5f"
          },
          "geo": {
           "bgcolor": "white",
           "lakecolor": "white",
           "landcolor": "#E5ECF6",
           "showlakes": true,
           "showland": true,
           "subunitcolor": "white"
          },
          "hoverlabel": {
           "align": "left"
          },
          "hovermode": "closest",
          "mapbox": {
           "style": "light"
          },
          "paper_bgcolor": "white",
          "plot_bgcolor": "#E5ECF6",
          "polar": {
           "angularaxis": {
            "gridcolor": "white",
            "linecolor": "white",
            "ticks": ""
           },
           "bgcolor": "#E5ECF6",
           "radialaxis": {
            "gridcolor": "white",
            "linecolor": "white",
            "ticks": ""
           }
          },
          "scene": {
           "xaxis": {
            "backgroundcolor": "#E5ECF6",
            "gridcolor": "white",
            "gridwidth": 2,
            "linecolor": "white",
            "showbackground": true,
            "ticks": "",
            "zerolinecolor": "white"
           },
           "yaxis": {
            "backgroundcolor": "#E5ECF6",
            "gridcolor": "white",
            "gridwidth": 2,
            "linecolor": "white",
            "showbackground": true,
            "ticks": "",
            "zerolinecolor": "white"
           },
           "zaxis": {
            "backgroundcolor": "#E5ECF6",
            "gridcolor": "white",
            "gridwidth": 2,
            "linecolor": "white",
            "showbackground": true,
            "ticks": "",
            "zerolinecolor": "white"
           }
          },
          "shapedefaults": {
           "line": {
            "color": "#2a3f5f"
           }
          },
          "ternary": {
           "aaxis": {
            "gridcolor": "white",
            "linecolor": "white",
            "ticks": ""
           },
           "baxis": {
            "gridcolor": "white",
            "linecolor": "white",
            "ticks": ""
           },
           "bgcolor": "#E5ECF6",
           "caxis": {
            "gridcolor": "white",
            "linecolor": "white",
            "ticks": ""
           }
          },
          "title": {
           "x": 0.05
          },
          "xaxis": {
           "automargin": true,
           "gridcolor": "white",
           "linecolor": "white",
           "ticks": "",
           "title": {
            "standoff": 15
           },
           "zerolinecolor": "white",
           "zerolinewidth": 2
          },
          "yaxis": {
           "automargin": true,
           "gridcolor": "white",
           "linecolor": "white",
           "ticks": "",
           "title": {
            "standoff": 15
           },
           "zerolinecolor": "white",
           "zerolinewidth": 2
          }
         }
        },
        "title": {
         "text": "RMSE Loss vs. Model"
        },
        "xaxis": {
         "anchor": "y",
         "categoryarray": [
          "Exponential smoothing",
          "ARIMA",
          "Moving average",
          "Holt linear",
          "Prophet",
          "Naive approach"
         ],
         "categoryorder": "array",
         "domain": [
          0,
          1
         ],
         "title": {
          "text": "Model"
         }
        },
        "yaxis": {
         "anchor": "x",
         "domain": [
          0,
          1
         ],
         "title": {
          "text": "RMSE Loss"
         }
        }
       }
      },
      "text/html": [
       "<div>                            <div id=\"9561f444-3e9c-47eb-b96b-d715b7ccf7f1\" class=\"plotly-graph-div\" style=\"height:525px; width:100%;\"></div>            <script type=\"text/javascript\">                require([\"plotly\"], function(Plotly) {                    window.PLOTLYENV=window.PLOTLYENV || {};                                    if (document.getElementById(\"9561f444-3e9c-47eb-b96b-d715b7ccf7f1\")) {                    Plotly.newPlot(                        \"9561f444-3e9c-47eb-b96b-d715b7ccf7f1\",                        [{\"alignmentgroup\":\"True\",\"hovertemplate\":\"Model=%{x}<br>RMSE Loss=%{y}<extra></extra>\",\"legendgroup\":\"Exponential smoothing\",\"marker\":{\"color\":\"#636efa\",\"pattern\":{\"shape\":\"\"}},\"name\":\"Exponential smoothing\",\"offsetgroup\":\"Exponential smoothing\",\"orientation\":\"v\",\"showlegend\":true,\"textposition\":\"auto\",\"x\":[\"Exponential smoothing\"],\"xaxis\":\"x\",\"y\":[\"2.9039077195375422\"],\"yaxis\":\"y\",\"type\":\"bar\"},{\"alignmentgroup\":\"True\",\"hovertemplate\":\"Model=%{x}<br>RMSE Loss=%{y}<extra></extra>\",\"legendgroup\":\"ARIMA\",\"marker\":{\"color\":\"#EF553B\",\"pattern\":{\"shape\":\"\"}},\"name\":\"ARIMA\",\"offsetgroup\":\"ARIMA\",\"orientation\":\"v\",\"showlegend\":true,\"textposition\":\"auto\",\"x\":[\"ARIMA\"],\"xaxis\":\"x\",\"y\":[\"2.91911826226005\"],\"yaxis\":\"y\",\"type\":\"bar\"},{\"alignmentgroup\":\"True\",\"hovertemplate\":\"Model=%{x}<br>RMSE Loss=%{y}<extra></extra>\",\"legendgroup\":\"Moving average\",\"marker\":{\"color\":\"#00cc96\",\"pattern\":{\"shape\":\"\"}},\"name\":\"Moving average\",\"offsetgroup\":\"Moving average\",\"orientation\":\"v\",\"showlegend\":true,\"textposition\":\"auto\",\"x\":[\"Moving average\"],\"xaxis\":\"x\",\"y\":[\"2.9610872417601684\"],\"yaxis\":\"y\",\"type\":\"bar\"},{\"alignmentgroup\":\"True\",\"hovertemplate\":\"Model=%{x}<br>RMSE Loss=%{y}<extra></extra>\",\"legendgroup\":\"Holt linear\",\"marker\":{\"color\":\"#ab63fa\",\"pattern\":{\"shape\":\"\"}},\"name\":\"Holt linear\",\"offsetgroup\":\"Holt linear\",\"orientation\":\"v\",\"showlegend\":true,\"textposition\":\"auto\",\"x\":[\"Holt linear\"],\"xaxis\":\"x\",\"y\":[\"2.961747823238682\"],\"yaxis\":\"y\",\"type\":\"bar\"},{\"alignmentgroup\":\"True\",\"hovertemplate\":\"Model=%{x}<br>RMSE Loss=%{y}<extra></extra>\",\"legendgroup\":\"Prophet\",\"marker\":{\"color\":\"#FFA15A\",\"pattern\":{\"shape\":\"\"}},\"name\":\"Prophet\",\"offsetgroup\":\"Prophet\",\"orientation\":\"v\",\"showlegend\":true,\"textposition\":\"auto\",\"x\":[\"Prophet\"],\"xaxis\":\"x\",\"y\":[\"3.2838175102285407\"],\"yaxis\":\"y\",\"type\":\"bar\"},{\"alignmentgroup\":\"True\",\"hovertemplate\":\"Model=%{x}<br>RMSE Loss=%{y}<extra></extra>\",\"legendgroup\":\"Naive approach\",\"marker\":{\"color\":\"#19d3f3\",\"pattern\":{\"shape\":\"\"}},\"name\":\"Naive approach\",\"offsetgroup\":\"Naive approach\",\"orientation\":\"v\",\"showlegend\":true,\"textposition\":\"auto\",\"x\":[\"Naive approach\"],\"xaxis\":\"x\",\"y\":[\"3.596912256057656\"],\"yaxis\":\"y\",\"type\":\"bar\"}],                        {\"template\":{\"data\":{\"bar\":[{\"error_x\":{\"color\":\"#2a3f5f\"},\"error_y\":{\"color\":\"#2a3f5f\"},\"marker\":{\"line\":{\"color\":\"#E5ECF6\",\"width\":0.5},\"pattern\":{\"fillmode\":\"overlay\",\"size\":10,\"solidity\":0.2}},\"type\":\"bar\"}],\"barpolar\":[{\"marker\":{\"line\":{\"color\":\"#E5ECF6\",\"width\":0.5},\"pattern\":{\"fillmode\":\"overlay\",\"size\":10,\"solidity\":0.2}},\"type\":\"barpolar\"}],\"carpet\":[{\"aaxis\":{\"endlinecolor\":\"#2a3f5f\",\"gridcolor\":\"white\",\"linecolor\":\"white\",\"minorgridcolor\":\"white\",\"startlinecolor\":\"#2a3f5f\"},\"baxis\":{\"endlinecolor\":\"#2a3f5f\",\"gridcolor\":\"white\",\"linecolor\":\"white\",\"minorgridcolor\":\"white\",\"startlinecolor\":\"#2a3f5f\"},\"type\":\"carpet\"}],\"choropleth\":[{\"colorbar\":{\"outlinewidth\":0,\"ticks\":\"\"},\"type\":\"choropleth\"}],\"contour\":[{\"colorbar\":{\"outlinewidth\":0,\"ticks\":\"\"},\"colorscale\":[[0.0,\"#0d0887\"],[0.1111111111111111,\"#46039f\"],[0.2222222222222222,\"#7201a8\"],[0.3333333333333333,\"#9c179e\"],[0.4444444444444444,\"#bd3786\"],[0.5555555555555556,\"#d8576b\"],[0.6666666666666666,\"#ed7953\"],[0.7777777777777778,\"#fb9f3a\"],[0.8888888888888888,\"#fdca26\"],[1.0,\"#f0f921\"]],\"type\":\"contour\"}],\"contourcarpet\":[{\"colorbar\":{\"outlinewidth\":0,\"ticks\":\"\"},\"type\":\"contourcarpet\"}],\"heatmap\":[{\"colorbar\":{\"outlinewidth\":0,\"ticks\":\"\"},\"colorscale\":[[0.0,\"#0d0887\"],[0.1111111111111111,\"#46039f\"],[0.2222222222222222,\"#7201a8\"],[0.3333333333333333,\"#9c179e\"],[0.4444444444444444,\"#bd3786\"],[0.5555555555555556,\"#d8576b\"],[0.6666666666666666,\"#ed7953\"],[0.7777777777777778,\"#fb9f3a\"],[0.8888888888888888,\"#fdca26\"],[1.0,\"#f0f921\"]],\"type\":\"heatmap\"}],\"heatmapgl\":[{\"colorbar\":{\"outlinewidth\":0,\"ticks\":\"\"},\"colorscale\":[[0.0,\"#0d0887\"],[0.1111111111111111,\"#46039f\"],[0.2222222222222222,\"#7201a8\"],[0.3333333333333333,\"#9c179e\"],[0.4444444444444444,\"#bd3786\"],[0.5555555555555556,\"#d8576b\"],[0.6666666666666666,\"#ed7953\"],[0.7777777777777778,\"#fb9f3a\"],[0.8888888888888888,\"#fdca26\"],[1.0,\"#f0f921\"]],\"type\":\"heatmapgl\"}],\"histogram\":[{\"marker\":{\"pattern\":{\"fillmode\":\"overlay\",\"size\":10,\"solidity\":0.2}},\"type\":\"histogram\"}],\"histogram2d\":[{\"colorbar\":{\"outlinewidth\":0,\"ticks\":\"\"},\"colorscale\":[[0.0,\"#0d0887\"],[0.1111111111111111,\"#46039f\"],[0.2222222222222222,\"#7201a8\"],[0.3333333333333333,\"#9c179e\"],[0.4444444444444444,\"#bd3786\"],[0.5555555555555556,\"#d8576b\"],[0.6666666666666666,\"#ed7953\"],[0.7777777777777778,\"#fb9f3a\"],[0.8888888888888888,\"#fdca26\"],[1.0,\"#f0f921\"]],\"type\":\"histogram2d\"}],\"histogram2dcontour\":[{\"colorbar\":{\"outlinewidth\":0,\"ticks\":\"\"},\"colorscale\":[[0.0,\"#0d0887\"],[0.1111111111111111,\"#46039f\"],[0.2222222222222222,\"#7201a8\"],[0.3333333333333333,\"#9c179e\"],[0.4444444444444444,\"#bd3786\"],[0.5555555555555556,\"#d8576b\"],[0.6666666666666666,\"#ed7953\"],[0.7777777777777778,\"#fb9f3a\"],[0.8888888888888888,\"#fdca26\"],[1.0,\"#f0f921\"]],\"type\":\"histogram2dcontour\"}],\"mesh3d\":[{\"colorbar\":{\"outlinewidth\":0,\"ticks\":\"\"},\"type\":\"mesh3d\"}],\"parcoords\":[{\"line\":{\"colorbar\":{\"outlinewidth\":0,\"ticks\":\"\"}},\"type\":\"parcoords\"}],\"pie\":[{\"automargin\":true,\"type\":\"pie\"}],\"scatter\":[{\"marker\":{\"colorbar\":{\"outlinewidth\":0,\"ticks\":\"\"}},\"type\":\"scatter\"}],\"scatter3d\":[{\"line\":{\"colorbar\":{\"outlinewidth\":0,\"ticks\":\"\"}},\"marker\":{\"colorbar\":{\"outlinewidth\":0,\"ticks\":\"\"}},\"type\":\"scatter3d\"}],\"scattercarpet\":[{\"marker\":{\"colorbar\":{\"outlinewidth\":0,\"ticks\":\"\"}},\"type\":\"scattercarpet\"}],\"scattergeo\":[{\"marker\":{\"colorbar\":{\"outlinewidth\":0,\"ticks\":\"\"}},\"type\":\"scattergeo\"}],\"scattergl\":[{\"marker\":{\"colorbar\":{\"outlinewidth\":0,\"ticks\":\"\"}},\"type\":\"scattergl\"}],\"scattermapbox\":[{\"marker\":{\"colorbar\":{\"outlinewidth\":0,\"ticks\":\"\"}},\"type\":\"scattermapbox\"}],\"scatterpolar\":[{\"marker\":{\"colorbar\":{\"outlinewidth\":0,\"ticks\":\"\"}},\"type\":\"scatterpolar\"}],\"scatterpolargl\":[{\"marker\":{\"colorbar\":{\"outlinewidth\":0,\"ticks\":\"\"}},\"type\":\"scatterpolargl\"}],\"scatterternary\":[{\"marker\":{\"colorbar\":{\"outlinewidth\":0,\"ticks\":\"\"}},\"type\":\"scatterternary\"}],\"surface\":[{\"colorbar\":{\"outlinewidth\":0,\"ticks\":\"\"},\"colorscale\":[[0.0,\"#0d0887\"],[0.1111111111111111,\"#46039f\"],[0.2222222222222222,\"#7201a8\"],[0.3333333333333333,\"#9c179e\"],[0.4444444444444444,\"#bd3786\"],[0.5555555555555556,\"#d8576b\"],[0.6666666666666666,\"#ed7953\"],[0.7777777777777778,\"#fb9f3a\"],[0.8888888888888888,\"#fdca26\"],[1.0,\"#f0f921\"]],\"type\":\"surface\"}],\"table\":[{\"cells\":{\"fill\":{\"color\":\"#EBF0F8\"},\"line\":{\"color\":\"white\"}},\"header\":{\"fill\":{\"color\":\"#C8D4E3\"},\"line\":{\"color\":\"white\"}},\"type\":\"table\"}]},\"layout\":{\"annotationdefaults\":{\"arrowcolor\":\"#2a3f5f\",\"arrowhead\":0,\"arrowwidth\":1},\"autotypenumbers\":\"strict\",\"coloraxis\":{\"colorbar\":{\"outlinewidth\":0,\"ticks\":\"\"}},\"colorscale\":{\"diverging\":[[0,\"#8e0152\"],[0.1,\"#c51b7d\"],[0.2,\"#de77ae\"],[0.3,\"#f1b6da\"],[0.4,\"#fde0ef\"],[0.5,\"#f7f7f7\"],[0.6,\"#e6f5d0\"],[0.7,\"#b8e186\"],[0.8,\"#7fbc41\"],[0.9,\"#4d9221\"],[1,\"#276419\"]],\"sequential\":[[0.0,\"#0d0887\"],[0.1111111111111111,\"#46039f\"],[0.2222222222222222,\"#7201a8\"],[0.3333333333333333,\"#9c179e\"],[0.4444444444444444,\"#bd3786\"],[0.5555555555555556,\"#d8576b\"],[0.6666666666666666,\"#ed7953\"],[0.7777777777777778,\"#fb9f3a\"],[0.8888888888888888,\"#fdca26\"],[1.0,\"#f0f921\"]],\"sequentialminus\":[[0.0,\"#0d0887\"],[0.1111111111111111,\"#46039f\"],[0.2222222222222222,\"#7201a8\"],[0.3333333333333333,\"#9c179e\"],[0.4444444444444444,\"#bd3786\"],[0.5555555555555556,\"#d8576b\"],[0.6666666666666666,\"#ed7953\"],[0.7777777777777778,\"#fb9f3a\"],[0.8888888888888888,\"#fdca26\"],[1.0,\"#f0f921\"]]},\"colorway\":[\"#636efa\",\"#EF553B\",\"#00cc96\",\"#ab63fa\",\"#FFA15A\",\"#19d3f3\",\"#FF6692\",\"#B6E880\",\"#FF97FF\",\"#FECB52\"],\"font\":{\"color\":\"#2a3f5f\"},\"geo\":{\"bgcolor\":\"white\",\"lakecolor\":\"white\",\"landcolor\":\"#E5ECF6\",\"showlakes\":true,\"showland\":true,\"subunitcolor\":\"white\"},\"hoverlabel\":{\"align\":\"left\"},\"hovermode\":\"closest\",\"mapbox\":{\"style\":\"light\"},\"paper_bgcolor\":\"white\",\"plot_bgcolor\":\"#E5ECF6\",\"polar\":{\"angularaxis\":{\"gridcolor\":\"white\",\"linecolor\":\"white\",\"ticks\":\"\"},\"bgcolor\":\"#E5ECF6\",\"radialaxis\":{\"gridcolor\":\"white\",\"linecolor\":\"white\",\"ticks\":\"\"}},\"scene\":{\"xaxis\":{\"backgroundcolor\":\"#E5ECF6\",\"gridcolor\":\"white\",\"gridwidth\":2,\"linecolor\":\"white\",\"showbackground\":true,\"ticks\":\"\",\"zerolinecolor\":\"white\"},\"yaxis\":{\"backgroundcolor\":\"#E5ECF6\",\"gridcolor\":\"white\",\"gridwidth\":2,\"linecolor\":\"white\",\"showbackground\":true,\"ticks\":\"\",\"zerolinecolor\":\"white\"},\"zaxis\":{\"backgroundcolor\":\"#E5ECF6\",\"gridcolor\":\"white\",\"gridwidth\":2,\"linecolor\":\"white\",\"showbackground\":true,\"ticks\":\"\",\"zerolinecolor\":\"white\"}},\"shapedefaults\":{\"line\":{\"color\":\"#2a3f5f\"}},\"ternary\":{\"aaxis\":{\"gridcolor\":\"white\",\"linecolor\":\"white\",\"ticks\":\"\"},\"baxis\":{\"gridcolor\":\"white\",\"linecolor\":\"white\",\"ticks\":\"\"},\"bgcolor\":\"#E5ECF6\",\"caxis\":{\"gridcolor\":\"white\",\"linecolor\":\"white\",\"ticks\":\"\"}},\"title\":{\"x\":0.05},\"xaxis\":{\"automargin\":true,\"gridcolor\":\"white\",\"linecolor\":\"white\",\"ticks\":\"\",\"title\":{\"standoff\":15},\"zerolinecolor\":\"white\",\"zerolinewidth\":2},\"yaxis\":{\"automargin\":true,\"gridcolor\":\"white\",\"linecolor\":\"white\",\"ticks\":\"\",\"title\":{\"standoff\":15},\"zerolinecolor\":\"white\",\"zerolinewidth\":2}}},\"xaxis\":{\"anchor\":\"y\",\"domain\":[0.0,1.0],\"title\":{\"text\":\"Model\"},\"categoryorder\":\"array\",\"categoryarray\":[\"Exponential smoothing\",\"ARIMA\",\"Moving average\",\"Holt linear\",\"Prophet\",\"Naive approach\"]},\"yaxis\":{\"anchor\":\"x\",\"domain\":[0.0,1.0],\"title\":{\"text\":\"RMSE Loss\"}},\"legend\":{\"title\":{\"text\":\"Model\"},\"tracegroupgap\":0},\"title\":{\"text\":\"RMSE Loss vs. Model\"},\"barmode\":\"relative\"},                        {\"responsive\": true}                    ).then(function(){\n",
       "                            \n",
       "var gd = document.getElementById('9561f444-3e9c-47eb-b96b-d715b7ccf7f1');\n",
       "var x = new MutationObserver(function (mutations, observer) {{\n",
       "        var display = window.getComputedStyle(gd).display;\n",
       "        if (!display || display === 'none') {{\n",
       "            console.log([gd, 'removed!']);\n",
       "            Plotly.purge(gd);\n",
       "            observer.disconnect();\n",
       "        }}\n",
       "}});\n",
       "\n",
       "// Listen for the removal of the full notebook cells\n",
       "var notebookContainer = gd.closest('#notebook-container');\n",
       "if (notebookContainer) {{\n",
       "    x.observe(notebookContainer, {childList: true});\n",
       "}}\n",
       "\n",
       "// Listen for the clearing of the current output cell\n",
       "var outputEl = gd.closest('.output');\n",
       "if (outputEl) {{\n",
       "    x.observe(outputEl, {childList: true});\n",
       "}}\n",
       "\n",
       "                        })                };                });            </script>        </div>"
      ]
     },
     "metadata": {},
     "output_type": "display_data"
    }
   ],
   "source": [
    "error = [error_naive, error_avg, error_holt, error_exponential, error_arima, error_prophet]\n",
    "names = [\"Naive approach\", \"Moving average\", \"Holt linear\", \"Exponential smoothing\", \"ARIMA\", \"Prophet\"]\n",
    "df = pd.DataFrame(np.transpose([error, names]))\n",
    "df.columns = [\"RMSE Loss\", \"Model\"]\n",
    "df = df.sort_values(by=['RMSE Loss'])\n",
    "px.bar(df, y=\"RMSE Loss\", x=\"Model\", color=\"Model\", title=\"RMSE Loss vs. Model\")"
   ]
  },
  {
   "cell_type": "code",
   "execution_count": null,
   "id": "vital-image",
   "metadata": {},
   "outputs": [],
   "source": []
  },
  {
   "cell_type": "code",
   "execution_count": null,
   "id": "another-lotus",
   "metadata": {},
   "outputs": [],
   "source": []
  },
  {
   "cell_type": "code",
   "execution_count": null,
   "id": "willing-greene",
   "metadata": {},
   "outputs": [],
   "source": []
  },
  {
   "cell_type": "code",
   "execution_count": null,
   "id": "bulgarian-significance",
   "metadata": {},
   "outputs": [],
   "source": []
  },
  {
   "cell_type": "code",
   "execution_count": null,
   "id": "noble-peter",
   "metadata": {},
   "outputs": [],
   "source": []
  },
  {
   "cell_type": "code",
   "execution_count": null,
   "id": "conservative-concert",
   "metadata": {},
   "outputs": [],
   "source": []
  },
  {
   "cell_type": "code",
   "execution_count": null,
   "id": "statewide-homework",
   "metadata": {},
   "outputs": [],
   "source": []
  },
  {
   "cell_type": "code",
   "execution_count": null,
   "id": "vulnerable-auction",
   "metadata": {},
   "outputs": [],
   "source": []
  },
  {
   "cell_type": "code",
   "execution_count": null,
   "id": "fiscal-swaziland",
   "metadata": {},
   "outputs": [],
   "source": []
  },
  {
   "cell_type": "code",
   "execution_count": null,
   "id": "solved-arlington",
   "metadata": {},
   "outputs": [],
   "source": []
  },
  {
   "cell_type": "code",
   "execution_count": 11,
   "id": "hybrid-momentum",
   "metadata": {},
   "outputs": [],
   "source": [
    "#Generate predictions file\n",
    "\n",
    "days = range(1, 1913 + 1)\n",
    "time_series_columns = [f'd_{i}' for i in days]\n",
    "time_series_data = sales_train_val[time_series_columns]\n",
    "forecast = pd.DataFrame(time_series_data.iloc[:, -28:].mean(axis=1))\n",
    "forecast = pd.concat([forecast] * 28, axis=1)\n",
    "forecast.columns = [f'F{i}' for i in range(1, forecast.shape[1] + 1)]\n",
    "validation_ids = sales_train_val['id'].values\n",
    "evaluation_ids = [i.replace('validation', 'evaluation') for i in validation_ids]\n",
    "ids = np.concatenate([validation_ids, evaluation_ids])\n",
    "predictions = pd.DataFrame(ids, columns=['id'])\n",
    "forecast = pd.concat([forecast] * 2).reset_index(drop=True)\n",
    "predictions = pd.concat([predictions, forecast], axis=1)\n",
    "predictions.to_csv('submission.csv', index=False)"
   ]
  }
 ],
 "metadata": {
  "kernelspec": {
   "display_name": "forecasting",
   "language": "python",
   "name": "forecasting"
  },
  "language_info": {
   "codemirror_mode": {
    "name": "ipython",
    "version": 3
   },
   "file_extension": ".py",
   "mimetype": "text/x-python",
   "name": "python",
   "nbconvert_exporter": "python",
   "pygments_lexer": "ipython3",
   "version": "3.8.0"
  }
 },
 "nbformat": 4,
 "nbformat_minor": 5
}
